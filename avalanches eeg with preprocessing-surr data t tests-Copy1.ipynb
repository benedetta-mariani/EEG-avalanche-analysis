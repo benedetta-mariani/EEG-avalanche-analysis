{
 "cells": [
  {
   "cell_type": "code",
   "execution_count": 41,
   "id": "a124a784",
   "metadata": {
    "scrolled": true
   },
   "outputs": [
    {
     "name": "stdout",
     "output_type": "stream",
     "text": [
      "C:\\Users\\Benedetta\\Downloads\\NewbornEEGData-20220203T094950Z-001\\NewbornEEGData\n"
     ]
    }
   ],
   "source": [
    "cd \"../../../Downloads/NewbornEEGData-20220203T094950Z-001/NewbornEEGData/\""
   ]
  },
  {
   "cell_type": "code",
   "execution_count": 42,
   "id": "ac1a7d1f",
   "metadata": {},
   "outputs": [],
   "source": [
    "## provare con filtro di Jesus"
   ]
  },
  {
   "cell_type": "code",
   "execution_count": 43,
   "id": "a18cece7",
   "metadata": {},
   "outputs": [],
   "source": [
    "import numpy as np\n",
    "good_sub = np.array([ 5,  6,  9, 11, 12, 16, 17, 18, 19, 23, 30, 33, 35, 37, 40, 45, 47,\n",
    "       49, 52, 56, 58, 62, 66, 67, 68, 71, 14, 22, 27, 41, 46, 64])"
   ]
  },
  {
   "cell_type": "code",
   "execution_count": null,
   "id": "b9d46bcd",
   "metadata": {},
   "outputs": [],
   "source": []
  },
  {
   "cell_type": "code",
   "execution_count": 44,
   "id": "0ff5f966",
   "metadata": {},
   "outputs": [],
   "source": [
    "def plot_surr(ss,dd,surrs,surrd):\n",
    "    plt.rcParams['font.size'] = 19\n",
    "    f = plt.figure(figsize=(10,5))\n",
    "    ax = f.add_subplot(1,2,1)\n",
    "\n",
    "    f.suptitle(\"Threshold: {} standard deviation\".format(thre))\n",
    "    pool =[]\n",
    "    pool_surr =[]\n",
    "    import powerlaw as pwl\n",
    "    for g in range(len(surrs)):\n",
    "        if g ==0:\n",
    "            try:\n",
    "                pwl.plot_pdf(surrs[g], color ='red', alpha =.3, lw = 1, ax = ax)\n",
    "                pwl.plot_pdf(ss[g], color ='blue', alpha = .3,lw = 1, ax =ax)\n",
    "            except:\n",
    "                continue\n",
    "        else:\n",
    "            try:\n",
    "                pwl.plot_pdf(surrs[g], color ='red',alpha =.3,lw = 1, ax = ax)\n",
    "                pwl.plot_pdf(ss[g], color ='blue', alpha =.3,lw = 1, ax =ax)\n",
    "            except:\n",
    "                continue\n",
    "\n",
    "        pool += ss[g]\n",
    "        pool_surr += surrs[g]\n",
    "\n",
    "\n",
    "    pwl.plot_pdf(pool, color ='blue', alpha =.9, lw = 3, ax = ax)    \n",
    "    pwl.plot_pdf(pool_surr, color ='red', alpha =.9, label ='surrogate sizes', lw =3, ax = ax)  \n",
    "    ax.set_xlabel(r'Avalanches sizes [$\\mu V$]')\n",
    "    ax.set_ylabel('pdf')\n",
    "    plt.legend();\n",
    "\n",
    "    #thre = 2\n",
    "    #plt.figure()\n",
    "    ax = f.add_subplot(1,2,2)\n",
    "\n",
    "    #plt.figure(figsize=(5,5))\n",
    "    pool =[]\n",
    "    pool_surr =[]\n",
    "    import powerlaw as pwl\n",
    "    for g in range(len(surrd)):\n",
    "        if g ==0:\n",
    "            try:\n",
    "                pwl.plot_pdf(surrd[g], color ='red', alpha =.3, lw = 1, ax = ax)\n",
    "                pwl.plot_pdf(dd[g], color ='blue', alpha = .3,lw = 1, ax = ax)\n",
    "            except:\n",
    "                continue\n",
    "        else:\n",
    "            try:\n",
    "                pwl.plot_pdf(surrd[g], color ='red',alpha =.3,lw = 1, ax = ax)\n",
    "                pwl.plot_pdf(dd[g], color ='blue', alpha =.3,lw = 1, ax = ax)\n",
    "            except:\n",
    "                continue\n",
    "\n",
    "        pool += dd[g]\n",
    "        pool_surr += surrd[g]\n",
    "\n",
    "\n",
    "    pwl.plot_pdf(pool, color ='blue', alpha =.9, lw = 3, ax = ax)    \n",
    "    pwl.plot_pdf(pool_surr, color ='red', alpha =.9, label ='surrogate durations', lw =3, ax = ax)  \n",
    "    ax.set_xlabel('Avalanches lifetimes [s]')\n",
    "    ax.set_ylabel('pdf')\n",
    "    plt.legend();\n",
    "    plt.tight_layout();\n"
   ]
  },
  {
   "cell_type": "code",
   "execution_count": 45,
   "id": "8284233b",
   "metadata": {},
   "outputs": [],
   "source": [
    "def AAFT_surrogates( original_data):\n",
    "        \"\"\"\n",
    "        Return surrogates using the amplitude adjusted Fourier transform\n",
    "        method.\n",
    "\n",
    "        Reference: [Schreiber2000]_\n",
    "\n",
    "        :type original_data: 2D array [index, time]\n",
    "        :arg original_data: The original time series.\n",
    "        :rtype: 2D array [index, time]\n",
    "        :return: The surrogate time series.\n",
    "        \"\"\"\n",
    "        #  Create sorted Gaussian reference series\n",
    "        gaussian = random.randn(original_data.shape[0], original_data.shape[1])\n",
    "        gaussian.sort(axis=1)\n",
    "\n",
    "        #  Rescale data to Gaussian distribution\n",
    "        ranks = original_data.argsort(axis=1).argsort(axis=1)\n",
    "        rescaled_data = np.zeros(original_data.shape)\n",
    "\n",
    "        for i in range(original_data.shape[0]):\n",
    "            rescaled_data[i, :] = gaussian[i, ranks[i, :]]\n",
    "\n",
    "        #  Phase randomize rescaled data\n",
    "        phase_randomized_data = \\\n",
    "            correlated_noise_surrogates(rescaled_data)\n",
    "\n",
    "        #  Rescale back to amplitude distribution of original data\n",
    "        sorted_original = original_data.copy()\n",
    "        sorted_original.sort(axis=1)\n",
    "        #print(phase_randomized_data.shape)\n",
    "        ranks = phase_randomized_data.argsort(axis=1).argsort(axis=1)\n",
    "\n",
    "        for i in range(original_data.shape[0]):\n",
    "            rescaled_data[i, :] = sorted_original[i, ranks[i, :]]\n",
    "\n",
    "        return rescaled_data\n",
    "\n"
   ]
  },
  {
   "cell_type": "code",
   "execution_count": 46,
   "id": "a50a54ef",
   "metadata": {},
   "outputs": [],
   "source": [
    "def correlated_noise_surrogates( original_data):\n",
    "\n",
    "    surrogates = np.fft.rfft(original_data, axis=1)\n",
    "    original_data_fft = surrogates\n",
    "\n",
    "\n",
    "    #  Get shapes\n",
    "    (N, n_time) = original_data.shape\n",
    "    len_phase = surrogates.shape[1]\n",
    "\n",
    "    #  Generate random phases uniformly distributed in the\n",
    "    #  interval [0, 2*Pi]\n",
    "    phases = random.uniform(low=0, high=2 * np.pi, size=(N, len_phase))\n",
    "\n",
    "    #  Add random phases uniformly distributed in the interval [0, 2*Pi]\n",
    "    surrogates *= np.exp(1j * phases)\n",
    "\n",
    "    #  Calculate IFFT and take the real part, the remaining imaginary part\n",
    "    #  is due to numerical errors.\n",
    "    return np.ascontiguousarray(np.real(np.fft.irfft(surrogates, n=n_time,\n",
    "                                                 axis=1)))"
   ]
  },
  {
   "cell_type": "code",
   "execution_count": null,
   "id": "e84fd927",
   "metadata": {},
   "outputs": [],
   "source": []
  },
  {
   "cell_type": "code",
   "execution_count": 47,
   "id": "c5e97d22",
   "metadata": {},
   "outputs": [],
   "source": [
    "from ava_functions import *"
   ]
  },
  {
   "cell_type": "code",
   "execution_count": 48,
   "id": "af55d99c",
   "metadata": {},
   "outputs": [],
   "source": [
    "## rigettando anche sulla base del ppp"
   ]
  },
  {
   "cell_type": "code",
   "execution_count": 49,
   "id": "19636f78-cef2-4dee-a734-eb7a51922cb9",
   "metadata": {},
   "outputs": [],
   "source": [
    "def complete_surrogate(eeg_data):\n",
    "    eeg_data_surr =[]\n",
    "    for g in range(eeg_data.shape[0]):\n",
    "        idx = np.arange(0,len(eeg_data[g]),1)\n",
    "        \n",
    "        np.random.shuffle(idx)\n",
    "\n",
    "        xsurr = eeg_data[g][idx]\n",
    "        eeg_data_surr.append(xsurr)\n",
    "    #print(np.asarray(eeg_data_surr).shape)\n",
    "    return np.asarray(eeg_data_surr)"
   ]
  },
  {
   "cell_type": "code",
   "execution_count": 50,
   "id": "9670d2e2",
   "metadata": {},
   "outputs": [
    {
     "data": {
      "text/plain": [
       "array([5, 1, 7, 7, 5, 8, 4, 6, 3])"
      ]
     },
     "execution_count": 50,
     "metadata": {},
     "output_type": "execute_result"
    }
   ],
   "source": [
    "np.random.permutation(np.array([1,3,4,5,5,6,7,7,8]))"
   ]
  },
  {
   "cell_type": "code",
   "execution_count": 51,
   "id": "4cf09eaf",
   "metadata": {},
   "outputs": [],
   "source": [
    "np.random.shuffle(np.array([2,3,4,4]))"
   ]
  },
  {
   "cell_type": "code",
   "execution_count": 52,
   "id": "5e4cf871",
   "metadata": {},
   "outputs": [],
   "source": [
    "def surrogate(eeg_data):\n",
    "    eeg_data_surr =[]\n",
    "    for g in range(eeg_data.shape[0]):\n",
    "        f = np.fft.fft(eeg_data[g])\n",
    "        ab = np.abs(f)\n",
    "        ph = np.angle(f)\n",
    "        np.random.shuffle(ph)\n",
    "        \n",
    "        #ph = np.array([np.random.uniform(0,1)*2*np.pi for i in range(len(ph))])\n",
    "        Xsurr = ab*(np.exp(1j*ph))\n",
    "        #print(Xsurr.shape)\n",
    "        xsurr = np.imag(np.fft.ifft(Xsurr,))\n",
    "        eeg_data_surr.append(xsurr)\n",
    "    #print(np.asarray(eeg_data_surr).shape)\n",
    "    return np.asarray(eeg_data_surr)\n",
    "\n",
    "\n",
    "def surrogate_shift(eeg_data):\n",
    "    eeg_data_surr =[]\n",
    "    for g in range(eeg_data.shape[0]):\n",
    "        ii =np.random.randint(int(len(eeg_data[0])/10),int(len(eeg_data[0])*0.75))\n",
    "        xsurr = np.asarray(eeg_data[g,ii:].tolist() + eeg_data[g,:ii].tolist())\n",
    "        #print(xsurr.shape)\n",
    "        eeg_data_surr.append(xsurr)\n",
    "     #print(np.asarray(eeg_data_surr).shape)\n",
    "    eeg_data_surr = np.asarray(eeg_data_surr)\n",
    "    #print(np.corrcoef(eeg_data_surr[1],eeg_data_surr[2])[0,1])\n",
    "    #print(np.corrcoef(eeg_data[1],eeg_data[2])[0,1])\n",
    "    return np.asarray(eeg_data_surr)\n"
   ]
  },
  {
   "cell_type": "code",
   "execution_count": 53,
   "id": "937adfaa",
   "metadata": {},
   "outputs": [],
   "source": [
    "from numpy import *"
   ]
  },
  {
   "cell_type": "markdown",
   "id": "9002cab2",
   "metadata": {},
   "source": [
    "surrogate(data2)\n",
    "print(data2.shape)"
   ]
  },
  {
   "cell_type": "markdown",
   "id": "6d223bf5",
   "metadata": {},
   "source": [
    "\n",
    "f = np.fft.fft(data2, axis = 1)\n",
    "print(f.shape)\n",
    "ab = np.abs(f)\n",
    "ph = np.angle(f).T\n",
    "old_ph = ph[:].T\n",
    "\n",
    "\n",
    "np.random.shuffle(ph)\n",
    "new_ph = ph.T\n",
    "Xsurr = ab*(np.exp(1j*new_ph))\n",
    "xsurr2 = np.real(np.fft.ifft(Xsurr,axis = 1))\n",
    "\n",
    "        \n",
    "\n",
    "\n",
    "\n",
    "\n",
    "plt.plot(new_ph[0], lw = 4) \n",
    "plt.plot(old_ph[0],) \n",
    "\n",
    "plt.xlim(0,30)"
   ]
  },
  {
   "cell_type": "code",
   "execution_count": 54,
   "id": "25fda839",
   "metadata": {},
   "outputs": [],
   "source": [
    "#os.mkdir(\"../../../Desktop/Criticality in barrel cortex/Surrogate-avalanches-data\")"
   ]
  },
  {
   "cell_type": "code",
   "execution_count": 55,
   "id": "b47cf451",
   "metadata": {},
   "outputs": [],
   "source": [
    "### COMPARISON BETWEEN SILENCE1 AND SILENCE2\n",
    "\n",
    "import os\n",
    "import numpy as np\n",
    "import scipy.signal as ss\n",
    "import scipy.io\n",
    "#from dfa_functions import *\n",
    "\n",
    "subjs  = [5,6,9,11,12,13,16,17,18,19,21,23,24,25,30,33,34,35,37,39,40,45,47,49,52,53,56,57,58,60,62,63,65,66,67,68,69,71,14,20,22,27,28,29,31,41,46,64,70]\n",
    "\n",
    "import numpy as np\n",
    "import matplotlib.pyplot as plt\n",
    "import matplotlib.gridspec as gridspec\n",
    "from scipy.io import loadmat\n",
    "from scipy.signal import welch\n",
    "import pandas as pd\n",
    "import mne\n",
    "\n",
    "ch_names = ['F7', 'F3', 'Fz', 'F4', 'F8', 'T7', 'C3', 'Cz', 'C4', 'T8']\n",
    "ss = []\n",
    "dd = []\n",
    "ss2 = []\n",
    "dd2 = []\n",
    "\n",
    "surrs =[]\n",
    "surrd =[]\n",
    "surrs2 =[]\n",
    "surrd2 =[]\n",
    "\n",
    "#surr2s =[]\n",
    "#surr2d =[]\n",
    "\n",
    "#surr2s2 =[]\n",
    "#surr2d2 =[]\n",
    "\n",
    "\n",
    "\n",
    "thre = 2\n",
    "ch_names = np.array(ch_names)\n",
    "sfreq = 500\n",
    "info = mne.create_info(ch_names = list(ch_names),\n",
    "                       ch_types = 'eeg',\n",
    "                       sfreq = sfreq)\n",
    "def find_bad_channels(data, MAX_PEAK=200, MAX_PEAK_SIGMA=15, MAX_DIST_PS=4.5e-3, OFFSET=30, fmin=1, fmax=100, \n",
    "                      verbose = False):\n",
    "    idx_down, idx_up = 0, data.shape[1]\n",
    "    ss = np.std(data)\n",
    "    \n",
    "    psds, freqs = mne.time_frequency.psd_welch(mne.io.RawArray(data/1e6, info, verbose=False), fmin=fmin, fmax=fmax, n_fft=2048, n_overlap=1024/2, verbose=False)\n",
    "    psds = np.log10(psds)\n",
    "    \n",
    "    dist = [((tmp-psds.mean(axis=0))**2).sum() for tmp in psds]\n",
    "    dist = np.array(dist) / (psds**2).sum() * 1e2\n",
    "    \n",
    "    rej = []\n",
    "    for i, ch in enumerate(ch_names):\n",
    "        delta = np.abs(data[i]).max()\n",
    "    \n",
    "        str_rej = str()\n",
    "\n",
    "        if delta>MAX_PEAK or dist[i]>MAX_DIST_PS:\n",
    "            rej.append(ch)\n",
    "            str_rej = '-> rejected'\n",
    "            str_rej += ' ('\n",
    "            if delta>MAX_PEAK:\n",
    "                str_rej += ' peak'\n",
    "                idx = np.where(np.abs(data[i])>MAX_PEAK)[0]\n",
    "            \n",
    "            if dist[i]>MAX_DIST_PS:\n",
    "                str_rej += ' ps'\n",
    "            str_rej += ')'\n",
    "            \n",
    "        if verbose: print(f'* {ch}: max peak = {np.round(delta, 2)} mV ({np.round(delta/ss, 2)} std); dist ps = {np.round(dist[i],3)} '+str_rej)\n",
    "        \n",
    "        if delta>MAX_PEAK:\n",
    "            if np.max(idx)/sfreq<OFFSET:\n",
    "                idx_down = np.max([np.max(idx),idx_down])\n",
    "                if verbose: print(f'[*] WARNING: Peak only in the initial part - time: {np.max(idx)/sfreq} s')\n",
    "            if np.min(idx)/sfreq>180-OFFSET:\n",
    "                idx_up = np.min([np.min(idx),idx_up])\n",
    "                if verbose: print(f'[*] WARNING: Peak only in the last part - time: {np.min(idx)/sfreq} s')\n",
    "    if verbose: print('\\nBad channels:', rej, '\\n')\n",
    "    return rej, idx_down, idx_up\n",
    "\n",
    "\n",
    "filterr =True\n",
    "from scipy import signal\n",
    "o = 0\n",
    "for i, subj in enumerate(subjs):\n",
    "    #print(f'\\n\\n########## SUBJ {subj} ({i+1}/{len(subjs)})##########')\n",
    "    s1 = loadmat(f'BB{subj}_Filtered (1-100)/Silence (500)/BB{subj} silence1 (continuous).mat')\n",
    "    s2 = loadmat(f'BB{subj}_Filtered (1-100)/Silence (500)/BB{subj} silence2 (continuous).mat')\n",
    "    data = s1['eeg_rest'].astype('float')\n",
    "    rej, idx_down, idx_up = find_bad_channels(data, verbose = False)\n",
    "    if idx_down > 0 or idx_up < data.shape[1]:\n",
    "        if idx_down > 0:\n",
    "            idx_down +=1\n",
    "        if idx_up < data.shape[1]:\n",
    "            idx_up -= 1\n",
    "        data = data[:,idx_down:idx_up]\n",
    "        rej, idx_down, idx_up = find_bad_channels(data, verbose = False)\n",
    "    idx_accepted = np.sort([np.where(ch_names == i)[0][0] for i in list(set(ch_names) - set(rej))])\n",
    "    data = data[list(idx_accepted), idx_down:idx_up]\n",
    "    nchan = data.shape[0]\n",
    "    \n",
    "    data2 = s2['eeg_rest'].astype('float')\n",
    "    rej, idx_down, idx_up = find_bad_channels(data2, verbose = False)\n",
    "    if idx_down > 0 or idx_up < data2.shape[1]:\n",
    "        if idx_down > 0:\n",
    "            idx_down +=1\n",
    "        if idx_up < data2.shape[1]:\n",
    "            idx_up -= 1\n",
    "        data2 = data2[:,idx_down:idx_up]\n",
    "        rej, idx_down, idx_up = find_bad_channels(data2, verbose = False)\n",
    "    idx_accepted = np.sort([np.where(ch_names == i)[0][0] for i in list(set(ch_names) - set(rej))])\n",
    "    data2 = data2[list(idx_accepted), idx_down:idx_up]\n",
    "    nchan2 = data2.shape[0]\n",
    "    #print(nchan, nchan2)\n",
    "    \n",
    "    \n",
    "    if nchan >= 5 and nchan2 >=5 and subj != 53:\n",
    "        \n",
    "    \n",
    "        b,a = signal.butter(2, 30, btype = 'lowpass',fs = 500)\n",
    "\n",
    "        if filterr:\n",
    "            dataa = signal.filtfilt(b,a, data, axis = -1)\n",
    "            dataa2 = signal.filtfilt(b,a, data2, axis = -1)\n",
    "        else:\n",
    "            dataa = data\n",
    "            dataa2 = data2\n",
    "        \n",
    "        \n",
    "        \n",
    "\n",
    "        xsurr =  AAFT_surrogates(dataa)\n",
    "        xsurr2 =  AAFT_surrogates(dataa2)\n",
    "        \n",
    "     \n",
    "        #print('doing')\n",
    "        s,d = compute_avalanches(dataa.T,theta = thre, fs = 500, discretized=False,)\n",
    "        s2,d2 = compute_avalanches(dataa2.T,theta =thre, fs = 500, discretized=False, )\n",
    "        ss.append(s.tolist())\n",
    "        dd.append((d*2).tolist())\n",
    "        ss2.append(s2.tolist())\n",
    "        dd2.append((d2*2).tolist())\n",
    "        \n",
    "        #print(type(d))\n",
    "        \n",
    "        s,d = compute_avalanches(xsurr.T,theta = thre, fs = 500, discretized=False, )\n",
    "        s2,d2 = compute_avalanches(xsurr2.T,theta =thre, fs = 500, discretized=False)\n",
    "        surrs.append(s.tolist())\n",
    "        surrd.append((d*2).tolist())\n",
    "        surrs2.append(s2.tolist())\n",
    "        surrd2.append((d2*2).tolist())\n",
    "     \n",
    "        \n",
    "        #np.save(\"../../../Desktop/Criticality in barrel cortex/Surrogate-avalanches-data/sur_sizes_silence1_subject{}.npy\".format(subj), s)\n",
    "        #np.save(\"../../../Desktop/Criticality in barrel cortex/Surrogate-avalanches-data/sur_sizes_silence2_subject{}.npy\".format(subj), s2)  \n",
    "        #np.save(\"../../../Desktop/Criticality in barrel cortex/Surrogate-avalanches-data/sur_durations_silence1_subject{}.npy\".format(subj), d)  \n",
    "        #np.save(\"../../../Desktop/Criticality in barrel cortex/Surrogate-avalanches-data/sur_durations_silence2_subject{}.npy\".format(subj), d2)\n",
    "        \n",
    "        o += 1\n",
    "        "
   ]
  },
  {
   "cell_type": "code",
   "execution_count": 18,
   "id": "13fc4e48",
   "metadata": {},
   "outputs": [],
   "source": [
    "\n",
    "for i, subj in enumerate(subjs):\n",
    "    #print(f'\\n\\n########## SUBJ {subj} ({i+1}/{len(subjs)})##########')\n",
    "    s1 = loadmat(f'BB{subj}_Filtered (1-100)/Silence (500)/BB{subj} silence1 (continuous).mat')\n",
    "    s2 = loadmat(f'BB{subj}_Filtered (1-100)/Silence (500)/BB{subj} silence2 (continuous).mat')\n",
    "    data = s1['eeg_rest'].astype('float')\n",
    "    rej, idx_down, idx_up = find_bad_channels(data, verbose = False)\n",
    "    if idx_down > 0 or idx_up < data.shape[1]:\n",
    "        if idx_down > 0:\n",
    "            idx_down +=1\n",
    "        if idx_up < data.shape[1]:\n",
    "            idx_up -= 1\n",
    "        data = data[:,idx_down:idx_up]\n",
    "        rej, idx_down, idx_up = find_bad_channels(data, verbose = False)\n",
    "    idx_accepted = np.sort([np.where(ch_names == i)[0][0] for i in list(set(ch_names) - set(rej))])\n",
    "    data = data[list(idx_accepted), idx_down:idx_up]\n",
    "    nchan = data.shape[0]\n",
    "    \n",
    "    data2 = s2['eeg_rest'].astype('float')\n",
    "    rej, idx_down, idx_up = find_bad_channels(data2, verbose = False)\n",
    "    if idx_down > 0 or idx_up < data2.shape[1]:\n",
    "        if idx_down > 0:\n",
    "            idx_down +=1\n",
    "        if idx_up < data2.shape[1]:\n",
    "            idx_up -= 1\n",
    "        data2 = data2[:,idx_down:idx_up]\n",
    "        rej, idx_down, idx_up = find_bad_channels(data2, verbose = False)\n",
    "    idx_accepted = np.sort([np.where(ch_names == i)[0][0] for i in list(set(ch_names) - set(rej))])\n",
    "    data2 = data2[list(idx_accepted), idx_down:idx_up]\n",
    "    nchan2 = data2.shape[0]\n",
    "    #print(nchan, nchan2)\n",
    "    \n",
    "    \n",
    "    if nchan >= 5 and nchan2 >=5 and subj != 53:\n",
    "        \n",
    "        \n",
    "\n",
    "        xsurr = AAFT_surrogates(data)\n",
    "        xsurr2 = AAFT_surrogates(data2)\n",
    "        \n",
    "        \n",
    "    \n",
    "        break"
   ]
  },
  {
   "cell_type": "code",
   "execution_count": 56,
   "id": "2c1d1808",
   "metadata": {},
   "outputs": [
    {
     "name": "stderr",
     "output_type": "stream",
     "text": [
      "C:\\Users\\Benedetta\\AppData\\Local\\Temp\\ipykernel_10828\\222658489.py:1: VisibleDeprecationWarning: Creating an ndarray from ragged nested sequences (which is a list-or-tuple of lists-or-tuples-or ndarrays with different lengths or shapes) is deprecated. If you meant to do this, you must specify 'dtype=object' when creating the ndarray.\n",
      "  ss = np.asarray(ss)\n"
     ]
    }
   ],
   "source": [
    "ss = np.asarray(ss)"
   ]
  },
  {
   "cell_type": "code",
   "execution_count": 69,
   "id": "581253e2",
   "metadata": {},
   "outputs": [
    {
     "name": "stdout",
     "output_type": "stream",
     "text": [
      "Calculating best minimal value for power law fit\n",
      "2.086578255976219%\n",
      "Calculating best minimal value for power law fit\n",
      "1.8000792338744738\n",
      "Calculating best minimal value for power law fit\n",
      "1.8808909539541971\n",
      "Calculating best minimal value for power law fit\n",
      "1.6080395887134071\n",
      "Calculating best minimal value for power law fit\n",
      "2.1300420264477467\n",
      "Calculating best minimal value for power law fit\n",
      "1.8573313872241553\n",
      "Calculating best minimal value for power law fit\n",
      "1.8109378050134892\n",
      "Calculating best minimal value for power law fit\n",
      "1.8129242394250331\n"
     ]
    },
    {
     "data": {
      "image/png": "[encoded data removed]",
      "text/plain": [
       "<Figure size 640x480 with 1 Axes>"
      ]
     },
     "metadata": {},
     "output_type": "display_data"
    }
   ],
   "source": [
    "#fit = pwl.Fit(ss.T, discrete = False,xmax =max(ss[0]), xmin = (1,100), )\n",
    "#fit.power_law.plot_pdf(color ='red', linestyle ='--')\n",
    "for i in range(10,14):\n",
    "    fit = pwl.Fit(surrs[i], discrete = False,xmax =max(surrs[i]), xmin = (1,100), )\n",
    "    fit.power_law.plot_pdf(color ='red', linestyle ='--')\n",
    "    print(fit.power_law.alpha)\n",
    "    pwl.plot_pdf(surrs[i], color ='red');\n",
    "    \n",
    "    \n",
    "    fit = pwl.Fit(ss[i], discrete = False,xmax =max(ss[i]), xmin = (1,100), )\n",
    "    fit.power_law.plot_pdf(color ='blue', linestyle ='--')\n",
    "    print(fit.power_law.alpha)\n",
    "    pwl.plot_pdf(ss[i], color ='blue');"
   ]
  },
  {
   "cell_type": "code",
   "execution_count": 66,
   "id": "4c25b30e",
   "metadata": {},
   "outputs": [
    {
     "name": "stdout",
     "output_type": "stream",
     "text": [
      "Calculating best minimal value for power law fit\n",
      "1.8000792338744738\n",
      "Calculating best minimal value for power law fit\n",
      "1.737120973531424%\n",
      "Calculating best minimal value for power law fit\n",
      "1.6080395887134071\n",
      "Calculating best minimal value for power law fit\n",
      "1.8837183218374653\n",
      "Calculating best minimal value for power law fit\n",
      "1.8573313872241553\n",
      "Calculating best minimal value for power law fit\n",
      "1.7321220919599325\n",
      "Calculating best minimal value for power law fit\n",
      "1.8129242394250331\n",
      "Calculating best minimal value for power law fit\n",
      "1.7967117427468349\n"
     ]
    },
    {
     "data": {
      "image/png": "[encoded data removed]",
      "text/plain": [
       "<Figure size 640x480 with 1 Axes>"
      ]
     },
     "metadata": {},
     "output_type": "display_data"
    }
   ],
   "source": [
    "#fit = pwl.Fit(ss.T, discrete = False,xmax =max(ss[0]), xmin = (1,100), )\n",
    "#fit.power_law.plot_pdf(color ='red', linestyle ='--')\n",
    "for i in range(10,14):\n",
    "    fit = pwl.Fit(ss[i], discrete = False,xmax =max(ss[i]), xmin = (1,100), )\n",
    "    fit.power_law.plot_pdf(color ='red', linestyle ='--')\n",
    "    print(fit.power_law.alpha)\n",
    "    pwl.plot_pdf(ss[i], color ='red');\n",
    "    \n",
    "    \n",
    "    fit = pwl.Fit(ss2[i], discrete = False,xmax =max(ss2[i]), xmin = (1,100), )\n",
    "    fit.power_law.plot_pdf(color ='green', linestyle ='--')\n",
    "    print(fit.power_law.alpha)\n",
    "    pwl.plot_pdf(ss2[i], color ='green');"
   ]
  },
  {
   "cell_type": "code",
   "execution_count": 18,
   "id": "2e2e116f",
   "metadata": {},
   "outputs": [],
   "source": [
    "import numpy as np\n",
    "import matplotlib.pyplot as plt\n",
    "import os\n",
    "import pandas as pd\n",
    "import powerlaw as pwl"
   ]
  },
  {
   "cell_type": "markdown",
   "id": "2d3a1d0c",
   "metadata": {},
   "source": [
    "# Avalanche exponents t-tests"
   ]
  },
  {
   "cell_type": "code",
   "execution_count": 33,
   "id": "d2557da8",
   "metadata": {},
   "outputs": [
    {
     "data": {
      "text/plain": [
       "True"
      ]
     },
     "execution_count": 33,
     "metadata": {},
     "output_type": "execute_result"
    }
   ],
   "source": [
    "filterr"
   ]
  },
  {
   "cell_type": "code",
   "execution_count": 19,
   "id": "fb21580e",
   "metadata": {},
   "outputs": [
    {
     "name": "stdout",
     "output_type": "stream",
     "text": [
      "49\n",
      "\n",
      "\n",
      "########## SUBJ 5 (1/49)##########\n",
      "7 10\n",
      "doing\n",
      "Calculating best minimal value for power law fit\n",
      "Calculating best minimal value for power law fit\n"
     ]
    },
    {
     "name": "stderr",
     "output_type": "stream",
     "text": [
      "Less than 2 unique data values left after xmin and xmax options! Cannot fit. Returning nans.\n",
      "Not enough data. Returning nan\n"
     ]
    },
    {
     "name": "stdout",
     "output_type": "stream",
     "text": [
      "Prediction from crackling noise relation: delta =  nan +- nan\n",
      "Fit from of average size given duration points: delta =  1.1469445978761 +- 0.014913419471523226\n",
      "Calculating best minimal value for power law fit\n",
      "Calculating best minimal value for power law fit\n",
      "Calculating best minimal value for power law fit\n",
      "Calculating best minimal value for power law fit\n",
      "Calculating best minimal value for power law fit\n",
      "Calculating best minimal value for power law fit\n",
      "Prediction from crackling noise relation: delta =  nan +- nan\n",
      "Fit from of average size given duration points: delta =  1.1657681150629133 +- 0.013754955816404003\n"
     ]
    },
    {
     "name": "stderr",
     "output_type": "stream",
     "text": [
      "Less than 2 unique data values left after xmin and xmax options! Cannot fit. Returning nans.\n",
      "Not enough data. Returning nan\n"
     ]
    },
    {
     "name": "stdout",
     "output_type": "stream",
     "text": [
      "Calculating best minimal value for power law fit\n",
      "Calculating best minimal value for power law fit\n"
     ]
    },
    {
     "name": "stderr",
     "output_type": "stream",
     "text": [
      "Less than 2 unique data values left after xmin and xmax options! Cannot fit. Returning nans.\n",
      "Not enough data. Returning nan\n"
     ]
    },
    {
     "name": "stdout",
     "output_type": "stream",
     "text": [
      "Prediction from crackling noise relation: delta =  nan +- nan\n",
      "Fit from of average size given duration points: delta =  1.097072207165923 +- 0.007777490438584602\n",
      "Calculating best minimal value for power law fit\n",
      "Calculating best minimal value for power law fit\n",
      "Calculating best minimal value for power law fit\n",
      "Calculating best minimal value for power law fit\n",
      "Calculating best minimal value for power law fit\n",
      "Calculating best minimal value for power law fit\n"
     ]
    },
    {
     "name": "stderr",
     "output_type": "stream",
     "text": [
      "Less than 2 unique data values left after xmin and xmax options! Cannot fit. Returning nans.\n",
      "Not enough data. Returning nan\n"
     ]
    },
    {
     "name": "stdout",
     "output_type": "stream",
     "text": [
      "Prediction from crackling noise relation: delta =  nan +- nan\n",
      "Fit from of average size given duration points: delta =  1.1117761065754856 +- 0.006434521335749958\n",
      "\n",
      "\n",
      "########## SUBJ 6 (2/49)##########\n",
      "10 10\n",
      "doing\n",
      "Calculating best minimal value for power law fit\n",
      "Calculating best minimal value for power law fit\n"
     ]
    },
    {
     "name": "stderr",
     "output_type": "stream",
     "text": [
      "Less than 2 unique data values left after xmin and xmax options! Cannot fit. Returning nans.\n",
      "Not enough data. Returning nan\n"
     ]
    },
    {
     "name": "stdout",
     "output_type": "stream",
     "text": [
      "Prediction from crackling noise relation: delta =  nan +- nan\n",
      "Fit from of average size given duration points: delta =  1.1118398449889932 +- 0.012273148727709295\n",
      "Calculating best minimal value for power law fit\n",
      "Calculating best minimal value for power law fit\n",
      "Calculating best minimal value for power law fit\n",
      "Calculating best minimal value for power law fit\n",
      "Calculating best minimal value for power law fit\n",
      "Calculating best minimal value for power law fit\n"
     ]
    },
    {
     "name": "stderr",
     "output_type": "stream",
     "text": [
      "Less than 2 unique data values left after xmin and xmax options! Cannot fit. Returning nans.\n",
      "Not enough data. Returning nan\n"
     ]
    },
    {
     "name": "stdout",
     "output_type": "stream",
     "text": [
      "Prediction from crackling noise relation: delta =  nan +- nan\n",
      "Fit from of average size given duration points: delta =  1.1413049399929032 +- 0.012053623339984908\n",
      "Calculating best minimal value for power law fit\n",
      "Calculating best minimal value for power law fit\n"
     ]
    },
    {
     "name": "stderr",
     "output_type": "stream",
     "text": [
      "Less than 2 unique data values left after xmin and xmax options! Cannot fit. Returning nans.\n",
      "Not enough data. Returning nan\n"
     ]
    },
    {
     "name": "stdout",
     "output_type": "stream",
     "text": [
      "Prediction from crackling noise relation: delta =  nan +- nan\n",
      "Fit from of average size given duration points: delta =  1.0667743063217956 +- 0.005334214724084611\n",
      "Calculating best minimal value for power law fit\n",
      "Calculating best minimal value for power law fit\n",
      "Calculating best minimal value for power law fit\n",
      "Calculating best minimal value for power law fit\n",
      "Calculating best minimal value for power law fit\n",
      "Calculating best minimal value for power law fit\n"
     ]
    },
    {
     "name": "stderr",
     "output_type": "stream",
     "text": [
      "Less than 2 unique data values left after xmin and xmax options! Cannot fit. Returning nans.\n",
      "Not enough data. Returning nan\n"
     ]
    },
    {
     "name": "stdout",
     "output_type": "stream",
     "text": [
      "Prediction from crackling noise relation: delta =  nan +- nan\n",
      "Fit from of average size given duration points: delta =  1.0656797006214296 +- 0.00572733138774854\n",
      "\n",
      "\n",
      "########## SUBJ 9 (3/49)##########\n",
      "9 10\n",
      "doing\n",
      "Calculating best minimal value for power law fit\n",
      "Calculating best minimal value for power law fit\n"
     ]
    },
    {
     "name": "stderr",
     "output_type": "stream",
     "text": [
      "Less than 2 unique data values left after xmin and xmax options! Cannot fit. Returning nans.\n",
      "Not enough data. Returning nan\n"
     ]
    },
    {
     "name": "stdout",
     "output_type": "stream",
     "text": [
      "Prediction from crackling noise relation: delta =  nan +- nan\n",
      "Fit from of average size given duration points: delta =  1.0804047861205328 +- 0.009784950941103569\n",
      "Calculating best minimal value for power law fit\n",
      "Calculating best minimal value for power law fit\n",
      "Calculating best minimal value for power law fit\n",
      "Calculating best minimal value for power law fit\n",
      "Calculating best minimal value for power law fit\n",
      "Calculating best minimal value for power law fit\n"
     ]
    },
    {
     "name": "stderr",
     "output_type": "stream",
     "text": [
      "Less than 2 unique data values left after xmin and xmax options! Cannot fit. Returning nans.\n",
      "Not enough data. Returning nan\n"
     ]
    },
    {
     "name": "stdout",
     "output_type": "stream",
     "text": [
      "Prediction from crackling noise relation: delta =  nan +- nan\n",
      "Fit from of average size given duration points: delta =  1.12476303803859 +- 0.01127468394155774\n",
      "Calculating best minimal value for power law fit\n",
      "Calculating best minimal value for power law fit\n"
     ]
    },
    {
     "name": "stderr",
     "output_type": "stream",
     "text": [
      "Less than 2 unique data values left after xmin and xmax options! Cannot fit. Returning nans.\n",
      "Not enough data. Returning nan\n"
     ]
    },
    {
     "name": "stdout",
     "output_type": "stream",
     "text": [
      "Prediction from crackling noise relation: delta =  nan +- nan\n",
      "Fit from of average size given duration points: delta =  1.0708669792640366 +- 0.006430067400660965\n",
      "Calculating best minimal value for power law fit\n",
      "Calculating best minimal value for power law fit\n",
      "Calculating best minimal value for power law fit\n",
      "Calculating best minimal value for power law fit\n",
      "Calculating best minimal value for power law fit\n",
      "Calculating best minimal value for power law fit\n"
     ]
    },
    {
     "name": "stderr",
     "output_type": "stream",
     "text": [
      "Less than 2 unique data values left after xmin and xmax options! Cannot fit. Returning nans.\n",
      "Not enough data. Returning nan\n"
     ]
    },
    {
     "name": "stdout",
     "output_type": "stream",
     "text": [
      "Prediction from crackling noise relation: delta =  nan +- nan\n",
      "Fit from of average size given duration points: delta =  1.0834735313796071 +- 0.006191468176349332\n",
      "\n",
      "\n",
      "########## SUBJ 11 (4/49)##########\n",
      "10 10\n",
      "doing\n",
      "Calculating best minimal value for power law fit\n",
      "Calculating best minimal value for power law fit\n"
     ]
    },
    {
     "name": "stderr",
     "output_type": "stream",
     "text": [
      "Less than 2 unique data values left after xmin and xmax options! Cannot fit. Returning nans.\n",
      "Not enough data. Returning nan\n"
     ]
    },
    {
     "name": "stdout",
     "output_type": "stream",
     "text": [
      "Prediction from crackling noise relation: delta =  nan +- nan\n",
      "Fit from of average size given duration points: delta =  1.0877912993029368 +- 0.011818723662151727\n",
      "Calculating best minimal value for power law fit\n",
      "Calculating best minimal value for power law fit\n",
      "Calculating best minimal value for power law fit\n",
      "Calculating best minimal value for power law fit\n",
      "Calculating best minimal value for power law fit\n",
      "Calculating best minimal value for power law fit\n"
     ]
    },
    {
     "name": "stderr",
     "output_type": "stream",
     "text": [
      "Less than 2 unique data values left after xmin and xmax options! Cannot fit. Returning nans.\n",
      "Not enough data. Returning nan\n"
     ]
    },
    {
     "name": "stdout",
     "output_type": "stream",
     "text": [
      "Prediction from crackling noise relation: delta =  nan +- nan\n",
      "Fit from of average size given duration points: delta =  1.138237707082569 +- 0.012662529981770174\n",
      "Calculating best minimal value for power law fit\n",
      "Calculating best minimal value for power law fit\n"
     ]
    },
    {
     "name": "stderr",
     "output_type": "stream",
     "text": [
      "Less than 2 unique data values left after xmin and xmax options! Cannot fit. Returning nans.\n",
      "Not enough data. Returning nan\n"
     ]
    },
    {
     "name": "stdout",
     "output_type": "stream",
     "text": [
      "Prediction from crackling noise relation: delta =  nan +- nan\n",
      "Fit from of average size given duration points: delta =  1.0778098437518888 +- 0.00612292569553283\n",
      "Calculating best minimal value for power law fit\n",
      "Calculating best minimal value for power law fit\n",
      "Calculating best minimal value for power law fit\n",
      "Calculating best minimal value for power law fit\n",
      "Calculating best minimal value for power law fit\n",
      "Calculating best minimal value for power law fit\n"
     ]
    },
    {
     "name": "stderr",
     "output_type": "stream",
     "text": [
      "Less than 2 unique data values left after xmin and xmax options! Cannot fit. Returning nans.\n",
      "Not enough data. Returning nan\n"
     ]
    },
    {
     "name": "stdout",
     "output_type": "stream",
     "text": [
      "Prediction from crackling noise relation: delta =  nan +- nan\n",
      "Fit from of average size given duration points: delta =  1.0898182634095595 +- 0.0056340615238647486\n",
      "\n",
      "\n",
      "########## SUBJ 12 (5/49)##########\n",
      "10 7\n",
      "doing\n",
      "Calculating best minimal value for power law fit\n",
      "Calculating best minimal value for power law fit\n"
     ]
    },
    {
     "name": "stderr",
     "output_type": "stream",
     "text": [
      "Less than 2 unique data values left after xmin and xmax options! Cannot fit. Returning nans.\n",
      "Not enough data. Returning nan\n"
     ]
    },
    {
     "name": "stdout",
     "output_type": "stream",
     "text": [
      "Prediction from crackling noise relation: delta =  nan +- nan\n",
      "Fit from of average size given duration points: delta =  1.166010192088462 +- 0.010607011674919642\n",
      "Calculating best minimal value for power law fit\n",
      "Calculating best minimal value for power law fit\n",
      "Calculating best minimal value for power law fit\n",
      "Calculating best minimal value for power law fit\n",
      "Calculating best minimal value for power law fit\n",
      "Calculating best minimal value for power law fit\n",
      "Prediction from crackling noise relation: delta =  nan +- nan\n",
      "Fit from of average size given duration points: delta =  1.1361351162886155 +- 0.013498182502911906\n"
     ]
    },
    {
     "name": "stderr",
     "output_type": "stream",
     "text": [
      "Less than 2 unique data values left after xmin and xmax options! Cannot fit. Returning nans.\n",
      "Not enough data. Returning nan\n"
     ]
    },
    {
     "name": "stdout",
     "output_type": "stream",
     "text": [
      "Calculating best minimal value for power law fit\n",
      "Calculating best minimal value for power law fit\n"
     ]
    },
    {
     "name": "stderr",
     "output_type": "stream",
     "text": [
      "Less than 2 unique data values left after xmin and xmax options! Cannot fit. Returning nans.\n",
      "Not enough data. Returning nan\n"
     ]
    },
    {
     "name": "stdout",
     "output_type": "stream",
     "text": [
      "Prediction from crackling noise relation: delta =  nan +- nan\n",
      "Fit from of average size given duration points: delta =  1.097688370527171 +- 0.007565951840133402\n",
      "Calculating best minimal value for power law fit\n",
      "Calculating best minimal value for power law fit\n",
      "Calculating best minimal value for power law fit\n",
      "Calculating best minimal value for power law fit\n",
      "Calculating best minimal value for power law fit\n",
      "Calculating best minimal value for power law fit\n"
     ]
    },
    {
     "name": "stderr",
     "output_type": "stream",
     "text": [
      "Less than 2 unique data values left after xmin and xmax options! Cannot fit. Returning nans.\n",
      "Not enough data. Returning nan\n"
     ]
    },
    {
     "name": "stdout",
     "output_type": "stream",
     "text": [
      "Prediction from crackling noise relation: delta =  nan +- nan\n",
      "Fit from of average size given duration points: delta =  1.138169716910335 +- 0.008166118498378661\n",
      "\n",
      "\n",
      "########## SUBJ 13 (6/49)##########\n",
      "0 8\n",
      "\n",
      "\n",
      "########## SUBJ 16 (7/49)##########\n",
      "9 10\n",
      "doing\n",
      "Calculating best minimal value for power law fit\n",
      "Calculating best minimal value for power law fit\n"
     ]
    },
    {
     "name": "stderr",
     "output_type": "stream",
     "text": [
      "Less than 2 unique data values left after xmin and xmax options! Cannot fit. Returning nans.\n",
      "Not enough data. Returning nan\n"
     ]
    },
    {
     "name": "stdout",
     "output_type": "stream",
     "text": [
      "Prediction from crackling noise relation: delta =  nan +- nan\n",
      "Fit from of average size given duration points: delta =  1.1401732880885103 +- 0.011156561724803137\n",
      "Calculating best minimal value for power law fit\n",
      "Calculating best minimal value for power law fit\n",
      "Calculating best minimal value for power law fit\n",
      "Calculating best minimal value for power law fit\n",
      "Calculating best minimal value for power law fit\n",
      "Calculating best minimal value for power law fit\n"
     ]
    },
    {
     "name": "stderr",
     "output_type": "stream",
     "text": [
      "Less than 2 unique data values left after xmin and xmax options! Cannot fit. Returning nans.\n",
      "Not enough data. Returning nan\n"
     ]
    },
    {
     "name": "stdout",
     "output_type": "stream",
     "text": [
      "Prediction from crackling noise relation: delta =  nan +- nan\n",
      "Fit from of average size given duration points: delta =  1.1614215377781667 +- 0.011314506900575599\n",
      "Calculating best minimal value for power law fit\n",
      "Calculating best minimal value for power law fit\n"
     ]
    },
    {
     "name": "stderr",
     "output_type": "stream",
     "text": [
      "Less than 2 unique data values left after xmin and xmax options! Cannot fit. Returning nans.\n",
      "Not enough data. Returning nan\n"
     ]
    },
    {
     "name": "stdout",
     "output_type": "stream",
     "text": [
      "Prediction from crackling noise relation: delta =  nan +- nan\n",
      "Fit from of average size given duration points: delta =  1.07315657640661 +- 0.006496550119127372\n",
      "Calculating best minimal value for power law fit\n",
      "Calculating best minimal value for power law fit\n",
      "Calculating best minimal value for power law fit\n",
      "Calculating best minimal value for power law fit\n",
      "Calculating best minimal value for power law fit\n",
      "Calculating best minimal value for power law fit\n"
     ]
    },
    {
     "name": "stderr",
     "output_type": "stream",
     "text": [
      "Less than 2 unique data values left after xmin and xmax options! Cannot fit. Returning nans.\n",
      "Not enough data. Returning nan\n"
     ]
    },
    {
     "name": "stdout",
     "output_type": "stream",
     "text": [
      "Prediction from crackling noise relation: delta =  nan +- nan\n",
      "Fit from of average size given duration points: delta =  1.0738838209246049 +- 0.006179778909401702\n",
      "\n",
      "\n",
      "########## SUBJ 17 (8/49)##########\n",
      "10 10\n",
      "doing\n",
      "Calculating best minimal value for power law fit\n",
      "Calculating best minimal value for power law fit\n"
     ]
    },
    {
     "name": "stderr",
     "output_type": "stream",
     "text": [
      "Less than 2 unique data values left after xmin and xmax options! Cannot fit. Returning nans.\n",
      "Not enough data. Returning nan\n"
     ]
    },
    {
     "name": "stdout",
     "output_type": "stream",
     "text": [
      "Prediction from crackling noise relation: delta =  nan +- nan\n",
      "Fit from of average size given duration points: delta =  1.137670418700773 +- 0.01248796057622835\n",
      "Calculating best minimal value for power law fit\n",
      "Calculating best minimal value for power law fit\n",
      "Calculating best minimal value for power law fit\n",
      "Calculating best minimal value for power law fit\n",
      "Calculating best minimal value for power law fit\n",
      "Calculating best minimal value for power law fit\n",
      "Prediction from crackling noise relation: delta =  nan +- nan\n",
      "Fit from of average size given duration points: delta =  1.1611571873205677 +- 0.013754936258224352\n"
     ]
    },
    {
     "name": "stderr",
     "output_type": "stream",
     "text": [
      "Less than 2 unique data values left after xmin and xmax options! Cannot fit. Returning nans.\n",
      "Not enough data. Returning nan\n"
     ]
    },
    {
     "name": "stdout",
     "output_type": "stream",
     "text": [
      "Calculating best minimal value for power law fit\n",
      "Calculating best minimal value for power law fit\n"
     ]
    },
    {
     "name": "stderr",
     "output_type": "stream",
     "text": [
      "Less than 2 unique data values left after xmin and xmax options! Cannot fit. Returning nans.\n",
      "Not enough data. Returning nan\n"
     ]
    },
    {
     "name": "stdout",
     "output_type": "stream",
     "text": [
      "Prediction from crackling noise relation: delta =  nan +- nan\n",
      "Fit from of average size given duration points: delta =  1.0919247046511167 +- 0.007080487655554295\n",
      "Calculating best minimal value for power law fit\n",
      "Calculating best minimal value for power law fit\n",
      "Calculating best minimal value for power law fit\n",
      "Calculating best minimal value for power law fit\n",
      "Calculating best minimal value for power law fit\n",
      "Calculating best minimal value for power law fit\n"
     ]
    },
    {
     "name": "stderr",
     "output_type": "stream",
     "text": [
      "Less than 2 unique data values left after xmin and xmax options! Cannot fit. Returning nans.\n",
      "Not enough data. Returning nan\n"
     ]
    },
    {
     "name": "stdout",
     "output_type": "stream",
     "text": [
      "Prediction from crackling noise relation: delta =  nan +- nan\n",
      "Fit from of average size given duration points: delta =  1.0872637502767615 +- 0.00605144247414905\n",
      "\n",
      "\n",
      "########## SUBJ 18 (9/49)##########\n",
      "8 9\n",
      "doing\n",
      "Calculating best minimal value for power law fit\n",
      "Calculating best minimal value for power law fit\n"
     ]
    },
    {
     "name": "stderr",
     "output_type": "stream",
     "text": [
      "Less than 2 unique data values left after xmin and xmax options! Cannot fit. Returning nans.\n",
      "Not enough data. Returning nan\n"
     ]
    },
    {
     "name": "stdout",
     "output_type": "stream",
     "text": [
      "Prediction from crackling noise relation: delta =  nan +- nan\n",
      "Fit from of average size given duration points: delta =  1.126535946787889 +- 0.012905221737596789\n",
      "Calculating best minimal value for power law fit\n",
      "Calculating best minimal value for power law fit\n",
      "Calculating best minimal value for power law fit\n",
      "Calculating best minimal value for power law fit\n",
      "Calculating best minimal value for power law fit\n",
      "Calculating best minimal value for power law fit\n"
     ]
    },
    {
     "name": "stderr",
     "output_type": "stream",
     "text": [
      "Less than 2 unique data values left after xmin and xmax options! Cannot fit. Returning nans.\n",
      "Not enough data. Returning nan\n"
     ]
    },
    {
     "name": "stdout",
     "output_type": "stream",
     "text": [
      "Prediction from crackling noise relation: delta =  nan +- nan\n",
      "Fit from of average size given duration points: delta =  1.1561285043800642 +- 0.011766350035832943\n",
      "Calculating best minimal value for power law fit\n",
      "Calculating best minimal value for power law fit\n"
     ]
    },
    {
     "name": "stderr",
     "output_type": "stream",
     "text": [
      "Less than 2 unique data values left after xmin and xmax options! Cannot fit. Returning nans.\n",
      "Not enough data. Returning nan\n"
     ]
    },
    {
     "name": "stdout",
     "output_type": "stream",
     "text": [
      "Prediction from crackling noise relation: delta =  nan +- nan\n",
      "Fit from of average size given duration points: delta =  1.0970732516527413 +- 0.007019050842526741\n",
      "Calculating best minimal value for power law fit\n",
      "Calculating best minimal value for power law fit\n",
      "Calculating best minimal value for power law fit\n",
      "Calculating best minimal value for power law fit\n",
      "Calculating best minimal value for power law fit\n",
      "Calculating best minimal value for power law fit\n"
     ]
    },
    {
     "name": "stderr",
     "output_type": "stream",
     "text": [
      "Less than 2 unique data values left after xmin and xmax options! Cannot fit. Returning nans.\n",
      "Not enough data. Returning nan\n"
     ]
    },
    {
     "name": "stdout",
     "output_type": "stream",
     "text": [
      "Prediction from crackling noise relation: delta =  nan +- nan\n",
      "Fit from of average size given duration points: delta =  1.0788789621469204 +- 0.006633047314347621\n",
      "\n",
      "\n",
      "########## SUBJ 19 (10/49)##########\n",
      "9 10\n",
      "doing\n",
      "Calculating best minimal value for power law fit\n",
      "Calculating best minimal value for power law fit\n"
     ]
    },
    {
     "name": "stderr",
     "output_type": "stream",
     "text": [
      "Less than 2 unique data values left after xmin and xmax options! Cannot fit. Returning nans.\n",
      "Not enough data. Returning nan\n"
     ]
    },
    {
     "name": "stdout",
     "output_type": "stream",
     "text": [
      "Prediction from crackling noise relation: delta =  nan +- nan\n",
      "Fit from of average size given duration points: delta =  1.1668440877063944 +- 0.010633664279646134\n",
      "Calculating best minimal value for power law fit\n",
      "Calculating best minimal value for power law fit\n",
      "Calculating best minimal value for power law fit\n",
      "Calculating best minimal value for power law fit\n",
      "Calculating best minimal value for power law fit\n",
      "Calculating best minimal value for power law fit\n"
     ]
    },
    {
     "name": "stderr",
     "output_type": "stream",
     "text": [
      "Less than 2 unique data values left after xmin and xmax options! Cannot fit. Returning nans.\n",
      "Not enough data. Returning nan\n"
     ]
    },
    {
     "name": "stdout",
     "output_type": "stream",
     "text": [
      "Prediction from crackling noise relation: delta =  nan +- nan\n",
      "Fit from of average size given duration points: delta =  1.13669015101256 +- 0.012964691667425057\n",
      "Calculating best minimal value for power law fit\n",
      "Calculating best minimal value for power law fit\n"
     ]
    },
    {
     "name": "stderr",
     "output_type": "stream",
     "text": [
      "Less than 2 unique data values left after xmin and xmax options! Cannot fit. Returning nans.\n",
      "Not enough data. Returning nan\n"
     ]
    },
    {
     "name": "stdout",
     "output_type": "stream",
     "text": [
      "Prediction from crackling noise relation: delta =  nan +- nan\n",
      "Fit from of average size given duration points: delta =  1.06191518724513 +- 0.006389116607342644\n",
      "Calculating best minimal value for power law fit\n",
      "Calculating best minimal value for power law fit\n",
      "Calculating best minimal value for power law fit\n",
      "Calculating best minimal value for power law fit\n",
      "Calculating best minimal value for power law fit\n",
      "Calculating best minimal value for power law fit\n"
     ]
    },
    {
     "name": "stderr",
     "output_type": "stream",
     "text": [
      "Less than 2 unique data values left after xmin and xmax options! Cannot fit. Returning nans.\n",
      "Not enough data. Returning nan\n"
     ]
    },
    {
     "name": "stdout",
     "output_type": "stream",
     "text": [
      "Prediction from crackling noise relation: delta =  nan +- nan\n",
      "Fit from of average size given duration points: delta =  1.0883154834767308 +- 0.006031535367112975\n",
      "\n",
      "\n",
      "########## SUBJ 21 (11/49)##########\n",
      "9 1\n",
      "\n",
      "\n",
      "########## SUBJ 23 (12/49)##########\n",
      "8 10\n",
      "doing\n",
      "Calculating best minimal value for power law fit\n",
      "Calculating best minimal value for power law fit\n"
     ]
    },
    {
     "name": "stderr",
     "output_type": "stream",
     "text": [
      "Less than 2 unique data values left after xmin and xmax options! Cannot fit. Returning nans.\n",
      "Not enough data. Returning nan\n"
     ]
    },
    {
     "name": "stdout",
     "output_type": "stream",
     "text": [
      "Prediction from crackling noise relation: delta =  nan +- nan\n",
      "Fit from of average size given duration points: delta =  1.0910988671315343 +- 0.01373009165125757\n",
      "Calculating best minimal value for power law fit\n",
      "Calculating best minimal value for power law fit\n",
      "Calculating best minimal value for power law fit\n",
      "Calculating best minimal value for power law fit\n",
      "Calculating best minimal value for power law fit\n",
      "Calculating best minimal value for power law fit\n"
     ]
    },
    {
     "name": "stderr",
     "output_type": "stream",
     "text": [
      "Less than 2 unique data values left after xmin and xmax options! Cannot fit. Returning nans.\n",
      "Not enough data. Returning nan\n"
     ]
    },
    {
     "name": "stdout",
     "output_type": "stream",
     "text": [
      "Prediction from crackling noise relation: delta =  nan +- nan\n",
      "Fit from of average size given duration points: delta =  1.146967809295543 +- 0.01282793340299565\n",
      "Calculating best minimal value for power law fit\n",
      "Calculating best minimal value for power law fit\n"
     ]
    },
    {
     "name": "stderr",
     "output_type": "stream",
     "text": [
      "Less than 2 unique data values left after xmin and xmax options! Cannot fit. Returning nans.\n",
      "Not enough data. Returning nan\n"
     ]
    },
    {
     "name": "stdout",
     "output_type": "stream",
     "text": [
      "Prediction from crackling noise relation: delta =  nan +- nan\n",
      "Fit from of average size given duration points: delta =  1.0971558915654689 +- 0.006566573615319894\n",
      "Calculating best minimal value for power law fit\n",
      "Calculating best minimal value for power law fit\n",
      "Calculating best minimal value for power law fit\n",
      "Calculating best minimal value for power law fit\n",
      "Calculating best minimal value for power law fit\n",
      "Calculating best minimal value for power law fit\n"
     ]
    },
    {
     "name": "stderr",
     "output_type": "stream",
     "text": [
      "Less than 2 unique data values left after xmin and xmax options! Cannot fit. Returning nans.\n",
      "Not enough data. Returning nan\n"
     ]
    },
    {
     "name": "stdout",
     "output_type": "stream",
     "text": [
      "Prediction from crackling noise relation: delta =  nan +- nan\n",
      "Fit from of average size given duration points: delta =  1.0927067996011424 +- 0.0057888349374228334\n",
      "\n",
      "\n",
      "########## SUBJ 24 (13/49)##########\n",
      "0 10\n",
      "\n",
      "\n",
      "########## SUBJ 25 (14/49)##########\n",
      "2 10\n",
      "\n",
      "\n",
      "########## SUBJ 30 (15/49)##########\n",
      "10 8\n",
      "doing\n",
      "Calculating best minimal value for power law fit\n",
      "Calculating best minimal value for power law fit\n"
     ]
    },
    {
     "name": "stderr",
     "output_type": "stream",
     "text": [
      "Less than 2 unique data values left after xmin and xmax options! Cannot fit. Returning nans.\n",
      "Not enough data. Returning nan\n"
     ]
    },
    {
     "name": "stdout",
     "output_type": "stream",
     "text": [
      "Prediction from crackling noise relation: delta =  nan +- nan\n",
      "Fit from of average size given duration points: delta =  1.1160472775499442 +- 0.012193678928805445\n",
      "Calculating best minimal value for power law fit\n",
      "Calculating best minimal value for power law fit\n",
      "Calculating best minimal value for power law fit\n",
      "Calculating best minimal value for power law fit\n",
      "Calculating best minimal value for power law fit\n",
      "Calculating best minimal value for power law fit\n",
      "Prediction from crackling noise relation: delta =  nan +- nan\n",
      "Fit from of average size given duration points: delta =  1.1492014781032296 +- 0.013422481002990325\n"
     ]
    },
    {
     "name": "stderr",
     "output_type": "stream",
     "text": [
      "Less than 2 unique data values left after xmin and xmax options! Cannot fit. Returning nans.\n",
      "Not enough data. Returning nan\n"
     ]
    },
    {
     "name": "stdout",
     "output_type": "stream",
     "text": [
      "Calculating best minimal value for power law fit\n",
      "Calculating best minimal value for power law fit\n"
     ]
    },
    {
     "name": "stderr",
     "output_type": "stream",
     "text": [
      "Less than 2 unique data values left after xmin and xmax options! Cannot fit. Returning nans.\n",
      "Not enough data. Returning nan\n"
     ]
    },
    {
     "name": "stdout",
     "output_type": "stream",
     "text": [
      "Prediction from crackling noise relation: delta =  nan +- nan\n",
      "Fit from of average size given duration points: delta =  1.0913265937978855 +- 0.006588851780602891\n",
      "Calculating best minimal value for power law fit\n",
      "Calculating best minimal value for power law fit\n",
      "Calculating best minimal value for power law fit\n",
      "Calculating best minimal value for power law fit\n",
      "Calculating best minimal value for power law fit\n",
      "Calculating best minimal value for power law fit\n"
     ]
    },
    {
     "name": "stderr",
     "output_type": "stream",
     "text": [
      "Less than 2 unique data values left after xmin and xmax options! Cannot fit. Returning nans.\n",
      "Not enough data. Returning nan\n"
     ]
    },
    {
     "name": "stdout",
     "output_type": "stream",
     "text": [
      "Prediction from crackling noise relation: delta =  nan +- nan\n",
      "Fit from of average size given duration points: delta =  1.077466932183292 +- 0.0065909548640475735\n",
      "\n",
      "\n",
      "########## SUBJ 33 (16/49)##########\n",
      "7 9\n",
      "doing\n",
      "Calculating best minimal value for power law fit\n",
      "Calculating best minimal value for power law fit\n"
     ]
    },
    {
     "name": "stderr",
     "output_type": "stream",
     "text": [
      "Less than 2 unique data values left after xmin and xmax options! Cannot fit. Returning nans.\n",
      "Not enough data. Returning nan\n"
     ]
    },
    {
     "name": "stdout",
     "output_type": "stream",
     "text": [
      "Prediction from crackling noise relation: delta =  nan +- nan\n",
      "Fit from of average size given duration points: delta =  1.1006539040676167 +- 0.010279445943206062\n",
      "Calculating best minimal value for power law fit\n",
      "Calculating best minimal value for power law fit\n",
      "Calculating best minimal value for power law fit\n",
      "Calculating best minimal value for power law fit\n",
      "Calculating best minimal value for power law fit\n",
      "Calculating best minimal value for power law fit\n",
      "Prediction from crackling noise relation: delta =  nan +- nan\n",
      "Fit from of average size given duration points: delta =  1.1226215650882292 +- 0.011643855925610834\n"
     ]
    },
    {
     "name": "stderr",
     "output_type": "stream",
     "text": [
      "Less than 2 unique data values left after xmin and xmax options! Cannot fit. Returning nans.\n",
      "Not enough data. Returning nan\n"
     ]
    },
    {
     "name": "stdout",
     "output_type": "stream",
     "text": [
      "Calculating best minimal value for power law fit\n",
      "Calculating best minimal value for power law fit\n"
     ]
    },
    {
     "name": "stderr",
     "output_type": "stream",
     "text": [
      "Less than 2 unique data values left after xmin and xmax options! Cannot fit. Returning nans.\n",
      "Not enough data. Returning nan\n"
     ]
    },
    {
     "name": "stdout",
     "output_type": "stream",
     "text": [
      "Prediction from crackling noise relation: delta =  nan +- nan\n",
      "Fit from of average size given duration points: delta =  1.1267970155818905 +- 0.007421371387954363\n",
      "Calculating best minimal value for power law fit\n",
      "Calculating best minimal value for power law fit\n",
      "Calculating best minimal value for power law fit\n",
      "Calculating best minimal value for power law fit\n",
      "Calculating best minimal value for power law fit\n",
      "Calculating best minimal value for power law fit\n"
     ]
    },
    {
     "name": "stderr",
     "output_type": "stream",
     "text": [
      "Less than 2 unique data values left after xmin and xmax options! Cannot fit. Returning nans.\n",
      "Not enough data. Returning nan\n"
     ]
    },
    {
     "name": "stdout",
     "output_type": "stream",
     "text": [
      "Prediction from crackling noise relation: delta =  nan +- nan\n",
      "Fit from of average size given duration points: delta =  1.091776027645302 +- 0.0067258548423534195\n",
      "\n",
      "\n",
      "########## SUBJ 34 (17/49)##########\n",
      "0 10\n",
      "\n",
      "\n",
      "########## SUBJ 35 (18/49)##########\n",
      "9 10\n",
      "doing\n",
      "Calculating best minimal value for power law fit\n",
      "Calculating best minimal value for power law fit\n"
     ]
    },
    {
     "name": "stderr",
     "output_type": "stream",
     "text": [
      "Less than 2 unique data values left after xmin and xmax options! Cannot fit. Returning nans.\n",
      "Not enough data. Returning nan\n"
     ]
    },
    {
     "name": "stdout",
     "output_type": "stream",
     "text": [
      "Prediction from crackling noise relation: delta =  nan +- nan\n",
      "Fit from of average size given duration points: delta =  1.1000355523091705 +- 0.011469498097265626\n",
      "Calculating best minimal value for power law fit\n",
      "Calculating best minimal value for power law fit\n",
      "Calculating best minimal value for power law fit\n",
      "Calculating best minimal value for power law fit\n",
      "Calculating best minimal value for power law fit\n",
      "Calculating best minimal value for power law fit\n"
     ]
    },
    {
     "name": "stderr",
     "output_type": "stream",
     "text": [
      "Less than 2 unique data values left after xmin and xmax options! Cannot fit. Returning nans.\n",
      "Not enough data. Returning nan\n"
     ]
    },
    {
     "name": "stdout",
     "output_type": "stream",
     "text": [
      "Prediction from crackling noise relation: delta =  nan +- nan\n",
      "Fit from of average size given duration points: delta =  1.1443541960538979 +- 0.010759971660052638\n",
      "Calculating best minimal value for power law fit\n",
      "Calculating best minimal value for power law fit\n"
     ]
    },
    {
     "name": "stderr",
     "output_type": "stream",
     "text": [
      "Less than 2 unique data values left after xmin and xmax options! Cannot fit. Returning nans.\n",
      "Not enough data. Returning nan\n"
     ]
    },
    {
     "name": "stdout",
     "output_type": "stream",
     "text": [
      "Prediction from crackling noise relation: delta =  nan +- nan\n",
      "Fit from of average size given duration points: delta =  1.0869633677388104 +- 0.006754011844426363\n",
      "Calculating best minimal value for power law fit\n",
      "Calculating best minimal value for power law fit\n",
      "Calculating best minimal value for power law fit\n",
      "Calculating best minimal value for power law fit\n",
      "Calculating best minimal value for power law fit\n",
      "Calculating best minimal value for power law fit\n"
     ]
    },
    {
     "name": "stderr",
     "output_type": "stream",
     "text": [
      "Less than 2 unique data values left after xmin and xmax options! Cannot fit. Returning nans.\n",
      "Not enough data. Returning nan\n"
     ]
    },
    {
     "name": "stdout",
     "output_type": "stream",
     "text": [
      "Prediction from crackling noise relation: delta =  nan +- nan\n",
      "Fit from of average size given duration points: delta =  1.0917126646748445 +- 0.006098708682682423\n",
      "\n",
      "\n",
      "########## SUBJ 37 (19/49)##########\n",
      "10 10\n",
      "doing\n",
      "Calculating best minimal value for power law fit\n",
      "Calculating best minimal value for power law fit\n"
     ]
    },
    {
     "name": "stderr",
     "output_type": "stream",
     "text": [
      "Less than 2 unique data values left after xmin and xmax options! Cannot fit. Returning nans.\n",
      "Not enough data. Returning nan\n"
     ]
    },
    {
     "name": "stdout",
     "output_type": "stream",
     "text": [
      "Prediction from crackling noise relation: delta =  nan +- nan\n",
      "Fit from of average size given duration points: delta =  1.0977718639975753 +- 0.015170157607835806\n",
      "Calculating best minimal value for power law fit\n",
      "Calculating best minimal value for power law fit\n",
      "Calculating best minimal value for power law fit\n",
      "Calculating best minimal value for power law fit\n",
      "Calculating best minimal value for power law fit\n",
      "Calculating best minimal value for power law fit\n"
     ]
    },
    {
     "name": "stderr",
     "output_type": "stream",
     "text": [
      "Less than 2 unique data values left after xmin and xmax options! Cannot fit. Returning nans.\n",
      "Not enough data. Returning nan\n"
     ]
    },
    {
     "name": "stdout",
     "output_type": "stream",
     "text": [
      "Prediction from crackling noise relation: delta =  nan +- nan\n",
      "Fit from of average size given duration points: delta =  1.137339244617284 +- 0.011706542326427753\n",
      "Calculating best minimal value for power law fit\n",
      "Calculating best minimal value for power law fit\n"
     ]
    },
    {
     "name": "stderr",
     "output_type": "stream",
     "text": [
      "Less than 2 unique data values left after xmin and xmax options! Cannot fit. Returning nans.\n",
      "Not enough data. Returning nan\n"
     ]
    },
    {
     "name": "stdout",
     "output_type": "stream",
     "text": [
      "Prediction from crackling noise relation: delta =  nan +- nan\n",
      "Fit from of average size given duration points: delta =  1.065287349630517 +- 0.006609514215948055\n",
      "Calculating best minimal value for power law fit\n",
      "Calculating best minimal value for power law fit\n",
      "Calculating best minimal value for power law fit\n",
      "Calculating best minimal value for power law fit\n",
      "Calculating best minimal value for power law fit\n",
      "Calculating best minimal value for power law fit\n"
     ]
    },
    {
     "name": "stderr",
     "output_type": "stream",
     "text": [
      "Less than 2 unique data values left after xmin and xmax options! Cannot fit. Returning nans.\n",
      "Not enough data. Returning nan\n"
     ]
    },
    {
     "name": "stdout",
     "output_type": "stream",
     "text": [
      "Prediction from crackling noise relation: delta =  nan +- nan\n",
      "Fit from of average size given duration points: delta =  1.0934897087417406 +- 0.005733204615940044\n",
      "\n",
      "\n",
      "########## SUBJ 39 (20/49)##########\n",
      "4 9\n",
      "\n",
      "\n",
      "########## SUBJ 40 (21/49)##########\n",
      "6 8\n",
      "doing\n",
      "Calculating best minimal value for power law fit\n",
      "Calculating best minimal value for power law fit\n"
     ]
    },
    {
     "name": "stderr",
     "output_type": "stream",
     "text": [
      "Less than 2 unique data values left after xmin and xmax options! Cannot fit. Returning nans.\n",
      "Not enough data. Returning nan\n"
     ]
    },
    {
     "name": "stdout",
     "output_type": "stream",
     "text": [
      "Prediction from crackling noise relation: delta =  nan +- nan\n",
      "Fit from of average size given duration points: delta =  1.0969206385935084 +- 0.012396509295660763\n",
      "Calculating best minimal value for power law fit\n",
      "Calculating best minimal value for power law fit\n",
      "Calculating best minimal value for power law fit\n",
      "Calculating best minimal value for power law fit\n",
      "Calculating best minimal value for power law fit\n",
      "Calculating best minimal value for power law fit\n"
     ]
    },
    {
     "name": "stderr",
     "output_type": "stream",
     "text": [
      "Less than 2 unique data values left after xmin and xmax options! Cannot fit. Returning nans.\n",
      "Not enough data. Returning nan\n"
     ]
    },
    {
     "name": "stdout",
     "output_type": "stream",
     "text": [
      "Prediction from crackling noise relation: delta =  nan +- nan\n",
      "Fit from of average size given duration points: delta =  1.149964510620228 +- 0.012606423343661273\n",
      "Calculating best minimal value for power law fit\n",
      "Calculating best minimal value for power law fit\n"
     ]
    },
    {
     "name": "stderr",
     "output_type": "stream",
     "text": [
      "Less than 2 unique data values left after xmin and xmax options! Cannot fit. Returning nans.\n",
      "Not enough data. Returning nan\n"
     ]
    },
    {
     "name": "stdout",
     "output_type": "stream",
     "text": [
      "Prediction from crackling noise relation: delta =  nan +- nan\n",
      "Fit from of average size given duration points: delta =  1.0789766895745556 +- 0.008211024309456558\n",
      "Calculating best minimal value for power law fit\n",
      "Calculating best minimal value for power law fit\n",
      "Calculating best minimal value for power law fit\n",
      "Calculating best minimal value for power law fit\n",
      "Calculating best minimal value for power law fit\n",
      "Calculating best minimal value for power law fit\n"
     ]
    },
    {
     "name": "stderr",
     "output_type": "stream",
     "text": [
      "Less than 2 unique data values left after xmin and xmax options! Cannot fit. Returning nans.\n",
      "Not enough data. Returning nan\n"
     ]
    },
    {
     "name": "stdout",
     "output_type": "stream",
     "text": [
      "Prediction from crackling noise relation: delta =  nan +- nan\n",
      "Fit from of average size given duration points: delta =  1.0782582097904392 +- 0.006062151180823258\n",
      "\n",
      "\n",
      "########## SUBJ 45 (22/49)##########\n",
      "9 9\n",
      "doing\n",
      "Calculating best minimal value for power law fit\n",
      "Calculating best minimal value for power law fit\n"
     ]
    },
    {
     "name": "stderr",
     "output_type": "stream",
     "text": [
      "Less than 2 unique data values left after xmin and xmax options! Cannot fit. Returning nans.\n",
      "Not enough data. Returning nan\n"
     ]
    },
    {
     "name": "stdout",
     "output_type": "stream",
     "text": [
      "Prediction from crackling noise relation: delta =  nan +- nan\n",
      "Fit from of average size given duration points: delta =  1.127222324536591 +- 0.01481466893064923\n",
      "Calculating best minimal value for power law fit\n",
      "Calculating best minimal value for power law fit\n",
      "Calculating best minimal value for power law fit\n",
      "Calculating best minimal value for power law fit\n",
      "Calculating best minimal value for power law fit\n",
      "Calculating best minimal value for power law fit\n",
      "Prediction from crackling noise relation: delta =  nan +- nan\n",
      "Fit from of average size given duration points: delta =  1.1600808090577173 +- 0.013278668426229587\n"
     ]
    },
    {
     "name": "stderr",
     "output_type": "stream",
     "text": [
      "Less than 2 unique data values left after xmin and xmax options! Cannot fit. Returning nans.\n",
      "Not enough data. Returning nan\n"
     ]
    },
    {
     "name": "stdout",
     "output_type": "stream",
     "text": [
      "Calculating best minimal value for power law fit\n",
      "Calculating best minimal value for power law fit\n"
     ]
    },
    {
     "name": "stderr",
     "output_type": "stream",
     "text": [
      "Less than 2 unique data values left after xmin and xmax options! Cannot fit. Returning nans.\n",
      "Not enough data. Returning nan\n"
     ]
    },
    {
     "name": "stdout",
     "output_type": "stream",
     "text": [
      "Prediction from crackling noise relation: delta =  nan +- nan\n",
      "Fit from of average size given duration points: delta =  1.0848245353671153 +- 0.007345589388343159\n",
      "Calculating best minimal value for power law fit\n",
      "Calculating best minimal value for power law fit\n",
      "Calculating best minimal value for power law fit\n",
      "Calculating best minimal value for power law fit\n",
      "Calculating best minimal value for power law fit\n",
      "Calculating best minimal value for power law fit\n"
     ]
    },
    {
     "name": "stderr",
     "output_type": "stream",
     "text": [
      "Less than 2 unique data values left after xmin and xmax options! Cannot fit. Returning nans.\n",
      "Not enough data. Returning nan\n"
     ]
    },
    {
     "name": "stdout",
     "output_type": "stream",
     "text": [
      "Prediction from crackling noise relation: delta =  nan +- nan\n",
      "Fit from of average size given duration points: delta =  1.0978611569318986 +- 0.006574978700064067\n",
      "\n",
      "\n",
      "########## SUBJ 47 (23/49)##########\n",
      "9 7\n",
      "doing\n",
      "Calculating best minimal value for power law fit\n",
      "Calculating best minimal value for power law fit\n"
     ]
    },
    {
     "name": "stderr",
     "output_type": "stream",
     "text": [
      "Less than 2 unique data values left after xmin and xmax options! Cannot fit. Returning nans.\n",
      "Not enough data. Returning nan\n"
     ]
    },
    {
     "name": "stdout",
     "output_type": "stream",
     "text": [
      "Prediction from crackling noise relation: delta =  nan +- nan\n",
      "Fit from of average size given duration points: delta =  1.1201282628055986 +- 0.013453669126171333\n",
      "Calculating best minimal value for power law fit\n",
      "Calculating best minimal value for power law fit\n",
      "Calculating best minimal value for power law fit\n",
      "Calculating best minimal value for power law fit\n",
      "Calculating best minimal value for power law fit\n",
      "Calculating best minimal value for power law fit\n",
      "Prediction from crackling noise relation: delta =  nan +- nan\n",
      "Fit from of average size given duration points: delta =  1.1485503433948558 +- 0.01679856356266115\n"
     ]
    },
    {
     "name": "stderr",
     "output_type": "stream",
     "text": [
      "Less than 2 unique data values left after xmin and xmax options! Cannot fit. Returning nans.\n",
      "Not enough data. Returning nan\n"
     ]
    },
    {
     "name": "stdout",
     "output_type": "stream",
     "text": [
      "Calculating best minimal value for power law fit\n",
      "Calculating best minimal value for power law fit\n"
     ]
    },
    {
     "name": "stderr",
     "output_type": "stream",
     "text": [
      "Less than 2 unique data values left after xmin and xmax options! Cannot fit. Returning nans.\n",
      "Not enough data. Returning nan\n"
     ]
    },
    {
     "name": "stdout",
     "output_type": "stream",
     "text": [
      "Prediction from crackling noise relation: delta =  nan +- nan\n",
      "Fit from of average size given duration points: delta =  1.103474129205832 +- 0.007195523626610844\n",
      "Calculating best minimal value for power law fit\n",
      "Calculating best minimal value for power law fit\n",
      "Calculating best minimal value for power law fit\n",
      "Calculating best minimal value for power law fit\n",
      "Calculating best minimal value for power law fit\n",
      "Calculating best minimal value for power law fit\n"
     ]
    },
    {
     "name": "stderr",
     "output_type": "stream",
     "text": [
      "Less than 2 unique data values left after xmin and xmax options! Cannot fit. Returning nans.\n",
      "Not enough data. Returning nan\n"
     ]
    },
    {
     "name": "stdout",
     "output_type": "stream",
     "text": [
      "Prediction from crackling noise relation: delta =  nan +- nan\n",
      "Fit from of average size given duration points: delta =  1.119795528796426 +- 0.007131397859087785\n",
      "\n",
      "\n",
      "########## SUBJ 49 (24/49)##########\n",
      "10 8\n",
      "doing\n",
      "Calculating best minimal value for power law fit\n",
      "Calculating best minimal value for power law fit\n",
      "Prediction from crackling noise relation: delta =  nan +- nan\n",
      "Fit from of average size given duration points: delta =  1.125084544860451 +- 0.01301993536602868\n",
      "Calculating best minimal value for power law fit\n",
      "xmin progress: 01%\r"
     ]
    },
    {
     "name": "stderr",
     "output_type": "stream",
     "text": [
      "Less than 2 unique data values left after xmin and xmax options! Cannot fit. Returning nans.\n",
      "Not enough data. Returning nan\n"
     ]
    },
    {
     "name": "stdout",
     "output_type": "stream",
     "text": [
      "Calculating best minimal value for power law fit\n",
      "Calculating best minimal value for power law fit\n",
      "Calculating best minimal value for power law fit\n",
      "Calculating best minimal value for power law fit\n",
      "Calculating best minimal value for power law fit\n"
     ]
    },
    {
     "name": "stderr",
     "output_type": "stream",
     "text": [
      "Less than 2 unique data values left after xmin and xmax options! Cannot fit. Returning nans.\n",
      "Not enough data. Returning nan\n"
     ]
    },
    {
     "name": "stdout",
     "output_type": "stream",
     "text": [
      "Prediction from crackling noise relation: delta =  nan +- nan\n",
      "Fit from of average size given duration points: delta =  1.110691324309317 +- 0.01274876834242208\n",
      "Calculating best minimal value for power law fit\n",
      "Calculating best minimal value for power law fit\n"
     ]
    },
    {
     "name": "stderr",
     "output_type": "stream",
     "text": [
      "Less than 2 unique data values left after xmin and xmax options! Cannot fit. Returning nans.\n",
      "Not enough data. Returning nan\n"
     ]
    },
    {
     "name": "stdout",
     "output_type": "stream",
     "text": [
      "Prediction from crackling noise relation: delta =  nan +- nan\n",
      "Fit from of average size given duration points: delta =  1.0994748765204927 +- 0.006974827856791343\n",
      "Calculating best minimal value for power law fit\n",
      "Calculating best minimal value for power law fit\n",
      "Calculating best minimal value for power law fit\n",
      "Calculating best minimal value for power law fit\n",
      "Calculating best minimal value for power law fit\n",
      "Calculating best minimal value for power law fit\n"
     ]
    },
    {
     "name": "stderr",
     "output_type": "stream",
     "text": [
      "Less than 2 unique data values left after xmin and xmax options! Cannot fit. Returning nans.\n",
      "Not enough data. Returning nan\n"
     ]
    },
    {
     "name": "stdout",
     "output_type": "stream",
     "text": [
      "Prediction from crackling noise relation: delta =  nan +- nan\n",
      "Fit from of average size given duration points: delta =  1.0890863443839292 +- 0.007434327589489942\n",
      "\n",
      "\n",
      "########## SUBJ 52 (25/49)##########\n",
      "10 10\n",
      "doing\n",
      "Calculating best minimal value for power law fit\n",
      "Calculating best minimal value for power law fit\n",
      "Prediction from crackling noise relation: delta =  nan +- nan\n",
      "Fit from of average size given duration points: delta =  1.1760269432169177 +- 0.02250246916751118\n",
      "Calculating best minimal value for power law fit\n",
      "xmin progress: 08%\r"
     ]
    },
    {
     "name": "stderr",
     "output_type": "stream",
     "text": [
      "Less than 2 unique data values left after xmin and xmax options! Cannot fit. Returning nans.\n",
      "Not enough data. Returning nan\n"
     ]
    },
    {
     "name": "stdout",
     "output_type": "stream",
     "text": [
      "Calculating best minimal value for power law fit\n",
      "Calculating best minimal value for power law fit\n",
      "Calculating best minimal value for power law fit\n",
      "Calculating best minimal value for power law fit\n",
      "Calculating best minimal value for power law fit\n",
      "Prediction from crackling noise relation: delta =  nan +- nan\n",
      "Fit from of average size given duration points: delta =  1.160425938671869 +- 0.01363455204472404\n"
     ]
    },
    {
     "name": "stderr",
     "output_type": "stream",
     "text": [
      "Less than 2 unique data values left after xmin and xmax options! Cannot fit. Returning nans.\n",
      "Not enough data. Returning nan\n"
     ]
    },
    {
     "name": "stdout",
     "output_type": "stream",
     "text": [
      "Calculating best minimal value for power law fit\n",
      "Calculating best minimal value for power law fit\n"
     ]
    },
    {
     "name": "stderr",
     "output_type": "stream",
     "text": [
      "Less than 2 unique data values left after xmin and xmax options! Cannot fit. Returning nans.\n",
      "Not enough data. Returning nan\n"
     ]
    },
    {
     "name": "stdout",
     "output_type": "stream",
     "text": [
      "Prediction from crackling noise relation: delta =  nan +- nan\n",
      "Fit from of average size given duration points: delta =  1.1153144277832063 +- 0.006918590965002199\n",
      "Calculating best minimal value for power law fit\n",
      "Calculating best minimal value for power law fit\n",
      "Calculating best minimal value for power law fit\n",
      "Calculating best minimal value for power law fit\n",
      "Calculating best minimal value for power law fit\n",
      "Calculating best minimal value for power law fit\n"
     ]
    },
    {
     "name": "stderr",
     "output_type": "stream",
     "text": [
      "Less than 2 unique data values left after xmin and xmax options! Cannot fit. Returning nans.\n",
      "Not enough data. Returning nan\n"
     ]
    },
    {
     "name": "stdout",
     "output_type": "stream",
     "text": [
      "Prediction from crackling noise relation: delta =  nan +- nan\n",
      "Fit from of average size given duration points: delta =  1.1175534092184305 +- 0.007788084828284181\n",
      "\n",
      "\n",
      "########## SUBJ 53 (26/49)##########\n",
      "5 9\n",
      "\n",
      "\n",
      "########## SUBJ 56 (27/49)##########\n",
      "10 9\n",
      "doing\n",
      "Calculating best minimal value for power law fit\n",
      "Calculating best minimal value for power law fit\n"
     ]
    },
    {
     "name": "stderr",
     "output_type": "stream",
     "text": [
      "Less than 2 unique data values left after xmin and xmax options! Cannot fit. Returning nans.\n",
      "Not enough data. Returning nan\n"
     ]
    },
    {
     "name": "stdout",
     "output_type": "stream",
     "text": [
      "Prediction from crackling noise relation: delta =  nan +- nan\n",
      "Fit from of average size given duration points: delta =  1.129595319965299 +- 0.011959767646878384\n",
      "Calculating best minimal value for power law fit\n",
      "Calculating best minimal value for power law fit\n",
      "Calculating best minimal value for power law fit\n",
      "Calculating best minimal value for power law fit\n",
      "Calculating best minimal value for power law fit\n",
      "Calculating best minimal value for power law fit\n",
      "Prediction from crackling noise relation: delta =  nan +- nan\n",
      "Fit from of average size given duration points: delta =  1.1700102375937909 +- 0.01297571454223928\n"
     ]
    },
    {
     "name": "stderr",
     "output_type": "stream",
     "text": [
      "Less than 2 unique data values left after xmin and xmax options! Cannot fit. Returning nans.\n",
      "Not enough data. Returning nan\n"
     ]
    },
    {
     "name": "stdout",
     "output_type": "stream",
     "text": [
      "Calculating best minimal value for power law fit\n",
      "Calculating best minimal value for power law fit\n"
     ]
    },
    {
     "name": "stderr",
     "output_type": "stream",
     "text": [
      "Less than 2 unique data values left after xmin and xmax options! Cannot fit. Returning nans.\n",
      "Not enough data. Returning nan\n"
     ]
    },
    {
     "name": "stdout",
     "output_type": "stream",
     "text": [
      "Prediction from crackling noise relation: delta =  nan +- nan\n",
      "Fit from of average size given duration points: delta =  1.0805597244645313 +- 0.006698292650165579\n",
      "Calculating best minimal value for power law fit\n",
      "Calculating best minimal value for power law fit\n",
      "Calculating best minimal value for power law fit\n",
      "Calculating best minimal value for power law fit\n",
      "Calculating best minimal value for power law fit\n",
      "Calculating best minimal value for power law fit\n"
     ]
    },
    {
     "name": "stderr",
     "output_type": "stream",
     "text": [
      "Less than 2 unique data values left after xmin and xmax options! Cannot fit. Returning nans.\n",
      "Not enough data. Returning nan\n"
     ]
    },
    {
     "name": "stdout",
     "output_type": "stream",
     "text": [
      "Prediction from crackling noise relation: delta =  nan +- nan\n",
      "Fit from of average size given duration points: delta =  1.0941667697413844 +- 0.006579419176638575\n",
      "\n",
      "\n",
      "########## SUBJ 57 (28/49)##########\n",
      "2 10\n",
      "\n",
      "\n",
      "########## SUBJ 58 (29/49)##########\n",
      "10 9\n",
      "doing\n",
      "Calculating best minimal value for power law fit\n",
      "Calculating best minimal value for power law fit\n",
      "Prediction from crackling noise relation: delta =  nan +- nan\n",
      "Fit from of average size given duration points: delta =  1.13688264308518 +- 0.013848206525843048\n",
      "Calculating best minimal value for power law fit\n",
      "xmin progress: 00%\r"
     ]
    },
    {
     "name": "stderr",
     "output_type": "stream",
     "text": [
      "Less than 2 unique data values left after xmin and xmax options! Cannot fit. Returning nans.\n",
      "Not enough data. Returning nan\n"
     ]
    },
    {
     "name": "stdout",
     "output_type": "stream",
     "text": [
      "Calculating best minimal value for power law fit\n",
      "Calculating best minimal value for power law fit\n",
      "Calculating best minimal value for power law fit\n",
      "Calculating best minimal value for power law fit\n",
      "Calculating best minimal value for power law fit\n"
     ]
    },
    {
     "name": "stderr",
     "output_type": "stream",
     "text": [
      "Less than 2 unique data values left after xmin and xmax options! Cannot fit. Returning nans.\n",
      "Not enough data. Returning nan\n"
     ]
    },
    {
     "name": "stdout",
     "output_type": "stream",
     "text": [
      "Prediction from crackling noise relation: delta =  nan +- nan\n",
      "Fit from of average size given duration points: delta =  1.1394434128885345 +- 0.010635980809375917\n",
      "Calculating best minimal value for power law fit\n",
      "Calculating best minimal value for power law fit\n"
     ]
    },
    {
     "name": "stderr",
     "output_type": "stream",
     "text": [
      "Less than 2 unique data values left after xmin and xmax options! Cannot fit. Returning nans.\n",
      "Not enough data. Returning nan\n"
     ]
    },
    {
     "name": "stdout",
     "output_type": "stream",
     "text": [
      "Prediction from crackling noise relation: delta =  nan +- nan\n",
      "Fit from of average size given duration points: delta =  1.1072984726337198 +- 0.0068329918479316494\n",
      "Calculating best minimal value for power law fit\n",
      "Calculating best minimal value for power law fit\n",
      "Calculating best minimal value for power law fit\n",
      "Calculating best minimal value for power law fit\n",
      "Calculating best minimal value for power law fit\n",
      "Calculating best minimal value for power law fit\n"
     ]
    },
    {
     "name": "stderr",
     "output_type": "stream",
     "text": [
      "Less than 2 unique data values left after xmin and xmax options! Cannot fit. Returning nans.\n",
      "Not enough data. Returning nan\n"
     ]
    },
    {
     "name": "stdout",
     "output_type": "stream",
     "text": [
      "Prediction from crackling noise relation: delta =  nan +- nan\n",
      "Fit from of average size given duration points: delta =  1.065475306045974 +- 0.006249941446689811\n",
      "\n",
      "\n",
      "########## SUBJ 60 (30/49)##########\n",
      "10 0\n",
      "\n",
      "\n",
      "########## SUBJ 62 (31/49)##########\n",
      "7 9\n",
      "doing\n",
      "Calculating best minimal value for power law fit\n",
      "Calculating best minimal value for power law fit\n"
     ]
    },
    {
     "name": "stderr",
     "output_type": "stream",
     "text": [
      "Less than 2 unique data values left after xmin and xmax options! Cannot fit. Returning nans.\n",
      "Not enough data. Returning nan\n"
     ]
    },
    {
     "name": "stdout",
     "output_type": "stream",
     "text": [
      "Prediction from crackling noise relation: delta =  nan +- nan\n",
      "Fit from of average size given duration points: delta =  1.1468189859474966 +- 0.015361460080129018\n",
      "Calculating best minimal value for power law fit\n",
      "Calculating best minimal value for power law fit\n",
      "Calculating best minimal value for power law fit\n",
      "Calculating best minimal value for power law fit\n",
      "Calculating best minimal value for power law fit\n",
      "Calculating best minimal value for power law fit\n",
      "Prediction from crackling noise relation: delta =  nan +- nan\n",
      "Fit from of average size given duration points: delta =  1.1525291599151672 +- 0.015477370117468057\n"
     ]
    },
    {
     "name": "stderr",
     "output_type": "stream",
     "text": [
      "Less than 2 unique data values left after xmin and xmax options! Cannot fit. Returning nans.\n",
      "Not enough data. Returning nan\n"
     ]
    },
    {
     "name": "stdout",
     "output_type": "stream",
     "text": [
      "Calculating best minimal value for power law fit\n",
      "Calculating best minimal value for power law fit\n"
     ]
    },
    {
     "name": "stderr",
     "output_type": "stream",
     "text": [
      "Less than 2 unique data values left after xmin and xmax options! Cannot fit. Returning nans.\n",
      "Not enough data. Returning nan\n"
     ]
    },
    {
     "name": "stdout",
     "output_type": "stream",
     "text": [
      "Prediction from crackling noise relation: delta =  nan +- nan\n",
      "Fit from of average size given duration points: delta =  1.095320350082185 +- 0.0075841260622367245\n",
      "Calculating best minimal value for power law fit\n",
      "Calculating best minimal value for power law fit\n",
      "Calculating best minimal value for power law fit\n",
      "Calculating best minimal value for power law fit\n",
      "Calculating best minimal value for power law fit\n",
      "Calculating best minimal value for power law fit\n"
     ]
    },
    {
     "name": "stderr",
     "output_type": "stream",
     "text": [
      "Less than 2 unique data values left after xmin and xmax options! Cannot fit. Returning nans.\n",
      "Not enough data. Returning nan\n"
     ]
    },
    {
     "name": "stdout",
     "output_type": "stream",
     "text": [
      "Prediction from crackling noise relation: delta =  nan +- nan\n",
      "Fit from of average size given duration points: delta =  1.1128837591433076 +- 0.007843303000142816\n",
      "\n",
      "\n",
      "########## SUBJ 63 (32/49)##########\n",
      "1 10\n",
      "\n",
      "\n",
      "########## SUBJ 65 (33/49)##########\n",
      "0 9\n",
      "\n",
      "\n",
      "########## SUBJ 66 (34/49)##########\n",
      "10 10\n",
      "doing\n",
      "Calculating best minimal value for power law fit\n",
      "Calculating best minimal value for power law fit\n",
      "Prediction from crackling noise relation: delta =  nan +- nan\n",
      "Fit from of average size given duration points: delta =  1.1236690196916355 +- 0.016988187150109243\n",
      "Calculating best minimal value for power law fit\n",
      "xmin progress: 05%\r"
     ]
    },
    {
     "name": "stderr",
     "output_type": "stream",
     "text": [
      "Less than 2 unique data values left after xmin and xmax options! Cannot fit. Returning nans.\n",
      "Not enough data. Returning nan\n"
     ]
    },
    {
     "name": "stdout",
     "output_type": "stream",
     "text": [
      "Calculating best minimal value for power law fit\n",
      "Calculating best minimal value for power law fit\n",
      "Calculating best minimal value for power law fit\n",
      "Calculating best minimal value for power law fit\n",
      "Calculating best minimal value for power law fit\n",
      "Prediction from crackling noise relation: delta =  nan +- nan\n",
      "Fit from of average size given duration points: delta =  1.1479970059626958 +- 0.013155590773384799\n"
     ]
    },
    {
     "name": "stderr",
     "output_type": "stream",
     "text": [
      "Less than 2 unique data values left after xmin and xmax options! Cannot fit. Returning nans.\n",
      "Not enough data. Returning nan\n"
     ]
    },
    {
     "name": "stdout",
     "output_type": "stream",
     "text": [
      "Calculating best minimal value for power law fit\n",
      "Calculating best minimal value for power law fit\n"
     ]
    },
    {
     "name": "stderr",
     "output_type": "stream",
     "text": [
      "Less than 2 unique data values left after xmin and xmax options! Cannot fit. Returning nans.\n",
      "Not enough data. Returning nan\n"
     ]
    },
    {
     "name": "stdout",
     "output_type": "stream",
     "text": [
      "Prediction from crackling noise relation: delta =  nan +- nan\n",
      "Fit from of average size given duration points: delta =  1.0976832059584978 +- 0.008464152655561741\n",
      "Calculating best minimal value for power law fit\n",
      "Calculating best minimal value for power law fit\n",
      "Calculating best minimal value for power law fit\n",
      "Calculating best minimal value for power law fit\n",
      "Calculating best minimal value for power law fit\n",
      "Calculating best minimal value for power law fit\n"
     ]
    },
    {
     "name": "stderr",
     "output_type": "stream",
     "text": [
      "Less than 2 unique data values left after xmin and xmax options! Cannot fit. Returning nans.\n",
      "Not enough data. Returning nan\n"
     ]
    },
    {
     "name": "stdout",
     "output_type": "stream",
     "text": [
      "Prediction from crackling noise relation: delta =  nan +- nan\n",
      "Fit from of average size given duration points: delta =  1.122919332662244 +- 0.008116485729682753\n",
      "\n",
      "\n",
      "########## SUBJ 67 (35/49)##########\n",
      "10 9\n",
      "doing\n",
      "Calculating best minimal value for power law fit\n",
      "Calculating best minimal value for power law fit\n"
     ]
    },
    {
     "name": "stderr",
     "output_type": "stream",
     "text": [
      "Less than 2 unique data values left after xmin and xmax options! Cannot fit. Returning nans.\n",
      "Not enough data. Returning nan\n"
     ]
    },
    {
     "name": "stdout",
     "output_type": "stream",
     "text": [
      "Prediction from crackling noise relation: delta =  nan +- nan\n",
      "Fit from of average size given duration points: delta =  1.1434534490159916 +- 0.013894007592653787\n",
      "Calculating best minimal value for power law fit\n",
      "Calculating best minimal value for power law fit\n",
      "Calculating best minimal value for power law fit\n",
      "Calculating best minimal value for power law fit\n",
      "Calculating best minimal value for power law fit\n",
      "Calculating best minimal value for power law fit\n"
     ]
    },
    {
     "name": "stderr",
     "output_type": "stream",
     "text": [
      "Less than 2 unique data values left after xmin and xmax options! Cannot fit. Returning nans.\n",
      "Not enough data. Returning nan\n"
     ]
    },
    {
     "name": "stdout",
     "output_type": "stream",
     "text": [
      "Prediction from crackling noise relation: delta =  nan +- nan\n",
      "Fit from of average size given duration points: delta =  1.131256024139093 +- 0.011594533764492229\n",
      "Calculating best minimal value for power law fit\n",
      "Calculating best minimal value for power law fit\n"
     ]
    },
    {
     "name": "stderr",
     "output_type": "stream",
     "text": [
      "Less than 2 unique data values left after xmin and xmax options! Cannot fit. Returning nans.\n",
      "Not enough data. Returning nan\n"
     ]
    },
    {
     "name": "stdout",
     "output_type": "stream",
     "text": [
      "Prediction from crackling noise relation: delta =  nan +- nan\n",
      "Fit from of average size given duration points: delta =  1.0929314524273694 +- 0.007358974163359528\n",
      "Calculating best minimal value for power law fit\n",
      "Calculating best minimal value for power law fit\n",
      "Calculating best minimal value for power law fit\n",
      "Calculating best minimal value for power law fit\n",
      "Calculating best minimal value for power law fit\n",
      "Calculating best minimal value for power law fit\n"
     ]
    },
    {
     "name": "stderr",
     "output_type": "stream",
     "text": [
      "Less than 2 unique data values left after xmin and xmax options! Cannot fit. Returning nans.\n",
      "Not enough data. Returning nan\n"
     ]
    },
    {
     "name": "stdout",
     "output_type": "stream",
     "text": [
      "Prediction from crackling noise relation: delta =  nan +- nan\n",
      "Fit from of average size given duration points: delta =  1.0855291274969785 +- 0.007100363068733785\n",
      "\n",
      "\n",
      "########## SUBJ 68 (36/49)##########\n",
      "8 9\n",
      "doing\n",
      "Calculating best minimal value for power law fit\n",
      "Calculating best minimal value for power law fit\n",
      "Prediction from crackling noise relation: delta =  nan +- nan\n",
      "Fit from of average size given duration points: delta =  1.1452790502948007 +- 0.014925401196740209\n",
      "Calculating best minimal value for power law fit\n",
      "xmin progress: 04%\r"
     ]
    },
    {
     "name": "stderr",
     "output_type": "stream",
     "text": [
      "Less than 2 unique data values left after xmin and xmax options! Cannot fit. Returning nans.\n",
      "Not enough data. Returning nan\n"
     ]
    },
    {
     "name": "stdout",
     "output_type": "stream",
     "text": [
      "Calculating best minimal value for power law fit\n",
      "Calculating best minimal value for power law fit\n",
      "Calculating best minimal value for power law fit\n",
      "Calculating best minimal value for power law fit\n",
      "Calculating best minimal value for power law fit\n"
     ]
    },
    {
     "name": "stderr",
     "output_type": "stream",
     "text": [
      "Less than 2 unique data values left after xmin and xmax options! Cannot fit. Returning nans.\n",
      "Not enough data. Returning nan\n"
     ]
    },
    {
     "name": "stdout",
     "output_type": "stream",
     "text": [
      "Prediction from crackling noise relation: delta =  nan +- nan\n",
      "Fit from of average size given duration points: delta =  1.161624956855175 +- 0.013061808203643943\n",
      "Calculating best minimal value for power law fit\n",
      "Calculating best minimal value for power law fit\n"
     ]
    },
    {
     "name": "stderr",
     "output_type": "stream",
     "text": [
      "Less than 2 unique data values left after xmin and xmax options! Cannot fit. Returning nans.\n",
      "Not enough data. Returning nan\n"
     ]
    },
    {
     "name": "stdout",
     "output_type": "stream",
     "text": [
      "Prediction from crackling noise relation: delta =  nan +- nan\n",
      "Fit from of average size given duration points: delta =  1.0923902128686636 +- 0.006780695891466486\n",
      "Calculating best minimal value for power law fit\n",
      "Calculating best minimal value for power law fit\n",
      "Calculating best minimal value for power law fit\n",
      "Calculating best minimal value for power law fit\n",
      "Calculating best minimal value for power law fit\n",
      "Calculating best minimal value for power law fit\n"
     ]
    },
    {
     "name": "stderr",
     "output_type": "stream",
     "text": [
      "Less than 2 unique data values left after xmin and xmax options! Cannot fit. Returning nans.\n",
      "Not enough data. Returning nan\n"
     ]
    },
    {
     "name": "stdout",
     "output_type": "stream",
     "text": [
      "Prediction from crackling noise relation: delta =  nan +- nan\n",
      "Fit from of average size given duration points: delta =  1.0898904939273453 +- 0.006410955025944876\n",
      "\n",
      "\n",
      "########## SUBJ 69 (37/49)##########\n",
      "3 10\n",
      "\n",
      "\n",
      "########## SUBJ 71 (38/49)##########\n",
      "6 10\n",
      "doing\n",
      "Calculating best minimal value for power law fit\n",
      "Calculating best minimal value for power law fit\n"
     ]
    },
    {
     "name": "stderr",
     "output_type": "stream",
     "text": [
      "Less than 2 unique data values left after xmin and xmax options! Cannot fit. Returning nans.\n",
      "Not enough data. Returning nan\n"
     ]
    },
    {
     "name": "stdout",
     "output_type": "stream",
     "text": [
      "Prediction from crackling noise relation: delta =  nan +- nan\n",
      "Fit from of average size given duration points: delta =  1.1808487174266578 +- 0.01799004936352252\n",
      "Calculating best minimal value for power law fit\n",
      "Calculating best minimal value for power law fit\n",
      "Calculating best minimal value for power law fit\n",
      "Calculating best minimal value for power law fit\n",
      "Calculating best minimal value for power law fit\n",
      "Calculating best minimal value for power law fit\n"
     ]
    },
    {
     "name": "stderr",
     "output_type": "stream",
     "text": [
      "Less than 2 unique data values left after xmin and xmax options! Cannot fit. Returning nans.\n",
      "Not enough data. Returning nan\n"
     ]
    },
    {
     "name": "stdout",
     "output_type": "stream",
     "text": [
      "Prediction from crackling noise relation: delta =  nan +- nan\n",
      "Fit from of average size given duration points: delta =  1.1490844103790234 +- 0.015006299990075966\n",
      "Calculating best minimal value for power law fit\n",
      "Calculating best minimal value for power law fit\n"
     ]
    },
    {
     "name": "stderr",
     "output_type": "stream",
     "text": [
      "Less than 2 unique data values left after xmin and xmax options! Cannot fit. Returning nans.\n",
      "Not enough data. Returning nan\n"
     ]
    },
    {
     "name": "stdout",
     "output_type": "stream",
     "text": [
      "Prediction from crackling noise relation: delta =  nan +- nan\n",
      "Fit from of average size given duration points: delta =  1.1426791631661506 +- 0.008939533218404166\n",
      "Calculating best minimal value for power law fit\n",
      "Calculating best minimal value for power law fit\n",
      "Calculating best minimal value for power law fit\n",
      "Calculating best minimal value for power law fit\n",
      "Calculating best minimal value for power law fit\n",
      "Calculating best minimal value for power law fit\n"
     ]
    },
    {
     "name": "stderr",
     "output_type": "stream",
     "text": [
      "Less than 2 unique data values left after xmin and xmax options! Cannot fit. Returning nans.\n",
      "Not enough data. Returning nan\n"
     ]
    },
    {
     "name": "stdout",
     "output_type": "stream",
     "text": [
      "Prediction from crackling noise relation: delta =  nan +- nan\n",
      "Fit from of average size given duration points: delta =  1.1005371429788424 +- 0.007111589157402209\n",
      "\n",
      "\n",
      "########## SUBJ 14 (39/49)##########\n",
      "5 10\n",
      "doing\n",
      "Calculating best minimal value for power law fit\n",
      "Calculating best minimal value for power law fit\n",
      "Prediction from crackling noise relation: delta =  nan +- nan\n",
      "Fit from of average size given duration points: delta =  1.0936792667848663 +- 0.0124458647077461\n",
      "Calculating best minimal value for power law fit\n",
      "xmin progress: 19%\r"
     ]
    },
    {
     "name": "stderr",
     "output_type": "stream",
     "text": [
      "Less than 2 unique data values left after xmin and xmax options! Cannot fit. Returning nans.\n",
      "Not enough data. Returning nan\n"
     ]
    },
    {
     "name": "stdout",
     "output_type": "stream",
     "text": [
      "Calculating best minimal value for power law fit\n",
      "Calculating best minimal value for power law fit\n",
      "Calculating best minimal value for power law fit\n",
      "Calculating best minimal value for power law fit\n",
      "Calculating best minimal value for power law fit\n",
      "Prediction from crackling noise relation: delta =  nan +- nan\n",
      "Fit from of average size given duration points: delta =  1.1400913564214854 +- 0.011103476334880348\n"
     ]
    },
    {
     "name": "stderr",
     "output_type": "stream",
     "text": [
      "Less than 2 unique data values left after xmin and xmax options! Cannot fit. Returning nans.\n",
      "Not enough data. Returning nan\n"
     ]
    },
    {
     "name": "stdout",
     "output_type": "stream",
     "text": [
      "Calculating best minimal value for power law fit\n",
      "Calculating best minimal value for power law fit\n",
      "Prediction from crackling noise relation: delta =  nan +- nan\n",
      "Fit from of average size given duration points: delta =  1.0835278717429233 +- 0.008186906947855354\n",
      "Calculating best minimal value for power law fit\n",
      "xmin progress: 01%\r"
     ]
    },
    {
     "name": "stderr",
     "output_type": "stream",
     "text": [
      "Less than 2 unique data values left after xmin and xmax options! Cannot fit. Returning nans.\n",
      "Not enough data. Returning nan\n"
     ]
    },
    {
     "name": "stdout",
     "output_type": "stream",
     "text": [
      "Calculating best minimal value for power law fit\n",
      "Calculating best minimal value for power law fit\n",
      "Calculating best minimal value for power law fit\n",
      "Calculating best minimal value for power law fit\n",
      "Calculating best minimal value for power law fit\n"
     ]
    },
    {
     "name": "stderr",
     "output_type": "stream",
     "text": [
      "Less than 2 unique data values left after xmin and xmax options! Cannot fit. Returning nans.\n",
      "Not enough data. Returning nan\n"
     ]
    },
    {
     "name": "stdout",
     "output_type": "stream",
     "text": [
      "Prediction from crackling noise relation: delta =  nan +- nan\n",
      "Fit from of average size given duration points: delta =  1.0696838841776608 +- 0.005878728320537287\n",
      "\n",
      "\n",
      "########## SUBJ 20 (40/49)##########\n",
      "0 10\n",
      "\n",
      "\n",
      "########## SUBJ 22 (41/49)##########\n",
      "8 8\n",
      "doing\n",
      "Calculating best minimal value for power law fit\n",
      "Calculating best minimal value for power law fit\n",
      "Prediction from crackling noise relation: delta =  nan +- nan\n",
      "Fit from of average size given duration points: delta =  1.0643316297179823 +- 0.01057865803469222\n",
      "Calculating best minimal value for power law fit\n",
      "xmin progress: 05%\r"
     ]
    },
    {
     "name": "stderr",
     "output_type": "stream",
     "text": [
      "Less than 2 unique data values left after xmin and xmax options! Cannot fit. Returning nans.\n",
      "Not enough data. Returning nan\n"
     ]
    },
    {
     "name": "stdout",
     "output_type": "stream",
     "text": [
      "Calculating best minimal value for power law fit\n",
      "Calculating best minimal value for power law fit\n",
      "Calculating best minimal value for power law fit\n",
      "Calculating best minimal value for power law fit\n",
      "Calculating best minimal value for power law fit\n"
     ]
    },
    {
     "name": "stderr",
     "output_type": "stream",
     "text": [
      "Less than 2 unique data values left after xmin and xmax options! Cannot fit. Returning nans.\n",
      "Not enough data. Returning nan\n"
     ]
    },
    {
     "name": "stdout",
     "output_type": "stream",
     "text": [
      "Prediction from crackling noise relation: delta =  nan +- nan\n",
      "Fit from of average size given duration points: delta =  1.0900164588521708 +- 0.012534633068476408\n",
      "Calculating best minimal value for power law fit\n",
      "Calculating best minimal value for power law fit\n"
     ]
    },
    {
     "name": "stderr",
     "output_type": "stream",
     "text": [
      "Less than 2 unique data values left after xmin and xmax options! Cannot fit. Returning nans.\n",
      "Not enough data. Returning nan\n"
     ]
    },
    {
     "name": "stdout",
     "output_type": "stream",
     "text": [
      "Prediction from crackling noise relation: delta =  nan +- nan\n",
      "Fit from of average size given duration points: delta =  1.06404590284847 +- 0.006179797170920338\n",
      "Calculating best minimal value for power law fit\n",
      "Calculating best minimal value for power law fit\n",
      "Calculating best minimal value for power law fit\n",
      "Calculating best minimal value for power law fit\n",
      "Calculating best minimal value for power law fit\n",
      "Calculating best minimal value for power law fit\n"
     ]
    },
    {
     "name": "stderr",
     "output_type": "stream",
     "text": [
      "Less than 2 unique data values left after xmin and xmax options! Cannot fit. Returning nans.\n",
      "Not enough data. Returning nan\n"
     ]
    },
    {
     "name": "stdout",
     "output_type": "stream",
     "text": [
      "Prediction from crackling noise relation: delta =  nan +- nan\n",
      "Fit from of average size given duration points: delta =  1.0713925385063645 +- 0.006516088713852054\n",
      "\n",
      "\n",
      "########## SUBJ 27 (42/49)##########\n",
      "7 9\n",
      "doing\n",
      "Calculating best minimal value for power law fit\n",
      "Calculating best minimal value for power law fit\n",
      "Prediction from crackling noise relation: delta =  nan +- nan\n",
      "Fit from of average size given duration points: delta =  1.1336197913692372 +- 0.01381920622428003\n",
      "Calculating best minimal value for power law fit\n",
      "xmin progress: 04%\r"
     ]
    },
    {
     "name": "stderr",
     "output_type": "stream",
     "text": [
      "Less than 2 unique data values left after xmin and xmax options! Cannot fit. Returning nans.\n",
      "Not enough data. Returning nan\n"
     ]
    },
    {
     "name": "stdout",
     "output_type": "stream",
     "text": [
      "Calculating best minimal value for power law fit\n",
      "Calculating best minimal value for power law fit\n",
      "Calculating best minimal value for power law fit\n",
      "Calculating best minimal value for power law fit\n",
      "Calculating best minimal value for power law fit\n",
      "Prediction from crackling noise relation: delta =  nan +- nan\n",
      "Fit from of average size given duration points: delta =  1.1375815776554168 +- 0.010579154056139534\n"
     ]
    },
    {
     "name": "stderr",
     "output_type": "stream",
     "text": [
      "Less than 2 unique data values left after xmin and xmax options! Cannot fit. Returning nans.\n",
      "Not enough data. Returning nan\n"
     ]
    },
    {
     "name": "stdout",
     "output_type": "stream",
     "text": [
      "Calculating best minimal value for power law fit\n",
      "Calculating best minimal value for power law fit\n"
     ]
    },
    {
     "name": "stderr",
     "output_type": "stream",
     "text": [
      "Less than 2 unique data values left after xmin and xmax options! Cannot fit. Returning nans.\n",
      "Not enough data. Returning nan\n"
     ]
    },
    {
     "name": "stdout",
     "output_type": "stream",
     "text": [
      "Prediction from crackling noise relation: delta =  nan +- nan\n",
      "Fit from of average size given duration points: delta =  1.077652867505562 +- 0.006672935712720808\n",
      "Calculating best minimal value for power law fit\n",
      "Calculating best minimal value for power law fit\n",
      "Calculating best minimal value for power law fit\n",
      "Calculating best minimal value for power law fit\n",
      "Calculating best minimal value for power law fit\n",
      "Calculating best minimal value for power law fit\n"
     ]
    },
    {
     "name": "stderr",
     "output_type": "stream",
     "text": [
      "Less than 2 unique data values left after xmin and xmax options! Cannot fit. Returning nans.\n",
      "Not enough data. Returning nan\n"
     ]
    },
    {
     "name": "stdout",
     "output_type": "stream",
     "text": [
      "Prediction from crackling noise relation: delta =  nan +- nan\n",
      "Fit from of average size given duration points: delta =  1.0935432304887773 +- 0.006765859669508285\n",
      "\n",
      "\n",
      "########## SUBJ 28 (43/49)##########\n",
      "3 10\n",
      "\n",
      "\n",
      "########## SUBJ 29 (44/49)##########\n",
      "4 4\n",
      "\n",
      "\n",
      "########## SUBJ 31 (45/49)##########\n",
      "4 8\n",
      "\n",
      "\n",
      "########## SUBJ 41 (46/49)##########\n",
      "10 9\n",
      "doing\n",
      "Calculating best minimal value for power law fit\n",
      "Calculating best minimal value for power law fit\n",
      "Prediction from crackling noise relation: delta =  nan +- nan\n",
      "Fit from of average size given duration points: delta =  1.1480111160237536 +- 0.013778787839630309\n",
      "Calculating best minimal value for power law fit\n",
      "xmin progress: 13%\r"
     ]
    },
    {
     "name": "stderr",
     "output_type": "stream",
     "text": [
      "Less than 2 unique data values left after xmin and xmax options! Cannot fit. Returning nans.\n",
      "Not enough data. Returning nan\n"
     ]
    },
    {
     "name": "stdout",
     "output_type": "stream",
     "text": [
      "Calculating best minimal value for power law fit\n",
      "Calculating best minimal value for power law fit\n",
      "Calculating best minimal value for power law fit\n",
      "Calculating best minimal value for power law fit\n",
      "Calculating best minimal value for power law fit\n"
     ]
    },
    {
     "name": "stderr",
     "output_type": "stream",
     "text": [
      "Less than 2 unique data values left after xmin and xmax options! Cannot fit. Returning nans.\n",
      "Not enough data. Returning nan\n"
     ]
    },
    {
     "name": "stdout",
     "output_type": "stream",
     "text": [
      "Prediction from crackling noise relation: delta =  nan +- nan\n",
      "Fit from of average size given duration points: delta =  1.1489424867909999 +- 0.01101285286201101\n",
      "Calculating best minimal value for power law fit\n",
      "Calculating best minimal value for power law fit\n"
     ]
    },
    {
     "name": "stderr",
     "output_type": "stream",
     "text": [
      "Less than 2 unique data values left after xmin and xmax options! Cannot fit. Returning nans.\n",
      "Not enough data. Returning nan\n"
     ]
    },
    {
     "name": "stdout",
     "output_type": "stream",
     "text": [
      "Prediction from crackling noise relation: delta =  nan +- nan\n",
      "Fit from of average size given duration points: delta =  1.0828933195476516 +- 0.006285419552841091\n",
      "Calculating best minimal value for power law fit\n",
      "Calculating best minimal value for power law fit\n",
      "Calculating best minimal value for power law fit\n",
      "Calculating best minimal value for power law fit\n",
      "Calculating best minimal value for power law fit\n",
      "Calculating best minimal value for power law fit\n"
     ]
    },
    {
     "name": "stderr",
     "output_type": "stream",
     "text": [
      "Less than 2 unique data values left after xmin and xmax options! Cannot fit. Returning nans.\n",
      "Not enough data. Returning nan\n"
     ]
    },
    {
     "name": "stdout",
     "output_type": "stream",
     "text": [
      "Prediction from crackling noise relation: delta =  nan +- nan\n",
      "Fit from of average size given duration points: delta =  1.084298888422854 +- 0.006869205964725636\n",
      "\n",
      "\n",
      "########## SUBJ 46 (47/49)##########\n",
      "8 10\n",
      "doing\n",
      "Calculating best minimal value for power law fit\n",
      "Calculating best minimal value for power law fit\n",
      "Prediction from crackling noise relation: delta =  nan +- nan\n",
      "Fit from of average size given duration points: delta =  1.1515475970005968 +- 0.02424137549269111\n",
      "Calculating best minimal value for power law fit\n",
      "xmin progress: 12%\r"
     ]
    },
    {
     "name": "stderr",
     "output_type": "stream",
     "text": [
      "Less than 2 unique data values left after xmin and xmax options! Cannot fit. Returning nans.\n",
      "Not enough data. Returning nan\n"
     ]
    },
    {
     "name": "stdout",
     "output_type": "stream",
     "text": [
      "Calculating best minimal value for power law fit\n",
      "Calculating best minimal value for power law fit\n",
      "Calculating best minimal value for power law fit\n",
      "Calculating best minimal value for power law fit\n",
      "Calculating best minimal value for power law fit\n",
      "Prediction from crackling noise relation: delta =  nan +- nan\n",
      "Fit from of average size given duration points: delta =  1.1221368260739308 +- 0.010639132551361112\n"
     ]
    },
    {
     "name": "stderr",
     "output_type": "stream",
     "text": [
      "Less than 2 unique data values left after xmin and xmax options! Cannot fit. Returning nans.\n",
      "Not enough data. Returning nan\n"
     ]
    },
    {
     "name": "stdout",
     "output_type": "stream",
     "text": [
      "Calculating best minimal value for power law fit\n",
      "Calculating best minimal value for power law fit\n"
     ]
    },
    {
     "name": "stderr",
     "output_type": "stream",
     "text": [
      "Less than 2 unique data values left after xmin and xmax options! Cannot fit. Returning nans.\n",
      "Not enough data. Returning nan\n"
     ]
    },
    {
     "name": "stdout",
     "output_type": "stream",
     "text": [
      "Prediction from crackling noise relation: delta =  nan +- nan\n",
      "Fit from of average size given duration points: delta =  1.1117807332995366 +- 0.007017838725101833\n",
      "Calculating best minimal value for power law fit\n",
      "Calculating best minimal value for power law fit\n",
      "Calculating best minimal value for power law fit\n",
      "Calculating best minimal value for power law fit\n",
      "Calculating best minimal value for power law fit\n",
      "Calculating best minimal value for power law fit\n"
     ]
    },
    {
     "name": "stderr",
     "output_type": "stream",
     "text": [
      "Less than 2 unique data values left after xmin and xmax options! Cannot fit. Returning nans.\n",
      "Not enough data. Returning nan\n"
     ]
    },
    {
     "name": "stdout",
     "output_type": "stream",
     "text": [
      "Prediction from crackling noise relation: delta =  nan +- nan\n",
      "Fit from of average size given duration points: delta =  1.0754669761620415 +- 0.00593847352397266\n",
      "\n",
      "\n",
      "########## SUBJ 64 (48/49)##########\n",
      "9 10\n",
      "doing\n",
      "Calculating best minimal value for power law fit\n",
      "Calculating best minimal value for power law fit\n"
     ]
    },
    {
     "name": "stderr",
     "output_type": "stream",
     "text": [
      "Less than 2 unique data values left after xmin and xmax options! Cannot fit. Returning nans.\n",
      "Not enough data. Returning nan\n"
     ]
    },
    {
     "name": "stdout",
     "output_type": "stream",
     "text": [
      "Prediction from crackling noise relation: delta =  nan +- nan\n",
      "Fit from of average size given duration points: delta =  1.1321555177180456 +- 0.012585487318953531\n",
      "Calculating best minimal value for power law fit\n",
      "Calculating best minimal value for power law fit\n",
      "Calculating best minimal value for power law fit\n",
      "Calculating best minimal value for power law fit\n",
      "Calculating best minimal value for power law fit\n",
      "Calculating best minimal value for power law fit\n"
     ]
    },
    {
     "name": "stderr",
     "output_type": "stream",
     "text": [
      "Less than 2 unique data values left after xmin and xmax options! Cannot fit. Returning nans.\n",
      "Not enough data. Returning nan\n"
     ]
    },
    {
     "name": "stdout",
     "output_type": "stream",
     "text": [
      "Prediction from crackling noise relation: delta =  nan +- nan\n",
      "Fit from of average size given duration points: delta =  1.1383817053557235 +- 0.013082861176927266\n",
      "Calculating best minimal value for power law fit\n",
      "Calculating best minimal value for power law fit\n"
     ]
    },
    {
     "name": "stderr",
     "output_type": "stream",
     "text": [
      "Less than 2 unique data values left after xmin and xmax options! Cannot fit. Returning nans.\n",
      "Not enough data. Returning nan\n"
     ]
    },
    {
     "name": "stdout",
     "output_type": "stream",
     "text": [
      "Prediction from crackling noise relation: delta =  nan +- nan\n",
      "Fit from of average size given duration points: delta =  1.0716432778700455 +- 0.007293260930209121\n",
      "Calculating best minimal value for power law fit\n",
      "Calculating best minimal value for power law fit\n",
      "Calculating best minimal value for power law fit\n",
      "Calculating best minimal value for power law fit\n",
      "Calculating best minimal value for power law fit\n",
      "Calculating best minimal value for power law fit\n",
      "Prediction from crackling noise relation: delta =  nan +- nan\n",
      "Fit from of average size given duration points: delta =  1.073970509940252 +- 0.0069964566959376286\n",
      "\n",
      "\n",
      "########## SUBJ 70 (49/49)##########\n"
     ]
    },
    {
     "name": "stderr",
     "output_type": "stream",
     "text": [
      "Less than 2 unique data values left after xmin and xmax options! Cannot fit. Returning nans.\n",
      "Not enough data. Returning nan\n"
     ]
    },
    {
     "name": "stdout",
     "output_type": "stream",
     "text": [
      "0 3\n"
     ]
    }
   ],
   "source": [
    "### COMPARISON BETWEEN SILENCE1 AND SILENCE2\n",
    "\n",
    "import os\n",
    "import numpy as np\n",
    "#import scipy.signal as ss\n",
    "import scipy.io\n",
    "#from dfa_functions import *\n",
    "\n",
    "subjs  = [5,6,9,11,12,13,16,17,18,19,21,23,24,25,30,33,34,35,37,39,40,45,47,49,52,53,56,57,58,60,62,63,65,66,67,68,69,71,14,20,22,27,28,29,31,41,46,64,70]\n",
    "print(len(subjs))\n",
    "import numpy as np\n",
    "import matplotlib.pyplot as plt\n",
    "import matplotlib.gridspec as gridspec\n",
    "from scipy.io import loadmat\n",
    "from scipy.signal import welch\n",
    "import pandas as pd\n",
    "import mne\n",
    "\n",
    "hh = 14\n",
    "ch_names = ['F7', 'F3', 'Fz', 'F4', 'F8', 'T7', 'C3', 'Cz', 'C4', 'T8']\n",
    "alphas1 = []\n",
    "taus1 =[]\n",
    "\n",
    "deltas1 = []\n",
    "deltas2 = []\n",
    "\n",
    "\n",
    "alphas2 = []\n",
    "taus2 =[]\n",
    "\n",
    "\n",
    "\n",
    "alphas1_surr = []\n",
    "taus1_surr =[]\n",
    "\n",
    "deltas1_surr = []\n",
    "deltas2_surr = []\n",
    "\n",
    "\n",
    "alphas2_surr = []\n",
    "taus2_surr =[]\n",
    "\n",
    "#good_sub = []\n",
    "\n",
    "\n",
    "ch_names = np.array(ch_names)\n",
    "sfreq = 500\n",
    "info = mne.create_info(ch_names = list(ch_names),\n",
    "                       ch_types = 'eeg',\n",
    "                       sfreq = sfreq)\n",
    "o = 0\n",
    "for i, subj in enumerate(subjs):\n",
    "    print(f'\\n\\n########## SUBJ {subj} ({i+1}/{len(subjs)})##########')\n",
    "    s1 = loadmat(f'BB{subj}_Filtered (1-100)/Silence (500)/BB{subj} silence1 (continuous).mat')\n",
    "    s2 = loadmat(f'BB{subj}_Filtered (1-100)/Silence (500)/BB{subj} silence2 (continuous).mat')\n",
    "    data = s1['eeg_rest'].astype('float')\n",
    "    rej, idx_down, idx_up = find_bad_channels(data, verbose = False)\n",
    "    if idx_down > 0 or idx_up < data.shape[1]:\n",
    "        if idx_down > 0:\n",
    "            idx_down +=1\n",
    "        if idx_up < data.shape[1]:\n",
    "            idx_up -= 1\n",
    "        data = data[:,idx_down:idx_up]\n",
    "        rej, idx_down, idx_up = find_bad_channels(data, verbose = False)\n",
    "    idx_accepted = np.sort([np.where(ch_names == i)[0][0] for i in list(set(ch_names) - set(rej))])\n",
    "    data = data[list(idx_accepted), idx_down:idx_up]\n",
    "    nchan = data.shape[0]\n",
    "    \n",
    "    data2 = s2['eeg_rest'].astype('float')\n",
    "    rej, idx_down, idx_up = find_bad_channels(data2, verbose = False)\n",
    "    if idx_down > 0 or idx_up < data2.shape[1]:\n",
    "        if idx_down > 0:\n",
    "            idx_down +=1\n",
    "        if idx_up < data2.shape[1]:\n",
    "            idx_up -= 1\n",
    "        data2 = data2[:,idx_down:idx_up]\n",
    "        rej, idx_down, idx_up = find_bad_channels(data2, verbose = False)\n",
    "    idx_accepted = np.sort([np.where(ch_names == i)[0][0] for i in list(set(ch_names) - set(rej))])\n",
    "    data2 = data2[list(idx_accepted), idx_down:idx_up]\n",
    "    nchan2 = data2.shape[0]\n",
    "    print(nchan, nchan2)\n",
    "    if nchan >= 5 and nchan2 >=5 and subj != 53:\n",
    "   \n",
    "        b,a = signal.butter(2, 30, btype = 'lowpass',fs = 500)\n",
    "\n",
    "        if filterr:\n",
    "            dataa = signal.filtfilt(b,a, data, axis = -1)\n",
    "            dataa2 = signal.filtfilt(b,a, data2, axis = -1)\n",
    "        else:\n",
    "            dataa = data\n",
    "            dataa2 = data2\n",
    "        \n",
    "        print('doing')\n",
    "        s,d = compute_avalanches(dataa.T,fs = 500,theta =2,discretized=False)\n",
    "        s2,d2 =  compute_avalanches(dataa2.T,fs = 500,theta =2,discretized=False)\n",
    "        #ss.append(s)\n",
    "        #dd.append(d)\n",
    "        #ss2.append(s2)\n",
    "        #dd2.append(d2)\n",
    "        \n",
    "            \n",
    "        v = scaling(s,d*0.002, plotto = False)\n",
    "\n",
    "        deltas1.append(v[2])\n",
    "\n",
    "        #good_sub.append(subj)\n",
    "        data = s\n",
    "        fit = pwl.Fit(data,xmin =(1,100),xmax= max(data),parameter_range= {\"alpha\":[1,4]},discrete = False)\n",
    "        exp = fit.power_law.alpha\n",
    "        alphas1.append(exp)\n",
    "        \n",
    "        data = d*0.002\n",
    "        fit = pwl.Fit(data,xmin =(0,0.05),xmax= max(data),parameter_range= {\"alpha\":[1,4]},discrete = False)\n",
    "        exp = fit.power_law.alpha\n",
    "        taus1.append(exp)\n",
    "\n",
    "        data = s2\n",
    "        fit = pwl.Fit(data,xmin =(1,100),xmax= max(data),parameter_range= {\"alpha\":[1,4]},discrete = False)\n",
    "        exp = fit.power_law.alpha\n",
    "        alphas2.append(exp)\n",
    "        \n",
    "        data = d2*0.002\n",
    "        fit = pwl.Fit(data,xmin =(0,0.05),xmax= max(data),parameter_range= {\"alpha\":[1,4]},discrete = False)\n",
    "        exp = fit.power_law.alpha\n",
    "        taus2.append(exp)\n",
    "        \n",
    "        \n",
    "        v = scaling(s2,d2*0.002, plotto = False)\n",
    "        deltas2.append(v[2])\n",
    "        \n",
    "        \n",
    "        \n",
    "        \n",
    "        s,d = compute_avalanches(AAFT_surrogates(dataa).T,theta=2, fs = 500,discretized=False)\n",
    "        s2,d2 = compute_avalanches(AAFT_surrogates(dataa2).T,theta =2, fs =500,discretized=False)\n",
    "        #ss.append(s)\n",
    "        #dd.append(d)\n",
    "        #ss2.append(s2)\n",
    "        #dd2.append(d2)\n",
    "        \n",
    "            \n",
    "        v = scaling(s,d*0.002, plotto = False)\n",
    "\n",
    "        deltas1_surr.append(v[2])\n",
    "\n",
    "        #good_sub.append(subj)\n",
    "        data = s\n",
    "        fit = pwl.Fit(data,xmin =(1,100),xmax= max(data),parameter_range= {\"alpha\":[1,4]},discrete = False)\n",
    "        exp = fit.power_law.alpha\n",
    "        alphas1_surr.append(exp)\n",
    "        \n",
    "        data = d*0.002\n",
    "        fit = pwl.Fit(data,xmin =(0,0.05),xmax= max(data),parameter_range= {\"alpha\":[1,4]},discrete = False)\n",
    "        exp = fit.power_law.alpha\n",
    "        taus1_surr.append(exp)\n",
    "\n",
    "        data = s2\n",
    "        fit = pwl.Fit(data,xmin =(1,100),xmax= max(data),parameter_range= {\"alpha\":[1,4]},discrete = False)\n",
    "        exp = fit.power_law.alpha\n",
    "        alphas2_surr.append(exp)\n",
    "        \n",
    "        data = d2*0.002\n",
    "        fit = pwl.Fit(data,xmin =(0,0.05),xmax= max(data),parameter_range= {\"alpha\":[1,4]},discrete = False)\n",
    "        exp = fit.power_law.alpha\n",
    "        taus2_surr.append(exp)\n",
    "        \n",
    "        \n",
    "        v = scaling(s2,d2*0.002, plotto = False)\n",
    "        deltas2_surr.append(v[2])\n",
    "        \n",
    "        \n",
    "\n",
    "        o += 1\n",
    "        "
   ]
  },
  {
   "cell_type": "code",
   "execution_count": 20,
   "id": "f9b14414",
   "metadata": {},
   "outputs": [
    {
     "ename": "IndexError",
     "evalue": "list index out of range",
     "output_type": "error",
     "traceback": [
      "\u001b[1;31m---------------------------------------------------------------------------\u001b[0m",
      "\u001b[1;31mIndexError\u001b[0m                                Traceback (most recent call last)",
      "Cell \u001b[1;32mIn[20], line 1\u001b[0m\n\u001b[1;32m----> 1\u001b[0m fit \u001b[38;5;241m=\u001b[39m pwl\u001b[38;5;241m.\u001b[39mFit(\u001b[43mss\u001b[49m\u001b[43m[\u001b[49m\u001b[38;5;241;43m10\u001b[39;49m\u001b[43m]\u001b[49m, discrete \u001b[38;5;241m=\u001b[39m \u001b[38;5;28;01mFalse\u001b[39;00m,xmax \u001b[38;5;241m=\u001b[39m\u001b[38;5;28mmax\u001b[39m(ss[\u001b[38;5;241m0\u001b[39m]), xmin \u001b[38;5;241m=\u001b[39m (\u001b[38;5;241m1\u001b[39m,\u001b[38;5;241m100\u001b[39m), )\n\u001b[0;32m      2\u001b[0m fit\u001b[38;5;241m.\u001b[39mpower_law\u001b[38;5;241m.\u001b[39mplot_pdf(color \u001b[38;5;241m=\u001b[39m\u001b[38;5;124m'\u001b[39m\u001b[38;5;124mred\u001b[39m\u001b[38;5;124m'\u001b[39m, linestyle \u001b[38;5;241m=\u001b[39m\u001b[38;5;124m'\u001b[39m\u001b[38;5;124m--\u001b[39m\u001b[38;5;124m'\u001b[39m)\n\u001b[0;32m      3\u001b[0m pwl\u001b[38;5;241m.\u001b[39mplot_pdf(ss[\u001b[38;5;241m10\u001b[39m], color \u001b[38;5;241m=\u001b[39m\u001b[38;5;124m'\u001b[39m\u001b[38;5;124mred\u001b[39m\u001b[38;5;124m'\u001b[39m)\n",
      "\u001b[1;31mIndexError\u001b[0m: list index out of range"
     ]
    }
   ],
   "source": [
    "fit = pwl.Fit(ss[10], discrete = False,xmax =max(ss[0]), xmin = (1,100), )\n",
    "fit.power_law.plot_pdf(color ='red', linestyle ='--')\n",
    "pwl.plot_pdf(ss[10], color ='red');"
   ]
  },
  {
   "cell_type": "code",
   "execution_count": 39,
   "id": "09055bf2",
   "metadata": {},
   "outputs": [
    {
     "data": {
      "text/plain": [
       "[]"
      ]
     },
     "execution_count": 39,
     "metadata": {},
     "output_type": "execute_result"
    }
   ],
   "source": [
    "ss"
   ]
  },
  {
   "cell_type": "code",
   "execution_count": 40,
   "id": "d3e952c4",
   "metadata": {},
   "outputs": [
    {
     "name": "stdout",
     "output_type": "stream",
     "text": [
      "Calculating best minimal value for power law fit\n",
      "xmin progress: 99%\r"
     ]
    },
    {
     "data": {
      "image/png": "[encoded data removed]",
      "text/plain": [
       "<Figure size 640x480 with 1 Axes>"
      ]
     },
     "metadata": {},
     "output_type": "display_data"
    }
   ],
   "source": [
    "fit = pwl.Fit(s, discrete = False,xmax =max(s), xmin = (1,100), )\n",
    "fit.power_law.plot_pdf(color ='red', linestyle ='--')\n",
    "pwl.plot_pdf(s, color ='red');"
   ]
  },
  {
   "cell_type": "code",
   "execution_count": 16,
   "id": "1ef23489",
   "metadata": {},
   "outputs": [],
   "source": [
    "good_sub = np.array([ 5,  6,  9, 11, 12, 16, 17, 18, 19, 23, 30, 33, 35, 37, 40, 45, 47,\n",
    "       49, 52, 56, 58, 62, 66, 67, 68, 71, 14, 22, 27, 41, 46, 64])"
   ]
  },
  {
   "cell_type": "code",
   "execution_count": 21,
   "id": "ffdbbf00",
   "metadata": {},
   "outputs": [],
   "source": [
    "### ORDER OF THE LANGUAGES\n",
    "order = pd.read_excel('../../../Downloads/ordine lingue.xlsx')#1 en, 2 fr, 3 sp"
   ]
  },
  {
   "cell_type": "code",
   "execution_count": 22,
   "id": "8b56aada",
   "metadata": {},
   "outputs": [],
   "source": [
    "\n",
    "subject_french = order[order[\"last language\"]==2][\"subject\"].values\n",
    "\n",
    "subject_en = order[order[\"last language\"]==1][\"subject\"].values\n",
    "\n",
    "subject_span = order[order[\"last language\"]==3][\"subject\"].values"
   ]
  },
  {
   "cell_type": "code",
   "execution_count": 23,
   "id": "3fea7eae",
   "metadata": {},
   "outputs": [],
   "source": [
    "sub_fren = (list(set(subject_french) & set(good_sub)))\n",
    "sub_span = (list(set(subject_span) & set(good_sub)))\n",
    "sub_en = (list(set(subject_en) & set(good_sub)))\n"
   ]
  },
  {
   "cell_type": "code",
   "execution_count": 24,
   "id": "cfdf0cdc",
   "metadata": {},
   "outputs": [
    {
     "data": {
      "text/plain": [
       "[12, 9, 11]"
      ]
     },
     "execution_count": 24,
     "metadata": {},
     "output_type": "execute_result"
    }
   ],
   "source": [
    "list(map(len, [sub_fren, sub_span, sub_en]))"
   ]
  },
  {
   "cell_type": "code",
   "execution_count": 25,
   "id": "fd01a57d",
   "metadata": {},
   "outputs": [],
   "source": [
    "good_sub = np.asarray(good_sub)\n",
    "alphas1 = np.asarray(alphas1)\n",
    "alphas2 = np.asarray(alphas2)\n",
    "taus1 = np.asarray(taus1)\n",
    "taus2 = np.asarray(taus2)\n",
    "deltas1 = np.asarray(deltas1)\n",
    "deltas2 = np.asarray(deltas2)\n",
    "#index. = np.where()"
   ]
  },
  {
   "cell_type": "code",
   "execution_count": 26,
   "id": "b3f61188",
   "metadata": {},
   "outputs": [],
   "source": [
    "good_sub = np.asarray(good_sub)\n",
    "alphas1_surr = np.asarray(alphas1_surr)\n",
    "alphas2_surr = np.asarray(alphas2_surr)\n",
    "taus1_surr = np.asarray(taus1_surr)\n",
    "taus2_surr = np.asarray(taus2_surr)\n",
    "deltas1_surr = np.asarray(deltas1_surr)\n",
    "deltas2_surr = np.asarray(deltas2_surr)\n",
    "#index. = np.where()"
   ]
  },
  {
   "cell_type": "code",
   "execution_count": null,
   "id": "d1d97853",
   "metadata": {},
   "outputs": [],
   "source": []
  },
  {
   "cell_type": "code",
   "execution_count": 27,
   "id": "942c84a2",
   "metadata": {},
   "outputs": [
    {
     "name": "stdout",
     "output_type": "stream",
     "text": [
      "[22, 23, 13, 2, 29, 3, 4, 16, 5, 7, 27, 19]\n"
     ]
    }
   ],
   "source": [
    "h = []\n",
    "for k in sub_fren:\n",
    "    #if k in good_sub:\n",
    "    #h.append(np.where(k == good_sub)[0])\n",
    "    h.append(good_sub.tolist().index(k))\n",
    "print(h)        \n",
    "#np.concatenate(h)"
   ]
  },
  {
   "cell_type": "code",
   "execution_count": 28,
   "id": "16135404",
   "metadata": {},
   "outputs": [],
   "source": [
    "ll = np.concatenate([np.where(good_sub==i)[0] for i in sub_fren])"
   ]
  },
  {
   "cell_type": "code",
   "execution_count": 29,
   "id": "320ad775",
   "metadata": {},
   "outputs": [],
   "source": [
    "def funct2(sub, vec1):\n",
    "    index = np.concatenate([np.where(good_sub==i)[0] for i in sub])\n",
    "    #index = np.where(good_sub, sub_fren)\n",
    "    al1 = vec1[index]\n",
    "    #al2 = vec2[index]\n",
    "    return al1\n",
    "    #print(stats."
   ]
  },
  {
   "cell_type": "code",
   "execution_count": 30,
   "id": "12258b04",
   "metadata": {},
   "outputs": [],
   "source": [
    "import scipy.stats as stats \n",
    "\n",
    "def funct(sub, vec1, vec2, option ='greater'):\n",
    "    index = np.concatenate([np.where(good_sub==i)[0] for i in sub])\n",
    "    #index = np.where(good_sub, sub_fren)\n",
    "    al1 = vec1[index]\n",
    "    al2 = vec2[index]\n",
    "    print(stats.ttest_rel(al1, al2,alternative = option) )\n",
    "    "
   ]
  },
  {
   "cell_type": "code",
   "execution_count": null,
   "id": "5cadd34e",
   "metadata": {},
   "outputs": [],
   "source": []
  },
  {
   "cell_type": "code",
   "execution_count": 31,
   "id": "23e49f95",
   "metadata": {},
   "outputs": [
    {
     "data": {
      "text/plain": [
       "(1.8401226745253079, 1.80656452346312)"
      ]
     },
     "execution_count": 31,
     "metadata": {},
     "output_type": "execute_result"
    }
   ],
   "source": [
    "funct2(sub_fren, alphas1).mean(),funct2(sub_fren, alphas2).mean()"
   ]
  },
  {
   "cell_type": "code",
   "execution_count": 32,
   "id": "1f6a9659",
   "metadata": {},
   "outputs": [
    {
     "name": "stdout",
     "output_type": "stream",
     "text": [
      "TtestResult(statistic=0.45616355413610116, pvalue=0.32857341298903314, df=11)\n",
      "TtestResult(statistic=0.2334796232605665, pvalue=0.4100495066039074, df=10)\n",
      "TtestResult(statistic=0.8145694520037973, pvalue=0.21944605719900534, df=8)\n"
     ]
    }
   ],
   "source": [
    "funct(sub_fren,alphas1_surr,alphas2_surr)\n",
    "funct(sub_en,alphas1_surr,alphas2_surr)\n",
    "funct(sub_span,alphas1_surr,alphas2_surr)"
   ]
  },
  {
   "cell_type": "code",
   "execution_count": 33,
   "id": "f5ea147c",
   "metadata": {},
   "outputs": [
    {
     "name": "stdout",
     "output_type": "stream",
     "text": [
      "TtestResult(statistic=0.9221621298176501, pvalue=0.18811356183868028, df=11)\n",
      "TtestResult(statistic=0.7413988046093543, pvalue=0.237751230438002, df=10)\n",
      "TtestResult(statistic=1.3302470506416817, pvalue=0.11005386052015624, df=8)\n"
     ]
    }
   ],
   "source": [
    "funct(sub_fren,alphas1,alphas2) ## FRENCH IS SIGNIFICANT\n",
    "funct(sub_en,alphas1,alphas2)\n",
    "funct(sub_span,alphas1,alphas2)"
   ]
  },
  {
   "cell_type": "code",
   "execution_count": 67,
   "id": "abaab6c5",
   "metadata": {},
   "outputs": [
    {
     "name": "stdout",
     "output_type": "stream",
     "text": [
      "TtestResult(statistic=0.0986804976729407, pvalue=0.4615836274643028, df=11)\n",
      "TtestResult(statistic=-2.596760343115305, pvalue=0.986680416046319, df=10)\n",
      "TtestResult(statistic=-0.3893652962831532, pvalue=0.6464171671962261, df=8)\n"
     ]
    }
   ],
   "source": [
    "funct(sub_fren,taus1,taus2)\n",
    "funct(sub_en,taus1,taus2)\n",
    "funct(sub_span,taus1,taus2)"
   ]
  },
  {
   "cell_type": "code",
   "execution_count": 34,
   "id": "abacd76a",
   "metadata": {},
   "outputs": [
    {
     "name": "stdout",
     "output_type": "stream",
     "text": [
      "TtestResult(statistic=-3.151643802568173, pvalue=0.004607572686535478, df=11)\n",
      "TtestResult(statistic=-1.6554077572978791, pvalue=0.06442068351812469, df=10)\n",
      "TtestResult(statistic=-1.3918992903966982, pvalue=0.10071420252659753, df=8)\n"
     ]
    }
   ],
   "source": [
    "funct(sub_fren,deltas1,deltas2, 'less') # FRENCH IS SIGNIFICANTE\n",
    "funct(sub_en,deltas1,deltas2, 'less')\n",
    "funct(sub_span,deltas1,deltas2, 'less')"
   ]
  },
  {
   "cell_type": "code",
   "execution_count": 30,
   "id": "3097b60b",
   "metadata": {},
   "outputs": [
    {
     "data": {
      "text/plain": [
       "TtestResult(statistic=1.7072676433503748, pvalue=0.048885502831148446, df=31)"
      ]
     },
     "execution_count": 30,
     "metadata": {},
     "output_type": "execute_result"
    }
   ],
   "source": [
    "# Importing library \n",
    "import scipy.stats as stats \n",
    "alphas1 =np.asarray(alphas1)\n",
    "alphas2 =np.asarray(alphas2)\n",
    "\n",
    "stats.ttest_rel(alphas1, alphas2,alternative = 'greater') \n"
   ]
  },
  {
   "cell_type": "code",
   "execution_count": 32,
   "id": "3ad2e65d",
   "metadata": {},
   "outputs": [
    {
     "data": {
      "text/plain": [
       "TtestResult(statistic=-3.06359372422484, pvalue=0.0022491829534972787, df=31)"
      ]
     },
     "execution_count": 32,
     "metadata": {},
     "output_type": "execute_result"
    }
   ],
   "source": [
    "# Importing library \n",
    "import scipy.stats as stats \n",
    "alphas1 =np.asarray(alphas1)\n",
    "alphas2 =np.asarray(alphas2)\n",
    "\n",
    "stats.ttest_rel(deltas1, deltas2,alternative = 'less') "
   ]
  },
  {
   "cell_type": "code",
   "execution_count": 35,
   "id": "31d643e7",
   "metadata": {},
   "outputs": [
    {
     "data": {
      "text/plain": [
       "TtestResult(statistic=-1.118319191046327, pvalue=0.8639888790049307, df=31)"
      ]
     },
     "execution_count": 35,
     "metadata": {},
     "output_type": "execute_result"
    }
   ],
   "source": [
    "# Importing library \n",
    "import scipy.stats as stats \n",
    "alphas1 =np.asarray(alphas1)\n",
    "alphas2 =np.asarray(alphas2)\n",
    "\n",
    "stats.ttest_rel(taus1, taus2,alternative = 'greater') "
   ]
  },
  {
   "cell_type": "code",
   "execution_count": 38,
   "id": "267f82d1",
   "metadata": {},
   "outputs": [
    {
     "data": {
      "text/plain": [
       "TtestResult(statistic=-1.015727777328112, pvalue=0.3173776932365956, df=32)"
      ]
     },
     "execution_count": 38,
     "metadata": {},
     "output_type": "execute_result"
    }
   ],
   "source": [
    "# Importing library \n",
    "import scipy.stats as stats \n",
    "taus1 =np.asarray(taus1)\n",
    "taus2 =np.asarray(taus2)\n",
    "\n",
    "stats.ttest_rel(taus1, taus2,) "
   ]
  },
  {
   "cell_type": "code",
   "execution_count": 31,
   "id": "581f0a18",
   "metadata": {},
   "outputs": [
    {
     "data": {
      "text/plain": [
       "TtestResult(statistic=-2.6655888161610273, pvalue=0.005972661835473558, df=32)"
      ]
     },
     "execution_count": 31,
     "metadata": {},
     "output_type": "execute_result"
    }
   ],
   "source": [
    "stats.ttest_rel(deltas1, deltas2,alternative = 'less') "
   ]
  },
  {
   "cell_type": "code",
   "execution_count": 39,
   "id": "1d84ea6a",
   "metadata": {},
   "outputs": [],
   "source": [
    "plt.rcParams['font.size'] = 17"
   ]
  },
  {
   "cell_type": "code",
   "execution_count": 35,
   "id": "ef9e6096",
   "metadata": {},
   "outputs": [],
   "source": [
    "a_frenc1 = funct2(sub_fren, np.asarray(alphas1))\n",
    "a_frenc2 = funct2(sub_fren, np.asarray(alphas2))\n",
    "\n",
    "a_span1 = funct2(sub_span, np.asarray(alphas1))\n",
    "a_span2 = funct2(sub_span, np.asarray(alphas2))\n",
    "\n",
    "a_eng1 = funct2(sub_en, np.asarray(alphas1))\n",
    "a_eng2 = funct2(sub_en, np.asarray(alphas2))"
   ]
  },
  {
   "cell_type": "code",
   "execution_count": 36,
   "id": "c1c811a4",
   "metadata": {},
   "outputs": [
    {
     "data": {
      "image/png": "[encoded data removed]",
      "text/plain": [
       "<Figure size 600x800 with 6 Axes>"
      ]
     },
     "metadata": {},
     "output_type": "display_data"
    }
   ],
   "source": [
    "plt.rcParams['font.size'] = 16\n",
    "fig = plt.figure(figsize = (6,8))\n",
    "ax1 = fig.add_subplot(3,2,1)\n",
    "ax2 = fig.add_subplot(3,2,2)\n",
    "ax3 = fig.add_subplot(3,2,3)\n",
    "ax4 = fig.add_subplot(3,2,4)\n",
    "ax5 = fig.add_subplot(3,2,5)\n",
    "ax6 = fig.add_subplot(3,2,6)\n",
    "\n",
    "\n",
    "ax1.hist(a_frenc1, color = 'green', alpha = .6, bins = 15)\n",
    "ax2.hist(a_frenc2, color = 'darkgreen', alpha = .6, bins = 15)\n",
    "ax1.set_title('Silence 1 French')\n",
    "ax2.set_title('Silence 2 French')\n",
    "\n",
    "ax1.set_xlabel('Size exponent')\n",
    "ax2.set_xlabel('Size exponent')\n",
    "\n",
    "ax3.hist(a_span1, color = 'blue', alpha = .6, bins = 15)\n",
    "ax4.hist(a_span2, color = 'darkblue', alpha = .6, bins = 15)\n",
    "ax3.set_title('Silence 1 Span')\n",
    "ax4.set_title('Silence 2 Span')\n",
    "\n",
    "ax3.set_xlabel('Size exponent')\n",
    "ax4.set_xlabel('Size exponent')\n",
    "\n",
    "ax5.hist(a_eng1, color = 'red', alpha = .6, bins = 15)\n",
    "ax6.hist(a_eng2, color = 'darkred', alpha = .6, bins = 15)\n",
    "ax5.set_title('Silence 1 Eng')\n",
    "ax6.set_title('Silence 2 Eng')\n",
    "\n",
    "ax5.set_xlabel('Size exponent')\n",
    "ax6.set_xlabel('Size exponent')\n",
    "plt.tight_layout();"
   ]
  },
  {
   "cell_type": "code",
   "execution_count": 80,
   "id": "213bb6d7",
   "metadata": {},
   "outputs": [
    {
     "data": {
      "image/png": "[encoded data removed]",
      "text/plain": [
       "<Figure size 600x800 with 6 Axes>"
      ]
     },
     "metadata": {},
     "output_type": "display_data"
    }
   ],
   "source": [
    "plt.rcParams['font.size'] = 16\n",
    "fig = plt.figure(figsize = (6,8))\n",
    "ax1 = fig.add_subplot(3,2,1)\n",
    "ax2 = fig.add_subplot(3,2,2)\n",
    "ax3 = fig.add_subplot(3,2,3)\n",
    "ax4 = fig.add_subplot(3,2,4)\n",
    "ax5 = fig.add_subplot(3,2,5)\n",
    "ax6 = fig.add_subplot(3,2,6)\n",
    "\n",
    "\n",
    "ax1.hist(a_frenc1, color = 'green', alpha = .6, bins = 15)\n",
    "ax2.hist(a_frenc2, color = 'darkgreen', alpha = .6, bins = 15)\n",
    "ax1.set_title('Silence 1 French')\n",
    "ax2.set_title('Silence 2 French')\n",
    "\n",
    "ax1.set_xlabel('Size exponent')\n",
    "ax2.set_xlabel('Size exponent')\n",
    "\n",
    "ax3.hist(a_span1, color = 'blue', alpha = .6, bins = 15)\n",
    "ax4.hist(a_span2, color = 'darkblue', alpha = .6, bins = 15)\n",
    "ax3.set_title('Silence 1 Span')\n",
    "ax4.set_title('Silence 2 Span')\n",
    "\n",
    "ax3.set_xlabel('Size exponent')\n",
    "ax4.set_xlabel('Size exponent')\n",
    "\n",
    "ax5.hist(a_eng1, color = 'red', alpha = .6, bins = 15)\n",
    "ax6.hist(a_eng2, color = 'darkred', alpha = .6, bins = 15)\n",
    "ax5.set_title('Silence 1 Eng')\n",
    "ax6.set_title('Silence 2 Eng')\n",
    "\n",
    "ax5.set_xlabel('Size exponent')\n",
    "ax6.set_xlabel('Size exponent')\n",
    "plt.tight_layout();"
   ]
  },
  {
   "cell_type": "code",
   "execution_count": 69,
   "id": "4eeaf621",
   "metadata": {},
   "outputs": [
    {
     "data": {
      "image/png": "[encoded data removed]",
      "text/plain": [
       "<Figure size 600x800 with 6 Axes>"
      ]
     },
     "metadata": {},
     "output_type": "display_data"
    }
   ],
   "source": [
    "fig = plt.figure(figsize = (6,8))\n",
    "ax1 = fig.add_subplot(3,2,1)\n",
    "ax2 = fig.add_subplot(3,2,2)\n",
    "ax3 = fig.add_subplot(3,2,3)\n",
    "ax4 = fig.add_subplot(3,2,4)\n",
    "ax5 = fig.add_subplot(3,2,5)\n",
    "ax6 = fig.add_subplot(3,2,6)\n",
    "\n",
    "\n",
    "ax1.hist(alphas1, color = 'green', alpha = .6, bins = 15)\n",
    "ax2.hist(alphas2, color = 'red', alpha = .6, bins = 15)\n",
    "ax1.set_title('Silence 1')\n",
    "ax2.set_title('Silence 2')\n",
    "\n",
    "ax1.set_xlabel('Size exponent')\n",
    "ax2.set_xlabel('Size exponent')\n",
    "\n",
    "\n",
    "#ax3.set_title('Silence 1')\n",
    "#ax4.set_title('Silence 2')\n",
    "ax3.hist(taus1, color = 'green', alpha = .6, bins = 15)\n",
    "ax4.hist(taus2, color = 'red', alpha = .6, bins = 15)\n",
    "ax3.set_xlabel('Lifetimes exponent')\n",
    "ax4.set_xlabel('Lifetimes exponent')\n",
    "\n",
    "\n",
    "#ax5.set_title('Silence 1')\n",
    "#ax6.set_title('Silence 2')\n",
    "ax5.hist(deltas1, color = 'green', alpha = .6, bins = 15)\n",
    "ax6.hist(deltas2, color = 'red', alpha = .6, bins = 15)\n",
    "ax5.set_xlabel('Deltas exponent');\n",
    "ax6.set_xlabel('Deltas exponent');\n",
    "plt.tight_layout();\n"
   ]
  }
 ],
 "metadata": {
  "kernelspec": {
   "display_name": "Python 3 (ipykernel)",
   "language": "python",
   "name": "python3"
  },
  "language_info": {
   "codemirror_mode": {
    "name": "ipython",
    "version": 3
   },
   "file_extension": ".py",
   "mimetype": "text/x-python",
   "name": "python",
   "nbconvert_exporter": "python",
   "pygments_lexer": "ipython3",
   "version": "3.9.16"
  }
 },
 "nbformat": 4,
 "nbformat_minor": 5
}
