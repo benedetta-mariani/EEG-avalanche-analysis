{
 "cells": [
  {
   "cell_type": "code",
   "execution_count": 2,
   "id": "2e2e116f",
   "metadata": {},
   "outputs": [],
   "source": [
    "import numpy as np\n",
    "import matplotlib.pyplot as plt\n",
    "import os\n",
    "import pandas as pd\n",
    "import powerlaw as pwl"
   ]
  },
  {
   "cell_type": "code",
   "execution_count": 3,
   "id": "ed9be5ac",
   "metadata": {},
   "outputs": [],
   "source": [
    "good_sub = np.array([ 5,  6,  9, 11, 12, 16, 17, 18, 19, 23, 30, 33, 35, 37, 40, 45, 47,\n",
    "       49, 52, 56, 58, 62, 66, 67, 68, 71, 14, 22, 27, 41, 46, 64])"
   ]
  },
  {
   "cell_type": "code",
   "execution_count": 4,
   "id": "105ef926",
   "metadata": {},
   "outputs": [
    {
     "data": {
      "text/plain": [
       "(array([20], dtype=int64),)"
      ]
     },
     "execution_count": 4,
     "metadata": {},
     "output_type": "execute_result"
    }
   ],
   "source": [
    "np.where(good_sub == 58)"
   ]
  },
  {
   "cell_type": "code",
   "execution_count": 5,
   "id": "2b18173f",
   "metadata": {},
   "outputs": [],
   "source": [
    "##  diceva di controllare time scales david poeppel"
   ]
  },
  {
   "cell_type": "code",
   "execution_count": 6,
   "id": "5cdaa273",
   "metadata": {},
   "outputs": [],
   "source": [
    "## il filtro per sua naura cambia le correlazioni? ma allora nella dfa? non capisco.....\n",
    "\n",
    "###Luca mazzuccato stima i tempi di autocorr dal decadimento esponenziale"
   ]
  },
  {
   "cell_type": "code",
   "execution_count": 7,
   "id": "60462aa8",
   "metadata": {},
   "outputs": [
    {
     "name": "stdout",
     "output_type": "stream",
     "text": [
      "C:\\Users\\Benedetta\\Downloads\\NewbornEEGData-20220203T094950Z-001\\NewbornEEGData\n"
     ]
    }
   ],
   "source": [
    "cd \"../../../Downloads/NewbornEEGData-20220203T094950Z-001/NewbornEEGData/\""
   ]
  },
  {
   "cell_type": "code",
   "execution_count": 8,
   "id": "b3fe7dfe",
   "metadata": {},
   "outputs": [],
   "source": [
    "import numpy as np\n",
    "import matplotlib.pyplot as plt\n",
    "import os\n",
    "import pandas as pd\n",
    "import powerlaw as pwl"
   ]
  },
  {
   "cell_type": "code",
   "execution_count": 9,
   "id": "644a5423",
   "metadata": {},
   "outputs": [],
   "source": [
    "good_sub = np.array([ 5,  6,  9, 11, 12, 16, 17, 18, 19, 23, 30, 33, 35, 37, 40, 45, 47,\n",
    "       49, 52, 56, 58, 62, 66, 67, 68, 71, 14, 22, 27, 41, 46, 64])"
   ]
  },
  {
   "cell_type": "code",
   "execution_count": 10,
   "id": "731c5bde",
   "metadata": {},
   "outputs": [
    {
     "data": {
      "text/plain": [
       "array([0, 1, 2, 3])"
      ]
     },
     "execution_count": 10,
     "metadata": {},
     "output_type": "execute_result"
    }
   ],
   "source": [
    "np.insert(np.array([1,2,3]),0,0)"
   ]
  },
  {
   "cell_type": "markdown",
   "id": "2d3a1d0c",
   "metadata": {},
   "source": [
    "## EEg autocorrelations"
   ]
  },
  {
   "cell_type": "code",
   "execution_count": 11,
   "id": "bc805c1f",
   "metadata": {},
   "outputs": [],
   "source": [
    "### COMPARISON BETWEEN SILENCE1 AND SILENCE2\n",
    "\n",
    "import os\n",
    "import numpy as np\n",
    "import scipy.signal as ss\n",
    "import scipy.io\n",
    "#from dfa_functions import *\n",
    "ch_names = ['F7', 'F3', 'Fz', 'F4', 'F8', 'T7', 'C3', 'Cz', 'C4', 'T8']\n",
    "ch_names = np.array(ch_names)\n",
    "subjs  = [5,6,9,11,12,13,16,17,18,19,21,23,24,25,30,33,34,35,37,39,40,45,47,49,52,53,56,57,58,60,62,63,65,66,67,68,69,71,14,20,22,27,28,29,31,41,46,64,70]\n",
    "## you can discard subjec t 23 and 24\n",
    "\n",
    "import numpy as np\n",
    "import matplotlib.pyplot as plt\n",
    "import matplotlib.gridspec as gridspec\n",
    "from scipy.io import loadmat\n",
    "from scipy.signal import welch\n",
    "import pandas as pd\n",
    "import mne\n",
    "\n",
    "\n",
    "ch_names = np.array(ch_names)\n",
    "sfreq = 500\n",
    "info = mne.create_info(ch_names = list(ch_names),\n",
    "                       ch_types = 'eeg',\n",
    "                       sfreq = sfreq)\n",
    "def find_bad_channels(data, MAX_PEAK=200, MAX_PEAK_SIGMA=15, MAX_DIST_PS=4.5e-3, OFFSET=30, fmin=1, fmax=100, \n",
    "                      verbose = True):\n",
    "    idx_down, idx_up = 0, data.shape[1]\n",
    "    ss = np.std(data)\n",
    "    \n",
    "    psds, freqs = mne.time_frequency.psd_welch(mne.io.RawArray(data/1e6, info, verbose=False), fmin=fmin, fmax=fmax, n_fft=2048, n_overlap=1024/2, verbose=False)\n",
    "    psds = np.log10(psds)\n",
    "    \n",
    "    dist = [((tmp-psds.mean(axis=0))**2).sum() for tmp in psds]\n",
    "    dist = np.array(dist) / (psds**2).sum() * 1e2\n",
    "    \n",
    "    rej = []\n",
    "    for i, ch in enumerate(ch_names):\n",
    "        delta = np.abs(data[i]).max()\n",
    "    \n",
    "        str_rej = str()\n",
    "\n",
    "        if delta>MAX_PEAK or dist[i]>MAX_DIST_PS:\n",
    "            rej.append(ch)\n",
    "            str_rej = '-> rejected'\n",
    "            str_rej += ' ('\n",
    "            if delta>MAX_PEAK:\n",
    "                str_rej += ' peak'\n",
    "                idx = np.where(np.abs(data[i])>MAX_PEAK)[0]\n",
    "            \n",
    "            if dist[i]>MAX_DIST_PS:\n",
    "                str_rej += ' ps'\n",
    "            str_rej += ')'\n",
    "            \n",
    "        if verbose: print(f'* {ch}: max peak = {np.round(delta, 2)} mV ({np.round(delta/ss, 2)} std); dist ps = {np.round(dist[i],3)} '+str_rej)\n",
    "        \n",
    "        if delta>MAX_PEAK:\n",
    "            if np.max(idx)/sfreq<OFFSET:\n",
    "                idx_down = np.max([np.max(idx),idx_down])\n",
    "                if verbose: print(f'[*] WARNING: Peak only in the initial part - time: {np.max(idx)/sfreq} s')\n",
    "            if np.min(idx)/sfreq>180-OFFSET:\n",
    "                idx_up = np.min([np.min(idx),idx_up])\n",
    "                if verbose: print(f'[*] WARNING: Peak only in the last part - time: {np.min(idx)/sfreq} s')\n",
    "    if verbose: print('\\nBad channels:', rej, '\\n')\n",
    "    return rej, idx_down, idx_up"
   ]
  },
  {
   "cell_type": "code",
   "execution_count": 15,
   "id": "ca0bd304",
   "metadata": {},
   "outputs": [],
   "source": [
    "import os\n",
    "os.mkdir(\"../../../Desktop/Criticality in barrel cortex/Data-mat\")"
   ]
  },
  {
   "cell_type": "code",
   "execution_count": 16,
   "id": "b04c951a",
   "metadata": {},
   "outputs": [],
   "source": [
    "os.mkdir(\"../../../Desktop/Criticality in barrel cortex/Data-mat-theta\")"
   ]
  },
  {
   "cell_type": "code",
   "execution_count": 23,
   "id": "b5732720",
   "metadata": {},
   "outputs": [],
   "source": [
    "os.mkdir(\"../../../Desktop/Criticality in barrel cortex/Data-mat-delta\")"
   ]
  },
  {
   "cell_type": "code",
   "execution_count": 12,
   "id": "a91639c7",
   "metadata": {},
   "outputs": [],
   "source": [
    "##  diceva di controllare time scales david poeppel"
   ]
  },
  {
   "cell_type": "code",
   "execution_count": 17,
   "id": "a6dc6f46",
   "metadata": {},
   "outputs": [],
   "source": [
    "from scipy.io import savemat\n",
    "import numpy as np\n",
    "#a = np.arange(20)\n",
    "#mdic = {\"a\": a, \"label\": \"experiment\"}\n",
    "#mdic\n",
    "#[{'a': array([ 0,  1,  2,  3,  4,  5,  6,  7,  8,  9, 10, 11, 12, 13, 14, 15, 16,\n",
    " #   17, 18, 19]),\n",
    "#'label': 'experiment'}\n",
    "#savemat(\"matlab_matrix.mat\", mdic)"
   ]
  },
  {
   "cell_type": "code",
   "execution_count": 21,
   "id": "7ac4aa9e",
   "metadata": {},
   "outputs": [
    {
     "name": "stdout",
     "output_type": "stream",
     "text": [
      "(7, 88117) (10, 86680)\n",
      "(10, 90118) (10, 94158)\n",
      "(9, 90135) (10, 94597)\n",
      "(10, 90136) (10, 94870)\n",
      "(10, 80601) (7, 94729)\n",
      "(9, 90160) (10, 94660)\n",
      "(10, 78452) (10, 88623)\n",
      "(8, 90137) (9, 93546)\n",
      "(9, 90139) (10, 94638)\n",
      "(8, 90133) (10, 94565)\n",
      "(10, 90144) (8, 94721)\n",
      "(7, 90123) (9, 97061)\n",
      "(9, 90177) (10, 94016)\n",
      "(10, 79379) (10, 94172)\n",
      "(6, 90165) (8, 94242)\n",
      "(9, 80227) (9, 94883)\n",
      "(9, 90131) (7, 87559)\n",
      "(10, 90160) (8, 100671)\n",
      "(10, 90143) (10, 102337)\n",
      "(10, 90129) (9, 94549)\n",
      "(10, 90125) (9, 94764)\n",
      "(7, 90144) (9, 78398)\n",
      "(10, 76969) (10, 96259)\n",
      "(10, 90139) (9, 95727)\n",
      "(8, 75840) (9, 90569)\n",
      "(6, 90147) (10, 71463)\n",
      "(5, 90111) (10, 93732)\n",
      "(8, 90153) (8, 93972)\n",
      "(7, 90134) (9, 93765)\n",
      "(10, 90117) (9, 95061)\n",
      "(8, 78031) (10, 105333)\n",
      "(9, 90135) (10, 90967)\n"
     ]
    }
   ],
   "source": [
    "\n",
    "for i, subj in enumerate(subjs):\n",
    "    #print(f'\\n\\n########## SUBJ {subj} ({i+1}/{len(subjs)})##########')\n",
    "    s1 = loadmat(f'BB{subj}_Filtered (1-100)/Silence (500)/BB{subj} silence1 (continuous).mat')\n",
    "    s2 = loadmat(f'BB{subj}_Filtered (1-100)/Silence (500)/BB{subj} silence2 (continuous).mat')\n",
    "    data = s1['eeg_rest'].astype('float')\n",
    "    rej, idx_down, idx_up = find_bad_channels(data, verbose = False)\n",
    "    if idx_down > 0 or idx_up < data.shape[1]:\n",
    "        if idx_down > 0:\n",
    "            idx_down +=1\n",
    "        if idx_up < data.shape[1]:\n",
    "            idx_up -= 1\n",
    "        data = data[:,idx_down:idx_up]\n",
    "        rej, idx_down, idx_up = find_bad_channels(data, verbose = False)\n",
    "    idx_accepted = np.sort([np.where(ch_names == i)[0][0] for i in list(set(ch_names) - set(rej))])\n",
    "    data = data[list(idx_accepted), idx_down:idx_up][:, :] #try\n",
    "    nchan = data.shape[0]\n",
    "\n",
    "    data2 = s2['eeg_rest'].astype('float')\n",
    "    rej, idx_down, idx_up = find_bad_channels(data2, verbose = False)\n",
    "    if idx_down > 0 or idx_up < data2.shape[1]:\n",
    "        if idx_down > 0:\n",
    "            idx_down +=1\n",
    "        if idx_up < data2.shape[1]:\n",
    "            idx_up -= 1\n",
    "        data2 = data2[:,idx_down:idx_up]\n",
    "        rej, idx_down, idx_up = find_bad_channels(data2, verbose = False)\n",
    "    idx_accepted = np.sort([np.where(ch_names == i)[0][0] for i in list(set(ch_names) - set(rej))])\n",
    "    data2 = data2[list(idx_accepted), idx_down:idx_up][:, :] #try\n",
    "    nchan2 = data2.shape[0]\n",
    "    if nchan >= 5 and nchan2 >=5 and subj != 53:\n",
    "        print(data.shape, data2.shape)\n",
    "        \n",
    "        #a = np.arange(20)\n",
    "        mdic = {\"eeg_data\": data}\n",
    "        savemat(\"../../../Desktop/Criticality in barrel cortex/Data-mat/Data_silence1_sub{}.mat\".format(subj), mdic)\n",
    "        mdic = {\"eeg_data\": data2}\n",
    "        savemat(\"../../../Desktop/Criticality in barrel cortex/Data-mat/Data_silence2_sub{}.mat\".format(subj), mdic)"
   ]
  },
  {
   "cell_type": "code",
   "execution_count": 22,
   "id": "445be34f",
   "metadata": {},
   "outputs": [
    {
     "name": "stdout",
     "output_type": "stream",
     "text": [
      "(7, 88117) (10, 86680)\n",
      "(7, 88117)\n",
      "(10, 86680)\n",
      "(10, 90118) (10, 94158)\n",
      "(10, 90118)\n",
      "(10, 94158)\n",
      "(9, 90135) (10, 94597)\n",
      "(9, 90135)\n",
      "(10, 94597)\n",
      "(10, 90136) (10, 94870)\n",
      "(10, 90136)\n",
      "(10, 94870)\n",
      "(10, 80601) (7, 94729)\n",
      "(10, 80601)\n",
      "(7, 94729)\n",
      "(0, 90144) (8, 78075)\n",
      "(9, 90160) (10, 94660)\n",
      "(9, 90160)\n",
      "(10, 94660)\n",
      "(10, 78452) (10, 88623)\n",
      "(10, 78452)\n",
      "(10, 88623)\n",
      "(8, 90137) (9, 93546)\n",
      "(8, 90137)\n",
      "(9, 93546)\n",
      "(9, 90139) (10, 94638)\n",
      "(9, 90139)\n",
      "(10, 94638)\n",
      "(9, 90142) (1, 94318)\n",
      "(8, 90133) (10, 94565)\n",
      "(8, 90133)\n",
      "(10, 94565)\n",
      "(0, 66811) (10, 92369)\n",
      "(2, 90162) (10, 78075)\n",
      "(10, 90144) (8, 94721)\n",
      "(10, 90144)\n",
      "(8, 94721)\n",
      "(7, 90123) (9, 97061)\n",
      "(7, 90123)\n",
      "(9, 97061)\n",
      "(0, 90125) (10, 78923)\n",
      "(9, 90177) (10, 94016)\n",
      "(9, 90177)\n",
      "(10, 94016)\n",
      "(10, 79379) (10, 94172)\n",
      "(10, 79379)\n",
      "(10, 94172)\n",
      "(4, 90161) (9, 95146)\n",
      "(6, 90165) (8, 94242)\n",
      "(6, 90165)\n",
      "(8, 94242)\n",
      "(9, 80227) (9, 94883)\n",
      "(9, 80227)\n",
      "(9, 94883)\n",
      "(9, 90131) (7, 87559)\n",
      "(9, 90131)\n",
      "(7, 87559)\n",
      "(10, 90160) (8, 100671)\n",
      "(10, 90160)\n",
      "(8, 100671)\n",
      "(10, 90143) (10, 102337)\n",
      "(10, 90143)\n",
      "(10, 102337)\n",
      "(5, 81238) (9, 45299)\n",
      "(10, 90129) (9, 94549)\n",
      "(10, 90129)\n",
      "(9, 94549)\n",
      "(2, 90132) (10, 94380)\n",
      "(10, 90125) (9, 94764)\n",
      "(10, 90125)\n",
      "(9, 94764)\n",
      "(10, 90075) (0, 96367)\n",
      "(7, 90144) (9, 78398)\n",
      "(7, 90144)\n",
      "(9, 78398)\n",
      "(1, 70364) (10, 78671)\n",
      "(0, 90147) (9, 90537)\n",
      "(10, 76969) (10, 96259)\n",
      "(10, 76969)\n",
      "(10, 96259)\n",
      "(10, 90139) (9, 95727)\n",
      "(10, 90139)\n",
      "(9, 95727)\n",
      "(8, 75840) (9, 90569)\n",
      "(8, 75840)\n",
      "(9, 90569)\n",
      "(3, 76018) (10, 95279)\n",
      "(6, 90147) (10, 71463)\n",
      "(6, 90147)\n",
      "(10, 71463)\n",
      "(5, 90111) (10, 93732)\n",
      "(5, 90111)\n",
      "(10, 93732)\n",
      "(0, 90125) (10, 90063)\n",
      "(8, 90153) (8, 93972)\n",
      "(8, 90153)\n",
      "(8, 93972)\n",
      "(7, 90134) (9, 93765)\n",
      "(7, 90134)\n",
      "(9, 93765)\n",
      "(3, 90149) (10, 93396)\n",
      "(4, 83744) (4, 77477)\n",
      "(4, 90140) (8, 94945)\n",
      "(10, 90117) (9, 95061)\n",
      "(10, 90117)\n",
      "(9, 95061)\n",
      "(8, 78031) (10, 105333)\n",
      "(8, 78031)\n",
      "(10, 105333)\n",
      "(9, 90135) (10, 90967)\n",
      "(9, 90135)\n",
      "(10, 90967)\n",
      "(0, 90149) (3, 82745)\n"
     ]
    }
   ],
   "source": [
    "\n",
    "bands = [[1,3],[4,8]]\n",
    "band = 1\n",
    "nn= int((2/bands[band][0])*500)\n",
    "low = bands[band][0]\n",
    "high = bands[band][1]\n",
    "filt = True\n",
    "aa = 1\n",
    "bb =ss.firwin(nn,[low,high],pass_zero = False, fs = 500)\n",
    "\n",
    "for i, subj in enumerate(subjs):\n",
    "    #print(f'\\n\\n########## SUBJ {subj} ({i+1}/{len(subjs)})##########')\n",
    "    s1 = loadmat(f'BB{subj}_Filtered (1-100)/Silence (500)/BB{subj} silence1 (continuous).mat')\n",
    "    s2 = loadmat(f'BB{subj}_Filtered (1-100)/Silence (500)/BB{subj} silence2 (continuous).mat')\n",
    "    data = s1['eeg_rest'].astype('float')\n",
    "    rej, idx_down, idx_up = find_bad_channels(data, verbose = False)\n",
    "    if idx_down > 0 or idx_up < data.shape[1]:\n",
    "        if idx_down > 0:\n",
    "            idx_down +=1\n",
    "        if idx_up < data.shape[1]:\n",
    "            idx_up -= 1\n",
    "        data = data[:,idx_down:idx_up]\n",
    "        rej, idx_down, idx_up = find_bad_channels(data, verbose = False)\n",
    "    idx_accepted = np.sort([np.where(ch_names == i)[0][0] for i in list(set(ch_names) - set(rej))])\n",
    "    data = data[list(idx_accepted), idx_down:idx_up][:, :] #try\n",
    "    nchan = data.shape[0]\n",
    "\n",
    "    data2 = s2['eeg_rest'].astype('float')\n",
    "    rej, idx_down, idx_up = find_bad_channels(data2, verbose = False)\n",
    "    if idx_down > 0 or idx_up < data2.shape[1]:\n",
    "        if idx_down > 0:\n",
    "            idx_down +=1\n",
    "        if idx_up < data2.shape[1]:\n",
    "            idx_up -= 1\n",
    "        data2 = data2[:,idx_down:idx_up]\n",
    "        rej, idx_down, idx_up = find_bad_channels(data2, verbose = False)\n",
    "    idx_accepted = np.sort([np.where(ch_names == i)[0][0] for i in list(set(ch_names) - set(rej))])\n",
    "    data2 = data2[list(idx_accepted), idx_down:idx_up][:, :] #try\n",
    "    nchan2 = data2.shape[0]\n",
    "    #print(data.shape, data2.shape)\n",
    "    if nchan >= 5 and nchan2 >=5 and subj != 53:\n",
    "\n",
    "        #a = np.arange(20)\n",
    "\n",
    "        filtered = ss.filtfilt(bb,aa,data,axis =1, padlen = 500)\n",
    "        mdic = {\"eeg_data\": filtered}\n",
    "        print(filtered.shape)\n",
    "        savemat(\"../../../Desktop/Criticality in barrel cortex/Data-mat-theta/Data_silence1_sub{}.mat\".format(subj), mdic)\n",
    "        mdic = {\"eeg_data\": filtered}\n",
    "        \n",
    "        filtered = ss.filtfilt(bb,aa,data2,axis =1, padlen = 500)\n",
    "        print(filtered.shape)\n",
    "        mdic = {\"eeg_data\": filtered}\n",
    "        savemat(\"../../../Desktop/Criticality in barrel cortex/Data-mat-theta/Data_silence2_sub{}.mat\".format(subj), mdic)\n"
   ]
  },
  {
   "cell_type": "code",
   "execution_count": 25,
   "id": "7d2bfba6",
   "metadata": {},
   "outputs": [
    {
     "name": "stdout",
     "output_type": "stream",
     "text": [
      "32\n"
     ]
    }
   ],
   "source": [
    "o = 0\n",
    "bands = [[1,3],[4,8]]\n",
    "band = 0\n",
    "nn= int((2/bands[band][0])*500)\n",
    "low = bands[band][0]\n",
    "high = bands[band][1]\n",
    "filt = True\n",
    "aa = 1\n",
    "bb =ss.firwin(nn,[low,high],pass_zero = False, fs = 500)\n",
    "\n",
    "for i, subj in enumerate(subjs):\n",
    "    #print(f'\\n\\n########## SUBJ {subj} ({i+1}/{len(subjs)})##########')\n",
    "    s1 = loadmat(f'BB{subj}_Filtered (1-100)/Silence (500)/BB{subj} silence1 (continuous).mat')\n",
    "    s2 = loadmat(f'BB{subj}_Filtered (1-100)/Silence (500)/BB{subj} silence2 (continuous).mat')\n",
    "    data = s1['eeg_rest'].astype('float')\n",
    "    rej, idx_down, idx_up = find_bad_channels(data, verbose = False)\n",
    "    if idx_down > 0 or idx_up < data.shape[1]:\n",
    "        if idx_down > 0:\n",
    "            idx_down +=1\n",
    "        if idx_up < data.shape[1]:\n",
    "            idx_up -= 1\n",
    "        data = data[:,idx_down:idx_up]\n",
    "        rej, idx_down, idx_up = find_bad_channels(data, verbose = False)\n",
    "    idx_accepted = np.sort([np.where(ch_names == i)[0][0] for i in list(set(ch_names) - set(rej))])\n",
    "    data = data[list(idx_accepted), idx_down:idx_up][:, :] #try\n",
    "    nchan = data.shape[0]\n",
    "\n",
    "    data2 = s2['eeg_rest'].astype('float')\n",
    "    rej, idx_down, idx_up = find_bad_channels(data2, verbose = False)\n",
    "    if idx_down > 0 or idx_up < data2.shape[1]:\n",
    "        if idx_down > 0:\n",
    "            idx_down +=1\n",
    "        if idx_up < data2.shape[1]:\n",
    "            idx_up -= 1\n",
    "        data2 = data2[:,idx_down:idx_up]\n",
    "        rej, idx_down, idx_up = find_bad_channels(data2, verbose = False)\n",
    "    idx_accepted = np.sort([np.where(ch_names == i)[0][0] for i in list(set(ch_names) - set(rej))])\n",
    "    data2 = data2[list(idx_accepted), idx_down:idx_up][:, :] #try\n",
    "    nchan2 = data2.shape[0]\n",
    "    #print(data.shape, data2.shape)\n",
    "    if nchan >= 5 and nchan2 >=5 and subj != 53:\n",
    "\n",
    "        #a = np.arange(20)\n",
    "\n",
    "        filtered = ss.filtfilt(bb,aa,data,axis =1, padlen = 500)\n",
    "        mdic = {\"eeg_data\": filtered}\n",
    "        #print(filtered.shape)\n",
    "        savemat(\"../../../Desktop/Criticality in barrel cortex/Data-mat-delta/Data_silence1_sub{}.mat\".format(subj), mdic)\n",
    "        mdic = {\"eeg_data\": filtered}\n",
    "        \n",
    "        filtered = ss.filtfilt(bb,aa,data2,axis =1, padlen = 500)\n",
    "        #print(filtered.shape)\n",
    "        mdic = {\"eeg_data\": filtered}\n",
    "        savemat(c, mdic)\n",
    "        o += 1\n",
    "print(o)"
   ]
  },
  {
   "cell_type": "code",
   "execution_count": 64,
   "id": "6cc908fd",
   "metadata": {},
   "outputs": [],
   "source": [
    "s1 = loadmat(\"../../../Desktop/Criticality in barrel cortex/Data-mat/Data_silence1_sub{}.mat\".format(5))\n",
    "#data = s1['eeg_rest'].astype('float')"
   ]
  },
  {
   "cell_type": "code",
   "execution_count": 125,
   "id": "570ea7ef",
   "metadata": {},
   "outputs": [],
   "source": [
    "eeg_data = s1['eeg_data']"
   ]
  },
  {
   "cell_type": "code",
   "execution_count": 108,
   "id": "eb953182",
   "metadata": {},
   "outputs": [
    {
     "data": {
      "text/plain": [
       "[<matplotlib.lines.Line2D at 0x24b8c49dbb0>]"
      ]
     },
     "execution_count": 108,
     "metadata": {},
     "output_type": "execute_result"
    },
    {
     "data": {
      "image/png": "[encoded data removed]",
      "text/plain": [
       "<Figure size 640x480 with 1 Axes>"
      ]
     },
     "metadata": {},
     "output_type": "display_data"
    }
   ],
   "source": [
    "import random\n",
    "plt.plot(eeg_data)"
   ]
  },
  {
   "cell_type": "code",
   "execution_count": 134,
   "id": "1444c134",
   "metadata": {},
   "outputs": [
    {
     "data": {
      "text/plain": [
       "(88117, 7)"
      ]
     },
     "execution_count": 134,
     "metadata": {},
     "output_type": "execute_result"
    }
   ],
   "source": [
    "\n",
    "## add shuffle also to my data\n",
    "ph.shape"
   ]
  },
  {
   "cell_type": "code",
   "execution_count": 135,
   "id": "5fa69350",
   "metadata": {},
   "outputs": [
    {
     "name": "stdout",
     "output_type": "stream",
     "text": [
      "(7, 88117)\n"
     ]
    },
    {
     "data": {
      "image/png": "[encoded data removed]",
      "text/plain": [
       "<Figure size 640x480 with 1 Axes>"
      ]
     },
     "metadata": {},
     "output_type": "display_data"
    }
   ],
   "source": [
    "import random\n",
    "import numpy as np\n",
    "from scipy import signal\n",
    "f = np.fft.fft(eeg_data, axis = 1)\n",
    "ab = np.abs(f)\n",
    "ph = np.angle(f).T\n",
    "old_ph = ph[:].T\n",
    "np.random.shuffle(ph)\n",
    "new_ph = ph.T\n",
    "#ph = np.array([np.random.uniform(0,1)*2*np.pi for i in range(len(ph))])\n",
    "Xsurr = ab*(np.exp(1j*new_ph))\n",
    "#print(Xsurr.shape)\n",
    "xsurr = np.real(np.fft.ifft(Xsurr,axis = 1),)\n",
    "\n",
    "\n",
    "x,p = signal.welch(eeg_data[0], fs = fs, nperseg = fs*5)\n",
    "plt.plot(x,p, lw = '4', label = 'orig data')\n",
    "\n",
    "x,p = signal.welch(xsurr[0], fs = fs, nperseg = fs*5,)\n",
    "plt.plot(x,p,color = 'red',label = 'surrogate', lw = 1.3)\n",
    "plt.xlim(0,70)\n",
    "plt.legend()\n",
    "\n",
    "print(xsurr.shape)\n",
    "#plt.yscale('log')\n",
    "#print(xsurr.shape)\n",
    "#plt.xlim(0.1,30)\n",
    "#plt.ylim(10**-2,10**3)"
   ]
  },
  {
   "cell_type": "code",
   "execution_count": 136,
   "id": "af115db1",
   "metadata": {},
   "outputs": [
    {
     "data": {
      "image/png": "[encoded data removed]",
      "text/plain": [
       "<Figure size 640x480 with 1 Axes>"
      ]
     },
     "metadata": {},
     "output_type": "display_data"
    }
   ],
   "source": [
    "plt.plot(eeg_data[0], lw = 1)\n",
    "#plt.xlim(0,500*3)\n",
    "plt.plot(xsurr[0], lw = 1, label ='surrogate')\n",
    "plt.legend()\n",
    "plt.xlim(0,500*10);\n",
    "## we have something at the borders...\n"
   ]
  },
  {
   "cell_type": "code",
   "execution_count": 138,
   "id": "f1befb8a",
   "metadata": {},
   "outputs": [
    {
     "data": {
      "text/plain": [
       "True"
      ]
     },
     "execution_count": 138,
     "metadata": {},
     "output_type": "execute_result"
    }
   ],
   "source": [
    "np.array_equal(ab*np.exp(1j*old_ph), ab*np.exp(1j*new_ph))"
   ]
  },
  {
   "cell_type": "code",
   "execution_count": 139,
   "id": "d37f3718",
   "metadata": {},
   "outputs": [
    {
     "data": {
      "text/plain": [
       "(7, 88117)"
      ]
     },
     "execution_count": 139,
     "metadata": {},
     "output_type": "execute_result"
    }
   ],
   "source": [
    "eeg_data.shape"
   ]
  },
  {
   "cell_type": "code",
   "execution_count": 143,
   "id": "d3baf712",
   "metadata": {},
   "outputs": [],
   "source": [
    "\n",
    "f = np.fft.fft(eeg_data[0])\n",
    "ab = np.abs(f)\n",
    "ph = np.angle(f)\n",
    "old_ph = ph[:]\n",
    "random.shuffle(ph)\n",
    "\n",
    "new_ph  =ph"
   ]
  },
  {
   "cell_type": "code",
   "execution_count": 144,
   "id": "0b1eeed8",
   "metadata": {},
   "outputs": [
    {
     "data": {
      "text/plain": [
       "True"
      ]
     },
     "execution_count": 144,
     "metadata": {},
     "output_type": "execute_result"
    }
   ],
   "source": [
    "np.array_equal(ab*np.exp(1j*old_ph), ab*np.exp(1j*new_ph))"
   ]
  },
  {
   "cell_type": "code",
   "execution_count": 151,
   "id": "39e45359",
   "metadata": {},
   "outputs": [
    {
     "data": {
      "text/plain": [
       "((88117,), (88117,))"
      ]
     },
     "execution_count": 151,
     "metadata": {},
     "output_type": "execute_result"
    }
   ],
   "source": [
    "old_ph.shape, ph.shape"
   ]
  },
  {
   "cell_type": "code",
   "execution_count": 160,
   "id": "7ca58ad7",
   "metadata": {},
   "outputs": [
    {
     "data": {
      "text/plain": [
       "array([1, 4, 2, 3, 4, 3, 4])"
      ]
     },
     "execution_count": 160,
     "metadata": {},
     "output_type": "execute_result"
    }
   ],
   "source": [
    "arr = np.array([3,4,4,1,2,3,4,])\n",
    "old = arr.copy()\n",
    "np.random.shuffle(arr)\n",
    "arr"
   ]
  },
  {
   "cell_type": "code",
   "execution_count": 161,
   "id": "edaf9941",
   "metadata": {},
   "outputs": [
    {
     "data": {
      "text/plain": [
       "False"
      ]
     },
     "execution_count": 161,
     "metadata": {},
     "output_type": "execute_result"
    }
   ],
   "source": [
    "np.array_equal(old,arr)"
   ]
  },
  {
   "cell_type": "code",
   "execution_count": 149,
   "id": "5c03e16a",
   "metadata": {},
   "outputs": [
    {
     "data": {
      "text/plain": [
       "(0.0, 2000.0)"
      ]
     },
     "execution_count": 149,
     "metadata": {},
     "output_type": "execute_result"
    },
    {
     "data": {
      "image/png": "[encoded data removed]",
      "text/plain": [
       "<Figure size 640x480 with 1 Axes>"
      ]
     },
     "metadata": {},
     "output_type": "display_data"
    }
   ],
   "source": [
    "plt.plot(old_ph, color ='red', lw =3)\n",
    "plt.plot(new_ph)\n",
    "plt.xlim(0,2000)"
   ]
  },
  {
   "cell_type": "code",
   "execution_count": null,
   "id": "14684d47",
   "metadata": {},
   "outputs": [],
   "source": []
  }
 ],
 "metadata": {
  "kernelspec": {
   "display_name": "Python 3 (ipykernel)",
   "language": "python",
   "name": "python3"
  },
  "language_info": {
   "codemirror_mode": {
    "name": "ipython",
    "version": 3
   },
   "file_extension": ".py",
   "mimetype": "text/x-python",
   "name": "python",
   "nbconvert_exporter": "python",
   "pygments_lexer": "ipython3",
   "version": "3.9.16"
  }
 },
 "nbformat": 4,
 "nbformat_minor": 5
}
