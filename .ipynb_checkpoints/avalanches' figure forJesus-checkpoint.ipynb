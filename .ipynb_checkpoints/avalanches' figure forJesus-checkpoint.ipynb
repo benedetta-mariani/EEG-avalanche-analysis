{
 "cells": [
  {
   "cell_type": "code",
   "execution_count": 1,
   "id": "a124a784",
   "metadata": {
    "scrolled": true
   },
   "outputs": [
    {
     "name": "stdout",
     "output_type": "stream",
     "text": [
      "C:\\Users\\Benedetta\\Downloads\\NewbornEEGData-20220203T094950Z-001\\NewbornEEGData\n"
     ]
    }
   ],
   "source": [
    "cd \"../../../Downloads/NewbornEEGData-20220203T094950Z-001/NewbornEEGData/\""
   ]
  },
  {
   "cell_type": "code",
   "execution_count": null,
   "id": "b9d46bcd",
   "metadata": {},
   "outputs": [],
   "source": []
  },
  {
   "cell_type": "code",
   "execution_count": 2,
   "id": "0ff5f966",
   "metadata": {},
   "outputs": [],
   "source": [
    "def plot_surr(ss,dd,surrs,surrd):\n",
    "    plt.rcParams['font.size'] = 19\n",
    "    f = plt.figure(figsize=(10,5))\n",
    "    ax = f.add_subplot(1,2,1)\n",
    "\n",
    "    f.suptitle(\"Threshold: {} standard deviation\".format(thre))\n",
    "    pool =[]\n",
    "    pool_surr =[]\n",
    "    import powerlaw as pwl\n",
    "    for g in range(len(surrs)):\n",
    "        if g ==0:\n",
    "            try:\n",
    "                pwl.plot_pdf(surrs[g], color ='red', alpha =.3, lw = 1, ax = ax)\n",
    "                pwl.plot_pdf(ss[g], color ='blue', alpha = .3,lw = 1, ax =ax)\n",
    "            except:\n",
    "                continue\n",
    "        else:\n",
    "            try:\n",
    "                pwl.plot_pdf(surrs[g], color ='red',alpha =.3,lw = 1, ax = ax)\n",
    "                pwl.plot_pdf(ss[g], color ='blue', alpha =.3,lw = 1, ax =ax)\n",
    "            except:\n",
    "                continue\n",
    "\n",
    "        pool += ss[g]\n",
    "        pool_surr += surrs[g]\n",
    "\n",
    "\n",
    "    pwl.plot_pdf(pool, color ='blue', alpha =.9, lw = 3, ax = ax)    \n",
    "    pwl.plot_pdf(pool_surr, color ='red', alpha =.9, label ='surrogate sizes', lw =3, ax = ax)  \n",
    "    ax.set_xlabel(r'Avalanches sizes [$\\mu V$]')\n",
    "    ax.set_ylabel('pdf')\n",
    "    plt.legend();\n",
    "\n",
    "    #thre = 2\n",
    "    #plt.figure()\n",
    "    ax = f.add_subplot(1,2,2)\n",
    "\n",
    "    #plt.figure(figsize=(5,5))\n",
    "    pool =[]\n",
    "    pool_surr =[]\n",
    "    import powerlaw as pwl\n",
    "    for g in range(len(surrd)):\n",
    "        if g ==0:\n",
    "            try:\n",
    "                pwl.plot_pdf(surrd[g], color ='red', alpha =.3, lw = 1, ax = ax)\n",
    "                pwl.plot_pdf(dd[g], color ='blue', alpha = .3,lw = 1, ax = ax)\n",
    "            except:\n",
    "                continue\n",
    "        else:\n",
    "            try:\n",
    "                pwl.plot_pdf(surrd[g], color ='red',alpha =.3,lw = 1, ax = ax)\n",
    "                pwl.plot_pdf(dd[g], color ='blue', alpha =.3,lw = 1, ax = ax)\n",
    "            except:\n",
    "                continue\n",
    "\n",
    "        pool += dd[g]\n",
    "        pool_surr += surrd[g]\n",
    "\n",
    "\n",
    "    pwl.plot_pdf(pool, color ='blue', alpha =.9, lw = 3, ax = ax)    \n",
    "    pwl.plot_pdf(pool_surr, color ='red', alpha =.9, label ='surrogate durations', lw =3, ax = ax)  \n",
    "    ax.set_xlabel('Avalanches lifetimes [s]')\n",
    "    ax.set_ylabel('pdf')\n",
    "    plt.legend();\n",
    "    plt.tight_layout();\n"
   ]
  },
  {
   "cell_type": "code",
   "execution_count": 3,
   "id": "f06481e1",
   "metadata": {},
   "outputs": [],
   "source": [
    "def find_bad_channels(data, MAX_PEAK=200, MAX_PEAK_SIGMA=15, MAX_DIST_PS=4.5e-3, OFFSET=30, fmin=1, fmax=100, \n",
    "                      verbose = False):\n",
    "    idx_down, idx_up = 0, data.shape[1]\n",
    "    ss = np.std(data)\n",
    "    \n",
    "    psds, freqs = mne.time_frequency.psd_welch(mne.io.RawArray(data/1e6, info, verbose=False), fmin=fmin, fmax=fmax, n_fft=2048, n_overlap=1024/2, verbose=False)\n",
    "    psds = np.log10(psds)\n",
    "    \n",
    "    dist = [((tmp-psds.mean(axis=0))**2).sum() for tmp in psds]\n",
    "    dist = np.array(dist) / (psds**2).sum() * 1e2\n",
    "    \n",
    "    rej = []\n",
    "    for i, ch in enumerate(ch_names):\n",
    "        delta = np.abs(data[i]).max()\n",
    "    \n",
    "        str_rej = str()\n",
    "\n",
    "        if delta>MAX_PEAK or dist[i]>MAX_DIST_PS:\n",
    "            rej.append(ch)\n",
    "            str_rej = '-> rejected'\n",
    "            str_rej += ' ('\n",
    "            if delta>MAX_PEAK:\n",
    "                str_rej += ' peak'\n",
    "                idx = np.where(np.abs(data[i])>MAX_PEAK)[0]\n",
    "            \n",
    "            if dist[i]>MAX_DIST_PS:\n",
    "                str_rej += ' ps'\n",
    "            str_rej += ')'\n",
    "            \n",
    "        if verbose: print(f'* {ch}: max peak = {np.round(delta, 2)} mV ({np.round(delta/ss, 2)} std); dist ps = {np.round(dist[i],3)} '+str_rej)\n",
    "        \n",
    "        if delta>MAX_PEAK:\n",
    "            if np.max(idx)/sfreq<OFFSET:\n",
    "                idx_down = np.max([np.max(idx),idx_down])\n",
    "                if verbose: print(f'[*] WARNING: Peak only in the initial part - time: {np.max(idx)/sfreq} s')\n",
    "            if np.min(idx)/sfreq>180-OFFSET:\n",
    "                idx_up = np.min([np.min(idx),idx_up])\n",
    "                if verbose: print(f'[*] WARNING: Peak only in the last part - time: {np.min(idx)/sfreq} s')\n",
    "    if verbose: print('\\nBad channels:', rej, '\\n')\n",
    "    return rej, idx_down, idx_up\n"
   ]
  },
  {
   "cell_type": "code",
   "execution_count": 4,
   "id": "8284233b",
   "metadata": {},
   "outputs": [],
   "source": [
    "def AAFT_surrogates( original_data):\n",
    "        \"\"\"\n",
    "        Return surrogates using the amplitude adjusted Fourier transform\n",
    "        method.\n",
    "\n",
    "        Reference: [Schreiber2000]_\n",
    "\n",
    "        :type original_data: 2D array [index, time]\n",
    "        :arg original_data: The original time series.\n",
    "        :rtype: 2D array [index, time]\n",
    "        :return: The surrogate time series.\n",
    "        \"\"\"\n",
    "        #  Create sorted Gaussian reference series\n",
    "        gaussian = random.randn(original_data.shape[0], original_data.shape[1])\n",
    "        gaussian.sort(axis=1)\n",
    "\n",
    "        #  Rescale data to Gaussian distribution\n",
    "        ranks = original_data.argsort(axis=1).argsort(axis=1)\n",
    "        rescaled_data = np.zeros(original_data.shape)\n",
    "\n",
    "        for i in range(original_data.shape[0]):\n",
    "            rescaled_data[i, :] = gaussian[i, ranks[i, :]]\n",
    "\n",
    "        #  Phase randomize rescaled data\n",
    "        phase_randomized_data = \\\n",
    "            correlated_noise_surrogates(rescaled_data)\n",
    "\n",
    "        #  Rescale back to amplitude distribution of original data\n",
    "        sorted_original = original_data.copy()\n",
    "        sorted_original.sort(axis=1)\n",
    "        #print(phase_randomized_data.shape)\n",
    "        ranks = phase_randomized_data.argsort(axis=1).argsort(axis=1)\n",
    "\n",
    "        for i in range(original_data.shape[0]):\n",
    "            rescaled_data[i, :] = sorted_original[i, ranks[i, :]]\n",
    "\n",
    "        return rescaled_data\n",
    "\n"
   ]
  },
  {
   "cell_type": "code",
   "execution_count": 5,
   "id": "a50a54ef",
   "metadata": {},
   "outputs": [],
   "source": [
    "def correlated_noise_surrogates( original_data):\n",
    "\n",
    "    surrogates = np.fft.rfft(original_data, axis=1)\n",
    "    original_data_fft = surrogates\n",
    "\n",
    "\n",
    "    #  Get shapes\n",
    "    (N, n_time) = original_data.shape\n",
    "    len_phase = surrogates.shape[1]\n",
    "\n",
    "    #  Generate random phases uniformly distributed in the\n",
    "    #  interval [0, 2*Pi]\n",
    "    phases = random.uniform(low=0, high=2 * np.pi, size=(N, len_phase))\n",
    "\n",
    "    #  Add random phases uniformly distributed in the interval [0, 2*Pi]\n",
    "    surrogates *= np.exp(1j * phases)\n",
    "\n",
    "    #  Calculate IFFT and take the real part, the remaining imaginary part\n",
    "    #  is due to numerical errors.\n",
    "    return np.ascontiguousarray(np.real(np.fft.irfft(surrogates, n=n_time,\n",
    "                                                 axis=1)))"
   ]
  },
  {
   "cell_type": "code",
   "execution_count": null,
   "id": "e84fd927",
   "metadata": {},
   "outputs": [],
   "source": []
  },
  {
   "cell_type": "code",
   "execution_count": 6,
   "id": "c5e97d22",
   "metadata": {},
   "outputs": [],
   "source": [
    "from ava_functions import *"
   ]
  },
  {
   "cell_type": "code",
   "execution_count": 7,
   "id": "af55d99c",
   "metadata": {},
   "outputs": [],
   "source": [
    "## rigettando anche sulla base del ppp"
   ]
  },
  {
   "cell_type": "code",
   "execution_count": 8,
   "id": "25fda839",
   "metadata": {},
   "outputs": [],
   "source": [
    "#os.mkdir(\"../../../Desktop/Criticality in barrel cortex/Surrogate-avalanches-data\")"
   ]
  },
  {
   "cell_type": "code",
   "execution_count": 9,
   "id": "ac298c8c",
   "metadata": {},
   "outputs": [],
   "source": [
    "from numpy import random"
   ]
  },
  {
   "cell_type": "code",
   "execution_count": 10,
   "id": "b47cf451",
   "metadata": {},
   "outputs": [],
   "source": [
    "### COMPARISON BETWEEN SILENCE1 AND SILENCE2\n",
    "\n",
    "import os\n",
    "import numpy as np\n",
    "import scipy.signal as ss\n",
    "import scipy.io\n",
    "#from dfa_functions import *\n",
    "\n",
    "subjs  = [5,6,9,11,12,13,16,17,18,19,21,23,24,25,30,33,34,35,37,39,40,45,47,49,52,53,56,57,58,60,62,63,65,66,67,68,69,71,14,20,22,27,28,29,31,41,46,64,70]\n",
    "\n",
    "import numpy as np\n",
    "import matplotlib.pyplot as plt\n",
    "import matplotlib.gridspec as gridspec\n",
    "from scipy.io import loadmat\n",
    "from scipy.signal import welch\n",
    "import pandas as pd\n",
    "import mne\n",
    "\n",
    "ch_names = ['F7', 'F3', 'Fz', 'F4', 'F8', 'T7', 'C3', 'Cz', 'C4', 'T8']\n",
    "ss = []\n",
    "dd = []\n",
    "ss2 = []\n",
    "dd2 = []\n",
    "\n",
    "surrs =[]\n",
    "surrd =[]\n",
    "surrs2 =[]\n",
    "surrd2 =[]\n",
    "\n",
    "#surr2s =[]\n",
    "#surr2d =[]\n",
    "\n",
    "#surr2s2 =[]\n",
    "#surr2d2 =[]\n",
    "\n",
    "\n",
    "\n",
    "thre = 1.5\n",
    "ch_names = np.array(ch_names)\n",
    "sfreq = 500\n",
    "info = mne.create_info(ch_names = list(ch_names),\n",
    "                       ch_types = 'eeg',\n",
    "                       sfreq = sfreq)\n",
    "def find_bad_channels(data, MAX_PEAK=200, MAX_PEAK_SIGMA=15, MAX_DIST_PS=4.5e-3, OFFSET=30, fmin=1, fmax=100, \n",
    "                      verbose = False):\n",
    "    idx_down, idx_up = 0, data.shape[1]\n",
    "    ss = np.std(data)\n",
    "    \n",
    "    psds, freqs = mne.time_frequency.psd_welch(mne.io.RawArray(data/1e6, info, verbose=False), fmin=fmin, fmax=fmax, n_fft=2048, n_overlap=1024/2, verbose=False)\n",
    "    psds = np.log10(psds)\n",
    "    \n",
    "    dist = [((tmp-psds.mean(axis=0))**2).sum() for tmp in psds]\n",
    "    dist = np.array(dist) / (psds**2).sum() * 1e2\n",
    "    \n",
    "    rej = []\n",
    "    for i, ch in enumerate(ch_names):\n",
    "        delta = np.abs(data[i]).max()\n",
    "    \n",
    "        str_rej = str()\n",
    "\n",
    "        if delta>MAX_PEAK or dist[i]>MAX_DIST_PS:\n",
    "            rej.append(ch)\n",
    "            str_rej = '-> rejected'\n",
    "            str_rej += ' ('\n",
    "            if delta>MAX_PEAK:\n",
    "                str_rej += ' peak'\n",
    "                idx = np.where(np.abs(data[i])>MAX_PEAK)[0]\n",
    "            \n",
    "            if dist[i]>MAX_DIST_PS:\n",
    "                str_rej += ' ps'\n",
    "            str_rej += ')'\n",
    "            \n",
    "        if verbose: print(f'* {ch}: max peak = {np.round(delta, 2)} mV ({np.round(delta/ss, 2)} std); dist ps = {np.round(dist[i],3)} '+str_rej)\n",
    "        \n",
    "        if delta>MAX_PEAK:\n",
    "            if np.max(idx)/sfreq<OFFSET:\n",
    "                idx_down = np.max([np.max(idx),idx_down])\n",
    "                if verbose: print(f'[*] WARNING: Peak only in the initial part - time: {np.max(idx)/sfreq} s')\n",
    "            if np.min(idx)/sfreq>180-OFFSET:\n",
    "                idx_up = np.min([np.min(idx),idx_up])\n",
    "                if verbose: print(f'[*] WARNING: Peak only in the last part - time: {np.min(idx)/sfreq} s')\n",
    "    if verbose: print('\\nBad channels:', rej, '\\n')\n",
    "    return rej, idx_down, idx_up\n",
    "\n",
    "\n",
    "filterr =False\n",
    "from scipy import signal\n",
    "o = 0\n",
    "for i, subj in enumerate(subjs):\n",
    "    #print(f'\\n\\n########## SUBJ {subj} ({i+1}/{len(subjs)})##########')\n",
    "    s1 = loadmat(f'BB{subj}_Filtered (1-100)/Silence (500)/BB{subj} silence1 (continuous).mat')\n",
    "    s2 = loadmat(f'BB{subj}_Filtered (1-100)/Silence (500)/BB{subj} silence2 (continuous).mat')\n",
    "    data = s1['eeg_rest'].astype('float')\n",
    "    rej, idx_down, idx_up = find_bad_channels(data, verbose = False)\n",
    "    if idx_down > 0 or idx_up < data.shape[1]:\n",
    "        if idx_down > 0:\n",
    "            idx_down +=1\n",
    "        if idx_up < data.shape[1]:\n",
    "            idx_up -= 1\n",
    "        data = data[:,idx_down:idx_up]\n",
    "        rej, idx_down, idx_up = find_bad_channels(data, verbose = False)\n",
    "    idx_accepted = np.sort([np.where(ch_names == i)[0][0] for i in list(set(ch_names) - set(rej))])\n",
    "    data = data[list(idx_accepted), idx_down:idx_up]\n",
    "    nchan = data.shape[0]\n",
    "    \n",
    "    data2 = s2['eeg_rest'].astype('float')\n",
    "    rej, idx_down, idx_up = find_bad_channels(data2, verbose = False)\n",
    "    if idx_down > 0 or idx_up < data2.shape[1]:\n",
    "        if idx_down > 0:\n",
    "            idx_down +=1\n",
    "        if idx_up < data2.shape[1]:\n",
    "            idx_up -= 1\n",
    "        data2 = data2[:,idx_down:idx_up]\n",
    "        rej, idx_down, idx_up = find_bad_channels(data2, verbose = False)\n",
    "    idx_accepted = np.sort([np.where(ch_names == i)[0][0] for i in list(set(ch_names) - set(rej))])\n",
    "    data2 = data2[list(idx_accepted), idx_down:idx_up]\n",
    "    nchan2 = data2.shape[0]\n",
    "    #print(nchan, nchan2)\n",
    "    \n",
    "    \n",
    "    if nchan >= 5 and nchan2 >=5 and subj != 53:\n",
    "        \n",
    "    \n",
    "        b,a = signal.butter(2, 50, btype = 'lowpass',fs = 500)\n",
    "\n",
    "        if filterr:\n",
    "            dataa = signal.filtfilt(b,a, data, axis = -1)\n",
    "            dataa2 = signal.filtfilt(b,a, data2, axis = -1)\n",
    "        else:\n",
    "            dataa = data\n",
    "            dataa2 = data2\n",
    "        \n",
    "        \n",
    "        \n",
    "\n",
    "        xsurr =  AAFT_surrogates(dataa)\n",
    "        xsurr2 =  AAFT_surrogates(dataa2)\n",
    "        \n",
    "     \n",
    "        #print('doing')\n",
    "        s,d = compute_avalanches(dataa.T,theta = thre, fs = 500, discretized=False,)\n",
    "        s2,d2 = compute_avalanches(dataa2.T,theta =thre, fs = 500, discretized=False, )\n",
    "        ss.append(s.tolist())\n",
    "        dd.append((d).tolist())\n",
    "        ss2.append(s2.tolist())\n",
    "        dd2.append((d2).tolist())\n",
    "        \n",
    "        #print(type(d))\n",
    "        \n",
    "        s,d = compute_avalanches(xsurr.T,theta = thre, fs = 500, discretized=False, )\n",
    "        s2,d2 = compute_avalanches(xsurr2.T,theta =thre, fs = 500, discretized=False)\n",
    "        surrs.append(s.tolist())\n",
    "        surrd.append((d).tolist())\n",
    "        surrs2.append(s2.tolist())\n",
    "        surrd2.append((d2).tolist())\n",
    "     \n",
    "        \n",
    "        #np.save(\"../../../Desktop/Criticality in barrel cortex/Surrogate-avalanches-data/sur_sizes_silence1_subject{}.npy\".format(subj), s)\n",
    "        #np.save(\"../../../Desktop/Criticality in barrel cortex/Surrogate-avalanches-data/sur_sizes_silence2_subject{}.npy\".format(subj), s2)  \n",
    "        #np.save(\"../../../Desktop/Criticality in barrel cortex/Surrogate-avalanches-data/sur_durations_silence1_subject{}.npy\".format(subj), d)  \n",
    "        #np.save(\"../../../Desktop/Criticality in barrel cortex/Surrogate-avalanches-data/sur_durations_silence2_subject{}.npy\".format(subj), d2)\n",
    "        \n",
    "        o += 1\n",
    "        "
   ]
  },
  {
   "cell_type": "code",
   "execution_count": 11,
   "id": "95246833",
   "metadata": {},
   "outputs": [
    {
     "data": {
      "text/plain": [
       "1.0"
      ]
     },
     "execution_count": 11,
     "metadata": {},
     "output_type": "execute_result"
    }
   ],
   "source": [
    "500*0.002"
   ]
  },
  {
   "cell_type": "code",
   "execution_count": 12,
   "id": "60312927",
   "metadata": {},
   "outputs": [],
   "source": [
    "def funct2(sub, vec1):\n",
    "    index = np.concatenate([np.where(good_sub==i)[0] for i in sub])\n",
    "    #index = np.where(good_sub, sub_fren)\n",
    "    al1 = vec1[index]\n",
    "    #al2 = vec2[index]\n",
    "    return al1\n",
    "    #print(stats."
   ]
  },
  {
   "cell_type": "code",
   "execution_count": 13,
   "id": "1ef23489",
   "metadata": {},
   "outputs": [],
   "source": [
    "good_sub = np.array([ 5,  6,  9, 11, 12, 16, 17, 18, 19, 23, 30, 33, 35, 37, 40, 45, 47,\n",
    "       49, 52, 56, 58, 62, 66, 67, 68, 71, 14, 22, 27, 41, 46, 64])"
   ]
  },
  {
   "cell_type": "code",
   "execution_count": 14,
   "id": "ffdbbf00",
   "metadata": {},
   "outputs": [],
   "source": [
    "### ORDER OF THE LANGUAGES\n",
    "order = pd.read_excel('../../../Downloads/ordine lingue.xlsx')#1 en, 2 fr, 3 sp"
   ]
  },
  {
   "cell_type": "code",
   "execution_count": 15,
   "id": "8b56aada",
   "metadata": {},
   "outputs": [],
   "source": [
    "\n",
    "subject_french = order[order[\"last language\"]==2][\"subject\"].values\n",
    "\n",
    "subject_en = order[order[\"last language\"]==1][\"subject\"].values\n",
    "\n",
    "subject_span = order[order[\"last language\"]==3][\"subject\"].values"
   ]
  },
  {
   "cell_type": "code",
   "execution_count": 16,
   "id": "3fea7eae",
   "metadata": {},
   "outputs": [],
   "source": [
    "sub_fren = (list(set(subject_french) & set(good_sub)))\n",
    "sub_span = (list(set(subject_span) & set(good_sub)))\n",
    "sub_en = (list(set(subject_en) & set(good_sub)))\n"
   ]
  },
  {
   "cell_type": "code",
   "execution_count": 17,
   "id": "cfdf0cdc",
   "metadata": {},
   "outputs": [
    {
     "data": {
      "text/plain": [
       "[12, 9, 11]"
      ]
     },
     "execution_count": 17,
     "metadata": {},
     "output_type": "execute_result"
    }
   ],
   "source": [
    "list(map(len, [sub_fren, sub_span, sub_en]))"
   ]
  },
  {
   "cell_type": "code",
   "execution_count": null,
   "id": "fbb5ec2c",
   "metadata": {},
   "outputs": [],
   "source": []
  },
  {
   "cell_type": "code",
   "execution_count": 18,
   "id": "c188400b",
   "metadata": {},
   "outputs": [
    {
     "name": "stderr",
     "output_type": "stream",
     "text": [
      "C:\\Users\\Benedetta\\AppData\\Local\\Temp\\ipykernel_2456\\925649310.py:1: VisibleDeprecationWarning: Creating an ndarray from ragged nested sequences (which is a list-or-tuple of lists-or-tuples-or ndarrays with different lengths or shapes) is deprecated. If you meant to do this, you must specify 'dtype=object' when creating the ndarray.\n",
      "  ss_fren = funct2(sub_fren,np.asarray(ss))\n",
      "C:\\Users\\Benedetta\\AppData\\Local\\Temp\\ipykernel_2456\\925649310.py:2: VisibleDeprecationWarning: Creating an ndarray from ragged nested sequences (which is a list-or-tuple of lists-or-tuples-or ndarrays with different lengths or shapes) is deprecated. If you meant to do this, you must specify 'dtype=object' when creating the ndarray.\n",
      "  ss_eng = funct2(sub_en,np.asarray(ss))\n",
      "C:\\Users\\Benedetta\\AppData\\Local\\Temp\\ipykernel_2456\\925649310.py:3: VisibleDeprecationWarning: Creating an ndarray from ragged nested sequences (which is a list-or-tuple of lists-or-tuples-or ndarrays with different lengths or shapes) is deprecated. If you meant to do this, you must specify 'dtype=object' when creating the ndarray.\n",
      "  ss_spa = funct2(sub_span,np.asarray(ss))\n",
      "C:\\Users\\Benedetta\\AppData\\Local\\Temp\\ipykernel_2456\\925649310.py:6: VisibleDeprecationWarning: Creating an ndarray from ragged nested sequences (which is a list-or-tuple of lists-or-tuples-or ndarrays with different lengths or shapes) is deprecated. If you meant to do this, you must specify 'dtype=object' when creating the ndarray.\n",
      "  ss2_fren = funct2(sub_fren,np.asarray(ss2))\n",
      "C:\\Users\\Benedetta\\AppData\\Local\\Temp\\ipykernel_2456\\925649310.py:7: VisibleDeprecationWarning: Creating an ndarray from ragged nested sequences (which is a list-or-tuple of lists-or-tuples-or ndarrays with different lengths or shapes) is deprecated. If you meant to do this, you must specify 'dtype=object' when creating the ndarray.\n",
      "  ss2_eng = funct2(sub_en,np.asarray(ss2))\n",
      "C:\\Users\\Benedetta\\AppData\\Local\\Temp\\ipykernel_2456\\925649310.py:8: VisibleDeprecationWarning: Creating an ndarray from ragged nested sequences (which is a list-or-tuple of lists-or-tuples-or ndarrays with different lengths or shapes) is deprecated. If you meant to do this, you must specify 'dtype=object' when creating the ndarray.\n",
      "  ss2_spa = funct2(sub_span,np.asarray(ss2))\n",
      "C:\\Users\\Benedetta\\AppData\\Local\\Temp\\ipykernel_2456\\925649310.py:11: VisibleDeprecationWarning: Creating an ndarray from ragged nested sequences (which is a list-or-tuple of lists-or-tuples-or ndarrays with different lengths or shapes) is deprecated. If you meant to do this, you must specify 'dtype=object' when creating the ndarray.\n",
      "  surrs_fren = funct2(sub_fren,np.asarray(surrs))\n",
      "C:\\Users\\Benedetta\\AppData\\Local\\Temp\\ipykernel_2456\\925649310.py:12: VisibleDeprecationWarning: Creating an ndarray from ragged nested sequences (which is a list-or-tuple of lists-or-tuples-or ndarrays with different lengths or shapes) is deprecated. If you meant to do this, you must specify 'dtype=object' when creating the ndarray.\n",
      "  surrs_eng = funct2(sub_en,np.asarray(surrs))\n",
      "C:\\Users\\Benedetta\\AppData\\Local\\Temp\\ipykernel_2456\\925649310.py:13: VisibleDeprecationWarning: Creating an ndarray from ragged nested sequences (which is a list-or-tuple of lists-or-tuples-or ndarrays with different lengths or shapes) is deprecated. If you meant to do this, you must specify 'dtype=object' when creating the ndarray.\n",
      "  surrs_spa = funct2(sub_span,np.asarray(surrs))\n",
      "C:\\Users\\Benedetta\\AppData\\Local\\Temp\\ipykernel_2456\\925649310.py:15: VisibleDeprecationWarning: Creating an ndarray from ragged nested sequences (which is a list-or-tuple of lists-or-tuples-or ndarrays with different lengths or shapes) is deprecated. If you meant to do this, you must specify 'dtype=object' when creating the ndarray.\n",
      "  surr2s_fren = funct2(sub_fren,np.asarray(surrs2))\n",
      "C:\\Users\\Benedetta\\AppData\\Local\\Temp\\ipykernel_2456\\925649310.py:16: VisibleDeprecationWarning: Creating an ndarray from ragged nested sequences (which is a list-or-tuple of lists-or-tuples-or ndarrays with different lengths or shapes) is deprecated. If you meant to do this, you must specify 'dtype=object' when creating the ndarray.\n",
      "  surr2s_eng = funct2(sub_en,np.asarray(surrs2))\n",
      "C:\\Users\\Benedetta\\AppData\\Local\\Temp\\ipykernel_2456\\925649310.py:17: VisibleDeprecationWarning: Creating an ndarray from ragged nested sequences (which is a list-or-tuple of lists-or-tuples-or ndarrays with different lengths or shapes) is deprecated. If you meant to do this, you must specify 'dtype=object' when creating the ndarray.\n",
      "  surr2s_spa = funct2(sub_span,np.asarray(surrs2))\n"
     ]
    }
   ],
   "source": [
    "ss_fren = funct2(sub_fren,np.asarray(ss))\n",
    "ss_eng = funct2(sub_en,np.asarray(ss))\n",
    "ss_spa = funct2(sub_span,np.asarray(ss))\n",
    "\n",
    "\n",
    "ss2_fren = funct2(sub_fren,np.asarray(ss2))\n",
    "ss2_eng = funct2(sub_en,np.asarray(ss2))\n",
    "ss2_spa = funct2(sub_span,np.asarray(ss2))\n",
    "\n",
    "\n",
    "surrs_fren = funct2(sub_fren,np.asarray(surrs))\n",
    "surrs_eng = funct2(sub_en,np.asarray(surrs))\n",
    "surrs_spa = funct2(sub_span,np.asarray(surrs))\n",
    "\n",
    "surr2s_fren = funct2(sub_fren,np.asarray(surrs2))\n",
    "surr2s_eng = funct2(sub_en,np.asarray(surrs2))\n",
    "surr2s_spa = funct2(sub_span,np.asarray(surrs2))\n",
    "\n"
   ]
  },
  {
   "cell_type": "code",
   "execution_count": null,
   "id": "905befc5",
   "metadata": {},
   "outputs": [],
   "source": [
    "kk[0][0][0]"
   ]
  },
  {
   "cell_type": "code",
   "execution_count": null,
   "id": "db10ead1",
   "metadata": {},
   "outputs": [],
   "source": [
    "plt.rcParams['text.usetex'] =True\n",
    "plt.rcParams['font.size'] = 23\n",
    "plt.rcParams['font.family'] = 'serif',\n",
    "plt.rcParams['font.serif'] =  'Computer Modern'\n",
    "fig, ax = plt.subplots(2,3, figsize =(15,7))\n",
    "\n",
    "\n",
    "kk  = np.asarray([[ss_fren, surrs_fren], [ss_spa, surrs_spa],[ss_eng, surrs_eng]])\n",
    "\n",
    "cums1 = [[],[],[]]\n",
    "\n",
    "colors = ['green', 'blue', 'red']\n",
    "for j in range(3):\n",
    "#for j in range(2):\n",
    "    for s in range(len(kk[j,0])):\n",
    "        try:\n",
    "            pwl.plot_pdf(kk[j,0][s], color =colors[j],ax=ax[0,j], alpha =.5)\n",
    "            if s == 0:\n",
    "                label ='surrogate'\n",
    "            else: \n",
    "                label = None\n",
    "            pwl.plot_pdf(kk[j,1][s], color =colors[j], ls = '--', ax =ax[0,j], alpha =.5, label =label)\n",
    "\n",
    "            cums1[j]+=kk[j,0][s]\n",
    "        except:\n",
    "            continue\n",
    "\n",
    "\n",
    "for j in range(3):\n",
    "    pwl.plot_pdf(cums1[j], color =colors[j],ax =ax[0,j], lw = 2)\n",
    "    fit = pwl.Fit(cums1[j], discrete = False, xmax = max(cums1[j]), xmin = (1,100)) #(1,50)\n",
    "\n",
    "    alpha = round(fit.power_law.alpha,2)\n",
    "    fit.power_law.plot_pdf(color = colors[j], label =r\"$\\alpha$\" + f\" = {alpha}\",ax =ax[0,j],)\n",
    "    ax[0,j].legend()\n",
    "    \n",
    "cums2 = [[],[],[]]\n",
    "\n",
    "    \n",
    "\n",
    "kk  = np.asarray([[ss2_fren, surr2s_fren], [ss2_spa, surr2s_spa],[ss2_eng, surr2s_eng]])\n",
    "colors = ['darkgreen', 'darkblue', 'darkred']\n",
    "for j in range(3):\n",
    "    for s in range(len(kk[j,0])):\n",
    "    #for j in range(2):\n",
    "        try:\n",
    "            pwl.plot_pdf(kk[j,0][s], color =colors[j],ax =ax[1,j], alpha = .5)\n",
    "            if s == 0:\n",
    "                label ='surrogate'\n",
    "            else: \n",
    "                label = None\n",
    "            \n",
    "            pwl.plot_pdf(kk[j,1][s], color =colors[j], ls = '--', ax=ax[1,j], alpha = .5, label =label)\n",
    "                \n",
    "            cums2[j]+=kk[j,0][s]\n",
    "            \n",
    "                \n",
    "        except:\n",
    "            continue\n",
    "for j in range(3):\n",
    "    pwl.plot_pdf(cums2[j], color =colors[j],ax =ax[1,j], lw = 2)\n",
    "    fit = pwl.Fit(cums2[j], discrete = False, xmax =  max(cums2[j]), xmin = (1,100)) #(1,50)\n",
    "    \n",
    "    alpha = round(fit.power_law.alpha,2)\n",
    "    fit.power_law.plot_pdf(color = colors[j], label =r\"$\\alpha$ = \"+f\"{alpha}\",ax =ax[1,j])\n",
    "    ax[1,j].legend()\n",
    "    \n",
    "ax[0,0].set_title('After French')\n",
    "ax[0,0].set_ylabel('S1')\n",
    "ax[1,0].set_ylabel('S2')\n",
    "\n",
    "\n",
    "ax[0,1].set_title('After Spanish')\n",
    "ax[0,2].set_title('After English')\n",
    "\n",
    "fig.supxlabel('Sizes')\n",
    "fig.supylabel('pdf')\n",
    "plt.tight_layout();\n",
    "\n",
    "\n"
   ]
  },
  {
   "cell_type": "code",
   "execution_count": 18,
   "id": "2e2e116f",
   "metadata": {},
   "outputs": [],
   "source": [
    "import numpy as np\n",
    "import matplotlib.pyplot as plt\n",
    "import os\n",
    "import pandas as pd\n",
    "import powerlaw as pwl"
   ]
  },
  {
   "cell_type": "markdown",
   "id": "2d3a1d0c",
   "metadata": {},
   "source": [
    "# Avalanche exponents t-tests"
   ]
  },
  {
   "cell_type": "code",
   "execution_count": 33,
   "id": "d2557da8",
   "metadata": {},
   "outputs": [
    {
     "data": {
      "text/plain": [
       "True"
      ]
     },
     "execution_count": 33,
     "metadata": {},
     "output_type": "execute_result"
    }
   ],
   "source": [
    "175"
   ]
  },
  {
   "cell_type": "code",
   "execution_count": 40,
   "id": "fb21580e",
   "metadata": {},
   "outputs": [
    {
     "name": "stdout",
     "output_type": "stream",
     "text": [
      "49\n",
      "\n",
      "\n",
      "########## SUBJ 5 (1/49)##########\n",
      "7 10\n",
      "doing\n",
      "Calculating best minimal value for power law fit\n",
      "Calculating best minimal value for power law fit\n",
      "Prediction from crackling noise relation: delta =  nan +- nan\n",
      "Fit from of average size given duration points: delta =  1.1393355567772372 +- 0.015474600733801658\n",
      "Calculating best minimal value for power law fit\n",
      "xmin progress: 01%\r"
     ]
    },
    {
     "name": "stderr",
     "output_type": "stream",
     "text": [
      "Less than 2 unique data values left after xmin and xmax options! Cannot fit. Returning nans.\n",
      "Not enough data. Returning nan\n"
     ]
    },
    {
     "name": "stdout",
     "output_type": "stream",
     "text": [
      "Calculating best minimal value for power law fit\n",
      "Calculating best minimal value for power law fit\n",
      "Calculating best minimal value for power law fit\n",
      "Calculating best minimal value for power law fit\n",
      "Calculating best minimal value for power law fit\n",
      "Prediction from crackling noise relation: delta =  nan +- nan\n",
      "Fit from of average size given duration points: delta =  1.1465212113567973 +- 0.012264462056445253\n"
     ]
    },
    {
     "name": "stderr",
     "output_type": "stream",
     "text": [
      "Less than 2 unique data values left after xmin and xmax options! Cannot fit. Returning nans.\n",
      "Not enough data. Returning nan\n"
     ]
    },
    {
     "name": "stdout",
     "output_type": "stream",
     "text": [
      "\n",
      "\n",
      "########## SUBJ 6 (2/49)##########\n",
      "10 10\n",
      "doing\n",
      "Calculating best minimal value for power law fit\n",
      "Calculating best minimal value for power law fit\n"
     ]
    },
    {
     "name": "stderr",
     "output_type": "stream",
     "text": [
      "Less than 2 unique data values left after xmin and xmax options! Cannot fit. Returning nans.\n",
      "Not enough data. Returning nan\n"
     ]
    },
    {
     "name": "stdout",
     "output_type": "stream",
     "text": [
      "Prediction from crackling noise relation: delta =  nan +- nan\n",
      "Fit from of average size given duration points: delta =  1.1278549910321898 +- 0.011691613774411734\n",
      "Calculating best minimal value for power law fit\n",
      "Calculating best minimal value for power law fit\n",
      "Calculating best minimal value for power law fit\n",
      "Calculating best minimal value for power law fit\n",
      "Calculating best minimal value for power law fit\n",
      "Calculating best minimal value for power law fit\n",
      "Prediction from crackling noise relation: delta =  nan +- nan\n",
      "Fit from of average size given duration points: delta =  1.1286208745167352 +- 0.012446672603939519\n"
     ]
    },
    {
     "name": "stderr",
     "output_type": "stream",
     "text": [
      "Less than 2 unique data values left after xmin and xmax options! Cannot fit. Returning nans.\n",
      "Not enough data. Returning nan\n"
     ]
    },
    {
     "name": "stdout",
     "output_type": "stream",
     "text": [
      "\n",
      "\n",
      "########## SUBJ 9 (3/49)##########\n",
      "9 10\n",
      "doing\n",
      "Calculating best minimal value for power law fit\n",
      "Calculating best minimal value for power law fit\n",
      "Prediction from crackling noise relation: delta =  nan +- nan\n",
      "Fit from of average size given duration points: delta =  1.0766564948829362 +- 0.010365990188637654\n",
      "Calculating best minimal value for power law fit\n",
      "xmin progress: 00%\r"
     ]
    },
    {
     "name": "stderr",
     "output_type": "stream",
     "text": [
      "Less than 2 unique data values left after xmin and xmax options! Cannot fit. Returning nans.\n",
      "Not enough data. Returning nan\n"
     ]
    },
    {
     "name": "stdout",
     "output_type": "stream",
     "text": [
      "Calculating best minimal value for power law fit\n",
      "Calculating best minimal value for power law fit\n",
      "Calculating best minimal value for power law fit\n",
      "Calculating best minimal value for power law fit\n",
      "Calculating best minimal value for power law fit\n",
      "Prediction from crackling noise relation: delta =  nan +- nan\n",
      "Fit from of average size given duration points: delta =  1.1262556508008612 +- 0.011520647921896459\n"
     ]
    },
    {
     "name": "stderr",
     "output_type": "stream",
     "text": [
      "Less than 2 unique data values left after xmin and xmax options! Cannot fit. Returning nans.\n",
      "Not enough data. Returning nan\n"
     ]
    },
    {
     "name": "stdout",
     "output_type": "stream",
     "text": [
      "\n",
      "\n",
      "########## SUBJ 11 (4/49)##########\n",
      "10 10\n",
      "doing\n",
      "Calculating best minimal value for power law fit\n",
      "Calculating best minimal value for power law fit\n",
      "Prediction from crackling noise relation: delta =  nan +- nan\n",
      "Fit from of average size given duration points: delta =  1.0947038138862866 +- 0.011568359941842124\n",
      "Calculating best minimal value for power law fit\n",
      "xmin progress: 03%\r"
     ]
    },
    {
     "name": "stderr",
     "output_type": "stream",
     "text": [
      "Less than 2 unique data values left after xmin and xmax options! Cannot fit. Returning nans.\n",
      "Not enough data. Returning nan\n"
     ]
    },
    {
     "name": "stdout",
     "output_type": "stream",
     "text": [
      "Calculating best minimal value for power law fit\n",
      "Calculating best minimal value for power law fit\n",
      "Calculating best minimal value for power law fit\n",
      "Calculating best minimal value for power law fit\n",
      "Calculating best minimal value for power law fit\n",
      "Prediction from crackling noise relation: delta =  nan +- nan\n",
      "Fit from of average size given duration points: delta =  1.120537933794656 +- 0.012016876936953034\n"
     ]
    },
    {
     "name": "stderr",
     "output_type": "stream",
     "text": [
      "Less than 2 unique data values left after xmin and xmax options! Cannot fit. Returning nans.\n",
      "Not enough data. Returning nan\n"
     ]
    },
    {
     "name": "stdout",
     "output_type": "stream",
     "text": [
      "\n",
      "\n",
      "########## SUBJ 12 (5/49)##########\n",
      "10 7\n",
      "doing\n",
      "Calculating best minimal value for power law fit\n",
      "Calculating best minimal value for power law fit\n"
     ]
    },
    {
     "name": "stderr",
     "output_type": "stream",
     "text": [
      "Less than 2 unique data values left after xmin and xmax options! Cannot fit. Returning nans.\n",
      "Not enough data. Returning nan\n"
     ]
    },
    {
     "name": "stdout",
     "output_type": "stream",
     "text": [
      "Prediction from crackling noise relation: delta =  nan +- nan\n",
      "Fit from of average size given duration points: delta =  1.1441576314855306 +- 0.011838545990015315\n",
      "Calculating best minimal value for power law fit\n",
      "Calculating best minimal value for power law fit\n",
      "Calculating best minimal value for power law fit\n",
      "Calculating best minimal value for power law fit\n",
      "Calculating best minimal value for power law fit\n",
      "Calculating best minimal value for power law fit\n",
      "Prediction from crackling noise relation: delta =  nan +- nan\n",
      "Fit from of average size given duration points: delta =  1.1267107205435036 +- 0.014440983613130938\n"
     ]
    },
    {
     "name": "stderr",
     "output_type": "stream",
     "text": [
      "Less than 2 unique data values left after xmin and xmax options! Cannot fit. Returning nans.\n",
      "Not enough data. Returning nan\n"
     ]
    },
    {
     "name": "stdout",
     "output_type": "stream",
     "text": [
      "\n",
      "\n",
      "########## SUBJ 13 (6/49)##########\n",
      "0 8\n",
      "\n",
      "\n",
      "########## SUBJ 16 (7/49)##########\n",
      "9 10\n",
      "doing\n",
      "Calculating best minimal value for power law fit\n",
      "Calculating best minimal value for power law fit\n",
      "Prediction from crackling noise relation: delta =  nan +- nan\n",
      "Fit from of average size given duration points: delta =  1.1319204051212588 +- 0.009990643696370581\n",
      "Calculating best minimal value for power law fit\n",
      "xmin progress: 00%\r"
     ]
    },
    {
     "name": "stderr",
     "output_type": "stream",
     "text": [
      "Less than 2 unique data values left after xmin and xmax options! Cannot fit. Returning nans.\n",
      "Not enough data. Returning nan\n"
     ]
    },
    {
     "name": "stdout",
     "output_type": "stream",
     "text": [
      "Calculating best minimal value for power law fit\n",
      "Calculating best minimal value for power law fit\n",
      "Calculating best minimal value for power law fit\n",
      "Calculating best minimal value for power law fit\n",
      "Calculating best minimal value for power law fit\n"
     ]
    },
    {
     "name": "stderr",
     "output_type": "stream",
     "text": [
      "Less than 2 unique data values left after xmin and xmax options! Cannot fit. Returning nans.\n",
      "Not enough data. Returning nan\n"
     ]
    },
    {
     "name": "stdout",
     "output_type": "stream",
     "text": [
      "Prediction from crackling noise relation: delta =  nan +- nan\n",
      "Fit from of average size given duration points: delta =  1.14557799182601 +- 0.010828112688623607\n",
      "\n",
      "\n",
      "########## SUBJ 17 (8/49)##########\n",
      "10 10\n",
      "doing\n",
      "Calculating best minimal value for power law fit\n",
      "Calculating best minimal value for power law fit\n"
     ]
    },
    {
     "name": "stderr",
     "output_type": "stream",
     "text": [
      "Less than 2 unique data values left after xmin and xmax options! Cannot fit. Returning nans.\n",
      "Not enough data. Returning nan\n"
     ]
    },
    {
     "name": "stdout",
     "output_type": "stream",
     "text": [
      "Prediction from crackling noise relation: delta =  nan +- nan\n",
      "Fit from of average size given duration points: delta =  1.133133707462331 +- 0.011149582068893734\n",
      "Calculating best minimal value for power law fit\n",
      "Calculating best minimal value for power law fit\n",
      "Calculating best minimal value for power law fit\n",
      "Calculating best minimal value for power law fit\n",
      "Calculating best minimal value for power law fit\n",
      "Calculating best minimal value for power law fit\n",
      "Prediction from crackling noise relation: delta =  nan +- nan\n",
      "Fit from of average size given duration points: delta =  1.1462341464169539 +- 0.011898733262850696\n"
     ]
    },
    {
     "name": "stderr",
     "output_type": "stream",
     "text": [
      "Less than 2 unique data values left after xmin and xmax options! Cannot fit. Returning nans.\n",
      "Not enough data. Returning nan\n"
     ]
    },
    {
     "name": "stdout",
     "output_type": "stream",
     "text": [
      "\n",
      "\n",
      "########## SUBJ 18 (9/49)##########\n",
      "8 9\n",
      "doing\n",
      "Calculating best minimal value for power law fit\n",
      "Calculating best minimal value for power law fit\n",
      "Prediction from crackling noise relation: delta =  nan +- nan\n",
      "Fit from of average size given duration points: delta =  1.1044186014381783 +- 0.011730657965840535\n",
      "Calculating best minimal value for power law fit\n",
      "xmin progress: 03%\r"
     ]
    },
    {
     "name": "stderr",
     "output_type": "stream",
     "text": [
      "Less than 2 unique data values left after xmin and xmax options! Cannot fit. Returning nans.\n",
      "Not enough data. Returning nan\n"
     ]
    },
    {
     "name": "stdout",
     "output_type": "stream",
     "text": [
      "Calculating best minimal value for power law fit\n",
      "Calculating best minimal value for power law fit\n",
      "Calculating best minimal value for power law fit\n",
      "Calculating best minimal value for power law fit\n",
      "Calculating best minimal value for power law fit\n"
     ]
    },
    {
     "name": "stderr",
     "output_type": "stream",
     "text": [
      "Less than 2 unique data values left after xmin and xmax options! Cannot fit. Returning nans.\n",
      "Not enough data. Returning nan\n"
     ]
    },
    {
     "name": "stdout",
     "output_type": "stream",
     "text": [
      "Prediction from crackling noise relation: delta =  nan +- nan\n",
      "Fit from of average size given duration points: delta =  1.1283314967932512 +- 0.01108059663410782\n",
      "\n",
      "\n",
      "########## SUBJ 19 (10/49)##########\n",
      "9 10\n",
      "doing\n",
      "Calculating best minimal value for power law fit\n",
      "Calculating best minimal value for power law fit\n"
     ]
    },
    {
     "name": "stderr",
     "output_type": "stream",
     "text": [
      "Less than 2 unique data values left after xmin and xmax options! Cannot fit. Returning nans.\n",
      "Not enough data. Returning nan\n"
     ]
    },
    {
     "name": "stdout",
     "output_type": "stream",
     "text": [
      "Prediction from crackling noise relation: delta =  nan +- nan\n",
      "Fit from of average size given duration points: delta =  1.148544274968031 +- 0.011177001319570105\n",
      "Calculating best minimal value for power law fit\n",
      "Calculating best minimal value for power law fit\n",
      "Calculating best minimal value for power law fit\n",
      "Calculating best minimal value for power law fit\n",
      "Calculating best minimal value for power law fit\n",
      "Calculating best minimal value for power law fit\n",
      "Prediction from crackling noise relation: delta =  nan +- nan\n",
      "Fit from of average size given duration points: delta =  1.1243716166860123 +- 0.010768374516927179\n"
     ]
    },
    {
     "name": "stderr",
     "output_type": "stream",
     "text": [
      "Less than 2 unique data values left after xmin and xmax options! Cannot fit. Returning nans.\n",
      "Not enough data. Returning nan\n"
     ]
    },
    {
     "name": "stdout",
     "output_type": "stream",
     "text": [
      "\n",
      "\n",
      "########## SUBJ 21 (11/49)##########\n",
      "9 1\n",
      "\n",
      "\n",
      "########## SUBJ 23 (12/49)##########\n",
      "8 10\n",
      "doing\n",
      "Calculating best minimal value for power law fit\n",
      "Calculating best minimal value for power law fit\n"
     ]
    },
    {
     "name": "stderr",
     "output_type": "stream",
     "text": [
      "Less than 2 unique data values left after xmin and xmax options! Cannot fit. Returning nans.\n",
      "Not enough data. Returning nan\n"
     ]
    },
    {
     "name": "stdout",
     "output_type": "stream",
     "text": [
      "Prediction from crackling noise relation: delta =  nan +- nan\n",
      "Fit from of average size given duration points: delta =  1.0881000292528946 +- 0.014600876118666107\n",
      "Calculating best minimal value for power law fit\n",
      "Calculating best minimal value for power law fit\n",
      "Calculating best minimal value for power law fit\n",
      "Calculating best minimal value for power law fit\n",
      "Calculating best minimal value for power law fit\n",
      "Calculating best minimal value for power law fit\n"
     ]
    },
    {
     "name": "stderr",
     "output_type": "stream",
     "text": [
      "Less than 2 unique data values left after xmin and xmax options! Cannot fit. Returning nans.\n",
      "Not enough data. Returning nan\n"
     ]
    },
    {
     "name": "stdout",
     "output_type": "stream",
     "text": [
      "Prediction from crackling noise relation: delta =  nan +- nan\n",
      "Fit from of average size given duration points: delta =  1.1343402410842023 +- 0.011449829546699852\n",
      "\n",
      "\n",
      "########## SUBJ 24 (13/49)##########\n",
      "0 10\n",
      "\n",
      "\n",
      "########## SUBJ 25 (14/49)##########\n",
      "2 10\n",
      "\n",
      "\n",
      "########## SUBJ 30 (15/49)##########\n",
      "10 8\n",
      "doing\n",
      "Calculating best minimal value for power law fit\n",
      "Calculating best minimal value for power law fit\n"
     ]
    },
    {
     "name": "stderr",
     "output_type": "stream",
     "text": [
      "Less than 2 unique data values left after xmin and xmax options! Cannot fit. Returning nans.\n",
      "Not enough data. Returning nan\n"
     ]
    },
    {
     "name": "stdout",
     "output_type": "stream",
     "text": [
      "Prediction from crackling noise relation: delta =  nan +- nan\n",
      "Fit from of average size given duration points: delta =  1.1194793471343523 +- 0.01214441130219896\n",
      "Calculating best minimal value for power law fit\n",
      "Calculating best minimal value for power law fit\n",
      "Calculating best minimal value for power law fit\n",
      "Calculating best minimal value for power law fit\n",
      "Calculating best minimal value for power law fit\n",
      "Calculating best minimal value for power law fit\n",
      "Prediction from crackling noise relation: delta =  nan +- nan\n",
      "Fit from of average size given duration points: delta =  1.1414573015544973 +- 0.011779014065368212\n"
     ]
    },
    {
     "name": "stderr",
     "output_type": "stream",
     "text": [
      "Less than 2 unique data values left after xmin and xmax options! Cannot fit. Returning nans.\n",
      "Not enough data. Returning nan\n"
     ]
    },
    {
     "name": "stdout",
     "output_type": "stream",
     "text": [
      "\n",
      "\n",
      "########## SUBJ 33 (16/49)##########\n",
      "7 9\n",
      "doing\n",
      "Calculating best minimal value for power law fit\n",
      "Calculating best minimal value for power law fit\n",
      "Prediction from crackling noise relation: delta =  nan +- nan\n",
      "Fit from of average size given duration points: delta =  1.0870427584870614 +- 0.011240479735557543\n",
      "Calculating best minimal value for power law fit\n",
      "xmin progress: 00%\r"
     ]
    },
    {
     "name": "stderr",
     "output_type": "stream",
     "text": [
      "Less than 2 unique data values left after xmin and xmax options! Cannot fit. Returning nans.\n",
      "Not enough data. Returning nan\n"
     ]
    },
    {
     "name": "stdout",
     "output_type": "stream",
     "text": [
      "Calculating best minimal value for power law fit\n",
      "Calculating best minimal value for power law fit\n",
      "Calculating best minimal value for power law fit\n",
      "Calculating best minimal value for power law fit\n",
      "Calculating best minimal value for power law fit\n"
     ]
    },
    {
     "name": "stderr",
     "output_type": "stream",
     "text": [
      "Less than 2 unique data values left after xmin and xmax options! Cannot fit. Returning nans.\n",
      "Not enough data. Returning nan\n"
     ]
    },
    {
     "name": "stdout",
     "output_type": "stream",
     "text": [
      "Prediction from crackling noise relation: delta =  nan +- nan\n",
      "Fit from of average size given duration points: delta =  1.1092983828111795 +- 0.010186524197343083\n",
      "\n",
      "\n",
      "########## SUBJ 34 (17/49)##########\n",
      "0 10\n",
      "\n",
      "\n",
      "########## SUBJ 35 (18/49)##########\n",
      "9 10\n",
      "doing\n",
      "Calculating best minimal value for power law fit\n",
      "Calculating best minimal value for power law fit\n",
      "Prediction from crackling noise relation: delta =  nan +- nan\n",
      "Fit from of average size given duration points: delta =  1.0879551760904524 +- 0.01071816951515283\n",
      "Calculating best minimal value for power law fit\n",
      "xmin progress: 04%\r"
     ]
    },
    {
     "name": "stderr",
     "output_type": "stream",
     "text": [
      "Less than 2 unique data values left after xmin and xmax options! Cannot fit. Returning nans.\n",
      "Not enough data. Returning nan\n"
     ]
    },
    {
     "name": "stdout",
     "output_type": "stream",
     "text": [
      "Calculating best minimal value for power law fit\n",
      "Calculating best minimal value for power law fit\n",
      "Calculating best minimal value for power law fit\n",
      "Calculating best minimal value for power law fit\n",
      "Calculating best minimal value for power law fit\n"
     ]
    },
    {
     "name": "stderr",
     "output_type": "stream",
     "text": [
      "Less than 2 unique data values left after xmin and xmax options! Cannot fit. Returning nans.\n",
      "Not enough data. Returning nan\n"
     ]
    },
    {
     "name": "stdout",
     "output_type": "stream",
     "text": [
      "Prediction from crackling noise relation: delta =  nan +- nan\n",
      "Fit from of average size given duration points: delta =  1.1449519299318767 +- 0.01005350591855374\n",
      "\n",
      "\n",
      "########## SUBJ 37 (19/49)##########\n",
      "10 10\n",
      "doing\n",
      "Calculating best minimal value for power law fit\n",
      "Calculating best minimal value for power law fit\n"
     ]
    },
    {
     "name": "stderr",
     "output_type": "stream",
     "text": [
      "Less than 2 unique data values left after xmin and xmax options! Cannot fit. Returning nans.\n",
      "Not enough data. Returning nan\n"
     ]
    },
    {
     "name": "stdout",
     "output_type": "stream",
     "text": [
      "Prediction from crackling noise relation: delta =  nan +- nan\n",
      "Fit from of average size given duration points: delta =  1.0847475961712225 +- 0.013308668288035435\n",
      "Calculating best minimal value for power law fit\n",
      "Calculating best minimal value for power law fit\n",
      "Calculating best minimal value for power law fit\n",
      "Calculating best minimal value for power law fit\n",
      "Calculating best minimal value for power law fit\n",
      "Calculating best minimal value for power law fit\n",
      "Prediction from crackling noise relation: delta =  nan +- nan\n",
      "Fit from of average size given duration points: delta =  1.132804608014871 +- 0.011814292174191419\n"
     ]
    },
    {
     "name": "stderr",
     "output_type": "stream",
     "text": [
      "Less than 2 unique data values left after xmin and xmax options! Cannot fit. Returning nans.\n",
      "Not enough data. Returning nan\n"
     ]
    },
    {
     "name": "stdout",
     "output_type": "stream",
     "text": [
      "\n",
      "\n",
      "########## SUBJ 39 (20/49)##########\n",
      "4 9\n",
      "\n",
      "\n",
      "########## SUBJ 40 (21/49)##########\n",
      "6 8\n",
      "doing\n",
      "Calculating best minimal value for power law fit\n",
      "Calculating best minimal value for power law fit\n",
      "Prediction from crackling noise relation: delta =  nan +- nan\n",
      "Fit from of average size given duration points: delta =  1.0894821196023585 +- 0.010971443032782897\n",
      "Calculating best minimal value for power law fit\n",
      "xmin progress: 02%\r"
     ]
    },
    {
     "name": "stderr",
     "output_type": "stream",
     "text": [
      "Less than 2 unique data values left after xmin and xmax options! Cannot fit. Returning nans.\n",
      "Not enough data. Returning nan\n"
     ]
    },
    {
     "name": "stdout",
     "output_type": "stream",
     "text": [
      "Calculating best minimal value for power law fit\n",
      "Calculating best minimal value for power law fit\n",
      "Calculating best minimal value for power law fit\n",
      "Calculating best minimal value for power law fit\n",
      "Calculating best minimal value for power law fit\n"
     ]
    },
    {
     "name": "stderr",
     "output_type": "stream",
     "text": [
      "Less than 2 unique data values left after xmin and xmax options! Cannot fit. Returning nans.\n",
      "Not enough data. Returning nan\n"
     ]
    },
    {
     "name": "stdout",
     "output_type": "stream",
     "text": [
      "Prediction from crackling noise relation: delta =  nan +- nan\n",
      "Fit from of average size given duration points: delta =  1.146210294820484 +- 0.01101474608928211\n",
      "\n",
      "\n",
      "########## SUBJ 45 (22/49)##########\n",
      "9 9\n",
      "doing\n",
      "Calculating best minimal value for power law fit\n",
      "Calculating best minimal value for power law fit\n",
      "Prediction from crackling noise relation: delta =  nan +- nan\n",
      "Fit from of average size given duration points: delta =  1.1092791837239062 +- 0.014622077375730146\n",
      "Calculating best minimal value for power law fit\n",
      "xmin progress: 03%\r"
     ]
    },
    {
     "name": "stderr",
     "output_type": "stream",
     "text": [
      "Less than 2 unique data values left after xmin and xmax options! Cannot fit. Returning nans.\n",
      "Not enough data. Returning nan\n"
     ]
    },
    {
     "name": "stdout",
     "output_type": "stream",
     "text": [
      "Calculating best minimal value for power law fit\n",
      "Calculating best minimal value for power law fit\n",
      "Calculating best minimal value for power law fit\n",
      "Calculating best minimal value for power law fit\n",
      "Calculating best minimal value for power law fit\n"
     ]
    },
    {
     "name": "stderr",
     "output_type": "stream",
     "text": [
      "Less than 2 unique data values left after xmin and xmax options! Cannot fit. Returning nans.\n",
      "Not enough data. Returning nan\n"
     ]
    },
    {
     "name": "stdout",
     "output_type": "stream",
     "text": [
      "Prediction from crackling noise relation: delta =  nan +- nan\n",
      "Fit from of average size given duration points: delta =  1.135006704689854 +- 0.011192541938354218\n",
      "\n",
      "\n",
      "########## SUBJ 47 (23/49)##########\n",
      "9 7\n",
      "doing\n",
      "Calculating best minimal value for power law fit\n",
      "Calculating best minimal value for power law fit\n"
     ]
    },
    {
     "name": "stderr",
     "output_type": "stream",
     "text": [
      "Less than 2 unique data values left after xmin and xmax options! Cannot fit. Returning nans.\n",
      "Not enough data. Returning nan\n"
     ]
    },
    {
     "name": "stdout",
     "output_type": "stream",
     "text": [
      "Prediction from crackling noise relation: delta =  nan +- nan\n",
      "Fit from of average size given duration points: delta =  1.1227323428382003 +- 0.011239608161856606\n",
      "Calculating best minimal value for power law fit\n",
      "Calculating best minimal value for power law fit\n",
      "Calculating best minimal value for power law fit\n",
      "Calculating best minimal value for power law fit\n",
      "Calculating best minimal value for power law fit\n",
      "Calculating best minimal value for power law fit\n",
      "Prediction from crackling noise relation: delta =  nan +- nan\n",
      "Fit from of average size given duration points: delta =  1.1334072116414717 +- 0.016576806029091513\n"
     ]
    },
    {
     "name": "stderr",
     "output_type": "stream",
     "text": [
      "Less than 2 unique data values left after xmin and xmax options! Cannot fit. Returning nans.\n",
      "Not enough data. Returning nan\n"
     ]
    },
    {
     "name": "stdout",
     "output_type": "stream",
     "text": [
      "\n",
      "\n",
      "########## SUBJ 49 (24/49)##########\n",
      "10 8\n",
      "doing\n",
      "Calculating best minimal value for power law fit\n",
      "Calculating best minimal value for power law fit\n",
      "Prediction from crackling noise relation: delta =  nan +- nan\n",
      "Fit from of average size given duration points: delta =  1.1107996228357253 +- 0.01181441029519594\n"
     ]
    },
    {
     "name": "stderr",
     "output_type": "stream",
     "text": [
      "Less than 2 unique data values left after xmin and xmax options! Cannot fit. Returning nans.\n",
      "Not enough data. Returning nan\n"
     ]
    },
    {
     "name": "stdout",
     "output_type": "stream",
     "text": [
      "Calculating best minimal value for power law fit\n",
      "Calculating best minimal value for power law fit\n",
      "Calculating best minimal value for power law fit\n",
      "Calculating best minimal value for power law fit\n",
      "Calculating best minimal value for power law fit\n",
      "Calculating best minimal value for power law fit\n"
     ]
    },
    {
     "name": "stderr",
     "output_type": "stream",
     "text": [
      "Less than 2 unique data values left after xmin and xmax options! Cannot fit. Returning nans.\n",
      "Not enough data. Returning nan\n"
     ]
    },
    {
     "name": "stdout",
     "output_type": "stream",
     "text": [
      "Prediction from crackling noise relation: delta =  nan +- nan\n",
      "Fit from of average size given duration points: delta =  1.0957514652979317 +- 0.011970468949594101\n",
      "\n",
      "\n",
      "########## SUBJ 52 (25/49)##########\n",
      "10 10\n",
      "doing\n",
      "Calculating best minimal value for power law fit\n",
      "Calculating best minimal value for power law fit\n"
     ]
    },
    {
     "name": "stderr",
     "output_type": "stream",
     "text": [
      "Less than 2 unique data values left after xmin and xmax options! Cannot fit. Returning nans.\n",
      "Not enough data. Returning nan\n"
     ]
    },
    {
     "name": "stdout",
     "output_type": "stream",
     "text": [
      "Prediction from crackling noise relation: delta =  nan +- nan\n",
      "Fit from of average size given duration points: delta =  1.1703453419693484 +- 0.022014433679459468\n",
      "Calculating best minimal value for power law fit\n",
      "Calculating best minimal value for power law fit\n",
      "Calculating best minimal value for power law fit\n",
      "Calculating best minimal value for power law fit\n",
      "Calculating best minimal value for power law fit\n",
      "Calculating best minimal value for power law fit\n",
      "Prediction from crackling noise relation: delta =  nan +- nan\n",
      "Fit from of average size given duration points: delta =  1.1485758875617909 +- 0.011395064495062402\n"
     ]
    },
    {
     "name": "stderr",
     "output_type": "stream",
     "text": [
      "Less than 2 unique data values left after xmin and xmax options! Cannot fit. Returning nans.\n",
      "Not enough data. Returning nan\n"
     ]
    },
    {
     "name": "stdout",
     "output_type": "stream",
     "text": [
      "\n",
      "\n",
      "########## SUBJ 53 (26/49)##########\n",
      "5 9\n",
      "\n",
      "\n",
      "########## SUBJ 56 (27/49)##########\n",
      "10 9\n",
      "doing\n",
      "Calculating best minimal value for power law fit\n",
      "Calculating best minimal value for power law fit\n"
     ]
    },
    {
     "name": "stderr",
     "output_type": "stream",
     "text": [
      "Less than 2 unique data values left after xmin and xmax options! Cannot fit. Returning nans.\n",
      "Not enough data. Returning nan\n"
     ]
    },
    {
     "name": "stdout",
     "output_type": "stream",
     "text": [
      "Prediction from crackling noise relation: delta =  nan +- nan\n",
      "Fit from of average size given duration points: delta =  1.1123462523056005 +- 0.01069384578863444\n",
      "Calculating best minimal value for power law fit\n",
      "Calculating best minimal value for power law fit\n",
      "Calculating best minimal value for power law fit\n",
      "Calculating best minimal value for power law fit\n",
      "Calculating best minimal value for power law fit\n",
      "Calculating best minimal value for power law fit\n"
     ]
    },
    {
     "name": "stderr",
     "output_type": "stream",
     "text": [
      "Less than 2 unique data values left after xmin and xmax options! Cannot fit. Returning nans.\n",
      "Not enough data. Returning nan\n"
     ]
    },
    {
     "name": "stdout",
     "output_type": "stream",
     "text": [
      "Prediction from crackling noise relation: delta =  nan +- nan\n",
      "Fit from of average size given duration points: delta =  1.1559518738834411 +- 0.011658896645814988\n",
      "\n",
      "\n",
      "########## SUBJ 57 (28/49)##########\n",
      "2 10\n",
      "\n",
      "\n",
      "########## SUBJ 58 (29/49)##########\n",
      "10 9\n",
      "doing\n",
      "Calculating best minimal value for power law fit\n",
      "Calculating best minimal value for power law fit\n",
      "Prediction from crackling noise relation: delta =  nan +- nan\n",
      "Fit from of average size given duration points: delta =  1.130727611663294 +- 0.013211918722045706\n",
      "Calculating best minimal value for power law fit\n",
      "xmin progress: 03%\r"
     ]
    },
    {
     "name": "stderr",
     "output_type": "stream",
     "text": [
      "Less than 2 unique data values left after xmin and xmax options! Cannot fit. Returning nans.\n",
      "Not enough data. Returning nan\n"
     ]
    },
    {
     "name": "stdout",
     "output_type": "stream",
     "text": [
      "Calculating best minimal value for power law fit\n",
      "Calculating best minimal value for power law fit\n",
      "Calculating best minimal value for power law fit\n",
      "Calculating best minimal value for power law fit\n",
      "Calculating best minimal value for power law fit\n"
     ]
    },
    {
     "name": "stderr",
     "output_type": "stream",
     "text": [
      "Less than 2 unique data values left after xmin and xmax options! Cannot fit. Returning nans.\n",
      "Not enough data. Returning nan\n"
     ]
    },
    {
     "name": "stdout",
     "output_type": "stream",
     "text": [
      "Prediction from crackling noise relation: delta =  nan +- nan\n",
      "Fit from of average size given duration points: delta =  1.1187358764200555 +- 0.010013724539863272\n",
      "\n",
      "\n",
      "########## SUBJ 60 (30/49)##########\n",
      "10 0\n",
      "\n",
      "\n",
      "########## SUBJ 62 (31/49)##########\n",
      "7 9\n",
      "doing\n",
      "Calculating best minimal value for power law fit\n",
      "Calculating best minimal value for power law fit\n",
      "Prediction from crackling noise relation: delta =  nan +- nan\n",
      "Fit from of average size given duration points: delta =  1.1387611086910339 +- 0.014552472127921814\n",
      "Calculating best minimal value for power law fit\n",
      "xmin progress: 01%\r"
     ]
    },
    {
     "name": "stderr",
     "output_type": "stream",
     "text": [
      "Less than 2 unique data values left after xmin and xmax options! Cannot fit. Returning nans.\n",
      "Not enough data. Returning nan\n"
     ]
    },
    {
     "name": "stdout",
     "output_type": "stream",
     "text": [
      "Calculating best minimal value for power law fit\n",
      "Calculating best minimal value for power law fit\n",
      "Calculating best minimal value for power law fit\n",
      "Calculating best minimal value for power law fit\n",
      "Calculating best minimal value for power law fit\n",
      "Prediction from crackling noise relation: delta =  nan +- nan\n",
      "Fit from of average size given duration points: delta =  1.1387919537803184 +- 0.014855897413400978\n"
     ]
    },
    {
     "name": "stderr",
     "output_type": "stream",
     "text": [
      "Less than 2 unique data values left after xmin and xmax options! Cannot fit. Returning nans.\n",
      "Not enough data. Returning nan\n"
     ]
    },
    {
     "name": "stdout",
     "output_type": "stream",
     "text": [
      "\n",
      "\n",
      "########## SUBJ 63 (32/49)##########\n",
      "1 10\n",
      "\n",
      "\n",
      "########## SUBJ 65 (33/49)##########\n",
      "0 9\n",
      "\n",
      "\n",
      "########## SUBJ 66 (34/49)##########\n",
      "10 10\n",
      "doing\n",
      "Calculating best minimal value for power law fit\n",
      "Calculating best minimal value for power law fit\n",
      "Prediction from crackling noise relation: delta =  nan +- nan\n",
      "Fit from of average size given duration points: delta =  1.1113492390176614 +- 0.0148987227430991\n",
      "Calculating best minimal value for power law fit\n",
      "xmin progress: 07%\r"
     ]
    },
    {
     "name": "stderr",
     "output_type": "stream",
     "text": [
      "Less than 2 unique data values left after xmin and xmax options! Cannot fit. Returning nans.\n",
      "Not enough data. Returning nan\n"
     ]
    },
    {
     "name": "stdout",
     "output_type": "stream",
     "text": [
      "Calculating best minimal value for power law fit\n",
      "Calculating best minimal value for power law fit\n",
      "Calculating best minimal value for power law fit\n",
      "Calculating best minimal value for power law fit\n",
      "Calculating best minimal value for power law fit\n",
      "Prediction from crackling noise relation: delta =  nan +- nan\n",
      "Fit from of average size given duration points: delta =  1.1157222539396325 +- 0.01364400189484006\n"
     ]
    },
    {
     "name": "stderr",
     "output_type": "stream",
     "text": [
      "Less than 2 unique data values left after xmin and xmax options! Cannot fit. Returning nans.\n",
      "Not enough data. Returning nan\n"
     ]
    },
    {
     "name": "stdout",
     "output_type": "stream",
     "text": [
      "\n",
      "\n",
      "########## SUBJ 67 (35/49)##########\n",
      "10 9\n",
      "doing\n",
      "Calculating best minimal value for power law fit\n",
      "Calculating best minimal value for power law fit\n",
      "Prediction from crackling noise relation: delta =  nan +- nan\n",
      "Fit from of average size given duration points: delta =  1.138471035963378 +- 0.013110915671371225\n",
      "Calculating best minimal value for power law fit\n",
      "xmin progress: 11%\r"
     ]
    },
    {
     "name": "stderr",
     "output_type": "stream",
     "text": [
      "Less than 2 unique data values left after xmin and xmax options! Cannot fit. Returning nans.\n",
      "Not enough data. Returning nan\n"
     ]
    },
    {
     "name": "stdout",
     "output_type": "stream",
     "text": [
      "Calculating best minimal value for power law fit\n",
      "Calculating best minimal value for power law fit\n",
      "Calculating best minimal value for power law fit\n",
      "Calculating best minimal value for power law fit\n",
      "Calculating best minimal value for power law fit\n",
      "Prediction from crackling noise relation: delta =  nan +- nan\n",
      "Fit from of average size given duration points: delta =  1.1112899175127318 +- 0.010934443013240206\n"
     ]
    },
    {
     "name": "stderr",
     "output_type": "stream",
     "text": [
      "Less than 2 unique data values left after xmin and xmax options! Cannot fit. Returning nans.\n",
      "Not enough data. Returning nan\n"
     ]
    },
    {
     "name": "stdout",
     "output_type": "stream",
     "text": [
      "\n",
      "\n",
      "########## SUBJ 68 (36/49)##########\n",
      "8 9\n",
      "doing\n",
      "Calculating best minimal value for power law fit\n",
      "Calculating best minimal value for power law fit\n"
     ]
    },
    {
     "name": "stderr",
     "output_type": "stream",
     "text": [
      "Less than 2 unique data values left after xmin and xmax options! Cannot fit. Returning nans.\n",
      "Not enough data. Returning nan\n"
     ]
    },
    {
     "name": "stdout",
     "output_type": "stream",
     "text": [
      "Prediction from crackling noise relation: delta =  nan +- nan\n",
      "Fit from of average size given duration points: delta =  1.1239663774326154 +- 0.01215142978258677\n",
      "Calculating best minimal value for power law fit\n",
      "Calculating best minimal value for power law fit\n",
      "Calculating best minimal value for power law fit\n",
      "Calculating best minimal value for power law fit\n",
      "Calculating best minimal value for power law fit\n",
      "Calculating best minimal value for power law fit\n",
      "Prediction from crackling noise relation: delta =  nan +- nan\n",
      "Fit from of average size given duration points: delta =  1.1431679441095315 +- 0.012833676659202885\n"
     ]
    },
    {
     "name": "stderr",
     "output_type": "stream",
     "text": [
      "Less than 2 unique data values left after xmin and xmax options! Cannot fit. Returning nans.\n",
      "Not enough data. Returning nan\n"
     ]
    },
    {
     "name": "stdout",
     "output_type": "stream",
     "text": [
      "\n",
      "\n",
      "########## SUBJ 69 (37/49)##########\n",
      "3 10\n",
      "\n",
      "\n",
      "########## SUBJ 71 (38/49)##########\n",
      "6 10\n",
      "doing\n",
      "Calculating best minimal value for power law fit\n",
      "Calculating best minimal value for power law fit\n",
      "Prediction from crackling noise relation: delta =  nan +- nan\n",
      "Fit from of average size given duration points: delta =  1.1601367128991158 +- 0.018533875777352236\n",
      "Calculating best minimal value for power law fit\n",
      "xmin progress: 08%\r"
     ]
    },
    {
     "name": "stderr",
     "output_type": "stream",
     "text": [
      "Less than 2 unique data values left after xmin and xmax options! Cannot fit. Returning nans.\n",
      "Not enough data. Returning nan\n"
     ]
    },
    {
     "name": "stdout",
     "output_type": "stream",
     "text": [
      "Calculating best minimal value for power law fit\n",
      "Calculating best minimal value for power law fit\n",
      "Calculating best minimal value for power law fit\n",
      "Calculating best minimal value for power law fit\n",
      "Calculating best minimal value for power law fit\n",
      "Prediction from crackling noise relation: delta =  nan +- nan\n",
      "Fit from of average size given duration points: delta =  1.1446456873384439 +- 0.013727759030680551\n"
     ]
    },
    {
     "name": "stderr",
     "output_type": "stream",
     "text": [
      "Less than 2 unique data values left after xmin and xmax options! Cannot fit. Returning nans.\n",
      "Not enough data. Returning nan\n"
     ]
    },
    {
     "name": "stdout",
     "output_type": "stream",
     "text": [
      "\n",
      "\n",
      "########## SUBJ 14 (39/49)##########\n",
      "5 10\n",
      "doing\n",
      "Calculating best minimal value for power law fit\n",
      "Calculating best minimal value for power law fit\n",
      "Prediction from crackling noise relation: delta =  nan +- nan\n",
      "Fit from of average size given duration points: delta =  1.0608754319810272 +- 0.010918664470215915\n",
      "Calculating best minimal value for power law fit\n",
      "xmin progress: 00%\r"
     ]
    },
    {
     "name": "stderr",
     "output_type": "stream",
     "text": [
      "Less than 2 unique data values left after xmin and xmax options! Cannot fit. Returning nans.\n",
      "Not enough data. Returning nan\n"
     ]
    },
    {
     "name": "stdout",
     "output_type": "stream",
     "text": [
      "Calculating best minimal value for power law fit\n",
      "Calculating best minimal value for power law fit\n",
      "Calculating best minimal value for power law fit\n",
      "Calculating best minimal value for power law fit\n",
      "Calculating best minimal value for power law fit\n"
     ]
    },
    {
     "name": "stderr",
     "output_type": "stream",
     "text": [
      "Less than 2 unique data values left after xmin and xmax options! Cannot fit. Returning nans.\n",
      "Not enough data. Returning nan\n"
     ]
    },
    {
     "name": "stdout",
     "output_type": "stream",
     "text": [
      "Prediction from crackling noise relation: delta =  nan +- nan\n",
      "Fit from of average size given duration points: delta =  1.1258493984261737 +- 0.01064900945570947\n",
      "\n",
      "\n",
      "########## SUBJ 20 (40/49)##########\n",
      "0 10\n",
      "\n",
      "\n",
      "########## SUBJ 22 (41/49)##########\n",
      "8 8\n",
      "doing\n",
      "Calculating best minimal value for power law fit\n",
      "Calculating best minimal value for power law fit\n",
      "Prediction from crackling noise relation: delta =  nan +- nan\n",
      "Fit from of average size given duration points: delta =  1.0531412374596143 +- 0.00945182749246599\n",
      "Calculating best minimal value for power law fit\n",
      "xmin progress: 00%\r"
     ]
    },
    {
     "name": "stderr",
     "output_type": "stream",
     "text": [
      "Less than 2 unique data values left after xmin and xmax options! Cannot fit. Returning nans.\n",
      "Not enough data. Returning nan\n"
     ]
    },
    {
     "name": "stdout",
     "output_type": "stream",
     "text": [
      "Calculating best minimal value for power law fit\n",
      "Calculating best minimal value for power law fit\n",
      "Calculating best minimal value for power law fit\n",
      "Calculating best minimal value for power law fit\n",
      "Calculating best minimal value for power law fit\n",
      "Prediction from crackling noise relation: delta =  nan +- nan\n",
      "Fit from of average size given duration points: delta =  1.0845202888908594 +- 0.011484690258485045\n"
     ]
    },
    {
     "name": "stderr",
     "output_type": "stream",
     "text": [
      "Less than 2 unique data values left after xmin and xmax options! Cannot fit. Returning nans.\n",
      "Not enough data. Returning nan\n"
     ]
    },
    {
     "name": "stdout",
     "output_type": "stream",
     "text": [
      "\n",
      "\n",
      "########## SUBJ 27 (42/49)##########\n",
      "7 9\n",
      "doing\n",
      "Calculating best minimal value for power law fit\n",
      "Calculating best minimal value for power law fit\n",
      "Prediction from crackling noise relation: delta =  nan +- nan\n",
      "Fit from of average size given duration points: delta =  1.1255829892075553 +- 0.011761899272472625\n",
      "Calculating best minimal value for power law fit\n",
      "xmin progress: 04%\r"
     ]
    },
    {
     "name": "stderr",
     "output_type": "stream",
     "text": [
      "Less than 2 unique data values left after xmin and xmax options! Cannot fit. Returning nans.\n",
      "Not enough data. Returning nan\n"
     ]
    },
    {
     "name": "stdout",
     "output_type": "stream",
     "text": [
      "Calculating best minimal value for power law fit\n",
      "Calculating best minimal value for power law fit\n",
      "Calculating best minimal value for power law fit\n",
      "Calculating best minimal value for power law fit\n",
      "Calculating best minimal value for power law fit\n",
      "Prediction from crackling noise relation: delta =  nan +- nan\n",
      "Fit from of average size given duration points: delta =  1.1320609263723929 +- 0.009849455075036966\n"
     ]
    },
    {
     "name": "stderr",
     "output_type": "stream",
     "text": [
      "Less than 2 unique data values left after xmin and xmax options! Cannot fit. Returning nans.\n",
      "Not enough data. Returning nan\n"
     ]
    },
    {
     "name": "stdout",
     "output_type": "stream",
     "text": [
      "\n",
      "\n",
      "########## SUBJ 28 (43/49)##########\n",
      "3 10\n",
      "\n",
      "\n",
      "########## SUBJ 29 (44/49)##########\n",
      "4 4\n",
      "\n",
      "\n",
      "########## SUBJ 31 (45/49)##########\n",
      "4 8\n",
      "\n",
      "\n",
      "########## SUBJ 41 (46/49)##########\n",
      "10 9\n",
      "doing\n",
      "Calculating best minimal value for power law fit\n",
      "Calculating best minimal value for power law fit\n"
     ]
    },
    {
     "name": "stderr",
     "output_type": "stream",
     "text": [
      "Less than 2 unique data values left after xmin and xmax options! Cannot fit. Returning nans.\n",
      "Not enough data. Returning nan\n"
     ]
    },
    {
     "name": "stdout",
     "output_type": "stream",
     "text": [
      "Prediction from crackling noise relation: delta =  nan +- nan\n",
      "Fit from of average size given duration points: delta =  1.1408902303579092 +- 0.012369695962364301\n",
      "Calculating best minimal value for power law fit\n",
      "Calculating best minimal value for power law fit\n",
      "Calculating best minimal value for power law fit\n",
      "Calculating best minimal value for power law fit\n",
      "Calculating best minimal value for power law fit\n",
      "Calculating best minimal value for power law fit\n"
     ]
    },
    {
     "name": "stderr",
     "output_type": "stream",
     "text": [
      "Less than 2 unique data values left after xmin and xmax options! Cannot fit. Returning nans.\n",
      "Not enough data. Returning nan\n"
     ]
    },
    {
     "name": "stdout",
     "output_type": "stream",
     "text": [
      "Prediction from crackling noise relation: delta =  nan +- nan\n",
      "Fit from of average size given duration points: delta =  1.1413445163202351 +- 0.01009114269125942\n",
      "\n",
      "\n",
      "########## SUBJ 46 (47/49)##########\n",
      "8 10\n",
      "doing\n",
      "Calculating best minimal value for power law fit\n",
      "Calculating best minimal value for power law fit\n"
     ]
    },
    {
     "name": "stderr",
     "output_type": "stream",
     "text": [
      "Less than 2 unique data values left after xmin and xmax options! Cannot fit. Returning nans.\n",
      "Not enough data. Returning nan\n"
     ]
    },
    {
     "name": "stdout",
     "output_type": "stream",
     "text": [
      "Prediction from crackling noise relation: delta =  nan +- nan\n",
      "Fit from of average size given duration points: delta =  1.1418078642937983 +- 0.02189039724476534\n",
      "Calculating best minimal value for power law fit\n",
      "Calculating best minimal value for power law fit\n",
      "Calculating best minimal value for power law fit\n",
      "Calculating best minimal value for power law fit\n",
      "Calculating best minimal value for power law fit\n",
      "Calculating best minimal value for power law fit\n"
     ]
    },
    {
     "name": "stderr",
     "output_type": "stream",
     "text": [
      "Less than 2 unique data values left after xmin and xmax options! Cannot fit. Returning nans.\n",
      "Not enough data. Returning nan\n"
     ]
    },
    {
     "name": "stdout",
     "output_type": "stream",
     "text": [
      "Prediction from crackling noise relation: delta =  nan +- nan\n",
      "Fit from of average size given duration points: delta =  1.1101734845461566 +- 0.010951922953858438\n",
      "\n",
      "\n",
      "########## SUBJ 64 (48/49)##########\n",
      "9 10\n",
      "doing\n",
      "Calculating best minimal value for power law fit\n",
      "Calculating best minimal value for power law fit\n",
      "Prediction from crackling noise relation: delta =  nan +- nan\n",
      "Fit from of average size given duration points: delta =  1.1308734127323974 +- 0.010839572876341942\n",
      "Calculating best minimal value for power law fit\n",
      "xmin progress: 01%\r"
     ]
    },
    {
     "name": "stderr",
     "output_type": "stream",
     "text": [
      "Less than 2 unique data values left after xmin and xmax options! Cannot fit. Returning nans.\n",
      "Not enough data. Returning nan\n"
     ]
    },
    {
     "name": "stdout",
     "output_type": "stream",
     "text": [
      "Calculating best minimal value for power law fit\n",
      "Calculating best minimal value for power law fit\n",
      "Calculating best minimal value for power law fit\n",
      "Calculating best minimal value for power law fit\n",
      "Calculating best minimal value for power law fit\n",
      "Prediction from crackling noise relation: delta =  nan +- nan\n",
      "Fit from of average size given duration points: delta =  1.1377206374447912 +- 0.011801472377115407\n"
     ]
    },
    {
     "name": "stderr",
     "output_type": "stream",
     "text": [
      "Less than 2 unique data values left after xmin and xmax options! Cannot fit. Returning nans.\n",
      "Not enough data. Returning nan\n"
     ]
    },
    {
     "name": "stdout",
     "output_type": "stream",
     "text": [
      "\n",
      "\n",
      "########## SUBJ 70 (49/49)##########\n",
      "0 3\n"
     ]
    }
   ],
   "source": [
    "### COMPARISON BETWEEN SILENCE1 AND SILENCE2\n",
    "\n",
    "import os\n",
    "import numpy as np\n",
    "#import scipy.signal as ss\n",
    "import scipy.io\n",
    "#from dfa_functions import *\n",
    "\n",
    "subjs  = [5,6,9,11,12,13,16,17,18,19,21,23,24,25,30,33,34,35,37,39,40,45,47,49,52,53,56,57,58,60,62,63,65,66,67,68,69,71,14,20,22,27,28,29,31,41,46,64,70]\n",
    "print(len(subjs))\n",
    "import numpy as np\n",
    "import matplotlib.pyplot as plt\n",
    "import matplotlib.gridspec as gridspec\n",
    "from scipy.io import loadmat\n",
    "from scipy.signal import welch\n",
    "import pandas as pd\n",
    "import mne\n",
    "\n",
    "\n",
    "ch_names = ['F7', 'F3', 'Fz', 'F4', 'F8', 'T7', 'C3', 'Cz', 'C4', 'T8']\n",
    "alphas1 = []\n",
    "taus1 =[]\n",
    "\n",
    "deltas1 = []\n",
    "deltas2 = []\n",
    "\n",
    "\n",
    "alphas2 = []\n",
    "taus2 =[]\n",
    "\n",
    "\n",
    "\n",
    "alphas1_surr = []\n",
    "taus1_surr =[]\n",
    "\n",
    "deltas1_surr = []\n",
    "deltas2_surr = []\n",
    "\n",
    "\n",
    "alphas2_surr = []\n",
    "taus2_surr =[]\n",
    "ss =[]\n",
    "dd =[]\n",
    "ss2,dd2 =[],[]\n",
    "#good_sub = []\n",
    "filterr = True\n",
    "\n",
    "ch_names = np.array(ch_names)\n",
    "sfreq = 500\n",
    "info = mne.create_info(ch_names = list(ch_names),\n",
    "                       ch_types = 'eeg',\n",
    "                       sfreq = sfreq)\n",
    "o = 0\n",
    "for i, subj in enumerate(subjs):\n",
    "    print(f'\\n\\n########## SUBJ {subj} ({i+1}/{len(subjs)})##########')\n",
    "    s1 = loadmat(f'BB{subj}_Filtered (1-100)/Silence (500)/BB{subj} silence1 (continuous).mat')\n",
    "    s2 = loadmat(f'BB{subj}_Filtered (1-100)/Silence (500)/BB{subj} silence2 (continuous).mat')\n",
    "    data = s1['eeg_rest'].astype('float')\n",
    "    rej, idx_down, idx_up = find_bad_channels(data, verbose = False)\n",
    "    if idx_down > 0 or idx_up < data.shape[1]:\n",
    "        if idx_down > 0:\n",
    "            idx_down +=1\n",
    "        if idx_up < data.shape[1]:\n",
    "            idx_up -= 1\n",
    "        data = data[:,idx_down:idx_up]\n",
    "        rej, idx_down, idx_up = find_bad_channels(data, verbose = False)\n",
    "    idx_accepted = np.sort([np.where(ch_names == i)[0][0] for i in list(set(ch_names) - set(rej))])\n",
    "    data = data[list(idx_accepted), idx_down:idx_up]\n",
    "    nchan = data.shape[0]\n",
    "    \n",
    "    data2 = s2['eeg_rest'].astype('float')\n",
    "    rej, idx_down, idx_up = find_bad_channels(data2, verbose = False)\n",
    "    if idx_down > 0 or idx_up < data2.shape[1]:\n",
    "        if idx_down > 0:\n",
    "            idx_down +=1\n",
    "        if idx_up < data2.shape[1]:\n",
    "            idx_up -= 1\n",
    "        data2 = data2[:,idx_down:idx_up]\n",
    "        rej, idx_down, idx_up = find_bad_channels(data2, verbose = False)\n",
    "    idx_accepted = np.sort([np.where(ch_names == i)[0][0] for i in list(set(ch_names) - set(rej))])\n",
    "    data2 = data2[list(idx_accepted), idx_down:idx_up]\n",
    "    nchan2 = data2.shape[0]\n",
    "    print(nchan, nchan2)\n",
    "    if nchan >= 5 and nchan2 >=5 and subj != 53:\n",
    "   \n",
    "        b,a = signal.butter(2, 50, btype = 'lowpass',fs = 500)\n",
    "\n",
    "        if filterr:\n",
    "            dataa = signal.filtfilt(b,a, data, axis = -1)\n",
    "            dataa2 = signal.filtfilt(b,a, data2, axis = -1)\n",
    "        else:\n",
    "            dataa = data\n",
    "            dataa2 = data2\n",
    "        \n",
    "        print('doing')\n",
    "        s,d = compute_avalanches(dataa.T,fs = 500,theta =2,discretized=False)\n",
    "        s2,d2 =  compute_avalanches(dataa2.T,fs = 500,theta =2,discretized=False)\n",
    "        ss.append(s)\n",
    "        dd.append(d)\n",
    "        ss2.append(s2)\n",
    "        dd2.append(d2)\n",
    "        \n",
    "            \n",
    "        v = scaling(s,d*1000, plotto = False)\n",
    "\n",
    "        deltas1.append(v[2])\n",
    "\n",
    "        good_sub.append(subj)\n",
    "        data = s\n",
    "        fit = pwl.Fit(data,xmin =(1,100),xmax= max(data),parameter_range= {\"alpha\":[1,4]},discrete = False)\n",
    "        exp = fit.power_law.alpha\n",
    "        alphas1.append(exp)\n",
    "        \n",
    "        data = d*1000\n",
    "        fit = pwl.Fit(data,xmin =(10,20),xmax= max(data),parameter_range= {\"alpha\":[1,4]},discrete = False)\n",
    "        exp = fit.power_law.alpha\n",
    "        taus1.append(exp)\n",
    "\n",
    "        data = s2\n",
    "        fit = pwl.Fit(data,xmin =(1,100),xmax= max(data),parameter_range= {\"alpha\":[1,4]},discrete = False)\n",
    "        exp = fit.power_law.alpha\n",
    "        alphas2.append(exp)\n",
    "        \n",
    "        data = d2*1000\n",
    "        fit = pwl.Fit(data,xmin =(10,20),xmax= max(data),parameter_range= {\"alpha\":[1,4]},discrete = False)\n",
    "        exp = fit.power_law.alpha\n",
    "        taus2.append(exp)\n",
    "        \n",
    "        \n",
    "        v = scaling(s2,d2*1000, plotto = False)\n",
    "        deltas2.append(v[2])\n",
    "        \n",
    "        \n",
    "        \n",
    "        \n",
    "        s,d = compute_avalanches(AAFT_surrogates(dataa).T,theta=2, fs = 500,discretized=False)\n",
    "        s2,d2 = compute_avalanches(AAFT_surrogates(dataa2).T,theta =2, fs =500,discretized=False)\n",
    "        #ss.append(s)\n",
    "        #dd.append(d)\n",
    "        #ss2.append(s2)\n",
    "        ##dd2.append(d2)\n",
    "        \n",
    "        \"\"\"\n",
    "        v = scaling(s,d*0.002, plotto = False)\n",
    "\n",
    "        deltas1_surr.append(v[2])\n",
    "\n",
    "        #good_sub.append(subj)\n",
    "        data = s\n",
    "        fit = pwl.Fit(data,xmin =(1,100),xmax= max(data),parameter_range= {\"alpha\":[1,4]},discrete = False)\n",
    "        exp = fit.power_law.alpha\n",
    "        alphas1_surr.append(exp)\n",
    "        \n",
    "        data = d*0.002\n",
    "        fit = pwl.Fit(data,xmin =(0,0.05),xmax= max(data),parameter_range= {\"alpha\":[1,4]},discrete = False)\n",
    "        exp = fit.power_law.alpha\n",
    "        taus1_surr.append(exp)\n",
    "\n",
    "        data = s2\n",
    "        fit = pwl.Fit(data,xmin =(1,100),xmax= max(data),parameter_range= {\"alpha\":[1,4]},discrete = False)\n",
    "        exp = fit.power_law.alpha\n",
    "        alphas2_surr.append(exp)\n",
    "        \n",
    "        data = d2*0.002\n",
    "        fit = pwl.Fit(data,xmin =(0,0.05),xmax= max(data),parameter_range= {\"alpha\":[1,4]},discrete = False)\n",
    "        exp = fit.power_law.alpha\n",
    "        taus2_surr.append(exp)\n",
    "        \n",
    "        \n",
    "        v = scaling(s2,d2*0.002, plotto = False)\n",
    "        deltas2_surr.append(v[2])\n",
    "        \"\"\"\n",
    "        \n",
    "\n",
    "        o += 1\n",
    "        "
   ]
  },
  {
   "cell_type": "code",
   "execution_count": 38,
   "id": "f7e6e820",
   "metadata": {},
   "outputs": [
    {
     "data": {
      "text/plain": [
       "0.05"
      ]
     },
     "execution_count": 38,
     "metadata": {},
     "output_type": "execute_result"
    }
   ],
   "source": [
    "50*1e-3"
   ]
  },
  {
   "cell_type": "code",
   "execution_count": 39,
   "id": "c5a71e19",
   "metadata": {},
   "outputs": [
    {
     "name": "stdout",
     "output_type": "stream",
     "text": [
      "Calculating best minimal value for power law fit\n",
      "xmin progress: 00%\r",
      "xmin progress: 05%\r",
      "xmin progress: 10%\r",
      "xmin progress: 15%\r",
      "xmin progress: 21%\r",
      "xmin progress: 26%\r",
      "xmin progress: 31%\r",
      "xmin progress: 36%\r",
      "xmin progress: 42%\r",
      "xmin progress: 47%\r",
      "xmin progress: 52%\r",
      "xmin progress: 57%\r",
      "xmin progress: 63%\r",
      "xmin progress: 68%\r",
      "xmin progress: 73%\r",
      "xmin progress: 78%\r",
      "xmin progress: 84%\r",
      "xmin progress: 89%\r",
      "xmin progress: 94%\r"
     ]
    },
    {
     "data": {
      "image/png": "[encoded data removed]",
      "text/plain": [
       "<Figure size 640x480 with 1 Axes>"
      ]
     },
     "metadata": {},
     "output_type": "display_data"
    }
   ],
   "source": [
    "fit = pwl.Fit(dd[15]*1000, discrete = False,xmax =max(dd[15]*1000), xmin=(10,20))\n",
    "fit.power_law.plot_pdf(color ='red', linestyle ='--')\n",
    "pwl.plot_pdf(dd[15]*1000, color ='red');"
   ]
  },
  {
   "cell_type": "code",
   "execution_count": 33,
   "id": "17937ded",
   "metadata": {},
   "outputs": [
    {
     "name": "stdout",
     "output_type": "stream",
     "text": [
      "Calculating best minimal value for power law fit\n",
      "xmin progress: 99%\r"
     ]
    },
    {
     "data": {
      "image/png": "[encoded data removed]",
      "text/plain": [
       "<Figure size 640x480 with 1 Axes>"
      ]
     },
     "metadata": {},
     "output_type": "display_data"
    }
   ],
   "source": [
    "fit = pwl.Fit(ss[15], discrete = False,xmax =max(ss[15]), xmin = (1,100), )\n",
    "fit.power_law.plot_pdf(color ='red', linestyle ='--')\n",
    "pwl.plot_pdf(ss[15], color ='red');"
   ]
  },
  {
   "cell_type": "code",
   "execution_count": 24,
   "id": "f9b14414",
   "metadata": {},
   "outputs": [
    {
     "name": "stdout",
     "output_type": "stream",
     "text": [
      "Calculating best minimal value for power law fit\n",
      "xmin progress: 99%\r"
     ]
    },
    {
     "data": {
      "image/png": "[encoded data removed]",
      "text/plain": [
       "<Figure size 640x480 with 1 Axes>"
      ]
     },
     "metadata": {},
     "output_type": "display_data"
    }
   ],
   "source": [
    "fit = pwl.Fit(ss[16], discrete = False,xmax =max(ss[0]), xmin = (1,100), )\n",
    "fit.power_law.plot_pdf(color ='red', linestyle ='--')\n",
    "pwl.plot_pdf(ss[16], color ='red');"
   ]
  },
  {
   "cell_type": "code",
   "execution_count": 77,
   "id": "d3e952c4",
   "metadata": {},
   "outputs": [
    {
     "name": "stdout",
     "output_type": "stream",
     "text": [
      "Calculating best minimal value for power law fit\n",
      "xmin progress: 99%\r"
     ]
    },
    {
     "data": {
      "image/png": "[encoded data removed]",
      "text/plain": [
       "<Figure size 640x480 with 1 Axes>"
      ]
     },
     "metadata": {},
     "output_type": "display_data"
    }
   ],
   "source": [
    "fit = pwl.Fit(ss[16], discrete = False,xmax =max(ss[0]), xmin = (1,100), )\n",
    "fit.power_law.plot_pdf(color ='red', linestyle ='--')\n",
    "pwl.plot_pdf(ss[16], color ='red');"
   ]
  },
  {
   "cell_type": "code",
   "execution_count": 55,
   "id": "d754d4b6",
   "metadata": {},
   "outputs": [],
   "source": [
    "good_sub = np.array([ 5,  6,  9, 11, 12, 16, 17, 18, 19, 23, 30, 33, 35, 37, 40, 45, 47,\n",
    "       49, 52, 56, 58, 62, 66, 67, 68, 71, 14, 22, 27, 41, 46, 64])"
   ]
  },
  {
   "cell_type": "code",
   "execution_count": 45,
   "id": "cae48c5c",
   "metadata": {},
   "outputs": [],
   "source": [
    "### ORDER OF THE LANGUAGES\n",
    "order = pd.read_excel('../../../Downloads/ordine lingue.xlsx')#1 en, 2 fr, 3 sp"
   ]
  },
  {
   "cell_type": "code",
   "execution_count": 46,
   "id": "0d8025b1",
   "metadata": {},
   "outputs": [],
   "source": [
    "\n",
    "subject_french = order[order[\"last language\"]==2][\"subject\"].values\n",
    "\n",
    "subject_en = order[order[\"last language\"]==1][\"subject\"].values\n",
    "\n",
    "subject_span = order[order[\"last language\"]==3][\"subject\"].values"
   ]
  },
  {
   "cell_type": "code",
   "execution_count": 47,
   "id": "2ae4ad91",
   "metadata": {},
   "outputs": [],
   "source": [
    "sub_fren = (list(set(subject_french) & set(good_sub)))\n",
    "sub_span = (list(set(subject_span) & set(good_sub)))\n",
    "sub_en = (list(set(subject_en) & set(good_sub)))\n"
   ]
  },
  {
   "cell_type": "code",
   "execution_count": 54,
   "id": "84096d4c",
   "metadata": {},
   "outputs": [
    {
     "data": {
      "text/plain": [
       "[12, 9, 11]"
      ]
     },
     "execution_count": 54,
     "metadata": {},
     "output_type": "execute_result"
    }
   ],
   "source": [
    "list(map(len, [sub_fren, sub_span, sub_en]))"
   ]
  },
  {
   "cell_type": "code",
   "execution_count": 56,
   "id": "fd01a57d",
   "metadata": {},
   "outputs": [],
   "source": [
    "good_sub = np.asarray(good_sub)\n",
    "alphas1 = np.asarray(alphas1)\n",
    "alphas2 = np.asarray(alphas2)\n",
    "taus1 = np.asarray(taus1)\n",
    "taus2 = np.asarray(taus2)\n",
    "deltas1 = np.asarray(deltas1)\n",
    "deltas2 = np.asarray(deltas2)\n",
    "#index. = np.where()"
   ]
  },
  {
   "cell_type": "code",
   "execution_count": 57,
   "id": "b3f61188",
   "metadata": {},
   "outputs": [],
   "source": [
    "good_sub = np.asarray(good_sub)\n",
    "alphas1_surr = np.asarray(alphas1_surr)\n",
    "alphas2_surr = np.asarray(alphas2_surr)\n",
    "taus1_surr = np.asarray(taus1_surr)\n",
    "taus2_surr = np.asarray(taus2_surr)\n",
    "deltas1_surr = np.asarray(deltas1_surr)\n",
    "deltas2_surr = np.asarray(deltas2_surr)\n",
    "#index. = np.where()"
   ]
  },
  {
   "cell_type": "code",
   "execution_count": 47,
   "id": "d1d97853",
   "metadata": {},
   "outputs": [],
   "source": []
  },
  {
   "cell_type": "code",
   "execution_count": 43,
   "id": "942c84a2",
   "metadata": {},
   "outputs": [
    {
     "name": "stdout",
     "output_type": "stream",
     "text": [
      "[28, 29, 19, 2, 63, 3, 4, 22, 5, 13, 33, 25]\n"
     ]
    }
   ],
   "source": [
    "h = []\n",
    "for k in sub_fren:\n",
    "    #if k in good_sub:\n",
    "    #h.append(np.where(k == good_sub)[0])\n",
    "    h.append(good_sub.tolist().index(k))\n",
    "print(h)        \n",
    "#np.concatenate(h)"
   ]
  },
  {
   "cell_type": "code",
   "execution_count": 56,
   "id": "16135404",
   "metadata": {},
   "outputs": [],
   "source": [
    "ll = np.concatenate([np.where(good_sub==i)[0] for i in sub_fren])"
   ]
  },
  {
   "cell_type": "code",
   "execution_count": 52,
   "id": "320ad775",
   "metadata": {},
   "outputs": [],
   "source": [
    "def funct2(sub, vec1):\n",
    "    index = np.concatenate([np.where(good_sub==i)[0] for i in sub])\n",
    "    #index = np.where(good_sub, sub_fren)\n",
    "    al1 = vec1[index]\n",
    "    #al2 = vec2[index]\n",
    "    return al1\n",
    "    #print(stats."
   ]
  },
  {
   "cell_type": "code",
   "execution_count": 53,
   "id": "12258b04",
   "metadata": {},
   "outputs": [],
   "source": [
    "import scipy.stats as stats \n",
    "\n",
    "def funct(sub, vec1, vec2, option ='greater'):\n",
    "    index = np.concatenate([np.where(good_sub==i)[0] for i in sub])\n",
    "    #index = np.where(good_sub, sub_fren)\n",
    "    al1 = vec1[index]\n",
    "    al2 = vec2[index]\n",
    "    print(stats.ttest_rel(al1, al2,alternative = option) )\n",
    "    "
   ]
  },
  {
   "cell_type": "code",
   "execution_count": 51,
   "id": "9dc314ab",
   "metadata": {},
   "outputs": [
    {
     "data": {
      "text/plain": [
       "32"
      ]
     },
     "execution_count": 51,
     "metadata": {},
     "output_type": "execute_result"
    }
   ],
   "source": [
    "len(alphas1)"
   ]
  },
  {
   "cell_type": "code",
   "execution_count": 58,
   "id": "5cadd34e",
   "metadata": {},
   "outputs": [
    {
     "data": {
      "text/plain": [
       "(1.8811409511623463, 1.8340026356961037)"
      ]
     },
     "execution_count": 58,
     "metadata": {},
     "output_type": "execute_result"
    }
   ],
   "source": [
    "funct2(sub_fren, alphas1).mean(),funct2(sub_fren, alphas2).mean()"
   ]
  },
  {
   "cell_type": "code",
   "execution_count": 59,
   "id": "23e49f95",
   "metadata": {},
   "outputs": [
    {
     "data": {
      "text/plain": [
       "(1.8811409511623463, 1.8340026356961037)"
      ]
     },
     "execution_count": 59,
     "metadata": {},
     "output_type": "execute_result"
    }
   ],
   "source": [
    "funct2(sub_fren, alphas1).mean(),funct2(sub_fren, alphas2).mean()"
   ]
  },
  {
   "cell_type": "code",
   "execution_count": 60,
   "id": "1f6a9659",
   "metadata": {},
   "outputs": [
    {
     "ename": "IndexError",
     "evalue": "index 22 is out of bounds for axis 0 with size 0",
     "output_type": "error",
     "traceback": [
      "\u001b[1;31m---------------------------------------------------------------------------\u001b[0m",
      "\u001b[1;31mIndexError\u001b[0m                                Traceback (most recent call last)",
      "Cell \u001b[1;32mIn[60], line 1\u001b[0m\n\u001b[1;32m----> 1\u001b[0m \u001b[43mfunct\u001b[49m\u001b[43m(\u001b[49m\u001b[43msub_fren\u001b[49m\u001b[43m,\u001b[49m\u001b[43malphas1_surr\u001b[49m\u001b[43m,\u001b[49m\u001b[43malphas2_surr\u001b[49m\u001b[43m)\u001b[49m\n\u001b[0;32m      2\u001b[0m funct(sub_en,alphas1_surr,alphas2_surr)\n\u001b[0;32m      3\u001b[0m funct(sub_span,alphas1_surr,alphas2_surr)\n",
      "Cell \u001b[1;32mIn[53], line 6\u001b[0m, in \u001b[0;36mfunct\u001b[1;34m(sub, vec1, vec2, option)\u001b[0m\n\u001b[0;32m      4\u001b[0m index \u001b[38;5;241m=\u001b[39m np\u001b[38;5;241m.\u001b[39mconcatenate([np\u001b[38;5;241m.\u001b[39mwhere(good_sub\u001b[38;5;241m==\u001b[39mi)[\u001b[38;5;241m0\u001b[39m] \u001b[38;5;28;01mfor\u001b[39;00m i \u001b[38;5;129;01min\u001b[39;00m sub])\n\u001b[0;32m      5\u001b[0m \u001b[38;5;66;03m#index = np.where(good_sub, sub_fren)\u001b[39;00m\n\u001b[1;32m----> 6\u001b[0m al1 \u001b[38;5;241m=\u001b[39m \u001b[43mvec1\u001b[49m\u001b[43m[\u001b[49m\u001b[43mindex\u001b[49m\u001b[43m]\u001b[49m\n\u001b[0;32m      7\u001b[0m al2 \u001b[38;5;241m=\u001b[39m vec2[index]\n\u001b[0;32m      8\u001b[0m \u001b[38;5;28mprint\u001b[39m(stats\u001b[38;5;241m.\u001b[39mttest_rel(al1, al2,alternative \u001b[38;5;241m=\u001b[39m option) )\n",
      "\u001b[1;31mIndexError\u001b[0m: index 22 is out of bounds for axis 0 with size 0"
     ]
    }
   ],
   "source": [
    "funct(sub_fren,alphas1_surr,alphas2_surr)\n",
    "funct(sub_en,alphas1_surr,alphas2_surr)\n",
    "funct(sub_span,alphas1_surr,alphas2_surr)"
   ]
  },
  {
   "cell_type": "code",
   "execution_count": 61,
   "id": "f5ea147c",
   "metadata": {},
   "outputs": [
    {
     "name": "stdout",
     "output_type": "stream",
     "text": [
      "TtestResult(statistic=1.3777125045795462, pvalue=0.09783716801228601, df=11)\n",
      "TtestResult(statistic=0.6823373058012522, pvalue=0.25526069291276055, df=10)\n",
      "TtestResult(statistic=0.5530267026631586, pvalue=0.2976783422460515, df=8)\n"
     ]
    }
   ],
   "source": [
    "funct(sub_fren,alphas1,alphas2) ## FRENCH IS SIGNIFICANT\n",
    "funct(sub_en,alphas1,alphas2)\n",
    "funct(sub_span,alphas1,alphas2)"
   ]
  },
  {
   "cell_type": "code",
   "execution_count": 62,
   "id": "abaab6c5",
   "metadata": {},
   "outputs": [
    {
     "name": "stdout",
     "output_type": "stream",
     "text": [
      "TtestResult(statistic=2.4384596571374884, pvalue=0.016456236050573298, df=11)\n",
      "TtestResult(statistic=-0.7672534347572963, pvalue=0.7696689918708033, df=10)\n",
      "TtestResult(statistic=0.47917087616593185, pvalue=0.32232054163902346, df=8)\n"
     ]
    }
   ],
   "source": [
    "funct(sub_fren,taus1,taus2)\n",
    "funct(sub_en,taus1,taus2)\n",
    "funct(sub_span,taus1,taus2)"
   ]
  },
  {
   "cell_type": "code",
   "execution_count": 36,
   "id": "eb1f1046",
   "metadata": {},
   "outputs": [
    {
     "data": {
      "text/plain": [
       "32"
      ]
     },
     "execution_count": 36,
     "metadata": {},
     "output_type": "execute_result"
    }
   ],
   "source": [
    "len(alphas1)"
   ]
  },
  {
   "cell_type": "code",
   "execution_count": 63,
   "id": "abacd76a",
   "metadata": {},
   "outputs": [
    {
     "name": "stdout",
     "output_type": "stream",
     "text": [
      "TtestResult(statistic=-2.422126679578291, pvalue=0.016939509288611865, df=11)\n",
      "TtestResult(statistic=-1.356032081779882, pvalue=0.10245846852888373, df=10)\n",
      "TtestResult(statistic=-1.1220743389996204, pvalue=0.14718849652939475, df=8)\n"
     ]
    }
   ],
   "source": [
    "funct(sub_fren,deltas1,deltas2, 'less') # FRENCH IS SIGNIFICANTE\n",
    "funct(sub_en,deltas1,deltas2, 'less')\n",
    "funct(sub_span,deltas1,deltas2, 'less')"
   ]
  },
  {
   "cell_type": "code",
   "execution_count": 64,
   "id": "3097b60b",
   "metadata": {},
   "outputs": [
    {
     "data": {
      "text/plain": [
       "TtestResult(statistic=1.526059832873198, pvalue=0.0685670393201223, df=31)"
      ]
     },
     "execution_count": 64,
     "metadata": {},
     "output_type": "execute_result"
    }
   ],
   "source": [
    "# Importing library \n",
    "import scipy.stats as stats \n",
    "\n",
    "stats.ttest_rel(alphas1, alphas2,alternative = 'greater') \n"
   ]
  },
  {
   "cell_type": "code",
   "execution_count": 65,
   "id": "3ad2e65d",
   "metadata": {},
   "outputs": [
    {
     "data": {
      "text/plain": [
       "TtestResult(statistic=-2.878713675631491, pvalue=0.003586863422049976, df=31)"
      ]
     },
     "execution_count": 65,
     "metadata": {},
     "output_type": "execute_result"
    }
   ],
   "source": [
    "# Importing library \n",
    "import scipy.stats as stats \n",
    "\n",
    "\n",
    "stats.ttest_rel(deltas1, deltas2,alternative = 'less') "
   ]
  },
  {
   "cell_type": "code",
   "execution_count": 66,
   "id": "31d643e7",
   "metadata": {},
   "outputs": [
    {
     "data": {
      "text/plain": [
       "TtestResult(statistic=1.2571582185414638, pvalue=0.10904289875124906, df=31)"
      ]
     },
     "execution_count": 66,
     "metadata": {},
     "output_type": "execute_result"
    }
   ],
   "source": [
    "# Importing library \n",
    "import scipy.stats as stats \n",
    ")\n",
    "\n",
    "stats.ttest_rel(taus1, taus2,alternative = 'greater') "
   ]
  },
  {
   "cell_type": "code",
   "execution_count": 38,
   "id": "267f82d1",
   "metadata": {},
   "outputs": [
    {
     "data": {
      "text/plain": [
       "TtestResult(statistic=-1.015727777328112, pvalue=0.3173776932365956, df=32)"
      ]
     },
     "execution_count": 38,
     "metadata": {},
     "output_type": "execute_result"
    }
   ],
   "source": [
    "# Importing library \n",
    "import scipy.stats as stats \n",
    "\n",
    "\n",
    "stats.ttest_rel(taus1, taus2,) "
   ]
  },
  {
   "cell_type": "code",
   "execution_count": 31,
   "id": "581f0a18",
   "metadata": {},
   "outputs": [
    {
     "data": {
      "text/plain": [
       "TtestResult(statistic=-2.6655888161610273, pvalue=0.005972661835473558, df=32)"
      ]
     },
     "execution_count": 31,
     "metadata": {},
     "output_type": "execute_result"
    }
   ],
   "source": [
    "stats.ttest_rel(deltas1, deltas2,alternative = 'less') "
   ]
  },
  {
   "cell_type": "code",
   "execution_count": 39,
   "id": "1d84ea6a",
   "metadata": {},
   "outputs": [],
   "source": [
    "plt.rcParams['font.size'] = 17"
   ]
  },
  {
   "cell_type": "code",
   "execution_count": 67,
   "id": "ef9e6096",
   "metadata": {},
   "outputs": [],
   "source": [
    "a_frenc1 = funct2(sub_fren, np.asarray(alphas1))\n",
    "a_frenc2 = funct2(sub_fren, np.asarray(alphas2))\n",
    "\n",
    "a_span1 = funct2(sub_span, np.asarray(alphas1))\n",
    "a_span2 = funct2(sub_span, np.asarray(alphas2))\n",
    "\n",
    "a_eng1 = funct2(sub_en, np.asarray(alphas1))\n",
    "a_eng2 = funct2(sub_en, np.asarray(alphas2))"
   ]
  },
  {
   "cell_type": "code",
   "execution_count": 68,
   "id": "213bb6d7",
   "metadata": {},
   "outputs": [
    {
     "data": {
      "image/png": "[encoded data removed]",
      "text/plain": [
       "<Figure size 600x800 with 6 Axes>"
      ]
     },
     "metadata": {},
     "output_type": "display_data"
    }
   ],
   "source": [
    "plt.rcParams['font.size'] = 16\n",
    "fig = plt.figure(figsize = (6,8))\n",
    "ax1 = fig.add_subplot(3,2,1)\n",
    "ax2 = fig.add_subplot(3,2,2)\n",
    "ax3 = fig.add_subplot(3,2,3)\n",
    "ax4 = fig.add_subplot(3,2,4)\n",
    "ax5 = fig.add_subplot(3,2,5)\n",
    "ax6 = fig.add_subplot(3,2,6)\n",
    "\n",
    "\n",
    "ax1.hist(a_frenc1, color = 'green', alpha = .6, bins = 15)\n",
    "ax2.hist(a_frenc2, color = 'darkgreen', alpha = .6, bins = 15)\n",
    "ax1.set_title('Silence 1 French')\n",
    "ax2.set_title('Silence 2 French')\n",
    "\n",
    "ax1.set_xlabel('Size exponent')\n",
    "ax2.set_xlabel('Size exponent')\n",
    "\n",
    "ax3.hist(a_span1, color = 'blue', alpha = .6, bins = 15)\n",
    "ax4.hist(a_span2, color = 'darkblue', alpha = .6, bins = 15)\n",
    "ax3.set_title('Silence 1 Span')\n",
    "ax4.set_title('Silence 2 Span')\n",
    "\n",
    "ax3.set_xlabel('Size exponent')\n",
    "ax4.set_xlabel('Size exponent')\n",
    "\n",
    "ax5.hist(a_eng1, color = 'red', alpha = .6, bins = 15)\n",
    "ax6.hist(a_eng2, color = 'darkred', alpha = .6, bins = 15)\n",
    "ax5.set_title('Silence 1 Eng')\n",
    "ax6.set_title('Silence 2 Eng')\n",
    "\n",
    "ax5.set_xlabel('Size exponent')\n",
    "ax6.set_xlabel('Size exponent')\n",
    "plt.tight_layout();"
   ]
  },
  {
   "cell_type": "code",
   "execution_count": 69,
   "id": "4eeaf621",
   "metadata": {},
   "outputs": [
    {
     "data": {
      "image/png": "[encoded data removed]",
      "text/plain": [
       "<Figure size 600x800 with 6 Axes>"
      ]
     },
     "metadata": {},
     "output_type": "display_data"
    }
   ],
   "source": [
    "fig = plt.figure(figsize = (6,8))\n",
    "ax1 = fig.add_subplot(3,2,1)\n",
    "ax2 = fig.add_subplot(3,2,2)\n",
    "ax3 = fig.add_subplot(3,2,3)\n",
    "ax4 = fig.add_subplot(3,2,4)\n",
    "ax5 = fig.add_subplot(3,2,5)\n",
    "ax6 = fig.add_subplot(3,2,6)\n",
    "\n",
    "\n",
    "ax1.hist(alphas1, color = 'green', alpha = .6, bins = 15)\n",
    "ax2.hist(alphas2, color = 'red', alpha = .6, bins = 15)\n",
    "ax1.set_title('Silence 1')\n",
    "ax2.set_title('Silence 2')\n",
    "\n",
    "ax1.set_xlabel('Size exponent')\n",
    "ax2.set_xlabel('Size exponent')\n",
    "\n",
    "\n",
    "#ax3.set_title('Silence 1')\n",
    "#ax4.set_title('Silence 2')\n",
    "ax3.hist(taus1, color = 'green', alpha = .6, bins = 15)\n",
    "ax4.hist(taus2, color = 'red', alpha = .6, bins = 15)\n",
    "ax3.set_xlabel('Lifetimes exponent')\n",
    "ax4.set_xlabel('Lifetimes exponent')\n",
    "\n",
    "\n",
    "#ax5.set_title('Silence 1')\n",
    "#ax6.set_title('Silence 2')\n",
    "ax5.hist(deltas1, color = 'green', alpha = .6, bins = 15)\n",
    "ax6.hist(deltas2, color = 'red', alpha = .6, bins = 15)\n",
    "ax5.set_xlabel('Deltas exponent');\n",
    "ax6.set_xlabel('Deltas exponent');\n",
    "plt.tight_layout();\n"
   ]
  },
  {
   "cell_type": "code",
   "execution_count": null,
   "id": "6ad113f9",
   "metadata": {},
   "outputs": [],
   "source": []
  }
 ],
 "metadata": {
  "kernelspec": {
   "display_name": "Python 3 (ipykernel)",
   "language": "python",
   "name": "python3"
  },
  "language_info": {
   "codemirror_mode": {
    "name": "ipython",
    "version": 3
   },
   "file_extension": ".py",
   "mimetype": "text/x-python",
   "name": "python",
   "nbconvert_exporter": "python",
   "pygments_lexer": "ipython3",
   "version": "3.9.16"
  }
 },
 "nbformat": 4,
 "nbformat_minor": 5
}
