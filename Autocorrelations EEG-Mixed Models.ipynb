{
 "cells": [
  {
   "cell_type": "code",
   "execution_count": 18,
   "id": "658dce1e",
   "metadata": {},
   "outputs": [],
   "source": [
    "#from ava_functions import *"
   ]
  },
  {
   "cell_type": "code",
   "execution_count": 19,
   "id": "7d878c0a",
   "metadata": {},
   "outputs": [],
   "source": [
    "## rigettando anche sulla base del ppp"
   ]
  },
  {
   "cell_type": "code",
   "execution_count": 20,
   "id": "e751f9aa",
   "metadata": {},
   "outputs": [],
   "source": [
    "#import os\n",
    "#os.chdir('../../../Desktop/Criticality in barrel cortex')"
   ]
  },
  {
   "cell_type": "code",
   "execution_count": 21,
   "id": "ed66101f",
   "metadata": {},
   "outputs": [],
   "source": [
    "#from power import *\n",
    "##from powerlaw_fit import *\n",
    "#from stats import *\n",
    "import matplotlib.cm as cm\n",
    "cmap = cm.tab10"
   ]
  },
  {
   "cell_type": "code",
   "execution_count": 22,
   "id": "94afaa1d",
   "metadata": {},
   "outputs": [],
   "source": [
    "#from ava_functions import *"
   ]
  },
  {
   "cell_type": "code",
   "execution_count": 23,
   "id": "40fa280a",
   "metadata": {},
   "outputs": [],
   "source": [
    "## rigettando anche sulla base del ppp"
   ]
  },
  {
   "cell_type": "code",
   "execution_count": 24,
   "id": "1a1156bc",
   "metadata": {},
   "outputs": [],
   "source": [
    "#import os\n",
    "#os.chdir('../../../Desktop/Criticality in barrel cortex')"
   ]
  },
  {
   "cell_type": "code",
   "execution_count": 25,
   "id": "6b8065e7",
   "metadata": {},
   "outputs": [],
   "source": [
    "def x_autocorr_sm_ext(x_data,nrep = 100, q = [2.5,97.5]):\n",
    "    '''\n",
    "    autocorrelation using statsmodels.\n",
    "    faster for longer timeseries dueto use of fft\n",
    "    - x_data timeseries\n",
    "    - nrep, int, number of random realizations for null model \n",
    "    - q, percentiles for error\n",
    "\n",
    "    Support: tau= 1,2,...,N/2 where N=len(x_data)\n",
    "    '''\n",
    "\n",
    "    N = int( len(x_data)/2 )\n",
    "    x = np.arange(N+1)\n",
    "    y_original = np.zeros((nrep,N+1))\n",
    "    y_random = np.zeros((nrep,N+1))\n",
    "    for i_nrep in range(nrep):\n",
    "        ## periodic boundary conditions with randomly selected starting point\n",
    "        i_rand = np.random.randint(N)\n",
    "        x_data_i = np.append(x_data[i_rand:],x_data[:i_rand])\n",
    "        y_original[i_nrep,:] = acf(x_data_i,fft=True,nlags=N)#[1:]\n",
    "\n",
    "        ## randomize\n",
    "        np.random.shuffle(x_data_i)\n",
    "        y_random[i_nrep,:] =  acf(x_data_i,fft=True,nlags=N)#[1:]\n",
    "\n",
    "\n",
    "    y_mu = np.mean(y_original,axis=0)\n",
    "    y_1,y_2 = np.percentile(y_original,q=q,axis=0)\n",
    "\n",
    "    y_mu_rand = np.mean(y_random,axis=0)\n",
    "    y_1_rand,y_2_rand = np.percentile(y_random,q=q,axis=0)\n",
    "\n",
    "    result = {}\n",
    "    result['tau'] = x\n",
    "    result['C'] = [y_mu,y_1,y_2]\n",
    "    result['C_rand'] = [y_mu_rand,y_1_rand,y_2_rand]\n",
    "    result['tmp'] = [y_original,y_random]\n",
    "    return result"
   ]
  },
  {
   "cell_type": "code",
   "execution_count": 26,
   "id": "8f1ee7e2",
   "metadata": {},
   "outputs": [],
   "source": [
    "#from power import *\n",
    "##from powerlaw_fit import *\n",
    "#from stats import *\n",
    "import matplotlib.cm as cm\n",
    "cmap = cm.tab10"
   ]
  },
  {
   "cell_type": "code",
   "execution_count": 27,
   "id": "7e4ca6d5",
   "metadata": {},
   "outputs": [
    {
     "name": "stdout",
     "output_type": "stream",
     "text": [
      "C:\\Users\\Benedetta\\Downloads\\NewbornEEGData-20220203T094950Z-001\\NewbornEEGData\n"
     ]
    }
   ],
   "source": [
    "cd \"../../../Downloads/NewbornEEGData-20220203T094950Z-001/NewbornEEGData/\""
   ]
  },
  {
   "cell_type": "code",
   "execution_count": 28,
   "id": "2e2e116f",
   "metadata": {},
   "outputs": [],
   "source": [
    "import numpy as np\n",
    "import matplotlib.pyplot as plt\n",
    "import os\n",
    "import pandas as pd\n",
    "import powerlaw as pwl"
   ]
  },
  {
   "cell_type": "code",
   "execution_count": 29,
   "id": "ed9be5ac",
   "metadata": {},
   "outputs": [],
   "source": [
    "good_sub = np.array([ 5,  6,  9, 11, 12, 16, 17, 18, 19, 23, 30, 33, 35, 37, 40, 45, 47,\n",
    "       49, 52, 56, 58, 62, 66, 67, 68, 71, 14, 22, 27, 41, 46, 64])"
   ]
  },
  {
   "cell_type": "code",
   "execution_count": 15,
   "id": "2b18173f",
   "metadata": {},
   "outputs": [],
   "source": [
    "##  diceva di controllare time scales david poeppel"
   ]
  },
  {
   "cell_type": "code",
   "execution_count": 31,
   "id": "d63b372c",
   "metadata": {},
   "outputs": [],
   "source": [
    "from dfa_functions import *"
   ]
  },
  {
   "cell_type": "code",
   "execution_count": 34,
   "id": "5cdaa273",
   "metadata": {},
   "outputs": [
    {
     "name": "stdout",
     "output_type": "stream",
     "text": [
      "5 180.286 188.766\n",
      "6 180.236 188.316\n",
      "9 180.27 189.194\n",
      "11 180.272 189.74\n",
      "12 180.322 189.458\n",
      "13 180.288 188.45\n",
      "16 180.32 189.32\n",
      "17 180.238 186.714\n",
      "18 180.274 187.092\n",
      "19 180.278 189.276\n",
      "21 180.284 188.636\n",
      "23 180.266 189.13\n",
      "24 180.25 190.528\n",
      "25 180.324 187.892\n",
      "30 180.288 189.442\n",
      "33 180.246 194.122\n",
      "34 180.25 188.17\n",
      "35 180.354 188.032\n",
      "37 180.246 188.344\n",
      "39 180.322 190.292\n",
      "40 180.33 188.484\n",
      "45 180.274 189.766\n",
      "47 180.262 207.378\n",
      "49 180.32 201.342\n",
      "52 180.286 208.028\n",
      "53 180.29 90.598\n",
      "56 180.258 189.098\n",
      "57 180.264 188.76\n",
      "58 180.25 189.528\n",
      "60 180.15 192.734\n",
      "62 180.288 208.422\n",
      "63 180.298 200.088\n",
      "65 180.294 189.378\n",
      "66 180.27 192.518\n",
      "67 180.278 191.454\n",
      "68 180.338 190.718\n",
      "69 180.288 190.558\n",
      "71 180.294 200.258\n",
      "14 180.222 187.464\n",
      "20 180.25 188.85\n",
      "22 180.306 187.944\n",
      "27 180.268 187.53\n",
      "28 180.298 186.792\n",
      "29 180.338 154.954\n",
      "31 180.28 189.89\n",
      "41 180.234 190.122\n",
      "46 180.284 210.666\n",
      "64 180.27 191.812\n",
      "70 180.298 198.828\n"
     ]
    }
   ],
   "source": [
    "DFA_1 =[[] for i in range(len(good_sub))]\n",
    "DFA_2 =[[] for i in range(len(good_sub))]\n",
    "o = 0\n",
    "for i, subj in enumerate(subjs):\n",
    "    dfa_sil_params = [[] for r in range(len(bands)-1)]\n",
    "    dfa_sil2_params = [[] for r in range(len(bands)-1)]\n",
    "    #print(f'\\n\\n########## SUBJ {subj} ({i+1}/{len(subjs)})##########')\n",
    "    s1 = loadmat(f'BB{subj}_Filtered (1-100)/Silence (500)/BB{subj} silence1 (continuous).mat')\n",
    "    s2 = loadmat(f'BB{subj}_Filtered (1-100)/Silence (500)/BB{subj} silence2 (continuous).mat')\n",
    "    data = s1['eeg_rest'].astype('float')\n",
    "    data2 = s2['eeg_rest'].astype('float')\n",
    "    print(subj,data.shape[1]/500, data2.shape[1]/500)"
   ]
  },
  {
   "cell_type": "code",
   "execution_count": 5,
   "id": "2a4ba237",
   "metadata": {},
   "outputs": [],
   "source": [
    "from statsmodels.tsa.stattools import acf\n",
    "def x_autocorr_sm(x_data,nrep = 100, q = [2.5,97.5]):\n",
    "    '''\n",
    "    autocorrelation using statsmodels.\n",
    "    faster for longer timeseries dueto use of fft\n",
    "    - x_data timeseries\n",
    "    - nrep, int, number of random realizations for null model \n",
    "    - q, percentiles for error\n",
    "\n",
    "    Support: tau= 1,2,...,N/2 where N=len(x_data)\n",
    "    '''\n",
    "\n",
    "    N = int( len(x_data)/2 )\n",
    "    x = np.arange(N+1)\n",
    "    y = acf(x_data,fft=True,nlags=N)\n",
    "    \n",
    "    N = int( len(x_data)/2 )\n",
    "    x = np.arange(N+1)\n",
    "    y_original = np.zeros((nrep,N+1))\n",
    "    \n",
    "    for i_nrep in range(nrep):\n",
    "        ## periodic boundary conditions with randomly selected starting point\n",
    "        i_rand = np.random.randint(N)\n",
    "        x_data_i = np.append(x_data[i_rand:],x_data[:i_rand])\n",
    "        y_original[i_nrep,:] = acf(x_data_i,fft=True,nlags=N)#[1:]\n",
    "\n",
    "    \n",
    "    y_mu = np.mean(y_original,axis=0)\n",
    "    y_1,y_2 = np.percentile(y_original,q=q,axis=0)\n",
    "    result = {}\n",
    "    result['tau'] = x\n",
    "    result['C'] = np.array([y_mu,y_1,y_2])\n",
    "    return result"
   ]
  },
  {
   "cell_type": "code",
   "execution_count": 6,
   "id": "46d98ebd",
   "metadata": {},
   "outputs": [],
   "source": [
    "def plot_corr(x, y_mu, y_1,y_2, y_mu_rand, y_1_rand,y_2_rand, tau_star):\n",
    "    plt.rcParams['font.size'] = 18\n",
    "    fig, ax = plt.subplots(nrows=1, ncols=1)#, figsize=fig_size)\n",
    "    lw = 2\n",
    "    alpha_val = .5\n",
    "    ## Plot the empirical autocorrelation\n",
    "    x_ = x\n",
    "    y_ = y_mu\n",
    "    z1_ = y_1\n",
    "    z2_ = y_2\n",
    "    c_ = cmap(0)\n",
    "    ax.plot(x_,y_,c = c_,lw=lw, label = 'Data')\n",
    "    ax.fill_between(x_,z1_,z2_,color=c_,alpha=alpha_val,lw=0)\n",
    "\n",
    "\n",
    "\n",
    "    ## Plot the randomized autocorrelation\n",
    "    x_ = x\n",
    "    y_ = y_mu_rand\n",
    "    z1_ = y_1_rand\n",
    "    z2_ = y_2_rand\n",
    "    c_ = cmap(1)\n",
    "    ax.plot(x_,y_,c = c_,lw=lw, label = 'Randomized')\n",
    "    ax.fill_between(x_,z1_,z2_,color=c_,alpha=alpha_val,lw=0)\n",
    "\n",
    "\n",
    "    ax.plot([tau_star,tau_star],[-1,1],lw=1,color='black',ls=':')\n",
    "\n",
    "\n",
    "    ## Layout stuff\n",
    "    ax.legend(loc='upper right')\n",
    "\n",
    "    ax.set_xscale('log')\n",
    "    # ax.set_yscale('log')\n",
    "\n",
    "    ax.set_xlabel(r'Time Lag, $\\tau$')#,labelpad=0)\n",
    "    ax.set_ylabel(r'$C(\\tau)$')\n",
    "    ax.set_ylim(-0.1,0.3)\n",
    "\n",
    "\n",
    "    x_annot_tau = 0.8\n",
    "    y_annot_tau = 0.6\n",
    "    ax.annotate(r'$\\tau^*=%s$'%(int(tau_star)),xy=(x_annot_tau,y_annot_tau),xycoords = 'axes fraction')"
   ]
  },
  {
   "cell_type": "code",
   "execution_count": 7,
   "id": "30703d6d",
   "metadata": {},
   "outputs": [],
   "source": [
    "def x_autocorr_sm_ext(x_data,nrep = 100, q = [2.5,97.5]):\n",
    "    '''\n",
    "    autocorrelation using statsmodels.\n",
    "    faster for longer timeseries dueto use of fft\n",
    "    - x_data timeseries\n",
    "    - nrep, int, number of random realizations for null model \n",
    "    - q, percentiles for error\n",
    "\n",
    "    Support: tau= 1,2,...,N/2 where N=len(x_data)\n",
    "    '''\n",
    "\n",
    "    N = int( len(x_data)/2 )\n",
    "    x = np.arange(N+1)\n",
    "    y_original = np.zeros((nrep,N+1))\n",
    "    y_random = np.zeros((nrep,N+1))\n",
    "    for i_nrep in range(nrep):\n",
    "        ## periodic boundary conditions with randomly selected starting point\n",
    "        i_rand = np.random.randint(N)\n",
    "        x_data_i = np.append(x_data[i_rand:],x_data[:i_rand])\n",
    "        y_original[i_nrep,:] = acf(x_data_i,fft=True,nlags=N)#[1:]\n",
    "\n",
    "        ## randomize\n",
    "        np.random.shuffle(x_data_i)\n",
    "        y_random[i_nrep,:] =  acf(x_data_i,fft=True,nlags=N)#[1:]\n",
    "\n",
    "\n",
    "    y_mu = np.mean(y_original,axis=0)\n",
    "    y_1,y_2 = np.percentile(y_original,q=q,axis=0)\n",
    "\n",
    "    y_mu_rand = np.mean(y_random,axis=0)\n",
    "    y_1_rand,y_2_rand = np.percentile(y_random,q=q,axis=0)\n",
    "\n",
    "    result = {}\n",
    "    result['tau'] = x\n",
    "    result['C'] = [y_mu,y_1,y_2]\n",
    "    result['C_rand'] = [y_mu_rand,y_1_rand,y_2_rand]\n",
    "    result['tmp'] = [y_original,y_random]\n",
    "    return result"
   ]
  },
  {
   "cell_type": "code",
   "execution_count": 8,
   "id": "001ae6c3",
   "metadata": {},
   "outputs": [
    {
     "name": "stdout",
     "output_type": "stream",
     "text": [
      "C:\\Users\\Benedetta\\Downloads\\NewbornEEGData-20220203T094950Z-001\\NewbornEEGData\n"
     ]
    }
   ],
   "source": [
    "cd \"../../../Downloads/NewbornEEGData-20220203T094950Z-001/NewbornEEGData/\""
   ]
  },
  {
   "cell_type": "code",
   "execution_count": 9,
   "id": "aa43ce95",
   "metadata": {},
   "outputs": [],
   "source": [
    "#num: is the baby's number,\n",
    "#sil: is the kind of silence,\n",
    "#theta: is the threshold\n",
    "\n",
    "#The trials of all babies in silence X are contained in the trial_silenceX folder where each column is a good channel series \n",
    "\n",
    "def autocorr_events(fl2, theta, interv):\n",
    "    fl1 =( np.array(fl2)-np.mean(np.array(fl2),0))/(np.std(np.array(fl2),0))\n",
    "    ## non ho diviso per la sd\n",
    "    t=np.arange(0,len(fl1)/500,0.002)\n",
    "    \n",
    "    #We convert the table to an array\n",
    "    fl1 = np.asarray(fl1)\n",
    "    spikes =np.array( [np.array(np.abs(fl1[:,i]) > theta, dtype=float) for i in range(len(fl1[0]))], dtype =int).T\n",
    "    \n",
    "\n",
    "    ev = np.array(np.sum(spikes, axis = 1), dtype = int)\n",
    "    N = spikes.shape[0]\n",
    "\n",
    "    #S_shape_ = np.zeros((N))\n",
    "    #for ch in range(spikes.shape[1]):\n",
    "    #    S_shape_ += spikes[:,ch]\n",
    "    #where_spikes = np.where(S_shape_ != 0)\n",
    "    #interspike_time = (where_spikes - np.roll(where_spikes,1))\n",
    "    #interspike_time = np.delete(interspike_time,0) # remove the first element\n",
    "    #mean_interspike_time = np.sum(interspike_time)/len(interspike_time)\n",
    "    #mean_interspike_time = int(round(mean_interspike_time))\n",
    "    #mean_interspike_time\n",
    "    #print(mean_interspike_time)\n",
    "    if len(ev)%interv > 0:\n",
    "\n",
    "        add = (int(len(ev)/interv) + 1)* interv - len(ev)\n",
    "        ev = ev.tolist()\n",
    "        for i in range(add):\n",
    "            ev = ev + [0]\n",
    "\n",
    "    ev = np.asarray(ev).reshape(int(len(ev)/interv), interv)\n",
    "    new = np.array(np.sum(ev,axis = 1),dtype = int)\n",
    "    \n",
    "    \n",
    "    v = x_autocorr_sm(new)  \n",
    "\n",
    "\n",
    "    return v['C'], v['tau']"
   ]
  },
  {
   "cell_type": "code",
   "execution_count": 10,
   "id": "11cd668f",
   "metadata": {},
   "outputs": [],
   "source": [
    "def calculate_events(fl2, theta, interv):\n",
    "    fl1 =( np.array(fl2)-np.mean(np.array(fl2),0))/(np.std(np.array(fl2),0))\n",
    "    t=np.arange(0,len(fl1)/500,0.002)\n",
    "    \n",
    "    #We convert the table to an array\n",
    "    fl1 = np.asarray(fl1)\n",
    "    spikes =np.array( [np.array(np.abs(fl1[:,i]) > theta, dtype=float) for i in range(len(fl1[0]))], dtype =int).T\n",
    "\n",
    "    ev = np.array(np.sum(spikes, axis = 1), dtype = int)\n",
    "    N = spikes.shape[0]\n",
    "    #print(mean_interspike_time)\n",
    "    if len(ev)%interv > 0:\n",
    "\n",
    "        add = (int(len(ev)/interv) + 1)* interv - len(ev)\n",
    "        ev = ev.tolist()\n",
    "        for i in range(add):\n",
    "            ev = ev + [0]\n",
    "\n",
    "    ev = np.asarray(ev).reshape(int(len(ev)/interv), interv)\n",
    "    new = np.array(np.sum(ev,axis = 1),dtype = int)\n",
    "    return new"
   ]
  },
  {
   "cell_type": "code",
   "execution_count": 11,
   "id": "1efb459f",
   "metadata": {},
   "outputs": [],
   "source": [
    "import numpy as np\n",
    "import matplotlib.pyplot as plt\n",
    "import os\n",
    "import pandas as pd\n",
    "import powerlaw as pwl"
   ]
  },
  {
   "cell_type": "code",
   "execution_count": 21,
   "id": "b5a8414d",
   "metadata": {},
   "outputs": [],
   "source": [
    "good_sub = np.array([ 5,  6,  9, 11, 12, 16, 17, 18, 19, 23, 30, 33, 35, 37, 40, 45, 47,\n",
    "       49, 52, 56, 58, 62, 66, 67, 68, 71, 14, 22, 27, 41, 46, 64])"
   ]
  },
  {
   "cell_type": "code",
   "execution_count": 13,
   "id": "68cdd9f8",
   "metadata": {
    "scrolled": true
   },
   "outputs": [
    {
     "name": "stdout",
     "output_type": "stream",
     "text": [
      "[22, 23, 13, 2, 29, 3, 4, 16, 5, 7, 27, 19]\n"
     ]
    }
   ],
   "source": [
    "## ORDER OF THE LANGUAGES\n",
    "order = pd.read_excel('../../../Downloads/ordine lingue.xlsx')#1 en, 2 fr, 3 sp\n",
    "\n",
    "\n",
    "subject_french = order[order[\"last language\"]==2][\"subject\"].values\n",
    "\n",
    "subject_en = order[order[\"last language\"]==1][\"subject\"].values\n",
    "\n",
    "subject_span = order[order[\"last language\"]==3][\"subject\"].values\n",
    "\n",
    "sub_fren = (list(set(subject_french) & set(good_sub)))\n",
    "sub_span = (list(set(subject_span) & set(good_sub)))\n",
    "sub_en = (list(set(subject_en) & set(good_sub)))\n",
    "\n",
    "\n",
    "good_sub = np.asarray(good_sub)\n",
    "\n",
    "#index. = np.where()\n",
    "\n",
    "type(good_sub)\n",
    "\n",
    "h = []\n",
    "for k in sub_fren:\n",
    "    #if k in good_sub:\n",
    "    #h.append(np.where(k == good_sub)[0])\n",
    "    h.append(good_sub.tolist().index(k))\n",
    "print(h)        \n",
    "#np.concatenate(h)\n",
    "\n",
    "ll = np.concatenate([np.where(good_sub==i)[0] for i in sub_fren])\n",
    "\n",
    "ll\n",
    "\n",
    "def funct(sub, vec1, vec2):\n",
    "    index = np.concatenate([np.where(good_sub==i)[0] for i in sub])\n",
    "    #index = np.where(good_sub, sub_fren)\n",
    "    al1 = vec1[index]\n",
    "    al2 = vec2[index]\n",
    "    print(stats.ttest_rel(al1, al2,alternative = 'less') )\n",
    "    \n",
    "    \n",
    "\n",
    "def funct2(sub, vec1):\n",
    "    index = np.concatenate([np.where(good_sub==i)[0] for i in sub])\n",
    "    #index = np.where(good_sub, sub_fren)\n",
    "    al1 = vec1[index]\n",
    "    #al2 = vec2[index]\n",
    "    return al1\n",
    "    #print(stats.ttest_rel(al1, al2,alternative = 'less') )\n",
    "    "
   ]
  },
  {
   "cell_type": "code",
   "execution_count": 15,
   "id": "8a3d4e67",
   "metadata": {},
   "outputs": [],
   "source": [
    "import scipy.io\n",
    "import scipy.signal\n",
    "from scipy.signal import argrelextrema\n",
    "from scipy.optimize import curve_fit\n",
    "from statsmodels.tsa.stattools import acf, ccf\n",
    "def monoExp(t, tau, a):\n",
    "    \"\"\"\n",
    "    Exponetial function, starting at 1 in t = 0.\n",
    "\n",
    "    Parameters\n",
    "    ----------\n",
    "    t : numpy.ndarray\n",
    "        Time.\n",
    "    tau : float\n",
    "        Autocorrelation time.\n",
    "    a : float\n",
    "        Scale factor.\n",
    "\n",
    "    Returns\n",
    "    -------\n",
    "    numpy.ndarray\n",
    "        Exponential function.\n",
    "    \"\"\"\n",
    "    return a*(np.exp(-t/tau) - 1) + 1\n",
    "\n",
    "\n",
    "def monoExp2(t, tau, a):\n",
    "    \"\"\"\n",
    "    Exponetial function, starting at 1 in t = 0.\n",
    "\n",
    "    Parameters\n",
    "    ----------\n",
    "    t : numpy.ndarray\n",
    "        Time.\n",
    "    tau : float\n",
    "        Autocorrelation time.\n",
    "    a : float\n",
    "        Scale factor.\n",
    "\n",
    "    Returns\n",
    "    -------\n",
    "    numpy.ndarray\n",
    "        Exponential function.\n",
    "    \"\"\"\n",
    "    return -(a*(np.exp(-t/tau) - 1) +1)\n",
    "\n",
    "def fit_envelope_autocorr(data, delta_t = 0.002):\n",
    "    \"\"\"\n",
    "    Fit the exponential envelope of the autocorrelation function.\n",
    "\n",
    "    Parameters\n",
    "    ----------\n",
    "    autocorr : numpy.ndarray\n",
    "        Autocorrelation functions. Each row is the autocorrelation\n",
    "        for a given channel.\n",
    "    delta_t : float, optional\n",
    "        Sampling time of the experimental signals.\n",
    "        The default is 0.002s.\n",
    "\n",
    "    Returns\n",
    "    -------\n",
    "    tcorr : numpy.ndarray\n",
    "        Autocorrelation times for each channel.\n",
    "    \"\"\"\n",
    "\n",
    "    maxima = argrelextrema(data, np.greater, order = 100)[0]\n",
    "    minima = argrelextrema(data, np.less, order = 100)[0]\n",
    "\n",
    "    x_to_fit = np.insert(maxima,0,0)\n",
    "    g = data[maxima]\n",
    "    y_to_fit = np.insert(g,0,1)\n",
    "    params_max, _ = curve_fit(monoExp, x_to_fit, y_to_fit, (250, 1))\n",
    "    #print(params_max)\n",
    "    \n",
    "\n",
    "    \n",
    "    x_to_fit = np.insert(minima,0,0)\n",
    "    g = data[minima]\n",
    "    y_to_fit = np.insert(g,0,-1)\n",
    "    params_min, _ = curve_fit(monoExp2, x_to_fit, y_to_fit, (250, 1))\n",
    "    #print(params_min)\n",
    "    \n",
    "    tcorr = (params_max[0] + params_min[0])/2*delta_t\n",
    "            \n",
    "    return tcorr\n",
    "#params_max[0]*delta_t\n"
   ]
  },
  {
   "cell_type": "code",
   "execution_count": null,
   "id": "731c5bde",
   "metadata": {},
   "outputs": [],
   "source": [
    "np.insert(np.array([1,2,3]),0,0)"
   ]
  },
  {
   "cell_type": "markdown",
   "id": "2d3a1d0c",
   "metadata": {},
   "source": [
    "## EEg autocorrelations"
   ]
  },
  {
   "cell_type": "code",
   "execution_count": 16,
   "id": "bc805c1f",
   "metadata": {},
   "outputs": [],
   "source": [
    "### COMPARISON BETWEEN SILENCE1 AND SILENCE2\n",
    "\n",
    "import os\n",
    "import numpy as np\n",
    "import scipy.signal as ss\n",
    "import scipy.io\n",
    "#from dfa_functions import *\n",
    "ch_names = ['F7', 'F3', 'Fz', 'F4', 'F8', 'T7', 'C3', 'Cz', 'C4', 'T8']\n",
    "ch_names = np.array(ch_names)\n",
    "subjs  = [5,6,9,11,12,13,16,17,18,19,21,23,24,25,30,33,34,35,37,39,40,45,47,49,52,53,56,57,58,60,62,63,65,66,67,68,69,71,14,20,22,27,28,29,31,41,46,64,70]\n",
    "## you can discard subjec t 23 and 24\n",
    "\n",
    "import numpy as np\n",
    "import matplotlib.pyplot as plt\n",
    "import matplotlib.gridspec as gridspec\n",
    "from scipy.io import loadmat\n",
    "from scipy.signal import welch\n",
    "import pandas as pd\n",
    "import mne\n",
    "\n",
    "\n",
    "ch_names = np.array(ch_names)\n",
    "sfreq = 500\n",
    "info = mne.create_info(ch_names = list(ch_names),\n",
    "                       ch_types = 'eeg',\n",
    "                       sfreq = sfreq)\n",
    "def find_bad_channels(data, MAX_PEAK=200, MAX_PEAK_SIGMA=15, MAX_DIST_PS=4.5e-3, OFFSET=30, fmin=1, fmax=100, \n",
    "                      verbose = True):\n",
    "    idx_down, idx_up = 0, data.shape[1]\n",
    "    ss = np.std(data)\n",
    "    \n",
    "    psds, freqs = mne.time_frequency.psd_welch(mne.io.RawArray(data/1e6, info, verbose=False), fmin=fmin, fmax=fmax, n_fft=2048, n_overlap=1024/2, verbose=False)\n",
    "    psds = np.log10(psds)\n",
    "    \n",
    "    dist = [((tmp-psds.mean(axis=0))**2).sum() for tmp in psds]\n",
    "    dist = np.array(dist) / (psds**2).sum() * 1e2\n",
    "    \n",
    "    rej = []\n",
    "    for i, ch in enumerate(ch_names):\n",
    "        delta = np.abs(data[i]).max()\n",
    "    \n",
    "        str_rej = str()\n",
    "\n",
    "        if delta>MAX_PEAK or dist[i]>MAX_DIST_PS:\n",
    "            rej.append(ch)\n",
    "            str_rej = '-> rejected'\n",
    "            str_rej += ' ('\n",
    "            if delta>MAX_PEAK:\n",
    "                str_rej += ' peak'\n",
    "                idx = np.where(np.abs(data[i])>MAX_PEAK)[0]\n",
    "            \n",
    "            if dist[i]>MAX_DIST_PS:\n",
    "                str_rej += ' ps'\n",
    "            str_rej += ')'\n",
    "            \n",
    "        if verbose: print(f'* {ch}: max peak = {np.round(delta, 2)} mV ({np.round(delta/ss, 2)} std); dist ps = {np.round(dist[i],3)} '+str_rej)\n",
    "        \n",
    "        if delta>MAX_PEAK:\n",
    "            if np.max(idx)/sfreq<OFFSET:\n",
    "                idx_down = np.max([np.max(idx),idx_down])\n",
    "                if verbose: print(f'[*] WARNING: Peak only in the initial part - time: {np.max(idx)/sfreq} s')\n",
    "            if np.min(idx)/sfreq>180-OFFSET:\n",
    "                idx_up = np.min([np.min(idx),idx_up])\n",
    "                if verbose: print(f'[*] WARNING: Peak only in the last part - time: {np.min(idx)/sfreq} s')\n",
    "    if verbose: print('\\nBad channels:', rej, '\\n')\n",
    "    return rej, idx_down, idx_up"
   ]
  },
  {
   "cell_type": "code",
   "execution_count": 11,
   "id": "1e5b8aea",
   "metadata": {},
   "outputs": [
    {
     "data": {
      "text/plain": [
       "'C:\\\\Users\\\\Benedetta\\\\Downloads\\\\NewbornEEGData-20220203T094950Z-001\\\\NewbornEEGData'"
      ]
     },
     "execution_count": 11,
     "metadata": {},
     "output_type": "execute_result"
    }
   ],
   "source": [
    "##  diceva di controllare time scales david poeppel"
   ]
  },
  {
   "cell_type": "code",
   "execution_count": 206,
   "id": "6a93df0a",
   "metadata": {},
   "outputs": [
    {
     "data": {
      "text/plain": [
       "[5, 6, 9]"
      ]
     },
     "execution_count": 206,
     "metadata": {},
     "output_type": "execute_result"
    }
   ],
   "source": [
    "good_sub"
   ]
  },
  {
   "cell_type": "code",
   "execution_count": 143,
   "id": "7ac4aa9e",
   "metadata": {},
   "outputs": [],
   "source": [
    "tau1s = [[] for i in range(len(good_sub))]\n",
    "tau2s = [[] for i in range(len(good_sub))]\n",
    "interv = 10\n",
    "o = 0\n",
    "#good_sub = []\n",
    "for i, subj in enumerate(subjs):\n",
    "    #print(f'\\n\\n########## SUBJ {subj} ({i+1}/{len(subjs)})##########')\n",
    "    s1 = loadmat(f'BB{subj}_Filtered (1-100)/Silence (500)/BB{subj} silence1 (continuous).mat')\n",
    "    s2 = loadmat(f'BB{subj}_Filtered (1-100)/Silence (500)/BB{subj} silence2 (continuous).mat')\n",
    "    data = s1['eeg_rest'].astype('float')\n",
    "    rej, idx_down, idx_up = find_bad_channels(data, verbose = False)\n",
    "    if idx_down > 0 or idx_up < data.shape[1]:\n",
    "        if idx_down > 0:\n",
    "            idx_down +=1\n",
    "        if idx_up < data.shape[1]:\n",
    "            idx_up -= 1\n",
    "        data = data[:,idx_down:idx_up]\n",
    "        rej, idx_down, idx_up = find_bad_channels(data, verbose = False)\n",
    "    idx_accepted = np.sort([np.where(ch_names == i)[0][0] for i in list(set(ch_names) - set(rej))])\n",
    "    data = data[list(idx_accepted), idx_down:idx_up][:, :71463] #try\n",
    "    nchan = data.shape[0]\n",
    "    \n",
    "    data2 = s2['eeg_rest'].astype('float')\n",
    "    rej, idx_down, idx_up = find_bad_channels(data2, verbose = False)\n",
    "    if idx_down > 0 or idx_up < data2.shape[1]:\n",
    "        if idx_down > 0:\n",
    "            idx_down +=1\n",
    "        if idx_up < data2.shape[1]:\n",
    "            idx_up -= 1\n",
    "        data2 = data2[:,idx_down:idx_up]\n",
    "        rej, idx_down, idx_up = find_bad_channels(data2, verbose = False)\n",
    "    idx_accepted = np.sort([np.where(ch_names == i)[0][0] for i in list(set(ch_names) - set(rej))])\n",
    "    data2 = data2[list(idx_accepted), idx_down:idx_up][:, :71463] #try\n",
    "    nchan2 = data2.shape[0]\n",
    "    \n",
    "    if nchan >= 5 and nchan2 >=5 and subj != 53:\n",
    "        #good_sub.append(subj)\n",
    "        #print(subj, data.shape[1]/500,data2.shape[1]/500)\n",
    "        \n",
    "        for l in range(data.shape[0]):\n",
    "            #print('doing')\n",
    "            res = x_autocorr_sm(data[l])\n",
    "            sig = res['C'][0]\n",
    "            tau1 = fit_envelope_autocorr(sig)\n",
    "            tau1s[o].append(tau1)\n",
    "            \n",
    "            #print(len(c))\n",
    "            \n",
    "        for l in range(data2.shape[0]):\n",
    "\n",
    "            res = x_autocorr_sm(data2[l])\n",
    "            sig = res['C'][0]\n",
    "            tau2 = fit_envelope_autocorr(sig)\n",
    "            tau2s[o].append(tau2)\n",
    "        o+=1\n",
    "    #break"
   ]
  },
  {
   "cell_type": "code",
   "execution_count": 144,
   "id": "2ee02a5b",
   "metadata": {},
   "outputs": [
    {
     "name": "stderr",
     "output_type": "stream",
     "text": [
      "C:\\Users\\Benedetta\\AppData\\Local\\Temp\\ipykernel_16304\\1710546669.py:24: RuntimeWarning: overflow encountered in exp\n",
      "  return a*(np.exp(-t/tau) - 1) + 1\n",
      "C:\\Users\\Benedetta\\anaconda3\\lib\\site-packages\\scipy\\optimize\\_minpack_py.py:906: OptimizeWarning: Covariance of the parameters could not be estimated\n",
      "  warnings.warn('Covariance of the parameters could not be estimated',\n"
     ]
    },
    {
     "name": "stdout",
     "output_type": "stream",
     "text": [
      "7.162315670363384\n"
     ]
    },
    {
     "data": {
      "image/png": "[encoded data removed]",
      "text/plain": [
       "<Figure size 640x480 with 1 Axes>"
      ]
     },
     "metadata": {},
     "output_type": "display_data"
    },
    {
     "data": {
      "image/png": "[encoded data removed]",
      "text/plain": [
       "<Figure size 640x480 with 1 Axes>"
      ]
     },
     "metadata": {},
     "output_type": "display_data"
    }
   ],
   "source": [
    "delta_t = 0.002\n",
    "sig = res['C'][0]\n",
    "\n",
    "maxima = argrelextrema(sig, np.greater, order = 100)[0]\n",
    "minima = argrelextrema(sig, np.less, order = 100)[0]\n",
    "\n",
    "x_to_fit = np.insert(maxima,0,0)\n",
    "g = sig[maxima]\n",
    "y_to_fit = np.insert(g,0,1)\n",
    "params_max, _ = curve_fit(monoExp, x_to_fit, y_to_fit, (250, 1))\n",
    "#print(params_max)\n",
    "\n",
    "\n",
    "\n",
    "x_to_fit = np.insert(minima,0,0)\n",
    "g = sig[minima]\n",
    "y_to_fit = np.insert(g,0,-1)\n",
    "\n",
    "params_min, _ = curve_fit(monoExp, x_to_fit, y_to_fit, (250, 1))\n",
    "params_min_try, _ = curve_fit(monoExp2, x_to_fit, y_to_fit, (250, 1))\n",
    "\n",
    "\n",
    "t = np.arange(0,len(sig),1)/500\n",
    "plt.plot(t,sig)\n",
    "\n",
    "plt.plot(t,monoExp(t,params_max[0]*delta_t,1), color ='green',label ='params_max', lw = 4)\n",
    "\n",
    "plt.plot(t,monoExp2(t,params_min_try[0]*delta_t,1), color ='red', label ='params_min', lw = 3)\n",
    "\n",
    "final_estimate = (params_max[0] + params_min_try[0])/2\n",
    "plt.plot(t,monoExp(t,final_estimate*delta_t,1), color ='orange', label ='mean', lw = 2)\n",
    "\n",
    "\n",
    "plt.legend()\n",
    "plt.xlim(0,5);\n",
    "#par\n",
    "\n",
    "plt.figure()\n",
    "\n",
    "t = np.arange(0,len(sig),1)/500\n",
    "plt.plot(t,sig)\n",
    "\n",
    "plt.plot(t,monoExp(t,params_max[0]*delta_t,1), color ='green',label ='params_max', lw = 3)\n",
    "\n",
    "plt.plot(t,monoExp(t,params_min[0]*delta_t,1), color ='red', label ='params_min', lw = 3)\n",
    "print(params_min[0])\n",
    "final_estimate = (params_max[0] + params_min[0])/2\n",
    "plt.plot(t,monoExp(t,final_estimate*delta_t,1), color ='orange', label ='mean', lw = 1)\n",
    "\n",
    "\n",
    "plt.legend()\n",
    "plt.xlim(0,5);\n",
    "#par"
   ]
  },
  {
   "cell_type": "code",
   "execution_count": null,
   "id": "20c02cff",
   "metadata": {},
   "outputs": [],
   "source": []
  },
  {
   "cell_type": "code",
   "execution_count": 145,
   "id": "36e56c3f",
   "metadata": {},
   "outputs": [
    {
     "name": "stdout",
     "output_type": "stream",
     "text": [
      "[22, 23, 13, 2, 29, 3, 4, 16, 5, 7, 27, 19]\n"
     ]
    }
   ],
   "source": [
    "good_sub = np.asarray(good_sub, dtype = int)\n",
    "## ORDER OF THE LANGUAGES\n",
    "order = pd.read_excel('../../../Downloads/ordine lingue.xlsx')#1 en, 2 fr, 3 sp\n",
    "\n",
    "\n",
    "subject_french = order[order[\"last language\"]==2][\"subject\"].values\n",
    "\n",
    "subject_en = order[order[\"last language\"]==1][\"subject\"].values\n",
    "\n",
    "subject_span = order[order[\"last language\"]==3][\"subject\"].values\n",
    "\n",
    "sub_fren = (list(set(subject_french) & set(good_sub)))\n",
    "sub_span = (list(set(subject_span) & set(good_sub)))\n",
    "sub_en = (list(set(subject_en) & set(good_sub)))\n",
    "\n",
    "\n",
    "good_sub = np.asarray(good_sub)\n",
    "\n",
    "#index. = np.where()\n",
    "\n",
    "type(good_sub)\n",
    "\n",
    "h = []\n",
    "for k in sub_fren:\n",
    "    #if k in good_sub:\n",
    "    #h.append(np.where(k == good_sub)[0])\n",
    "    h.append(good_sub.tolist().index(k))\n",
    "print(h)        \n",
    "#np.concatenate(h)\n",
    "\n",
    "ll = np.concatenate([np.where(good_sub==i)[0] for i in sub_fren])\n",
    "\n",
    "ll\n",
    "\n",
    "def funct(sub, vec1, vec2):\n",
    "    index = np.concatenate([np.where(good_sub==i)[0] for i in sub])\n",
    "    #index = np.where(good_sub, sub_fren)\n",
    "    al1 = vec1[index]\n",
    "    al2 = vec2[index]\n",
    "    print(stats.ttest_rel(al1, al2,alternative = 'less') )\n",
    "    \n",
    "    \n",
    "\n",
    "def funct2(sub, vec1):\n",
    "    index = np.concatenate([np.where(good_sub==i)[0] for i in sub])\n",
    "    #index = np.where(good_sub, sub_fren)\n",
    "    al1 = vec1[index]\n",
    "    #al2 = vec2[index]\n",
    "    return al1\n",
    "    #print(stats.ttest_rel(al1, al2,alternative = 'less') )\n",
    "    a"
   ]
  },
  {
   "cell_type": "code",
   "execution_count": 37,
   "id": "e36d8139",
   "metadata": {},
   "outputs": [
    {
     "data": {
      "text/plain": [
       "(0, 90149)"
      ]
     },
     "execution_count": 37,
     "metadata": {},
     "output_type": "execute_result"
    }
   ],
   "source": [
    "data.shape"
   ]
  },
  {
   "cell_type": "code",
   "execution_count": 38,
   "id": "06eed3d0",
   "metadata": {},
   "outputs": [
    {
     "name": "stderr",
     "output_type": "stream",
     "text": [
      "C:\\Users\\Benedetta\\AppData\\Local\\Temp\\ipykernel_16304\\3755065530.py:24: RuntimeWarning: overflow encountered in exp\n",
      "  return a*(np.exp(-t/tau) - 1) + 1\n",
      "C:\\Users\\Benedetta\\anaconda3\\lib\\site-packages\\scipy\\optimize\\_minpack_py.py:906: OptimizeWarning: Covariance of the parameters could not be estimated\n",
      "  warnings.warn('Covariance of the parameters could not be estimated',\n"
     ]
    }
   ],
   "source": [
    "\n",
    "#res = x_autocorr_sm(data2[l])\n",
    "sig = res['C'][0]\n",
    "tau2 = fit_envelope_autocorr(sig)"
   ]
  },
  {
   "cell_type": "code",
   "execution_count": 41,
   "id": "495541ef",
   "metadata": {},
   "outputs": [
    {
     "data": {
      "text/plain": [
       "0.34567683692820383"
      ]
     },
     "execution_count": 41,
     "metadata": {},
     "output_type": "execute_result"
    }
   ],
   "source": [
    "tau2"
   ]
  },
  {
   "cell_type": "code",
   "execution_count": 50,
   "id": "91b9bba5",
   "metadata": {},
   "outputs": [
    {
     "data": {
      "image/png": "[encoded data removed]",
      "text/plain": [
       "<Figure size 640x480 with 1 Axes>"
      ]
     },
     "metadata": {},
     "output_type": "display_data"
    }
   ],
   "source": [
    "t = np.arange(0,len(sig),1)/500\n",
    "plt.plot(t,sig)\n",
    "\n",
    "plt.plot(t,monoExp(t,tau2,1))\n",
    "plt.xlim(0,5);"
   ]
  },
  {
   "cell_type": "code",
   "execution_count": 88,
   "id": "48eee04c",
   "metadata": {},
   "outputs": [
    {
     "name": "stderr",
     "output_type": "stream",
     "text": [
      "C:\\Users\\Benedetta\\AppData\\Local\\Temp\\ipykernel_16304\\1929512027.py:1: VisibleDeprecationWarning: Creating an ndarray from ragged nested sequences (which is a list-or-tuple of lists-or-tuples-or ndarrays with different lengths or shapes) is deprecated. If you meant to do this, you must specify 'dtype=object' when creating the ndarray.\n",
      "  tau1s = np.asarray(tau1s)\n",
      "C:\\Users\\Benedetta\\AppData\\Local\\Temp\\ipykernel_16304\\1929512027.py:2: VisibleDeprecationWarning: Creating an ndarray from ragged nested sequences (which is a list-or-tuple of lists-or-tuples-or ndarrays with different lengths or shapes) is deprecated. If you meant to do this, you must specify 'dtype=object' when creating the ndarray.\n",
      "  tau2s = np.asarray(tau2s)\n"
     ]
    }
   ],
   "source": []
  },
  {
   "cell_type": "code",
   "execution_count": 146,
   "id": "4ff88c8b",
   "metadata": {},
   "outputs": [
    {
     "name": "stderr",
     "output_type": "stream",
     "text": [
      "C:\\Users\\Benedetta\\AppData\\Local\\Temp\\ipykernel_16304\\2724904959.py:1: VisibleDeprecationWarning: Creating an ndarray from ragged nested sequences (which is a list-or-tuple of lists-or-tuples-or ndarrays with different lengths or shapes) is deprecated. If you meant to do this, you must specify 'dtype=object' when creating the ndarray.\n",
      "  tau1s = np.asarray(tau1s)\n",
      "C:\\Users\\Benedetta\\AppData\\Local\\Temp\\ipykernel_16304\\2724904959.py:2: VisibleDeprecationWarning: Creating an ndarray from ragged nested sequences (which is a list-or-tuple of lists-or-tuples-or ndarrays with different lengths or shapes) is deprecated. If you meant to do this, you must specify 'dtype=object' when creating the ndarray.\n",
      "  tau2s = np.asarray(tau2s)\n",
      "C:\\Users\\Benedetta\\AppData\\Local\\Temp\\ipykernel_16304\\2724904959.py:11: VisibleDeprecationWarning: Creating an ndarray from ragged nested sequences (which is a list-or-tuple of lists-or-tuples-or ndarrays with different lengths or shapes) is deprecated. If you meant to do this, you must specify 'dtype=object' when creating the ndarray.\n",
      "  arr1 = np.asarray([t1_frenc, t1_span, t1_en])\n",
      "C:\\Users\\Benedetta\\AppData\\Local\\Temp\\ipykernel_16304\\2724904959.py:12: VisibleDeprecationWarning: Creating an ndarray from ragged nested sequences (which is a list-or-tuple of lists-or-tuples-or ndarrays with different lengths or shapes) is deprecated. If you meant to do this, you must specify 'dtype=object' when creating the ndarray.\n",
      "  arr2 = np.asarray([t2_frenc, t2_span, t2_en]) ##\n"
     ]
    }
   ],
   "source": [
    "tau1s = np.asarray(tau1s)\n",
    "tau2s = np.asarray(tau2s)\n",
    "t1_frenc = funct2(sub_fren, tau1s)\n",
    "t1_span = funct2(sub_span, tau1s)\n",
    "t1_en= funct2(sub_en, tau1s)\n",
    "\n",
    "t2_frenc = funct2(sub_fren, tau2s)\n",
    "t2_span = funct2(sub_span, tau2s)\n",
    "t2_en= funct2(sub_en, tau2s)\n",
    "\n",
    "arr1 = np.asarray([t1_frenc, t1_span, t1_en])\n",
    "arr2 = np.asarray([t2_frenc, t2_span, t2_en]) ##"
   ]
  },
  {
   "cell_type": "code",
   "execution_count": 147,
   "id": "cf876413",
   "metadata": {},
   "outputs": [
    {
     "data": {
      "text/plain": [
       "(32,)"
      ]
     },
     "execution_count": 147,
     "metadata": {},
     "output_type": "execute_result"
    }
   ],
   "source": [
    "tau1s.shape"
   ]
  },
  {
   "cell_type": "code",
   "execution_count": 148,
   "id": "30d6be89",
   "metadata": {},
   "outputs": [
    {
     "name": "stdout",
     "output_type": "stream",
     "text": [
      "0.6518467247826393\n"
     ]
    },
    {
     "data": {
      "text/plain": [
       "[<matplotlib.lines.Line2D at 0x19af93359a0>]"
      ]
     },
     "execution_count": 148,
     "metadata": {},
     "output_type": "execute_result"
    },
    {
     "data": {
      "image/png": "[encoded data removed]",
      "text/plain": [
       "<Figure size 640x480 with 1 Axes>"
      ]
     },
     "metadata": {},
     "output_type": "display_data"
    }
   ],
   "source": [
    "#res = x_autocorr_sm(data[3])\n",
    "\n",
    "sig = res['C'][0]\n",
    "a  = fit_envelope_autocorr(sig)\n",
    "print(a)\n",
    "\n",
    "plt.plot(res['tau']/500,sig)\n",
    "plt.xlim(0,2)\n",
    "plt.plot(res['tau']/500,monoExp(res['tau']/500,a,1))\n",
    "#plt.plot(res['tau']/500,monoExp(res['tau']/500,334.08297222*0.002,1), color ='red')\n",
    "#plt.plot(res['tau']/500,monoExp2(res['tau']/500,215.52017319*0.002,1.), color ='green')"
   ]
  },
  {
   "cell_type": "code",
   "execution_count": 104,
   "id": "89c3031d",
   "metadata": {},
   "outputs": [
    {
     "data": {
      "text/plain": [
       "([0.5045182879586426,\n",
       "  0.5406231017370774,\n",
       "  0.6149436924324635,\n",
       "  0.5960143705301081,\n",
       "  0.6048625154120507,\n",
       "  0.6616441811572604,\n",
       "  0.564120115819771,\n",
       "  0.5507857227261725,\n",
       "  0.4663517702295171,\n",
       "  0.6947544160333028],\n",
       " 0.6947544160333028)"
      ]
     },
     "execution_count": 104,
     "metadata": {},
     "output_type": "execute_result"
    }
   ],
   "source": [
    "tau2s[-1],a"
   ]
  },
  {
   "cell_type": "code",
   "execution_count": 106,
   "id": "ab6ef8b2",
   "metadata": {},
   "outputs": [
    {
     "data": {
      "text/plain": [
       "[<matplotlib.lines.Line2D at 0x19ae776b0a0>]"
      ]
     },
     "execution_count": 106,
     "metadata": {},
     "output_type": "execute_result"
    },
    {
     "data": {
      "image/png": "[encoded data removed]",
      "text/plain": [
       "<Figure size 640x480 with 1 Axes>"
      ]
     },
     "metadata": {},
     "output_type": "display_data"
    }
   ],
   "source": [
    "plt.plot(res['tau']/500,sig)\n",
    "plt.xlim(0,2)\n",
    "plt.plot(res['tau']/500,monoExp(res['tau']/500,tau2s[-1][-1],1))"
   ]
  },
  {
   "cell_type": "code",
   "execution_count": 149,
   "id": "92da7366",
   "metadata": {},
   "outputs": [
    {
     "name": "stdout",
     "output_type": "stream",
     "text": [
      "113\n"
     ]
    },
    {
     "data": {
      "text/plain": [
       "221"
      ]
     },
     "execution_count": 149,
     "metadata": {},
     "output_type": "execute_result"
    }
   ],
   "source": [
    "a = 0\n",
    "for i in t1_frenc:\n",
    "    a+= len(i)\n",
    "print(a)\n",
    "\n",
    "#a = 0\n",
    "for i in t2_frenc:\n",
    "    a+= len(i)\n",
    "a"
   ]
  },
  {
   "cell_type": "code",
   "execution_count": 150,
   "id": "1f8df737",
   "metadata": {},
   "outputs": [
    {
     "name": "stdout",
     "output_type": "stream",
     "text": [
      "221\n"
     ]
    }
   ],
   "source": [
    "o = 0\n",
    "df_fren = pd.DataFrame(columns = ['Silence', 'tau_c', 'sub_id', 'ch' ],  index = np.arange(0,221,1), dtype = 'float')\n",
    "for j in range(len(t1_frenc)):\n",
    "    ntrial = len(t1_frenc[j])\n",
    "    for r in range(ntrial):\n",
    "        df_fren.iloc[o][\"tau_c\"] = float(t1_frenc[j][r])\n",
    "        df_fren.iloc[o][\"sub_id\"]  = funct2(sub_fren, good_sub)[j]\n",
    "        df_fren.iloc[o][\"ch\"] = int(r)\n",
    "        o+=1\n",
    "        \n",
    "        \n",
    "for j in range(len(t2_frenc)):\n",
    "    ntrial = len(t2_frenc[j])\n",
    "    for r in range(ntrial):\n",
    "        df_fren.iloc[o][\"tau_c\"] = float(t2_frenc[j][r])\n",
    "        df_fren.iloc[o][\"sub_id\"]  = funct2(sub_fren, good_sub)[j]\n",
    "        df_fren.iloc[o][\"ch\"] = int(r)\n",
    "        o+=1\n",
    "print(o)\n",
    "df_fren[\"Silence\"] = [\"1\" for r in range(113) ]+ [\"2\" for r in range(108)]\n"
   ]
  },
  {
   "cell_type": "code",
   "execution_count": null,
   "id": "e3bbe134",
   "metadata": {},
   "outputs": [],
   "source": [
    "t"
   ]
  },
  {
   "cell_type": "code",
   "execution_count": 151,
   "id": "8e436c69",
   "metadata": {},
   "outputs": [
    {
     "name": "stdout",
     "output_type": "stream",
     "text": [
      "76\n",
      "164 88\n"
     ]
    }
   ],
   "source": [
    "a = 0\n",
    "for i in t1_span:\n",
    "    a+= len(i)\n",
    "print(a)\n",
    "c = a\n",
    "#a = 0\n",
    "for i in t2_span:\n",
    "    a+= len(i)\n",
    "print(a, a-c)\n"
   ]
  },
  {
   "cell_type": "code",
   "execution_count": 152,
   "id": "14945e27",
   "metadata": {},
   "outputs": [
    {
     "name": "stdout",
     "output_type": "stream",
     "text": [
      "278\n",
      "574 296\n"
     ]
    }
   ],
   "source": [
    "a = 0\n",
    "for i in tau1s:\n",
    "    a+= len(i)\n",
    "print(a)\n",
    "c = a\n",
    "#a = 0\n",
    "for i in tau2s:\n",
    "    a+= len(i)\n",
    "print(a, a-c)"
   ]
  },
  {
   "cell_type": "code",
   "execution_count": 153,
   "id": "181b08f3",
   "metadata": {},
   "outputs": [
    {
     "name": "stdout",
     "output_type": "stream",
     "text": [
      "574\n"
     ]
    }
   ],
   "source": [
    "o = 0\n",
    "df_total = pd.DataFrame(columns = ['Silence', 'tau_c', 'sub_id', 'ch' ],  index = np.arange(0,574,1), dtype = 'float')\n",
    "for j in range(len(tau1s)):\n",
    "    ntrial = len(tau1s[j])\n",
    "    for r in range(ntrial):\n",
    "        df_total.iloc[o][\"tau_c\"] = float(tau1s[j][r])\n",
    "        df_total.iloc[o][\"sub_id\"]  = funct2(good_sub, good_sub)[j]\n",
    "        df_total.iloc[o][\"ch\"] = int(r)\n",
    "        o+=1\n",
    "        \n",
    "for j in range(len(tau2s)):\n",
    "    ntrial = len(tau2s[j])\n",
    "    for r in range(ntrial):\n",
    "        df_total.iloc[o][\"tau_c\"] = float(tau2s[j][r])\n",
    "        df_total.iloc[o][\"sub_id\"]  = funct2(good_sub, good_sub)[j]\n",
    "        df_total.iloc[o][\"ch\"] = int(r)\n",
    "        o+=1\n",
    "print(o)\n",
    "df_total[\"Silence\"] = [\"1\" for r in range(278) ]+ [\"2\" for r in range(296)]"
   ]
  },
  {
   "cell_type": "code",
   "execution_count": 48,
   "id": "fc06aca6",
   "metadata": {},
   "outputs": [
    {
     "data": {
      "text/plain": [
       "640"
      ]
     },
     "execution_count": 48,
     "metadata": {},
     "output_type": "execute_result"
    }
   ],
   "source": [
    "32*10*2, #missing values"
   ]
  },
  {
   "cell_type": "code",
   "execution_count": 154,
   "id": "fbd7917e",
   "metadata": {},
   "outputs": [
    {
     "name": "stdout",
     "output_type": "stream",
     "text": [
      "               Mixed Linear Model Regression Results\n",
      "===================================================================\n",
      "Model:                 MixedLM     Dependent Variable:     tau_c   \n",
      "No. Observations:      574         Method:                 REML    \n",
      "No. Groups:            32          Scale:                  0.0142  \n",
      "Min. group size:       14          Log-Likelihood:         322.6618\n",
      "Max. group size:       20          Converged:              Yes     \n",
      "Mean group size:       17.9                                        \n",
      "-------------------------------------------------------------------\n",
      "                         Coef.  Std.Err.   z    P>|z| [0.025 0.975]\n",
      "-------------------------------------------------------------------\n",
      "Intercept                 0.497    0.020 24.344 0.000  0.457  0.537\n",
      "Silence[T.2]              0.010    0.032  0.307 0.759 -0.054  0.073\n",
      "Group Var                 0.012    0.029                           \n",
      "Group x Silence[T.2] Cov -0.008    0.035                           \n",
      "Silence[T.2] Var          0.030    0.074                           \n",
      "===================================================================\n",
      "\n"
     ]
    }
   ],
   "source": [
    "import statsmodels.api as sm\n",
    "\n",
    "import statsmodels.formula.api as smf\n",
    "md = smf.mixedlm(\"tau_c ~Silence\", df_total, groups=df_total[\"sub_id\"], re_formula=\"~Silence\") ### riscalando per i canali \n",
    "# mixed model tenendo conto di identità di canali....\n",
    "mdf = md.fit(method=[\"lbfgs\"])\n",
    "print(mdf.summary())"
   ]
  },
  {
   "cell_type": "code",
   "execution_count": 155,
   "id": "8b103f9b",
   "metadata": {},
   "outputs": [
    {
     "name": "stdout",
     "output_type": "stream",
     "text": [
      "76\n",
      "164 88\n"
     ]
    }
   ],
   "source": [
    "a = 0\n",
    "for i in t1_span:\n",
    "    a+= len(i)\n",
    "print(a)\n",
    "c = a\n",
    "#a = 0\n",
    "for i in t2_span:\n",
    "    a+= len(i)\n",
    "print(a, a-c)"
   ]
  },
  {
   "cell_type": "code",
   "execution_count": 156,
   "id": "c245920f",
   "metadata": {},
   "outputs": [
    {
     "name": "stdout",
     "output_type": "stream",
     "text": [
      "164\n"
     ]
    }
   ],
   "source": [
    "o = 0\n",
    "df_span = pd.DataFrame(columns = ['Silence', 'tau_c', 'sub_id', 'ch' ],  index = np.arange(0,164,1), dtype = 'float')\n",
    "for j in range(len(t1_span)):\n",
    "    ntrial = len(t1_span[j])\n",
    "    for r in range(ntrial):\n",
    "        df_span.iloc[o][\"tau_c\"] = float(t1_span[j][r])\n",
    "        df_span.iloc[o][\"sub_id\"]  = funct2(sub_span, good_sub)[j]\n",
    "        df_span.iloc[o][\"ch\"] = int(r)\n",
    "        o+=1\n",
    "        \n",
    "        \n",
    "for j in range(len(t2_span)):\n",
    "    ntrial = len(t2_span[j])\n",
    "    for r in range(ntrial):\n",
    "        df_span.iloc[o][\"tau_c\"] = float(t2_span[j][r])\n",
    "        df_span.iloc[o][\"sub_id\"]  = funct2(sub_span, good_sub)[j]\n",
    "        df_span.iloc[o][\"ch\"] = int(r)\n",
    "        o+=1\n",
    "print(o)\n",
    "df_span[\"Silence\"] = [\"1\" for r in range(76) ]+ [\"2\" for r in range(88)]\n"
   ]
  },
  {
   "cell_type": "code",
   "execution_count": null,
   "id": "12574a8a",
   "metadata": {},
   "outputs": [],
   "source": []
  },
  {
   "cell_type": "code",
   "execution_count": 157,
   "id": "812c1127",
   "metadata": {},
   "outputs": [
    {
     "name": "stdout",
     "output_type": "stream",
     "text": [
      "               Mixed Linear Model Regression Results\n",
      "===================================================================\n",
      "Model:                 MixedLM     Dependent Variable:     tau_c   \n",
      "No. Observations:      221         Method:                 REML    \n",
      "No. Groups:            12          Scale:                  0.0157  \n",
      "Min. group size:       16          Log-Likelihood:         114.6004\n",
      "Max. group size:       20          Converged:              Yes     \n",
      "Mean group size:       18.4                                        \n",
      "-------------------------------------------------------------------\n",
      "                         Coef.  Std.Err.   z    P>|z| [0.025 0.975]\n",
      "-------------------------------------------------------------------\n",
      "Intercept                 0.450    0.032 14.076 0.000  0.387  0.513\n",
      "Silence[T.2]              0.051    0.049  1.056 0.291 -0.044  0.147\n",
      "Group Var                 0.011    0.043                           \n",
      "Group x Silence[T.2] Cov -0.007    0.050                           \n",
      "Silence[T.2] Var          0.025    0.100                           \n",
      "===================================================================\n",
      "\n"
     ]
    }
   ],
   "source": [
    "import statsmodels.api as sm\n",
    "\n",
    "import statsmodels.formula.api as smf\n",
    "md = smf.mixedlm(\"tau_c ~Silence\", df_fren, groups=df_fren[\"sub_id\"], re_formula=\"~Silence\") ### riscalando per i canali \n",
    "# mixed model tenendo conto di identità di canali....\n",
    "mdf = md.fit(method=[\"lbfgs\"])\n",
    "print(mdf.summary())"
   ]
  },
  {
   "cell_type": "code",
   "execution_count": 158,
   "id": "0f99e5b7",
   "metadata": {},
   "outputs": [
    {
     "name": "stdout",
     "output_type": "stream",
     "text": [
      "89\n"
     ]
    },
    {
     "data": {
      "text/plain": [
       "189"
      ]
     },
     "execution_count": 158,
     "metadata": {},
     "output_type": "execute_result"
    }
   ],
   "source": [
    "a = 0\n",
    "for i in t1_en:\n",
    "    a+= len(i)\n",
    "print(a)\n",
    "\n",
    "#a = 0\n",
    "for i in t2_en:\n",
    "    a+= len(i)\n",
    "a"
   ]
  },
  {
   "cell_type": "code",
   "execution_count": 159,
   "id": "459b8215",
   "metadata": {},
   "outputs": [
    {
     "name": "stdout",
     "output_type": "stream",
     "text": [
      "189\n"
     ]
    }
   ],
   "source": [
    "o = 0\n",
    "df_en = pd.DataFrame(columns = ['Silence', 'tau_c', 'sub_id', 'ch' ],  index = np.arange(0,189,1), dtype = 'float')\n",
    "for j in range(len(t1_en)):\n",
    "    ntrial = len(t1_en[j])\n",
    "    for r in range(ntrial):\n",
    "        df_en.iloc[o][\"tau_c\"] = float(t1_en[j][r])\n",
    "        df_en.iloc[o][\"sub_id\"]  = funct2(sub_en, good_sub)[j]\n",
    "        df_en.iloc[o][\"ch\"] = int(r)\n",
    "        o+=1\n",
    "        \n",
    "        \n",
    "for j in range(len(t2_en)):\n",
    "    ntrial = len(t2_en[j])\n",
    "    for r in range(ntrial):\n",
    "        df_en.iloc[o][\"tau_c\"] = float(t2_en[j][r])\n",
    "        df_en.iloc[o][\"sub_id\"]  = funct2(sub_en, good_sub)[j]\n",
    "        df_en.iloc[o][\"ch\"] = int(r)\n",
    "        o+=1\n",
    "print(o)\n",
    "df_en[\"Silence\"] = [\"1\" for r in range(89) ]+ [\"2\" for r in range(100)]\n"
   ]
  },
  {
   "cell_type": "code",
   "execution_count": null,
   "id": "c18fa1bd",
   "metadata": {},
   "outputs": [],
   "source": []
  },
  {
   "cell_type": "code",
   "execution_count": null,
   "id": "9c5f36fd",
   "metadata": {},
   "outputs": [],
   "source": []
  },
  {
   "cell_type": "code",
   "execution_count": 162,
   "id": "f50d7ae5",
   "metadata": {},
   "outputs": [],
   "source": [
    "df_fren.to_csv(\"../../../Desktop/Criticality in barrel cortex/EEG avalanche analysis/tau_fren_2ndmeth.csv\", index = True)\n",
    "df_span.to_csv(\"../../../Desktop/Criticality in barrel cortex/EEG avalanche analysis/tau_span_2ndmeth.csv\", index = True)\n",
    "df_en.to_csv(\"../../../Desktop/Criticality in barrel cortex/EEG avalanche analysis/tau_en_2ndmeth.csv\", index = True)"
   ]
  },
  {
   "cell_type": "code",
   "execution_count": 331,
   "id": "46690bce",
   "metadata": {},
   "outputs": [
    {
     "data": {
      "text/html": [
       "<div>\n",
       "<style scoped>\n",
       "    .dataframe tbody tr th:only-of-type {\n",
       "        vertical-align: middle;\n",
       "    }\n",
       "\n",
       "    .dataframe tbody tr th {\n",
       "        vertical-align: top;\n",
       "    }\n",
       "\n",
       "    .dataframe thead th {\n",
       "        text-align: right;\n",
       "    }\n",
       "</style>\n",
       "<table border=\"1\" class=\"dataframe\">\n",
       "  <thead>\n",
       "    <tr style=\"text-align: right;\">\n",
       "      <th></th>\n",
       "      <th>Silence</th>\n",
       "      <th>tau_c</th>\n",
       "      <th>sub_id</th>\n",
       "      <th>ch</th>\n",
       "    </tr>\n",
       "  </thead>\n",
       "  <tbody>\n",
       "    <tr>\n",
       "      <th>0</th>\n",
       "      <td>1</td>\n",
       "      <td>0.542652</td>\n",
       "      <td>66.0</td>\n",
       "      <td>0.0</td>\n",
       "    </tr>\n",
       "    <tr>\n",
       "      <th>1</th>\n",
       "      <td>1</td>\n",
       "      <td>0.518412</td>\n",
       "      <td>66.0</td>\n",
       "      <td>1.0</td>\n",
       "    </tr>\n",
       "    <tr>\n",
       "      <th>2</th>\n",
       "      <td>1</td>\n",
       "      <td>0.424604</td>\n",
       "      <td>66.0</td>\n",
       "      <td>2.0</td>\n",
       "    </tr>\n",
       "    <tr>\n",
       "      <th>3</th>\n",
       "      <td>1</td>\n",
       "      <td>0.371044</td>\n",
       "      <td>66.0</td>\n",
       "      <td>3.0</td>\n",
       "    </tr>\n",
       "    <tr>\n",
       "      <th>4</th>\n",
       "      <td>1</td>\n",
       "      <td>0.370191</td>\n",
       "      <td>66.0</td>\n",
       "      <td>4.0</td>\n",
       "    </tr>\n",
       "    <tr>\n",
       "      <th>...</th>\n",
       "      <td>...</td>\n",
       "      <td>...</td>\n",
       "      <td>...</td>\n",
       "      <td>...</td>\n",
       "    </tr>\n",
       "    <tr>\n",
       "      <th>216</th>\n",
       "      <td>2</td>\n",
       "      <td>0.487911</td>\n",
       "      <td>56.0</td>\n",
       "      <td>4.0</td>\n",
       "    </tr>\n",
       "    <tr>\n",
       "      <th>217</th>\n",
       "      <td>2</td>\n",
       "      <td>0.448473</td>\n",
       "      <td>56.0</td>\n",
       "      <td>5.0</td>\n",
       "    </tr>\n",
       "    <tr>\n",
       "      <th>218</th>\n",
       "      <td>2</td>\n",
       "      <td>0.477559</td>\n",
       "      <td>56.0</td>\n",
       "      <td>6.0</td>\n",
       "    </tr>\n",
       "    <tr>\n",
       "      <th>219</th>\n",
       "      <td>2</td>\n",
       "      <td>0.503569</td>\n",
       "      <td>56.0</td>\n",
       "      <td>7.0</td>\n",
       "    </tr>\n",
       "    <tr>\n",
       "      <th>220</th>\n",
       "      <td>2</td>\n",
       "      <td>0.534939</td>\n",
       "      <td>56.0</td>\n",
       "      <td>8.0</td>\n",
       "    </tr>\n",
       "  </tbody>\n",
       "</table>\n",
       "<p>221 rows × 4 columns</p>\n",
       "</div>"
      ],
      "text/plain": [
       "     Silence     tau_c  sub_id   ch\n",
       "0          1  0.542652    66.0  0.0\n",
       "1          1  0.518412    66.0  1.0\n",
       "2          1  0.424604    66.0  2.0\n",
       "3          1  0.371044    66.0  3.0\n",
       "4          1  0.370191    66.0  4.0\n",
       "..       ...       ...     ...  ...\n",
       "216        2  0.487911    56.0  4.0\n",
       "217        2  0.448473    56.0  5.0\n",
       "218        2  0.477559    56.0  6.0\n",
       "219        2  0.503569    56.0  7.0\n",
       "220        2  0.534939    56.0  8.0\n",
       "\n",
       "[221 rows x 4 columns]"
      ]
     },
     "execution_count": 331,
     "metadata": {},
     "output_type": "execute_result"
    }
   ],
   "source": [
    "pd.read_csv(\"../../../Desktop/Criticality in barrel cortex/EEG avalanche analysis/fren.csv\", index_col = 0)"
   ]
  },
  {
   "cell_type": "code",
   "execution_count": 160,
   "id": "31ad1b14",
   "metadata": {},
   "outputs": [
    {
     "name": "stdout",
     "output_type": "stream",
     "text": [
      "               Mixed Linear Model Regression Results\n",
      "===================================================================\n",
      "Model:                  MixedLM     Dependent Variable:     tau_c  \n",
      "No. Observations:       164         Method:                 REML   \n",
      "No. Groups:             9           Scale:                  0.0164 \n",
      "Min. group size:        16          Log-Likelihood:         78.6003\n",
      "Max. group size:        20          Converged:              Yes    \n",
      "Mean group size:        18.2                                       \n",
      "-------------------------------------------------------------------\n",
      "                         Coef.  Std.Err.   z    P>|z| [0.025 0.975]\n",
      "-------------------------------------------------------------------\n",
      "Intercept                 0.515    0.030 16.923 0.000  0.456  0.575\n",
      "Silence[T.2]              0.045    0.083  0.541 0.589 -0.118  0.209\n",
      "Group Var                 0.006    0.033                           \n",
      "Group x Silence[T.2] Cov -0.004    0.066                           \n",
      "Silence[T.2] Var          0.059    0.252                           \n",
      "===================================================================\n",
      "\n"
     ]
    },
    {
     "name": "stderr",
     "output_type": "stream",
     "text": [
      "C:\\Users\\Benedetta\\anaconda3\\lib\\site-packages\\statsmodels\\regression\\mixed_linear_model.py:2237: ConvergenceWarning: The MLE may be on the boundary of the parameter space.\n",
      "  warnings.warn(msg, ConvergenceWarning)\n"
     ]
    }
   ],
   "source": [
    "import statsmodels.api as sm\n",
    "\n",
    "import statsmodels.formula.api as smf\n",
    "md = smf.mixedlm(\"tau_c ~Silence\", df_span, groups=df_span[\"sub_id\"], re_formula=\"~Silence\") ### riscalando per i canali \n",
    "# mixed model tenendo conto di identità di canali....\n",
    "mdf = md.fit(method=[\"lbfgs\"])\n",
    "print(mdf.summary())"
   ]
  },
  {
   "cell_type": "code",
   "execution_count": 161,
   "id": "8b2af38b",
   "metadata": {},
   "outputs": [
    {
     "name": "stdout",
     "output_type": "stream",
     "text": [
      "               Mixed Linear Model Regression Results\n",
      "===================================================================\n",
      "Model:                 MixedLM     Dependent Variable:     tau_c   \n",
      "No. Observations:      189         Method:                 REML    \n",
      "No. Groups:            11          Scale:                  0.0105  \n",
      "Min. group size:       14          Log-Likelihood:         134.3195\n",
      "Max. group size:       20          Converged:              Yes     \n",
      "Mean group size:       17.2                                        \n",
      "-------------------------------------------------------------------\n",
      "                         Coef.  Std.Err.   z    P>|z| [0.025 0.975]\n",
      "-------------------------------------------------------------------\n",
      "Intercept                 0.535    0.040 13.492 0.000  0.458  0.613\n",
      "Silence[T.2]             -0.066    0.034 -1.926 0.054 -0.133  0.001\n",
      "Group Var                 0.016    0.078                           \n",
      "Group x Silence[T.2] Cov -0.009    0.056                           \n",
      "Silence[T.2] Var          0.010    0.057                           \n",
      "===================================================================\n",
      "\n"
     ]
    }
   ],
   "source": [
    "import statsmodels.api as sm\n",
    "\n",
    "import statsmodels.formula.api as smf\n",
    "md = smf.mixedlm(\"tau_c ~Silence\", df_en, groups=df_en[\"sub_id\"], re_formula=\"~Silence\") ### riscalando per i canali \n",
    "# mixed model tenendo conto di identità di canali....\n",
    "mdf = md.fit(method=[\"lbfgs\"])\n",
    "print(mdf.summary())"
   ]
  },
  {
   "cell_type": "code",
   "execution_count": 263,
   "id": "d762ce70",
   "metadata": {},
   "outputs": [
    {
     "data": {
      "text/html": [
       "<div>\n",
       "<style scoped>\n",
       "    .dataframe tbody tr th:only-of-type {\n",
       "        vertical-align: middle;\n",
       "    }\n",
       "\n",
       "    .dataframe tbody tr th {\n",
       "        vertical-align: top;\n",
       "    }\n",
       "\n",
       "    .dataframe thead th {\n",
       "        text-align: right;\n",
       "    }\n",
       "</style>\n",
       "<table border=\"1\" class=\"dataframe\">\n",
       "  <thead>\n",
       "    <tr style=\"text-align: right;\">\n",
       "      <th></th>\n",
       "      <th>Silence</th>\n",
       "      <th>tau_c</th>\n",
       "      <th>sub_id</th>\n",
       "      <th>ch</th>\n",
       "    </tr>\n",
       "  </thead>\n",
       "  <tbody>\n",
       "    <tr>\n",
       "      <th>0</th>\n",
       "      <td>1</td>\n",
       "      <td>0.709435</td>\n",
       "      <td>33.0</td>\n",
       "      <td>0.0</td>\n",
       "    </tr>\n",
       "    <tr>\n",
       "      <th>1</th>\n",
       "      <td>1</td>\n",
       "      <td>0.682107</td>\n",
       "      <td>33.0</td>\n",
       "      <td>1.0</td>\n",
       "    </tr>\n",
       "    <tr>\n",
       "      <th>2</th>\n",
       "      <td>1</td>\n",
       "      <td>0.710066</td>\n",
       "      <td>33.0</td>\n",
       "      <td>2.0</td>\n",
       "    </tr>\n",
       "    <tr>\n",
       "      <th>3</th>\n",
       "      <td>1</td>\n",
       "      <td>0.644199</td>\n",
       "      <td>33.0</td>\n",
       "      <td>3.0</td>\n",
       "    </tr>\n",
       "    <tr>\n",
       "      <th>4</th>\n",
       "      <td>1</td>\n",
       "      <td>0.824240</td>\n",
       "      <td>33.0</td>\n",
       "      <td>4.0</td>\n",
       "    </tr>\n",
       "    <tr>\n",
       "      <th>...</th>\n",
       "      <td>...</td>\n",
       "      <td>...</td>\n",
       "      <td>...</td>\n",
       "      <td>...</td>\n",
       "    </tr>\n",
       "    <tr>\n",
       "      <th>184</th>\n",
       "      <td>2</td>\n",
       "      <td>0.525882</td>\n",
       "      <td>30.0</td>\n",
       "      <td>3.0</td>\n",
       "    </tr>\n",
       "    <tr>\n",
       "      <th>185</th>\n",
       "      <td>2</td>\n",
       "      <td>0.485663</td>\n",
       "      <td>30.0</td>\n",
       "      <td>4.0</td>\n",
       "    </tr>\n",
       "    <tr>\n",
       "      <th>186</th>\n",
       "      <td>2</td>\n",
       "      <td>0.487494</td>\n",
       "      <td>30.0</td>\n",
       "      <td>5.0</td>\n",
       "    </tr>\n",
       "    <tr>\n",
       "      <th>187</th>\n",
       "      <td>2</td>\n",
       "      <td>0.411766</td>\n",
       "      <td>30.0</td>\n",
       "      <td>6.0</td>\n",
       "    </tr>\n",
       "    <tr>\n",
       "      <th>188</th>\n",
       "      <td>2</td>\n",
       "      <td>0.692988</td>\n",
       "      <td>30.0</td>\n",
       "      <td>7.0</td>\n",
       "    </tr>\n",
       "  </tbody>\n",
       "</table>\n",
       "<p>189 rows × 4 columns</p>\n",
       "</div>"
      ],
      "text/plain": [
       "    Silence     tau_c  sub_id   ch\n",
       "0         1  0.709435    33.0  0.0\n",
       "1         1  0.682107    33.0  1.0\n",
       "2         1  0.710066    33.0  2.0\n",
       "3         1  0.644199    33.0  3.0\n",
       "4         1  0.824240    33.0  4.0\n",
       "..      ...       ...     ...  ...\n",
       "184       2  0.525882    30.0  3.0\n",
       "185       2  0.485663    30.0  4.0\n",
       "186       2  0.487494    30.0  5.0\n",
       "187       2  0.411766    30.0  6.0\n",
       "188       2  0.692988    30.0  7.0\n",
       "\n",
       "[189 rows x 4 columns]"
      ]
     },
     "execution_count": 263,
     "metadata": {},
     "output_type": "execute_result"
    }
   ],
   "source": [
    "df_en"
   ]
  },
  {
   "cell_type": "code",
   "execution_count": 264,
   "id": "b37beaa3",
   "metadata": {},
   "outputs": [
    {
     "name": "stdout",
     "output_type": "stream",
     "text": [
      "               Mixed Linear Model Regression Results\n",
      "===================================================================\n",
      "Model:                 MixedLM     Dependent Variable:     tau_c   \n",
      "No. Observations:      189         Method:                 REML    \n",
      "No. Groups:            11          Scale:                  0.0093  \n",
      "Min. group size:       14          Log-Likelihood:         144.7897\n",
      "Max. group size:       20          Converged:              Yes     \n",
      "Mean group size:       17.2                                        \n",
      "-------------------------------------------------------------------\n",
      "                         Coef.  Std.Err.   z    P>|z| [0.025 0.975]\n",
      "-------------------------------------------------------------------\n",
      "Intercept                 0.594    0.037 15.964 0.000  0.521  0.667\n",
      "Silence[T.2]             -0.053    0.035 -1.496 0.135 -0.122  0.016\n",
      "Group Var                 0.014    0.073                           \n",
      "Group x Silence[T.2] Cov -0.008    0.057                           \n",
      "Silence[T.2] Var          0.011    0.065                           \n",
      "===================================================================\n",
      "\n"
     ]
    }
   ],
   "source": [
    "import statsmodels.api as sm\n",
    "\n",
    "import statsmodels.formula.api as smf\n",
    "md = smf.mixedlm(\"tau_c ~Silence\", df_fren, groups=df_fren[\"sub_id\"], re_formula=\"~Silence\")\n",
    "mdf = md.fit(method=[\"lbfgs\"])\n",
    "print(mdf.summary())"
   ]
  },
  {
   "cell_type": "code",
   "execution_count": 20,
   "id": "62939922",
   "metadata": {},
   "outputs": [
    {
     "data": {
      "text/plain": [
       "1"
      ]
     },
     "execution_count": 20,
     "metadata": {},
     "output_type": "execute_result"
    }
   ],
   "source": [
    "len(good_sub)"
   ]
  },
  {
   "cell_type": "code",
   "execution_count": 40,
   "id": "3a2d0a4b",
   "metadata": {},
   "outputs": [
    {
     "name": "stdout",
     "output_type": "stream",
     "text": [
      "5 142.926 142.926\n",
      "(10, 71463)\n",
      "6 142.926 142.926\n",
      "(10, 71463)\n",
      "9 142.926 142.926\n",
      "(10, 71463)\n",
      "11 142.926 142.926\n",
      "(10, 71463)\n",
      "12 142.926 142.926\n",
      "(7, 71463)\n",
      "16 142.926 142.926\n",
      "(10, 71463)\n",
      "17 142.926 142.926\n",
      "(10, 71463)\n",
      "18 142.926 142.926\n",
      "(9, 71463)\n",
      "19 142.926 142.926\n",
      "(10, 71463)\n",
      "23 142.926 142.926\n",
      "(10, 71463)\n",
      "30 142.926 142.926\n",
      "(8, 71463)\n",
      "33 142.926 142.926\n",
      "(9, 71463)\n",
      "35 142.926 142.926\n",
      "(10, 71463)\n",
      "37 142.926 142.926\n",
      "(10, 71463)\n",
      "40 142.926 142.926\n",
      "(8, 71463)\n",
      "45 142.926 142.926\n",
      "(9, 71463)\n",
      "47 142.926 142.926\n",
      "(7, 71463)\n",
      "49 142.926 142.926\n",
      "(8, 71463)\n",
      "52 142.926 142.926\n",
      "(10, 71463)\n",
      "56 142.926 142.926\n",
      "(9, 71463)\n",
      "58 142.926 142.926\n",
      "(9, 71463)\n",
      "62 142.926 142.926\n",
      "(9, 71463)\n",
      "66 142.926 142.926\n",
      "(10, 71463)\n",
      "67 142.926 142.926\n",
      "(9, 71463)\n",
      "68 142.926 142.926\n",
      "(9, 71463)\n",
      "71 142.926 142.926\n",
      "(10, 71463)\n",
      "14 142.926 142.926\n",
      "(10, 71463)\n",
      "22 142.926 142.926\n",
      "(8, 71463)\n",
      "27 142.926 142.926\n",
      "(9, 71463)\n",
      "41 142.926 142.926\n",
      "(9, 71463)\n",
      "46 142.926 142.926\n",
      "(10, 71463)\n",
      "64 142.926 142.926\n",
      "(10, 71463)\n"
     ]
    }
   ],
   "source": [
    "##CALCULATE TAUS\n",
    "nrep = 10\n",
    "q1,q2 = 1,99\n",
    "#taustar1 = []\n",
    "#taustar2 = []\n",
    "theta = 2\n",
    "taustar1 = [[] for i in range(len(good_sub))]\n",
    "taustar2 = [[] for i in range(len(good_sub))]\n",
    "interv = 10\n",
    "#good_sub = []\n",
    "o = 0\n",
    "indice = 3\n",
    "flagf, flage,flags = False,False,False\n",
    "for i, subj in enumerate(subjs):\n",
    "    #print(f'\\n\\n########## SUBJ {subj} ({i+1}/{len(subjs)})##########')\n",
    "    s1 = loadmat(f'BB{subj}_Filtered (1-100)/Silence (500)/BB{subj} silence1 (continuous).mat')\n",
    "    s2 = loadmat(f'BB{subj}_Filtered (1-100)/Silence (500)/BB{subj} silence2 (continuous).mat')\n",
    "    data = s1['eeg_rest'].astype('float')\n",
    "    rej, idx_down, idx_up = find_bad_channels(data, verbose = False)\n",
    "    if idx_down > 0 or idx_up < data.shape[1]:\n",
    "        if idx_down > 0:\n",
    "            idx_down +=1\n",
    "        if idx_up < data.shape[1]:\n",
    "            idx_up -= 1\n",
    "        data = data[:,idx_down:idx_up]\n",
    "        rej, idx_down, idx_up = find_bad_channels(data, verbose = False)\n",
    "    idx_accepted = np.sort([np.where(ch_names == i)[0][0] for i in list(set(ch_names) - set(rej))])\n",
    "    data = data[list(idx_accepted), idx_down:idx_up][:, :71463] #try\n",
    "    nchan = data.shape[0]\n",
    "    \n",
    "    data2 = s2['eeg_rest'].astype('float')\n",
    "    rej, idx_down, idx_up = find_bad_channels(data2, verbose = False)\n",
    "    if idx_down > 0 or idx_up < data2.shape[1]:\n",
    "        if idx_down > 0:\n",
    "            idx_down +=1\n",
    "        if idx_up < data2.shape[1]:\n",
    "            idx_up -= 1\n",
    "        data2 = data2[:,idx_down:idx_up]\n",
    "        rej, idx_down, idx_up = find_bad_channels(data2, verbose = False)\n",
    "    idx_accepted = np.sort([np.where(ch_names == i)[0][0] for i in list(set(ch_names) - set(rej))])\n",
    "    data2 = data2[list(idx_accepted), idx_down:idx_up][:, :71463] #try\n",
    "    nchan2 = data2.shape[0]\n",
    "    #if o ==0: flagf, flage,flags = True, True, True\n",
    "    \n",
    "    if nchan >= 5 and nchan2 >=5 and subj != 53:\n",
    "        print(subj, data.shape[1]/500,data2.shape[1]/500)\n",
    "        #good_sub.append(subj)\n",
    "        #print('doing')\n",
    "        \n",
    "        \n",
    "                    \n",
    "        fl1 =( np.array(data)-np.mean(np.array(data),1)[:,np.newaxis])/(np.std(np.array(data),1)[:,np.newaxis])\n",
    "        ## non ho diviso per la sd\n",
    "    \n",
    "        fl1 = np.asarray(fl1)\n",
    "        spikes =np.array( [np.array(np.abs(fl1[i,:]) > theta, dtype=float) for i in range(len(fl1))], dtype =int)\n",
    "        #new1 = calculate_events(data.T,2,interv)\n",
    "        #new2 = calculate_events(data2.T,2,interv)\n",
    "        \n",
    "\n",
    "            \n",
    "        for l in range(data.shape[0]):\n",
    "\n",
    "            result = x_autocorr_sm_ext(np.log(spikes[l] + 0.0001),nrep=nrep,q=[q1,q2])\n",
    "            x = result['tau']*1000*interv*1/500\n",
    "            y_mu,y_1,y_2 = result['C']\n",
    "            y_mu_rand,y_1_rand,y_2_rand = result['C_rand']\n",
    "            ind_t_star = np.where(y_1<=y_2_rand)[0][indice]\n",
    "            tau_star = x[ind_t_star]\n",
    "            taustar1[o].append(tau_star)\n",
    "            \n",
    "        fl2 =( np.array(data2)-np.mean(np.array(data2),1)[:,np.newaxis])/(np.std(np.array(data2),1)[:,np.newaxis])\n",
    "        ## non ho diviso per la sd\n",
    "        \n",
    "        fl2 = np.asarray(fl2)\n",
    "        print(fl2.shape)\n",
    "        spikes =np.array( [np.array(np.abs(fl2[i,:]) > theta, dtype=float) for i in range(len(fl2))], dtype =int)\n",
    "        \n",
    "            #print(len(c))\n",
    "        for l in range(data2.shape[0]):\n",
    "            \n",
    "            result = x_autocorr_sm_ext(np.log(spikes[l] + 0.0001),nrep=nrep,q=[q1,q2])\n",
    "            x = result['tau']*1000*interv*1/500\n",
    "            y_mu,y_1,y_2 = result['C']\n",
    "            y_mu_rand,y_1_rand,y_2_rand = result['C_rand']\n",
    "            ind_t_star = np.where(y_1<=y_2_rand)[0][indice]\n",
    "            tau_star = x[ind_t_star]\n",
    "            taustar2[o].append(tau_star)\n",
    "\n",
    "           \n",
    "        \n",
    "\n",
    "        #result = x_autocorr_sm_ext(np.log(new1 + 0.0001),nrep=nrep,q=[q1,q2])\n",
    "        #x = result['tau']*1000*interv*1/500\n",
    "        #y_mu,y_1,y_2 = result['C']\n",
    "        #y_mu_rand,y_1_rand,y_2_rand = result['C_rand']\n",
    "        #ind_t_star = np.where(y_1<=y_2_rand)[0][indice]\n",
    "        #tau_star = x[ind_t_star]\n",
    "        #taustar1.append(tau_star)\n",
    "\n",
    "        if subj in sub_fren and flagf:\n",
    "            \n",
    "            plot_corr(x,y_mu,y_1,y_2,y_mu_rand,y_1_rand,y_2_rand, tau_star)\n",
    "            plt.title('After French example silence 1')\n",
    "            \n",
    "            #flagf = False\n",
    "\n",
    "        if subj in sub_en and flage:\n",
    "            \n",
    "            plot_corr(x,y_mu,y_1,y_2,y_mu_rand,y_1_rand,y_2_rand, tau_star)\n",
    "            plt.title('After english example silence 1')\n",
    "            \n",
    "            #flage = False \n",
    "            \n",
    "        if subj in sub_span and flags:\n",
    "            \n",
    "            plot_corr(x,y_mu,y_1,y_2,y_mu_rand,y_1_rand,y_2_rand, tau_star)\n",
    "            plt.title('After spanish example silence 1')\n",
    "            \n",
    "            #flags = False\n",
    "        o+=1\n",
    "\n",
    "        #result = x_autocorr_sm_ext(np.log(new2+ 0.0001),nrep=nrep,q=[q1,q2])\n",
    "        #x = result['tau']*1000*interv*1/500\n",
    "        #y_mu,y_1,y_2 = result['C']\n",
    "        #y_mu_rand,y_1_rand,y_2_rand = result['C_rand']\n",
    "        #ind_t_star = np.where(y_1<=y_2_rand)[0][indice]\n",
    "        #tau_star = x[ind_t_star]\n",
    "        #taustar2.append(tau_star) ##one tau for each subjectn, number of events\n",
    " "
   ]
  },
  {
   "cell_type": "code",
   "execution_count": 62,
   "id": "0ff76af9",
   "metadata": {},
   "outputs": [
    {
     "data": {
      "text/plain": [
       "[<matplotlib.lines.Line2D at 0x20e026eb250>]"
      ]
     },
     "execution_count": 62,
     "metadata": {},
     "output_type": "execute_result"
    },
    {
     "data": {
      "image/png": "[encoded data removed]",
      "text/plain": [
       "<Figure size 640x480 with 1 Axes>"
      ]
     },
     "metadata": {},
     "output_type": "display_data"
    }
   ],
   "source": [
    "plt.plot(spikes[0])"
   ]
  },
  {
   "cell_type": "code",
   "execution_count": 60,
   "id": "5775853e",
   "metadata": {},
   "outputs": [
    {
     "data": {
      "text/plain": [
       "Text(0.5, 1.0, 'After spanish example silence 1')"
      ]
     },
     "execution_count": 60,
     "metadata": {},
     "output_type": "execute_result"
    },
    {
     "data": {
      "image/png": "[encoded data removed]",
      "text/plain": [
       "<Figure size 640x480 with 1 Axes>"
      ]
     },
     "metadata": {},
     "output_type": "display_data"
    }
   ],
   "source": [
    "plot_corr(x,y_mu,y_1,y_2,y_mu_rand,y_1_rand,y_2_rand, tau_star)\n",
    "plt.title('After spanish example silence 1')"
   ]
  },
  {
   "cell_type": "code",
   "execution_count": 52,
   "id": "4fb0c808",
   "metadata": {},
   "outputs": [
    {
     "data": {
      "text/plain": [
       "[56520.0,\n",
       " 109720.0,\n",
       " 99060.0,\n",
       " 108760.0,\n",
       " 113220.0,\n",
       " 39560.0,\n",
       " 100260.0,\n",
       " 66100.0,\n",
       " 106960.0,\n",
       " 103840.0]"
      ]
     },
     "execution_count": 52,
     "metadata": {},
     "output_type": "execute_result"
    }
   ],
   "source": [
    "taustar2[0]"
   ]
  },
  {
   "cell_type": "code",
   "execution_count": 39,
   "id": "65201b5d",
   "metadata": {},
   "outputs": [
    {
     "data": {
      "text/plain": [
       "32"
      ]
     },
     "execution_count": 39,
     "metadata": {},
     "output_type": "execute_result"
    }
   ],
   "source": [
    "len(taustar1[0])"
   ]
  },
  {
   "cell_type": "code",
   "execution_count": 41,
   "id": "2fdf7ad9",
   "metadata": {},
   "outputs": [
    {
     "name": "stderr",
     "output_type": "stream",
     "text": [
      "C:\\Users\\Benedetta\\AppData\\Local\\Temp\\ipykernel_4052\\3036725587.py:1: VisibleDeprecationWarning: Creating an ndarray from ragged nested sequences (which is a list-or-tuple of lists-or-tuples-or ndarrays with different lengths or shapes) is deprecated. If you meant to do this, you must specify 'dtype=object' when creating the ndarray.\n",
      "  taustar1 = np.asarray(taustar1)\n",
      "C:\\Users\\Benedetta\\AppData\\Local\\Temp\\ipykernel_4052\\3036725587.py:2: VisibleDeprecationWarning: Creating an ndarray from ragged nested sequences (which is a list-or-tuple of lists-or-tuples-or ndarrays with different lengths or shapes) is deprecated. If you meant to do this, you must specify 'dtype=object' when creating the ndarray.\n",
      "  taustar2 = np.asarray(taustar2)\n",
      "C:\\Users\\Benedetta\\AppData\\Local\\Temp\\ipykernel_4052\\3036725587.py:11: VisibleDeprecationWarning: Creating an ndarray from ragged nested sequences (which is a list-or-tuple of lists-or-tuples-or ndarrays with different lengths or shapes) is deprecated. If you meant to do this, you must specify 'dtype=object' when creating the ndarray.\n",
      "  arr1 = np.asarray([t1_frenc, t1_span, t1_en])\n",
      "C:\\Users\\Benedetta\\AppData\\Local\\Temp\\ipykernel_4052\\3036725587.py:12: VisibleDeprecationWarning: Creating an ndarray from ragged nested sequences (which is a list-or-tuple of lists-or-tuples-or ndarrays with different lengths or shapes) is deprecated. If you meant to do this, you must specify 'dtype=object' when creating the ndarray.\n",
      "  arr2 = np.asarray([t2_frenc, t2_span, t2_en]) ##\n"
     ]
    }
   ],
   "source": [
    "taustar1 = np.asarray(taustar1)\n",
    "taustar2 = np.asarray(taustar2)\n",
    "t1_frenc = funct2(sub_fren, taustar1)\n",
    "t1_span = funct2(sub_span, taustar1)\n",
    "t1_en= funct2(sub_en, taustar1)\n",
    "\n",
    "t2_frenc = funct2(sub_fren, taustar2)\n",
    "t2_span = funct2(sub_span, taustar2)\n",
    "t2_en= funct2(sub_en, taustar2)\n",
    "\n",
    "arr1 = np.asarray([t1_frenc, t1_span, t1_en])\n",
    "arr2 = np.asarray([t2_frenc, t2_span, t2_en]) ##"
   ]
  },
  {
   "cell_type": "code",
   "execution_count": 42,
   "id": "104be14b",
   "metadata": {},
   "outputs": [
    {
     "name": "stdout",
     "output_type": "stream",
     "text": [
      "113\n"
     ]
    },
    {
     "data": {
      "text/plain": [
       "221"
      ]
     },
     "execution_count": 42,
     "metadata": {},
     "output_type": "execute_result"
    }
   ],
   "source": [
    "a = 0\n",
    "for i in t1_frenc:\n",
    "    a+= len(i)\n",
    "print(a)\n",
    "\n",
    "#a = 0\n",
    "for i in t2_frenc:\n",
    "    a+= len(i)\n",
    "a"
   ]
  },
  {
   "cell_type": "code",
   "execution_count": 43,
   "id": "f0007bdb",
   "metadata": {},
   "outputs": [
    {
     "name": "stdout",
     "output_type": "stream",
     "text": [
      "221\n"
     ]
    }
   ],
   "source": [
    "o = 0\n",
    "df_fren = pd.DataFrame(columns = ['Silence', 'tau_c', 'sub_id', 'ch' ],  index = np.arange(0,221,1), dtype = 'float')\n",
    "for j in range(len(t1_frenc)):\n",
    "    ntrial = len(t1_frenc[j])\n",
    "    for r in range(ntrial):\n",
    "        df_fren.iloc[o][\"tau_c\"] = float(t1_frenc[j][r])\n",
    "        df_fren.iloc[o][\"sub_id\"]  = funct2(sub_fren, good_sub)[j]\n",
    "        df_fren.iloc[o][\"ch\"] = int(r)\n",
    "        o+=1\n",
    "        \n",
    "        \n",
    "for j in range(len(t2_frenc)):\n",
    "    ntrial = len(t2_frenc[j])\n",
    "    for r in range(ntrial):\n",
    "        df_fren.iloc[o][\"tau_c\"] = float(t2_frenc[j][r])\n",
    "        df_fren.iloc[o][\"sub_id\"]  = funct2(sub_fren, good_sub)[j]\n",
    "        df_fren.iloc[o][\"ch\"] = int(r)\n",
    "        o+=1\n",
    "print(o)\n",
    "df_fren[\"Silence\"] = [\"1\" for r in range(113) ]+ [\"2\" for r in range(108)]\n"
   ]
  },
  {
   "cell_type": "code",
   "execution_count": null,
   "id": "48ab360c",
   "metadata": {},
   "outputs": [],
   "source": [
    "t"
   ]
  },
  {
   "cell_type": "code",
   "execution_count": 44,
   "id": "bbc57ce1",
   "metadata": {},
   "outputs": [
    {
     "name": "stdout",
     "output_type": "stream",
     "text": [
      "76\n",
      "164 88\n"
     ]
    }
   ],
   "source": [
    "a = 0\n",
    "for i in t1_span:\n",
    "    a+= len(i)\n",
    "print(a)\n",
    "c = a\n",
    "#a = 0\n",
    "for i in t2_span:\n",
    "    a+= len(i)\n",
    "print(a, a-c)\n"
   ]
  },
  {
   "cell_type": "code",
   "execution_count": 46,
   "id": "d1a6422f",
   "metadata": {},
   "outputs": [
    {
     "name": "stdout",
     "output_type": "stream",
     "text": [
      "278\n",
      "574 296\n"
     ]
    }
   ],
   "source": [
    "a = 0\n",
    "for i in taustar1:\n",
    "    a+= len(i)\n",
    "print(a)\n",
    "c = a\n",
    "#a = 0\n",
    "for i in taustar2:\n",
    "    a+= len(i)\n",
    "print(a, a-c)"
   ]
  },
  {
   "cell_type": "code",
   "execution_count": 48,
   "id": "622d91f8",
   "metadata": {},
   "outputs": [
    {
     "name": "stdout",
     "output_type": "stream",
     "text": [
      "574\n"
     ]
    }
   ],
   "source": [
    "o = 0\n",
    "df_total = pd.DataFrame(columns = ['Silence', 'tau_c', 'sub_id', 'ch' ],  index = np.arange(0,574,1), dtype = 'float')\n",
    "for j in range(len(taustar1)):\n",
    "    ntrial = len(taustar1[j])\n",
    "    for r in range(ntrial):\n",
    "        df_total.iloc[o][\"tau_c\"] = float(taustar1[j][r])\n",
    "        df_total.iloc[o][\"sub_id\"]  = funct2(good_sub, good_sub)[j]\n",
    "        df_total.iloc[o][\"ch\"] = int(r)\n",
    "        o+=1\n",
    "        \n",
    "for j in range(len(taustar2)):\n",
    "    ntrial = len(taustar2[j])\n",
    "    for r in range(ntrial):\n",
    "        df_total.iloc[o][\"tau_c\"] = float(taustar2[j][r])\n",
    "        df_total.iloc[o][\"sub_id\"]  = funct2(good_sub, good_sub)[j]\n",
    "        df_total.iloc[o][\"ch\"] = int(r)\n",
    "        o+=1\n",
    "print(o)\n",
    "df_total[\"Silence\"] = [\"1\" for r in range(278) ]+ [\"2\" for r in range(296)]"
   ]
  },
  {
   "cell_type": "code",
   "execution_count": 48,
   "id": "9e309ce3",
   "metadata": {},
   "outputs": [
    {
     "data": {
      "text/plain": [
       "640"
      ]
     },
     "execution_count": 48,
     "metadata": {},
     "output_type": "execute_result"
    }
   ],
   "source": [
    "32*10*2, #missing values"
   ]
  },
  {
   "cell_type": "code",
   "execution_count": 49,
   "id": "d8085cc8",
   "metadata": {},
   "outputs": [
    {
     "name": "stdout",
     "output_type": "stream",
     "text": [
      "                      Mixed Linear Model Regression Results\n",
      "=================================================================================\n",
      "Model:                   MixedLM        Dependent Variable:        tau_c         \n",
      "No. Observations:        574            Method:                    REML          \n",
      "No. Groups:              32             Scale:                     196610944.6336\n",
      "Min. group size:         14             Log-Likelihood:            -6372.4362    \n",
      "Max. group size:         20             Converged:                 Yes           \n",
      "Mean group size:         17.9                                                    \n",
      "---------------------------------------------------------------------------------\n",
      "                             Coef.       Std.Err.   z   P>|z|   [0.025    0.975] \n",
      "---------------------------------------------------------------------------------\n",
      "Intercept                     24363.954  3349.616 7.274 0.000 17798.828 30929.080\n",
      "Silence[T.2]                   1599.811  4402.283 0.363 0.716 -7028.505 10228.128\n",
      "Group Var                 335717732.817  6739.529                                \n",
      "Group x Silence[T.2] Cov -111830703.437  6361.028                                \n",
      "Silence[T.2] Var          575363389.539 11618.035                                \n",
      "=================================================================================\n",
      "\n"
     ]
    }
   ],
   "source": [
    "import statsmodels.api as sm\n",
    "\n",
    "import statsmodels.formula.api as smf\n",
    "md = smf.mixedlm(\"tau_c ~Silence\", df_total, groups=df_total[\"sub_id\"], re_formula=\"~Silence\") ### riscalando per i canali \n",
    "# mixed model tenendo conto di identità di canali....\n",
    "mdf = md.fit(method=[\"lbfgs\"])\n",
    "print(mdf.summary())"
   ]
  },
  {
   "cell_type": "code",
   "execution_count": 53,
   "id": "3519fa6c",
   "metadata": {},
   "outputs": [
    {
     "name": "stdout",
     "output_type": "stream",
     "text": [
      "76\n",
      "164 88\n"
     ]
    }
   ],
   "source": [
    "a = 0\n",
    "for i in t1_span:\n",
    "    a+= len(i)\n",
    "print(a)\n",
    "c = a\n",
    "#a = 0\n",
    "for i in t2_span:\n",
    "    a+= len(i)\n",
    "print(a, a-c)"
   ]
  },
  {
   "cell_type": "code",
   "execution_count": 54,
   "id": "b0093aa9",
   "metadata": {},
   "outputs": [
    {
     "name": "stdout",
     "output_type": "stream",
     "text": [
      "164\n"
     ]
    }
   ],
   "source": [
    "o = 0\n",
    "df_span = pd.DataFrame(columns = ['Silence', 'tau_c', 'sub_id', 'ch' ],  index = np.arange(0,164,1), dtype = 'float')\n",
    "for j in range(len(t1_span)):\n",
    "    ntrial = len(t1_span[j])\n",
    "    for r in range(ntrial):\n",
    "        df_span.iloc[o][\"tau_c\"] = float(t1_span[j][r])\n",
    "        df_span.iloc[o][\"sub_id\"]  = funct2(sub_span, good_sub)[j]\n",
    "        df_span.iloc[o][\"ch\"] = int(r)\n",
    "        o+=1\n",
    "        \n",
    "        \n",
    "for j in range(len(t2_span)):\n",
    "    ntrial = len(t2_span[j])\n",
    "    for r in range(ntrial):\n",
    "        df_span.iloc[o][\"tau_c\"] = float(t2_span[j][r])\n",
    "        df_span.iloc[o][\"sub_id\"]  = funct2(sub_span, good_sub)[j]\n",
    "        df_span.iloc[o][\"ch\"] = int(r)\n",
    "        o+=1\n",
    "print(o)\n",
    "df_span[\"Silence\"] = [\"1\" for r in range(76) ]+ [\"2\" for r in range(88)]\n"
   ]
  },
  {
   "cell_type": "code",
   "execution_count": null,
   "id": "6721d5ce",
   "metadata": {},
   "outputs": [],
   "source": []
  },
  {
   "cell_type": "code",
   "execution_count": 55,
   "id": "985705c2",
   "metadata": {},
   "outputs": [
    {
     "name": "stdout",
     "output_type": "stream",
     "text": [
      "                     Mixed Linear Model Regression Results\n",
      "================================================================================\n",
      "Model:                    MixedLM       Dependent Variable:       tau_c         \n",
      "No. Observations:         221           Method:                   REML          \n",
      "No. Groups:               12            Scale:                    263731357.1808\n",
      "Min. group size:          16            Log-Likelihood:           -2466.7524    \n",
      "Max. group size:          20            Converged:                Yes           \n",
      "Mean group size:          18.4                                                  \n",
      "--------------------------------------------------------------------------------\n",
      "                             Coef.      Std.Err.   z   P>|z|   [0.025    0.975] \n",
      "--------------------------------------------------------------------------------\n",
      "Intercept                    22840.174  4967.356 4.598 0.000 13104.336 32576.012\n",
      "Silence[T.2]                 10551.618  6812.524 1.549 0.121 -2800.683 23903.919\n",
      "Group Var                267940662.557  8012.862                                \n",
      "Group x Silence[T.2] Cov 197699334.693  8260.010                                \n",
      "Silence[T.2] Var         499016534.887 15133.060                                \n",
      "================================================================================\n",
      "\n"
     ]
    }
   ],
   "source": [
    "import statsmodels.api as sm\n",
    "\n",
    "import statsmodels.formula.api as smf\n",
    "md = smf.mixedlm(\"tau_c ~Silence\", df_fren, groups=df_fren[\"sub_id\"], re_formula=\"~Silence\") ### riscalando per i canali \n",
    "# mixed model tenendo conto di identità di canali....\n",
    "mdf = md.fit(method=[\"lbfgs\"])\n",
    "print(mdf.summary())"
   ]
  },
  {
   "cell_type": "code",
   "execution_count": 56,
   "id": "65d359a7",
   "metadata": {},
   "outputs": [
    {
     "name": "stdout",
     "output_type": "stream",
     "text": [
      "89\n"
     ]
    },
    {
     "data": {
      "text/plain": [
       "189"
      ]
     },
     "execution_count": 56,
     "metadata": {},
     "output_type": "execute_result"
    }
   ],
   "source": [
    "a = 0\n",
    "for i in t1_en:\n",
    "    a+= len(i)\n",
    "print(a)\n",
    "\n",
    "#a = 0\n",
    "for i in t2_en:\n",
    "    a+= len(i)\n",
    "a"
   ]
  },
  {
   "cell_type": "code",
   "execution_count": 260,
   "id": "fb0361fc",
   "metadata": {},
   "outputs": [
    {
     "data": {
      "text/plain": [
       "array([list([0.7363133585155948, 0.8592948579378674, 0.6938118812465229, 0.5842257538454678, 0.5928964025017948, 0.8523598473437626, 0.5153557436615919, 0.5881134909109074, 0.7017291694239536]),\n",
       "       list([0.5235418791702242, 0.5546760268430453, 0.5972709541545643, 0.6131689536121694, 0.4955461324709076, 0.5051952494989397, 0.5574184175011068, 0.5790647753941097, 0.7952961791663307]),\n",
       "       list([0.618969413746437, 0.4992729492016069, 0.5271787220652886, 0.5483700949197896, 0.5271529048613867, 0.5473258004994379, 0.4985770185968542, 0.47484630779503767, 0.5052810760378468, 0.5653522164637659]),\n",
       "       list([1.1606476833874064, 1.0338559417121567, 0.6202727563093128, 0.6226446357933653, 0.6183102387605235, 0.7906323237904707, 0.757251751168687, 0.5997985057413574, 0.5890112970563515, 0.6497917257419661]),\n",
       "       list([0.3105176880234816, 0.39786605504730965, 0.40224149265858117, 0.40772848179107285, 0.3655684494818396, 0.364867703503172, 0.43913660184616865, 0.3988039603635505]),\n",
       "       list([0.43525605883212215, 0.39380232520186564, 0.3841311535370134, 0.454697725549995, 0.5008055351328294, 0.6287921487142282, 0.37091948911919775, 0.5200358220726224, 0.4912229901989718]),\n",
       "       list([0.44843471359552983, 0.39332536741160923, 0.37650699329941173, 0.43068646865749677, 0.3993134615529804, 0.5962177353234952, 0.6486618906903153, 0.5458443007304754, 0.48745661124610107, 0.5468409513792136]),\n",
       "       list([0.5276398077119416, 0.4767747740549903, 0.5340765130857944, 0.5126058438818707, 0.5132433361758385, 0.7985265728737949, 0.5216986323678883, 0.4876094291328929, 0.4595140355294559, 0.5127339776962215]),\n",
       "       list([0.42987529277540776, 0.4604035544008883, 0.4739596932309804, 0.5768357439146663, 0.44759235348010973, 0.5761027068926237, 0.5576198753284978, 0.5977979651282602]),\n",
       "       list([0.4323084395536657, 0.5144820425896465, 0.5144083794345442, 0.4816410581760463, 0.48107880382931306, 0.507456732929057, 0.4376892032634477, 0.4037964606274935, 0.4183125523354277]),\n",
       "       list([0.6650320111563655, 0.624498869953477, 0.6410853712057225, 0.525881860837405, 0.4856629755916575, 0.48749404340884805, 0.41176601398692847, 0.6929878194553106])],\n",
       "      dtype=object)"
      ]
     },
     "execution_count": 260,
     "metadata": {},
     "output_type": "execute_result"
    }
   ],
   "source": [
    "t2_en"
   ]
  },
  {
   "cell_type": "code",
   "execution_count": 57,
   "id": "ab516108",
   "metadata": {},
   "outputs": [
    {
     "name": "stdout",
     "output_type": "stream",
     "text": [
      "189\n"
     ]
    }
   ],
   "source": [
    "o = 0\n",
    "df_en = pd.DataFrame(columns = ['Silence', 'tau_c', 'sub_id', 'ch' ],  index = np.arange(0,189,1), dtype = 'float')\n",
    "for j in range(len(t1_en)):\n",
    "    ntrial = len(t1_en[j])\n",
    "    for r in range(ntrial):\n",
    "        df_en.iloc[o][\"tau_c\"] = float(t1_en[j][r])\n",
    "        df_en.iloc[o][\"sub_id\"]  = funct2(sub_en, good_sub)[j]\n",
    "        df_en.iloc[o][\"ch\"] = int(r)\n",
    "        o+=1\n",
    "        \n",
    "        \n",
    "for j in range(len(t2_en)):\n",
    "    ntrial = len(t2_en[j])\n",
    "    for r in range(ntrial):\n",
    "        df_en.iloc[o][\"tau_c\"] = float(t2_en[j][r])\n",
    "        df_en.iloc[o][\"sub_id\"]  = funct2(sub_en, good_sub)[j]\n",
    "        df_en.iloc[o][\"ch\"] = int(r)\n",
    "        o+=1\n",
    "print(o)\n",
    "df_en[\"Silence\"] = [\"1\" for r in range(89) ]+ [\"2\" for r in range(100)]\n"
   ]
  },
  {
   "cell_type": "code",
   "execution_count": 67,
   "id": "f2195460",
   "metadata": {},
   "outputs": [],
   "source": [
    "import seaborn as sns"
   ]
  },
  {
   "cell_type": "code",
   "execution_count": null,
   "id": "c3b83575",
   "metadata": {},
   "outputs": [],
   "source": [
    "df_en['tau_c'][df_en['Silence']==\"1\"]"
   ]
  },
  {
   "cell_type": "code",
   "execution_count": 85,
   "id": "458cbf05",
   "metadata": {},
   "outputs": [
    {
     "data": {
      "text/plain": [
       "<Axes: xlabel='Silence', ylabel='tau_c'>"
      ]
     },
     "execution_count": 85,
     "metadata": {},
     "output_type": "execute_result"
    },
    {
     "data": {
      "image/png": "[encoded data removed]",
      "text/plain": [
       "<Figure size 640x480 with 1 Axes>"
      ]
     },
     "metadata": {},
     "output_type": "display_data"
    }
   ],
   "source": [
    "sns.boxplot([df_fren['tau_c'][df_fren['Silence']==\"1\"],df_fren['tau_c'][df_fren['Silence']==\"2\"] ])\n",
    "sns.swarmplot(df_fren ,x =\"Silence\", y = 'tau_c', color ='black')\n"
   ]
  },
  {
   "cell_type": "code",
   "execution_count": 95,
   "id": "4aefa664",
   "metadata": {},
   "outputs": [
    {
     "data": {
      "image/png": "[encoded data removed]",
      "text/plain": [
       "<Figure size 1700x600 with 4 Axes>"
      ]
     },
     "metadata": {},
     "output_type": "display_data"
    }
   ],
   "source": [
    "#sns.boxplot(df_span,x =\"Silence\", y = 'tau_c')\n",
    "f,ax = plt.subplots(1,4, figsize =(17,6))\n",
    "sns.violinplot(df_en ,x =\"Silence\", y = 'tau_c', color ='black',ax = ax[0]);\n",
    "ax[0].set_title('Post English')\n",
    "\n",
    "\n",
    "\n",
    "sns.violinplot(df_fren,x =\"Silence\", y = 'tau_c', color ='black',ax = ax[1]);\n",
    "ax[1].set_title('Post French')\n",
    "\n",
    "\n",
    "\n",
    "sns.violinplot(df_span ,x =\"Silence\", y = 'tau_c', color ='black',ax = ax[2]);\n",
    "ax[2].set_title('Post Span')\n",
    "\n",
    "\n",
    "\n",
    "sns.violinplot(df_total ,x =\"Silence\", y = 'tau_c', color ='black',ax = ax[3]);\n",
    "ax[3].set_title('Grouped together');\n",
    "plt.tight_layout()"
   ]
  },
  {
   "cell_type": "code",
   "execution_count": null,
   "id": "c785a3c2",
   "metadata": {},
   "outputs": [],
   "source": [
    "## correlazione delle fluttuazioni, e io lo ho fatto banda per banda.........."
   ]
  },
  {
   "cell_type": "code",
   "execution_count": 88,
   "id": "d6575294",
   "metadata": {},
   "outputs": [
    {
     "data": {
      "image/png": "[encoded data removed]",
      "text/plain": [
       "<Figure size 640x480 with 1 Axes>"
      ]
     },
     "metadata": {},
     "output_type": "display_data"
    }
   ],
   "source": [
    "sns.boxplot(df_span,x =\"Silence\", y = 'tau_c')\n",
    "sns.swarmplot(df_span ,x =\"Silence\", y = 'tau_c', color ='black');\n"
   ]
  },
  {
   "cell_type": "code",
   "execution_count": 58,
   "id": "2630e98a",
   "metadata": {},
   "outputs": [
    {
     "name": "stdout",
     "output_type": "stream",
     "text": [
      "                      Mixed Linear Model Regression Results\n",
      "=================================================================================\n",
      "Model:                   MixedLM        Dependent Variable:        tau_c         \n",
      "No. Observations:        164            Method:                    REML          \n",
      "No. Groups:              9              Scale:                     138191368.9431\n",
      "Min. group size:         16             Log-Likelihood:            -1777.7477    \n",
      "Max. group size:         20             Converged:                 Yes           \n",
      "Mean group size:         18.2                                                    \n",
      "---------------------------------------------------------------------------------\n",
      "                             Coef.      Std.Err.   z   P>|z|   [0.025     0.975] \n",
      "---------------------------------------------------------------------------------\n",
      "Intercept                    20154.443  4316.859 4.669 0.000  11693.554 28615.331\n",
      "Silence[T.2]                  6890.374  9619.882 0.716 0.474 -11964.248 25744.996\n",
      "Group Var                151056654.704  7279.995                                 \n",
      "Group x Silence[T.2] Cov -93991127.436 11865.179                                 \n",
      "Silence[T.2] Var         802059124.281 36479.642                                 \n",
      "=================================================================================\n",
      "\n"
     ]
    }
   ],
   "source": [
    "import statsmodels.api as sm\n",
    "\n",
    "import statsmodels.formula.api as smf\n",
    "md = smf.mixedlm(\"tau_c ~Silence\", df_span, groups=df_span[\"sub_id\"], re_formula=\"~Silence\") ### riscalando per i canali \n",
    "# mixed model tenendo conto di identità di canali....\n",
    "mdf = md.fit(method=[\"lbfgs\"])\n",
    "print(mdf.summary())"
   ]
  },
  {
   "cell_type": "code",
   "execution_count": 94,
   "id": "e4b35dff",
   "metadata": {},
   "outputs": [
    {
     "name": "stdout",
     "output_type": "stream",
     "text": [
      "                       Mixed Linear Model Regression Results\n",
      "===================================================================================\n",
      "Model:                     MixedLM        Dependent Variable:        tau_c         \n",
      "No. Observations:          189            Method:                    REML          \n",
      "No. Groups:                11             Scale:                     167840607.0938\n",
      "Min. group size:           14             Log-Likelihood:            -2062.0311    \n",
      "Max. group size:           20             Converged:                 Yes           \n",
      "Mean group size:           17.2                                                    \n",
      "-----------------------------------------------------------------------------------\n",
      "                             Coef.       Std.Err.   z    P>|z|   [0.025     0.975] \n",
      "-----------------------------------------------------------------------------------\n",
      "Intercept                     29670.528  7513.201  3.949 0.000  14944.924 44396.132\n",
      "Silence[T.2]                 -12644.813  5392.769 -2.345 0.019 -23214.445 -2075.180\n",
      "Group Var                 599101096.115 22129.700                                  \n",
      "Group x Silence[T.2] Cov -390581335.638 15266.250                                  \n",
      "Silence[T.2] Var          279482098.638 11377.864                                  \n",
      "===================================================================================\n",
      "\n"
     ]
    }
   ],
   "source": [
    "import statsmodels.api as sm\n",
    "\n",
    "import statsmodels.formula.api as smf\n",
    "md = smf.mixedlm(\"tau_c ~Silence\", df_en, groups=df_en[\"sub_id\"], re_formula=\"~Silence\") ### riscalando per i canali \n",
    "# mixed model tenendo conto di identità di canali....\n",
    "mdf = md.fit(method=[\"lbfgs\"])\n",
    "print(mdf.summary())"
   ]
  },
  {
   "cell_type": "code",
   "execution_count": null,
   "id": "9f8519d3",
   "metadata": {},
   "outputs": [],
   "source": []
  },
  {
   "cell_type": "code",
   "execution_count": null,
   "id": "cb0b62fb",
   "metadata": {},
   "outputs": [],
   "source": [
    "## just one value per subject"
   ]
  },
  {
   "cell_type": "code",
   "execution_count": 125,
   "id": "32ab7a80",
   "metadata": {},
   "outputs": [],
   "source": [
    "taustar1= np.asarray(taustar1)\n",
    "taustar2= np.asarray(taustar2)"
   ]
  },
  {
   "cell_type": "code",
   "execution_count": 243,
   "id": "12dc2737",
   "metadata": {},
   "outputs": [
    {
     "name": "stdout",
     "output_type": "stream",
     "text": [
      "[22, 23, 13, 2, 29, 3, 4, 16, 5, 7, 27, 19]\n"
     ]
    }
   ],
   "source": [
    "\n",
    "    "
   ]
  },
  {
   "cell_type": "code",
   "execution_count": 126,
   "id": "ddc6db37",
   "metadata": {},
   "outputs": [
    {
     "name": "stderr",
     "output_type": "stream",
     "text": [
      "C:\\Users\\Benedetta\\AppData\\Local\\Temp\\ipykernel_16304\\4287316683.py:9: VisibleDeprecationWarning: Creating an ndarray from ragged nested sequences (which is a list-or-tuple of lists-or-tuples-or ndarrays with different lengths or shapes) is deprecated. If you meant to do this, you must specify 'dtype=object' when creating the ndarray.\n",
      "  arr1 = np.asarray([t1_frenc, t1_span, t1_en])\n",
      "C:\\Users\\Benedetta\\AppData\\Local\\Temp\\ipykernel_16304\\4287316683.py:10: VisibleDeprecationWarning: Creating an ndarray from ragged nested sequences (which is a list-or-tuple of lists-or-tuples-or ndarrays with different lengths or shapes) is deprecated. If you meant to do this, you must specify 'dtype=object' when creating the ndarray.\n",
      "  arr2 = np.asarray([t2_frenc, t2_span, t2_en]) ## unica cosa significativa è diminuzione after english\n"
     ]
    }
   ],
   "source": [
    "t1_frenc = funct2(sub_fren, taustar1)\n",
    "t1_span = funct2(sub_span, taustar1)\n",
    "t1_en= funct2(sub_en, taustar1)\n",
    "\n",
    "t2_frenc = funct2(sub_fren, taustar2)\n",
    "t2_span = funct2(sub_span, taustar2)\n",
    "t2_en= funct2(sub_en, taustar2)\n",
    "\n",
    "arr1 = np.asarray([t1_frenc, t1_span, t1_en])\n",
    "arr2 = np.asarray([t2_frenc, t2_span, t2_en]) ## unica cosa significativa è diminuzione after english"
   ]
  },
  {
   "cell_type": "code",
   "execution_count": 127,
   "id": "bade59c2",
   "metadata": {},
   "outputs": [],
   "source": [
    "good_sub = np.asarray(good_sub)"
   ]
  },
  {
   "cell_type": "code",
   "execution_count": 128,
   "id": "42dd6c9b",
   "metadata": {},
   "outputs": [
    {
     "name": "stdout",
     "output_type": "stream",
     "text": [
      "22\n"
     ]
    }
   ],
   "source": [
    "\n",
    "t2_en\n",
    "\n",
    "o = 0\n",
    "df_en = pd.DataFrame(columns = ['Silence', 'tau_c', 'sub_id' ],  index = np.arange(0,22,1), dtype = 'float')\n",
    "for j in range(len(t1_en)):\n",
    "    \n",
    "    #ntrial = len(t1_en[j])\n",
    "    \n",
    "    #for r in range(ntrial):\n",
    "       \n",
    "    df_en.iloc[o][\"tau_c\"] = float(t1_en[j])\n",
    "\n",
    "    df_en.iloc[o][\"sub_id\"]  = funct2(sub_en, good_sub)[j]\n",
    "    #df_en.iloc[o][\"ch\"] = int(r)\n",
    "    o+=1\n",
    "        \n",
    "        \n",
    "for j in range(len(t2_en)):\n",
    "    \n",
    "    #ntrial = len(t2_en[j])\n",
    "    \n",
    "    #for r in range(ntrial):\n",
    "       \n",
    "    df_en.iloc[o][\"tau_c\"] = float(t2_en[j])\n",
    "\n",
    "    df_en.iloc[o][\"sub_id\"]  = funct2(sub_en, good_sub)[j]\n",
    "    #df_en.iloc[o][\"ch\"] = int(r)\n",
    "    o+=1\n",
    "print(o)\n",
    "df_en[\"Silence\"] = [\"1\" for r in range(11) ]+ [\"2\" for r in range(11)]\n"
   ]
  },
  {
   "cell_type": "code",
   "execution_count": 129,
   "id": "36602e57",
   "metadata": {},
   "outputs": [],
   "source": [
    "df_fren = pd.DataFrame(columns = ['Silence', 'tau_c', 'sub_id' ],  index = np.arange(0,24,1), dtype = 'float')"
   ]
  },
  {
   "cell_type": "code",
   "execution_count": 130,
   "id": "ea4531b0",
   "metadata": {},
   "outputs": [
    {
     "name": "stdout",
     "output_type": "stream",
     "text": [
      "24\n"
     ]
    }
   ],
   "source": [
    "\n",
    "t2_en\n",
    "\n",
    "o = 0\n",
    "for j in range(len(t1_frenc)):\n",
    "    \n",
    "    #ntrial = len(t1_en[j])\n",
    "    \n",
    "    #for r in range(ntrial):\n",
    "       \n",
    "    df_fren.iloc[o][\"tau_c\"] = float(t1_frenc[j])\n",
    "\n",
    "    df_fren.iloc[o][\"sub_id\"]  = funct2(sub_fren, good_sub)[j]\n",
    "    #df_en.iloc[o][\"ch\"] = int(r)\n",
    "    o+=1\n",
    "        \n",
    "        \n",
    "for j in range(len(t2_frenc)):\n",
    "    \n",
    "    #ntrial = len(t2_en[j])\n",
    "    \n",
    "    #for r in range(ntrial):\n",
    "       \n",
    "    df_fren.iloc[o][\"tau_c\"] = float(t2_frenc[j])\n",
    "\n",
    "    df_fren.iloc[o][\"sub_id\"]  = funct2(sub_fren, good_sub)[j]\n",
    "    #df_en.iloc[o][\"ch\"] = int(r)\n",
    "    o+=1\n",
    "print(o)\n",
    "df_fren[\"Silence\"] = [\"1\" for r in range(12) ]+ [\"2\" for r in range(12)]\n"
   ]
  },
  {
   "cell_type": "code",
   "execution_count": 141,
   "id": "0d4e8b7e",
   "metadata": {},
   "outputs": [
    {
     "name": "stdout",
     "output_type": "stream",
     "text": [
      "9\n",
      "18\n"
     ]
    }
   ],
   "source": [
    "df_span = pd.DataFrame(columns = ['Silence', 'tau_c', 'sub_id' ],  index = np.arange(0,18,1), dtype = 'float')\n",
    "\n",
    "\n",
    "t2_en\n",
    "\n",
    "o = 0\n",
    "for j in range(len(t1_span)):\n",
    "    \n",
    "    #ntrial = len(t1_en[j])\n",
    "    \n",
    "    #for r in range(ntrial):\n",
    "       \n",
    "    df_span.iloc[o][\"tau_c\"] = float(t1_span[j])\n",
    "\n",
    "    df_span.iloc[o][\"sub_id\"]  = funct2(sub_span, good_sub)[j]\n",
    "    #df_en.iloc[o][\"ch\"] = int(r)\n",
    "    o+=1\n",
    "        \n",
    "print(o)\n",
    "        \n",
    "for j in range(len(t2_span)):\n",
    "    \n",
    "    #ntrial = len(t2_en[j])\n",
    "    \n",
    "    #for r in range(ntrial):\n",
    "       \n",
    "    df_span.iloc[o][\"tau_c\"] = float(t2_span[j])\n",
    "\n",
    "    df_span.iloc[o][\"sub_id\"]  = funct2(sub_span, good_sub)[j]\n",
    "    #df_en.iloc[o][\"ch\"] = int(r)\n",
    "    o+=1\n",
    "print(o)\n",
    "df_span[\"Silence\"] = [\"1\" for r in range(9) ]+ [\"2\" for r in range(9)]\n"
   ]
  },
  {
   "cell_type": "code",
   "execution_count": null,
   "id": "3481457c",
   "metadata": {},
   "outputs": [],
   "source": []
  },
  {
   "cell_type": "code",
   "execution_count": null,
   "id": "8895c05a",
   "metadata": {},
   "outputs": [],
   "source": []
  },
  {
   "cell_type": "code",
   "execution_count": 132,
   "id": "1e73a082",
   "metadata": {},
   "outputs": [
    {
     "data": {
      "text/plain": [
       "TtestResult(statistic=-0.5764262028422062, pvalue=0.28796597660462087, df=11)"
      ]
     },
     "execution_count": 132,
     "metadata": {},
     "output_type": "execute_result"
    }
   ],
   "source": [
    "from scipy import stats\n",
    "stats.ttest_rel(df_fren[\"tau_c\"][df_fren[\"Silence\"]==\"1\"],df_fren[\"tau_c\"][df_fren[\"Silence\"]==\"2\"], alternative ='less')"
   ]
  },
  {
   "cell_type": "code",
   "execution_count": 133,
   "id": "e19fef24",
   "metadata": {},
   "outputs": [
    {
     "data": {
      "text/plain": [
       "TtestResult(statistic=1.6187745436388803, pvalue=0.06828269734540388, df=10)"
      ]
     },
     "execution_count": 133,
     "metadata": {},
     "output_type": "execute_result"
    }
   ],
   "source": [
    "stats.ttest_rel(df_en[\"tau_c\"][df_en[\"Silence\"]==\"1\"],df_en[\"tau_c\"][df_en[\"Silence\"]==\"2\"], alternative ='greater')"
   ]
  },
  {
   "cell_type": "code",
   "execution_count": 142,
   "id": "7532a75b",
   "metadata": {},
   "outputs": [
    {
     "data": {
      "text/plain": [
       "TtestResult(statistic=0.7836585398278193, pvalue=0.7720934602920995, df=8)"
      ]
     },
     "execution_count": 142,
     "metadata": {},
     "output_type": "execute_result"
    }
   ],
   "source": [
    "stats.ttest_rel(df_span[\"tau_c\"][df_span[\"Silence\"]==\"1\"],df_span[\"tau_c\"][df_span[\"Silence\"]==\"2\"], alternative ='less')"
   ]
  },
  {
   "cell_type": "code",
   "execution_count": 134,
   "id": "9336454d",
   "metadata": {},
   "outputs": [
    {
     "data": {
      "text/html": [
       "<table class=\"simpletable\">\n",
       "<caption>OLS Regression Results</caption>\n",
       "<tr>\n",
       "  <th>Dep. Variable:</th>          <td>tau_c</td>      <th>  R-squared:         </th> <td>   0.012</td>\n",
       "</tr>\n",
       "<tr>\n",
       "  <th>Model:</th>                   <td>OLS</td>       <th>  Adj. R-squared:    </th> <td>  -0.033</td>\n",
       "</tr>\n",
       "<tr>\n",
       "  <th>Method:</th>             <td>Least Squares</td>  <th>  F-statistic:       </th> <td>  0.2744</td>\n",
       "</tr>\n",
       "<tr>\n",
       "  <th>Date:</th>             <td>Thu, 16 May 2024</td> <th>  Prob (F-statistic):</th>  <td> 0.606</td> \n",
       "</tr>\n",
       "<tr>\n",
       "  <th>Time:</th>                 <td>20:09:45</td>     <th>  Log-Likelihood:    </th> <td> -243.83</td>\n",
       "</tr>\n",
       "<tr>\n",
       "  <th>No. Observations:</th>      <td>    24</td>      <th>  AIC:               </th> <td>   491.7</td>\n",
       "</tr>\n",
       "<tr>\n",
       "  <th>Df Residuals:</th>          <td>    22</td>      <th>  BIC:               </th> <td>   494.0</td>\n",
       "</tr>\n",
       "<tr>\n",
       "  <th>Df Model:</th>              <td>     1</td>      <th>                     </th>     <td> </td>   \n",
       "</tr>\n",
       "<tr>\n",
       "  <th>Covariance Type:</th>      <td>nonrobust</td>    <th>                     </th>     <td> </td>   \n",
       "</tr>\n",
       "</table>\n",
       "<table class=\"simpletable\">\n",
       "<tr>\n",
       "        <td></td>          <th>coef</th>     <th>std err</th>      <th>t</th>      <th>P>|t|</th>  <th>[0.025</th>    <th>0.975]</th>  \n",
       "</tr>\n",
       "<tr>\n",
       "  <th>Intercept</th>    <td> 5258.3333</td> <td> 1885.418</td> <td>    2.789</td> <td> 0.011</td> <td> 1348.215</td> <td> 9168.451</td>\n",
       "</tr>\n",
       "<tr>\n",
       "  <th>Silence[T.2]</th> <td> 1396.6667</td> <td> 2666.384</td> <td>    0.524</td> <td> 0.606</td> <td>-4133.075</td> <td> 6926.409</td>\n",
       "</tr>\n",
       "</table>\n",
       "<table class=\"simpletable\">\n",
       "<tr>\n",
       "  <th>Omnibus:</th>       <td>16.487</td> <th>  Durbin-Watson:     </th> <td>   1.847</td>\n",
       "</tr>\n",
       "<tr>\n",
       "  <th>Prob(Omnibus):</th> <td> 0.000</td> <th>  Jarque-Bera (JB):  </th> <td>  16.732</td>\n",
       "</tr>\n",
       "<tr>\n",
       "  <th>Skew:</th>          <td> 1.768</td> <th>  Prob(JB):          </th> <td>0.000233</td>\n",
       "</tr>\n",
       "<tr>\n",
       "  <th>Kurtosis:</th>      <td> 5.058</td> <th>  Cond. No.          </th> <td>    2.62</td>\n",
       "</tr>\n",
       "</table><br/><br/>Notes:<br/>[1] Standard Errors assume that the covariance matrix of the errors is correctly specified."
      ],
      "text/plain": [
       "<class 'statsmodels.iolib.summary.Summary'>\n",
       "\"\"\"\n",
       "                            OLS Regression Results                            \n",
       "==============================================================================\n",
       "Dep. Variable:                  tau_c   R-squared:                       0.012\n",
       "Model:                            OLS   Adj. R-squared:                 -0.033\n",
       "Method:                 Least Squares   F-statistic:                    0.2744\n",
       "Date:                Thu, 16 May 2024   Prob (F-statistic):              0.606\n",
       "Time:                        20:09:45   Log-Likelihood:                -243.83\n",
       "No. Observations:                  24   AIC:                             491.7\n",
       "Df Residuals:                      22   BIC:                             494.0\n",
       "Df Model:                           1                                         \n",
       "Covariance Type:            nonrobust                                         \n",
       "================================================================================\n",
       "                   coef    std err          t      P>|t|      [0.025      0.975]\n",
       "--------------------------------------------------------------------------------\n",
       "Intercept     5258.3333   1885.418      2.789      0.011    1348.215    9168.451\n",
       "Silence[T.2]  1396.6667   2666.384      0.524      0.606   -4133.075    6926.409\n",
       "==============================================================================\n",
       "Omnibus:                       16.487   Durbin-Watson:                   1.847\n",
       "Prob(Omnibus):                  0.000   Jarque-Bera (JB):               16.732\n",
       "Skew:                           1.768   Prob(JB):                     0.000233\n",
       "Kurtosis:                       5.058   Cond. No.                         2.62\n",
       "==============================================================================\n",
       "\n",
       "Notes:\n",
       "[1] Standard Errors assume that the covariance matrix of the errors is correctly specified.\n",
       "\"\"\""
      ]
     },
     "execution_count": 134,
     "metadata": {},
     "output_type": "execute_result"
    }
   ],
   "source": [
    "import scipy.stats as stats \n",
    "import statsmodels.api as sm\n",
    "md = smf.ols(\"tau_c ~Silence\", data = df_fren ,)\n",
    "mdf = md.fit()\n",
    "mdf.summary()"
   ]
  },
  {
   "cell_type": "code",
   "execution_count": 249,
   "id": "1b0a3004",
   "metadata": {},
   "outputs": [
    {
     "data": {
      "text/plain": [
       "Ttest_indResult(statistic=-1.8266209110339209, pvalue=0.04136086126942943)"
      ]
     },
     "execution_count": 249,
     "metadata": {},
     "output_type": "execute_result"
    }
   ],
   "source": [
    "import scipy.stats as stats \n",
    "\n",
    "stats.ttest_ind(t2_en[:], t2_frenc[:11],alternative = 'less')\n",
    "### comunque la statitìstica è poca"
   ]
  },
  {
   "cell_type": "code",
   "execution_count": 313,
   "id": "4680b144",
   "metadata": {},
   "outputs": [
    {
     "data": {
      "text/plain": [
       "TtestResult(statistic=-0.5622793723175931, pvalue=0.2926007615074494, df=11)"
      ]
     },
     "execution_count": 313,
     "metadata": {},
     "output_type": "execute_result"
    }
   ],
   "source": [
    "import scipy.stats as stats \n",
    "\n",
    "stats.ttest_rel(t1_frenc, t2_frenc,alternative = 'less')"
   ]
  },
  {
   "cell_type": "code",
   "execution_count": 251,
   "id": "790072df",
   "metadata": {},
   "outputs": [
    {
     "data": {
      "text/plain": [
       "TtestResult(statistic=0.7846233564994731, pvalue=0.7723608236816174, df=8)"
      ]
     },
     "execution_count": 251,
     "metadata": {},
     "output_type": "execute_result"
    }
   ],
   "source": [
    "import scipy.stats as stats \n",
    "\n",
    "stats.ttest_rel(t1_span, t2_span,alternative = 'less')"
   ]
  },
  {
   "cell_type": "code",
   "execution_count": 282,
   "id": "d3a10358",
   "metadata": {},
   "outputs": [
    {
     "data": {
      "text/plain": [
       "TtestResult(statistic=1.2080650160523068, pvalue=0.12740772526048091, df=10)"
      ]
     },
     "execution_count": 282,
     "metadata": {},
     "output_type": "execute_result"
    }
   ],
   "source": [
    "import scipy.stats as stats \n",
    "\n",
    "stats.ttest_rel(t1_en, t2_en, alternative = 'greater')"
   ]
  },
  {
   "cell_type": "code",
   "execution_count": 283,
   "id": "b7546c57",
   "metadata": {},
   "outputs": [
    {
     "data": {
      "text/plain": [
       "11"
      ]
     },
     "execution_count": 283,
     "metadata": {},
     "output_type": "execute_result"
    }
   ],
   "source": [
    "len(t1_en)"
   ]
  },
  {
   "cell_type": "code",
   "execution_count": null,
   "id": "943f9e55",
   "metadata": {},
   "outputs": [],
   "source": []
  }
 ],
 "metadata": {
  "kernelspec": {
   "display_name": "Python 3 (ipykernel)",
   "language": "python",
   "name": "python3"
  },
  "language_info": {
   "codemirror_mode": {
    "name": "ipython",
    "version": 3
   },
   "file_extension": ".py",
   "mimetype": "text/x-python",
   "name": "python",
   "nbconvert_exporter": "python",
   "pygments_lexer": "ipython3",
   "version": "3.9.16"
  }
 },
 "nbformat": 4,
 "nbformat_minor": 5
}
